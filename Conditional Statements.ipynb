{
 "cells": [
  {
   "cell_type": "code",
   "execution_count": 2,
   "metadata": {},
   "outputs": [
    {
     "data": {
      "text/plain": [
       "False"
      ]
     },
     "execution_count": 2,
     "metadata": {},
     "output_type": "execute_result"
    }
   ],
   "source": [
    "bool(0.0)"
   ]
  },
  {
   "cell_type": "code",
   "execution_count": 1,
   "metadata": {},
   "outputs": [
    {
     "name": "stdout",
     "output_type": "stream",
     "text": [
      "True\n"
     ]
    }
   ],
   "source": [
    "#boolean expression\n",
    "a=\"7\"\n",
    "b=\"60000\"\n",
    "print a>b\n"
   ]
  },
  {
   "cell_type": "code",
   "execution_count": 5,
   "metadata": {},
   "outputs": [
    {
     "name": "stdout",
     "output_type": "stream",
     "text": [
      "()\n"
     ]
    }
   ],
   "source": [
    "a=(())\n",
    "print a"
   ]
  },
  {
   "cell_type": "code",
   "execution_count": 6,
   "metadata": {},
   "outputs": [
    {
     "name": "stdout",
     "output_type": "stream",
     "text": [
      "Enter a Value\n",
      "0\n",
      "Enter atleast one character\n",
      "thanks\n"
     ]
    }
   ],
   "source": [
    "V=raw_input(\"Enter a Value\")\n",
    "print len(V)\n",
    "if len(V)>0:\n",
    "    print V\n",
    "else:\n",
    "    print \"Enter atleast one character\"\n",
    "print \"thanks\"\n",
    "    "
   ]
  },
  {
   "cell_type": "code",
   "execution_count": 7,
   "metadata": {},
   "outputs": [
    {
     "name": "stdout",
     "output_type": "stream",
     "text": [
      "Enter a Value6767676\n",
      "7\n",
      "6767676\n",
      "thanks\n"
     ]
    }
   ],
   "source": [
    "V=raw_input(\"Enter a Value\")\n",
    "print len(V)\n",
    "if len(V)>0:\n",
    "    print V\n",
    "else:\n",
    "    print \"Enter atleast one character\"\n",
    "print \"thanks\""
   ]
  },
  {
   "cell_type": "code",
   "execution_count": 8,
   "metadata": {},
   "outputs": [
    {
     "name": "stdout",
     "output_type": "stream",
     "text": [
      "Enter a Value0\n",
      "0\n",
      "thanks\n"
     ]
    }
   ],
   "source": [
    "V=raw_input(\"Enter a Value\")\n",
    "#print len(V)\n",
    "if bool(V):\n",
    "    print V\n",
    "else:\n",
    "    print \"Enter atleast one character\"\n",
    "print \"thanks\""
   ]
  },
  {
   "cell_type": "code",
   "execution_count": 9,
   "metadata": {},
   "outputs": [
    {
     "name": "stdout",
     "output_type": "stream",
     "text": [
      "Enter a Value\n",
      "Enter atleast one character\n",
      "thanks\n"
     ]
    }
   ],
   "source": [
    "V=raw_input(\"Enter a Value\")\n",
    "#print len(V)\n",
    "if bool(V):\n",
    "    print V\n",
    "else:\n",
    "    print \"Enter atleast one character\"\n",
    "print \"thanks\""
   ]
  },
  {
   "cell_type": "code",
   "execution_count": null,
   "metadata": {},
   "outputs": [],
   "source": [
    "NP= int(raw_input(\"Enter num of ppl:\"))\n",
    "NB= int(raw_input(\"Enter num of buses currently available:\"))\n",
    "NS= int(raw_input(\"Enter num of seats:\"))\n",
    "AJ= int(raw_input(\"Enter Adj Factor\"))\n",
    "Z = NP/(NS-AJ)\n",
    "if Z == 1:\n",
    "    print \"No additional buses reqd\"\n",
    "else:\n",
    "    print \"additional buses reqd are\",(Z-NB)\n"
   ]
  },
  {
   "cell_type": "code",
   "execution_count": 9,
   "metadata": {},
   "outputs": [
    {
     "name": "stdout",
     "output_type": "stream",
     "text": [
      "Enter num of ppl:250\n",
      "Enter num of buses currently available:1\n",
      "Enter num of seats:57\n",
      "Enter Adj Factor2\n",
      "4.54545454545\n",
      "additional buses reqd are 3.55 \n"
     ]
    }
   ],
   "source": [
    "NP= int(raw_input(\"Enter num of ppl:\"))\n",
    "NB= int(raw_input(\"Enter num of buses currently available:\"))\n",
    "NS= int(raw_input(\"Enter num of seats:\"))\n",
    "AJ= int(raw_input(\"Enter Adj Factor\"))\n",
    "Z = (NP/float(NS-AJ))\n",
    "print Z\n",
    "if Z == 1:\n",
    "    print \"No additional buses reqd\"\n",
    "else:\n",
    "    print \"additional buses reqd are %.2f \"%(Z-NB)    \n"
   ]
  },
  {
   "cell_type": "code",
   "execution_count": 24,
   "metadata": {},
   "outputs": [
    {
     "name": "stdout",
     "output_type": "stream",
     "text": [
      "Enter the option to chk for the Eligibility:2\n",
      "Enter Age:18\n",
      "Eligible for Voting in India\n",
      "Thank You!!!\n"
     ]
    }
   ],
   "source": [
    "ES=raw_input(\"Enter the option to chk for the Eligibility:\")\n",
    "#Age=int(raw_input(\"Enter Age\"))\n",
    "if ES=='1': \n",
    "         Age=int(raw_input(\"Enter Age:\"))\n",
    "         if Age >= 21:\n",
    "               print \"Eligible for Marriage in India\"\n",
    "         else:\n",
    "               print \"Not Eligble for Marriage in India\"\n",
    "elif ES=='3':\n",
    "         Age=int(raw_input(\"Enter Age:\"))\n",
    "         if Age >=18 and Age <=35:\n",
    "                print \"Eligible for Govt Job in India\"\n",
    "         else:\n",
    "                print \"Not Eligible for Govt Job in India \"\n",
    "elif ES=='2':\n",
    "         Age=int(raw_input(\"Enter Age:\"))\n",
    "         if Age >= 18:\n",
    "                 print \"Eligible for Voting in India\"\n",
    "         else:\n",
    "                 print \"Not Eligible for Voting in India\"\n",
    "        \n",
    "else:\n",
    "         print \"Wrong option , please enter 1 , 2 or 3 as valid option\"\n",
    "\n",
    "print \"Thank You!!!\"\n",
    "    "
   ]
  },
  {
   "cell_type": "code",
   "execution_count": 6,
   "metadata": {},
   "outputs": [
    {
     "name": "stdout",
     "output_type": "stream",
     "text": [
      "Enter a:-1000\n",
      "Enter b:-2000\n",
      "Enter c:-50\n",
      "c is bigger\n"
     ]
    }
   ],
   "source": [
    "a=float(raw_input(\"Enter a:\"))\n",
    "b=float(raw_input(\"Enter b:\"))\n",
    "c=float(raw_input(\"Enter c:\"))\n",
    "if a>b:\n",
    "    if a>c:\n",
    "        print \"a is bigger\"\n",
    "    else:\n",
    "        print \"c is bigger\"\n",
    "else:\n",
    "    if b>c:\n",
    "        print \"b is bigger\"\n",
    "    else:\n",
    "        print \"c is bigger\"\n",
    "\n"
   ]
  },
  {
   "cell_type": "code",
   "execution_count": 16,
   "metadata": {},
   "outputs": [
    {
     "name": "stdout",
     "output_type": "stream",
     "text": [
      "0\n"
     ]
    }
   ],
   "source": [
    "a=20\n",
    "b=05\n",
    "print a%b"
   ]
  },
  {
   "cell_type": "code",
   "execution_count": 23,
   "metadata": {},
   "outputs": [
    {
     "name": "stdout",
     "output_type": "stream",
     "text": [
      "166833\n"
     ]
    }
   ],
   "source": [
    "#Find the sum of all the multiples of 3 or 5 below 1000\n",
    "a=1000\n",
    "k = 0\n",
    "for i in range(1,a):\n",
    "    if i%3 == 0:\n",
    "            k = k + i\n",
    "i = i+1\n",
    "print k\n",
    "        "
   ]
  },
  {
   "cell_type": "code",
   "execution_count": 26,
   "metadata": {},
   "outputs": [
    {
     "name": "stdout",
     "output_type": "stream",
     "text": [
      "Enter String:whatsapp\n",
      "whatsapp\n"
     ]
    }
   ],
   "source": [
    "#take a string from the user and check contains at least one chars or not?\n",
    "str=raw_input(\"Enter String:\")\n",
    "if len(str)>0:\n",
    "    print str\n",
    "else:\n",
    "    print \"Enter atleast one digit\""
   ]
  },
  {
   "cell_type": "code",
   "execution_count": null,
   "metadata": {},
   "outputs": [],
   "source": []
  },
  {
   "cell_type": "code",
   "execution_count": null,
   "metadata": {},
   "outputs": [],
   "source": []
  }
 ],
 "metadata": {
  "kernelspec": {
   "display_name": "Python 2",
   "language": "python",
   "name": "python2"
  },
  "language_info": {
   "codemirror_mode": {
    "name": "ipython",
    "version": 2
   },
   "file_extension": ".py",
   "mimetype": "text/x-python",
   "name": "python",
   "nbconvert_exporter": "python",
   "pygments_lexer": "ipython2",
   "version": "2.7.15"
  }
 },
 "nbformat": 4,
 "nbformat_minor": 2
}
