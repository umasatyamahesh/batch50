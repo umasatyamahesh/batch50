{
 "cells": [
  {
   "cell_type": "code",
   "execution_count": 1,
   "metadata": {},
   "outputs": [],
   "source": [
    "f=open(\"data.csv\",\"w\")"
   ]
  },
  {
   "cell_type": "code",
   "execution_count": 2,
   "metadata": {},
   "outputs": [],
   "source": [
    "f.write(\"some data\")"
   ]
  },
  {
   "cell_type": "code",
   "execution_count": 3,
   "metadata": {},
   "outputs": [],
   "source": [
    "f.close()"
   ]
  },
  {
   "cell_type": "code",
   "execution_count": 4,
   "metadata": {},
   "outputs": [
    {
     "ename": "ValueError",
     "evalue": "I/O operation on closed file",
     "output_type": "error",
     "traceback": [
      "\u001b[1;31m---------------------------------------------------------------------------\u001b[0m",
      "\u001b[1;31mValueError\u001b[0m                                Traceback (most recent call last)",
      "\u001b[1;32m<ipython-input-4-00f38512c519>\u001b[0m in \u001b[0;36m<module>\u001b[1;34m()\u001b[0m\n\u001b[1;32m----> 1\u001b[1;33m \u001b[0mf\u001b[0m\u001b[1;33m.\u001b[0m\u001b[0mwrite\u001b[0m\u001b[1;33m(\u001b[0m\u001b[1;34m\"after closing\"\u001b[0m\u001b[1;33m)\u001b[0m\u001b[1;33m\u001b[0m\u001b[0m\n\u001b[0m",
      "\u001b[1;31mValueError\u001b[0m: I/O operation on closed file"
     ]
    }
   ],
   "source": [
    "f.write(\"after closing\")"
   ]
  },
  {
   "cell_type": "code",
   "execution_count": 5,
   "metadata": {},
   "outputs": [],
   "source": [
    "f=open(\"data.csv\",\"w\")"
   ]
  },
  {
   "cell_type": "code",
   "execution_count": 8,
   "metadata": {},
   "outputs": [],
   "source": [
    "f.write(\"Ajay,23,45678\\n\")\n",
    "f.write(\"Rahul,25,24242\\n\")\n",
    "f.write(\"Ashok,26,32442\")\n",
    "f.flush()\n"
   ]
  },
  {
   "cell_type": "code",
   "execution_count": 10,
   "metadata": {},
   "outputs": [],
   "source": [
    "f=open(\"data.csv\",\"a\")\n",
    "f.write(\"\\nRaghuveer,29,23232\")\n",
    "f.flush()"
   ]
  },
  {
   "cell_type": "code",
   "execution_count": 12,
   "metadata": {},
   "outputs": [],
   "source": [
    "l=[\"vedha,27,32324\",\"sai,25,4424\",\"dhana,29,42424\"]\n",
    "f=open(\"data.csv\",\"a\")\n",
    "f.writelines(l)\n",
    "f.close()"
   ]
  },
  {
   "cell_type": "code",
   "execution_count": null,
   "metadata": {},
   "outputs": [],
   "source": [
    "l=[\"\\nvedha,27,32324\",\"\\nsai,25,4424\",\"\\ndhana,29,42424\"]\n",
    "f=open(\"data.csv\",\"a\")\n",
    "f.writelines(l)\n",
    "f.close()"
   ]
  },
  {
   "cell_type": "code",
   "execution_count": 13,
   "metadata": {},
   "outputs": [
    {
     "ename": "TypeError",
     "evalue": "expected a string or other character buffer object",
     "output_type": "error",
     "traceback": [
      "\u001b[1;31m---------------------------------------------------------------------------\u001b[0m",
      "\u001b[1;31mTypeError\u001b[0m                                 Traceback (most recent call last)",
      "\u001b[1;32m<ipython-input-13-88a2dc9d35c5>\u001b[0m in \u001b[0;36m<module>\u001b[1;34m()\u001b[0m\n\u001b[0;32m      1\u001b[0m \u001b[0mf\u001b[0m\u001b[1;33m=\u001b[0m\u001b[0mopen\u001b[0m\u001b[1;33m(\u001b[0m\u001b[1;34m\"data1.csv\"\u001b[0m\u001b[1;33m,\u001b[0m\u001b[1;34m\"w\"\u001b[0m\u001b[1;33m)\u001b[0m\u001b[1;33m\u001b[0m\u001b[0m\n\u001b[1;32m----> 2\u001b[1;33m \u001b[0mf\u001b[0m\u001b[1;33m.\u001b[0m\u001b[0mwrite\u001b[0m\u001b[1;33m(\u001b[0m\u001b[1;36m1234\u001b[0m\u001b[1;33m)\u001b[0m\u001b[1;33m\u001b[0m\u001b[0m\n\u001b[0m\u001b[0;32m      3\u001b[0m \u001b[0mf\u001b[0m\u001b[1;33m.\u001b[0m\u001b[0mclose\u001b[0m\u001b[1;33m(\u001b[0m\u001b[1;33m)\u001b[0m\u001b[1;33m\u001b[0m\u001b[0m\n",
      "\u001b[1;31mTypeError\u001b[0m: expected a string or other character buffer object"
     ]
    }
   ],
   "source": [
    "f=open(\"data1.csv\",\"w\")\n",
    "f.write(1234)\n",
    "f.close()"
   ]
  },
  {
   "cell_type": "code",
   "execution_count": 15,
   "metadata": {},
   "outputs": [
    {
     "ename": "TypeError",
     "evalue": "expected a string or other character buffer object",
     "output_type": "error",
     "traceback": [
      "\u001b[1;31m---------------------------------------------------------------------------\u001b[0m",
      "\u001b[1;31mTypeError\u001b[0m                                 Traceback (most recent call last)",
      "\u001b[1;32m<ipython-input-15-9597a3c2add3>\u001b[0m in \u001b[0;36m<module>\u001b[1;34m()\u001b[0m\n\u001b[0;32m      1\u001b[0m \u001b[0md\u001b[0m\u001b[1;33m=\u001b[0m\u001b[1;33m[\u001b[0m\u001b[1;33m{\u001b[0m\u001b[1;34m\"name\"\u001b[0m\u001b[1;33m:\u001b[0m\u001b[1;34m\"srikanth\"\u001b[0m\u001b[1;33m,\u001b[0m\u001b[1;34m\"age\"\u001b[0m\u001b[1;33m:\u001b[0m\u001b[1;36m23\u001b[0m\u001b[1;33m}\u001b[0m\u001b[1;33m,\u001b[0m\u001b[1;33m{\u001b[0m\u001b[1;34m\"name\"\u001b[0m\u001b[1;33m:\u001b[0m\u001b[1;34m\"Jay\"\u001b[0m\u001b[1;33m,\u001b[0m\u001b[1;34m\"age\"\u001b[0m\u001b[1;33m:\u001b[0m\u001b[1;34m\"25\"\u001b[0m\u001b[1;33m}\u001b[0m\u001b[1;33m]\u001b[0m\u001b[1;33m\u001b[0m\u001b[0m\n\u001b[0;32m      2\u001b[0m \u001b[0mf\u001b[0m\u001b[1;33m=\u001b[0m\u001b[0mopen\u001b[0m\u001b[1;33m(\u001b[0m\u001b[1;34m\"data1.csv\"\u001b[0m\u001b[1;33m,\u001b[0m\u001b[1;34m\"w\"\u001b[0m\u001b[1;33m)\u001b[0m\u001b[1;33m\u001b[0m\u001b[0m\n\u001b[1;32m----> 3\u001b[1;33m \u001b[0mf\u001b[0m\u001b[1;33m.\u001b[0m\u001b[0mwrite\u001b[0m\u001b[1;33m(\u001b[0m\u001b[0md\u001b[0m\u001b[1;33m)\u001b[0m\u001b[1;33m\u001b[0m\u001b[0m\n\u001b[0m\u001b[0;32m      4\u001b[0m \u001b[0mf\u001b[0m\u001b[1;33m.\u001b[0m\u001b[0mclose\u001b[0m\u001b[1;33m(\u001b[0m\u001b[1;33m)\u001b[0m\u001b[1;33m\u001b[0m\u001b[0m\n",
      "\u001b[1;31mTypeError\u001b[0m: expected a string or other character buffer object"
     ]
    }
   ],
   "source": [
    "d=[{\"name\":\"srikanth\",\"age\":23},{\"name\":\"Jay\",\"age\":\"25\"}]\n",
    "f=open(\"data1.csv\",\"w\")\n",
    "f.write(d)\n",
    "f.close()"
   ]
  },
  {
   "cell_type": "code",
   "execution_count": 16,
   "metadata": {},
   "outputs": [],
   "source": [
    "d=[{\"name\":\"srikanth\",\"age\":23},{\"name\":\"Jay\",\"age\":\"25\"}]\n",
    "f=open(\"data1.csv\",\"w\")\n",
    "f.write(str(d))\n",
    "f.close()"
   ]
  },
  {
   "cell_type": "code",
   "execution_count": 17,
   "metadata": {},
   "outputs": [
    {
     "name": "stdout",
     "output_type": "stream",
     "text": [
      "Ajay,23,45678\n",
      "Rahul,25,24242\n",
      "Ashok,26,32442\n",
      "Raghuveer,29,23232\n",
      "vedha,27,32324sai,25,4424dhana,29,42424vedha,27,32324sai,25,4424dhana,29,42424\n"
     ]
    }
   ],
   "source": [
    "f=open(\"data.csv\",\"r\")\n",
    "data=f.read()\n",
    "print data"
   ]
  },
  {
   "cell_type": "code",
   "execution_count": 18,
   "metadata": {},
   "outputs": [
    {
     "name": "stdout",
     "output_type": "stream",
     "text": [
      "['Ajay,23,45678\\n', 'Rahul,25,24242\\n', 'Ashok,26,32442\\n', 'Raghuveer,29,23232\\n', 'vedha,27,32324sai,25,4424dhana,29,42424vedha,27,32324sai,25,4424dhana,29,42424']\n"
     ]
    }
   ],
   "source": [
    "f=open(\"data.csv\",\"r\")\n",
    "data=f.readlines()\n",
    "print data"
   ]
  },
  {
   "cell_type": "code",
   "execution_count": 19,
   "metadata": {},
   "outputs": [
    {
     "name": "stdout",
     "output_type": "stream",
     "text": [
      "1\n"
     ]
    }
   ],
   "source": [
    "f=open(\"data.csv\",\"r\")\n",
    "data=f.read()\n",
    "print data.count(\" \")+1"
   ]
  },
  {
   "cell_type": "code",
   "execution_count": 23,
   "metadata": {},
   "outputs": [
    {
     "name": "stdout",
     "output_type": "stream",
     "text": [
      "\n"
     ]
    }
   ],
   "source": [
    "f=open(\"data.csv\",\"r\")\n",
    "data=f.read()\n",
    "data1=f.read()\n",
    "#print data\n",
    "print data1"
   ]
  },
  {
   "cell_type": "code",
   "execution_count": 24,
   "metadata": {},
   "outputs": [
    {
     "name": "stdout",
     "output_type": "stream",
     "text": [
      "0\n",
      "Ajay,23,45\n",
      "10\n"
     ]
    }
   ],
   "source": [
    "f=open(\"data.csv\",\"r\")\n",
    "print f.tell()\n",
    "data=f.read(10)\n",
    "print data\n",
    "print f.tell()"
   ]
  },
  {
   "cell_type": "code",
   "execution_count": 25,
   "metadata": {},
   "outputs": [
    {
     "name": "stdout",
     "output_type": "stream",
     "text": [
      "0\n",
      "Ajay,23,45\n",
      "10\n",
      "678\n",
      "Rahul,25,24242\n",
      "A\n",
      "32\n"
     ]
    }
   ],
   "source": [
    "f=open(\"data.csv\",\"r\")\n",
    "print f.tell()\n",
    "data=f.read(10)\n",
    "print data\n",
    "print f.tell()\n",
    "data1=f.read(20)\n",
    "print data1\n",
    "print f.tell()"
   ]
  },
  {
   "cell_type": "code",
   "execution_count": 26,
   "metadata": {},
   "outputs": [
    {
     "name": "stdout",
     "output_type": "stream",
     "text": [
      "0\n",
      "Ajay,23,45678\n",
      "Rahul,25,24242\n",
      "Ashok,26,32442\n",
      "Raghuveer,29,23232\n",
      "vedha,27,32324sai,25,4424dhana,29,42424vedha,27,32324sai,25,4424dhana,29,42424\n",
      "145\n",
      "\n",
      "145\n"
     ]
    }
   ],
   "source": [
    "f=open(\"data.csv\",\"r\")\n",
    "print f.tell()\n",
    "data=f.read()\n",
    "print data\n",
    "print f.tell()\n",
    "data1=f.read()\n",
    "print data1\n",
    "print f.tell()"
   ]
  },
  {
   "cell_type": "code",
   "execution_count": 27,
   "metadata": {},
   "outputs": [
    {
     "name": "stdout",
     "output_type": "stream",
     "text": [
      "0\n",
      "Ajay,23,45678\n",
      "Rahul,25,24242\n",
      "Ashok,26,32442\n",
      "Raghuveer,29,23232\n",
      "vedha,27,32324sai,25,4424dhana,29,42424vedha,27,32324sai,25,4424dhana,29,42424\n",
      "145\n",
      "100\n"
     ]
    }
   ],
   "source": [
    "f=open(\"data.csv\",\"r\")\n",
    "print f.tell()\n",
    "data=f.read()\n",
    "print data\n",
    "print f.tell()\n",
    "f.seek(100)\n",
    "print f.tell()"
   ]
  },
  {
   "cell_type": "code",
   "execution_count": 29,
   "metadata": {},
   "outputs": [
    {
     "name": "stdout",
     "output_type": "stream",
     "text": [
      "0\n",
      "Ajay,23,45678\n",
      "Rahul,25,24242\n",
      "Ashok,26,32442\n",
      "Raghuveer,29,23232\n",
      "vedha,27,32324sai,25,4424dhana,29,42424vedha,27,32324sai,25,4424dhana,29,42424\n",
      "145\n",
      "100\n",
      ",42424vedha,27,32324sai,25,4424dhana,29,42424\n",
      "145\n"
     ]
    }
   ],
   "source": [
    "f=open(\"data.csv\",\"r\")\n",
    "print f.tell()\n",
    "data=f.read()\n",
    "print data\n",
    "print f.tell()\n",
    "f.seek(100)\n",
    "print f.tell()\n",
    "data1=f.read()\n",
    "print data1\n",
    "print f.tell()"
   ]
  },
  {
   "cell_type": "code",
   "execution_count": 3,
   "metadata": {},
   "outputs": [
    {
     "name": "stdout",
     "output_type": "stream",
     "text": [
      "\n",
      "\n",
      "{\n",
      "    \"glossary\": {\n",
      "        \"title\": \"example glossary\",\n",
      "\t\t\"GlossDiv\": {\n",
      "            \"title\": \"S\",\n",
      "\t\t\t\"GlossList\": {\n",
      "                \"GlossEntry\": {\n",
      "                    \"ID\": \"SGML\",\n",
      "\t\t\t\t\t\"SortAs\": \"SGML\",\n",
      "\t\t\t\t\t\"GlossTerm\": \"Standard Generalized Markup Language\",\n",
      "\t\t\t\t\t\"Acronym\": \"SGML\",\n",
      "\t\t\t\t\t\"Abbrev\": \"ISO 8879:1986\",\n",
      "\t\t\t\t\t\"GlossDef\": {\n",
      "                        \"para\": \"A meta-markup language, used to create markup languages such as DocBook.\",\n",
      "\t\t\t\t\t\t\"GlossSeeAlso\": [\"GML\", \"XML\"]\n",
      "                    },\n",
      "\t\t\t\t\t\"GlossSee\": \"markup\"\n",
      "                }\n",
      "            }\n",
      "        }\n",
      "    }\n",
      "}\n",
      "\n",
      "<type 'str'>\n"
     ]
    }
   ],
   "source": [
    "f=open(\"data.json\",\"r\")\n",
    "data=f.read()\n",
    "print data, type(data)"
   ]
  },
  {
   "cell_type": "code",
   "execution_count": 4,
   "metadata": {},
   "outputs": [
    {
     "name": "stdout",
     "output_type": "stream",
     "text": [
      "{u'glossary': {u'GlossDiv': {u'GlossList': {u'GlossEntry': {u'GlossDef': {u'GlossSeeAlso': [u'GML', u'XML'], u'para': u'A meta-markup language, used to create markup languages such as DocBook.'}, u'GlossSee': u'markup', u'Acronym': u'SGML', u'GlossTerm': u'Standard Generalized Markup Language', u'Abbrev': u'ISO 8879:1986', u'SortAs': u'SGML', u'ID': u'SGML'}}, u'title': u'S'}, u'title': u'example glossary'}} <type 'dict'>\n"
     ]
    }
   ],
   "source": [
    "import json\n",
    "f=open(\"data.json\",\"r\")\n",
    "data=json.load(f)\n",
    "print data, type(data)"
   ]
  },
  {
   "cell_type": "code",
   "execution_count": 6,
   "metadata": {},
   "outputs": [
    {
     "name": "stdout",
     "output_type": "stream",
     "text": [
      "{'environment': 'production', 'classes': {'nfs::server': {'exports': ['/srv/share1', '/srv/share3']}}, 'parameters': None} <type 'dict'>\n"
     ]
    }
   ],
   "source": [
    "import yaml\n",
    "f=open(\"data.yaml\",\"r\")\n",
    "data=yaml.load(f)\n",
    "print data, type(data)"
   ]
  },
  {
   "cell_type": "code",
   "execution_count": 13,
   "metadata": {},
   "outputs": [],
   "source": [
    "f=open(\"fun2_mem.jpg\",\"r\")\n",
    "data=f.read()"
   ]
  },
  {
   "cell_type": "code",
   "execution_count": 14,
   "metadata": {},
   "outputs": [],
   "source": [
    "f=open(\"fun2_mem.jpg\",\"rb\")\n",
    "data=f.read()\n",
    "f.close()\n",
    "f=open(\"fun2_mem_bkup.jpg\",\"wb\")\n",
    "f.write(data)\n",
    "f.close()"
   ]
  },
  {
   "cell_type": "code",
   "execution_count": 6,
   "metadata": {},
   "outputs": [],
   "source": [
    "import sys\n",
    "import psycopg2\n",
    "con = psycopg2.connect(database=\"batch50\",\n",
    "            user=\"postgres\",\n",
    "            password=\"root\",\n",
    "            port=5432,\n",
    "            host=\"localhost\")\n",
    "cur=con.cursor()\n",
    "cur.execute(\"select * from customer\")\n",
    "data=cur.fetchall()\n",
    "f=open(\"db_data.csv\",\"w\")\n",
    "f.write(\"ID,NAME\\n\")\n",
    "for row in data:\n",
    "    f.write(\"%s ,%s\\n\"%(row[0],row[1]))\n",
    "f.close()\n",
    "con.close()"
   ]
  },
  {
   "cell_type": "code",
   "execution_count": 8,
   "metadata": {},
   "outputs": [],
   "source": [
    "import psycopg2\n",
    "import pickle\n",
    "con = psycopg2.connect(database=\"batch50\",\n",
    "            user=\"postgres\",\n",
    "            password=\"root\",\n",
    "            port=5432,\n",
    "            host=\"localhost\")\n",
    "cur=con.cursor()\n",
    "cur.execute(\"select * from customer\")\n",
    "data=cur.fetchall()\n",
    "f=open(\"db_data1.csv\",\"w\")\n",
    "pickle.dump(data,f)\n",
    "f.close()\n",
    "con.close()"
   ]
  },
  {
   "cell_type": "code",
   "execution_count": 23,
   "metadata": {},
   "outputs": [
    {
     "name": "stdout",
     "output_type": "stream",
     "text": [
      "[(121223, 'Jogendar Sharma'), (323212, 'Gagan singh'), (343421, 'Rahul Dravid'), (212131, 'Sachin T'), (129123, 'Mahendar Singh Dhoni')]\n"
     ]
    }
   ],
   "source": [
    "import pickle\n",
    "f=open(\"db_data1.csv\")\n",
    "data=pickle.load(f)\n",
    "f.close()\n",
    "print data"
   ]
  },
  {
   "cell_type": "code",
   "execution_count": 16,
   "metadata": {},
   "outputs": [],
   "source": [
    "import psycopg2\n",
    "con=psycopg2.connect(database=\"batch50\",\n",
    "                    user=\"postgres\",\n",
    "                    password=\"root\",\n",
    "                    port=5432,\n",
    "                    host=\"localhost\")\n",
    "cur=con.cursor()\n",
    "q=\"select * from customer\"\n",
    "cur.execute(q)\n",
    "data=cur.fetchall()\n",
    "f=open(\"db_data2.csv\",\"w\")\n",
    "f.write(\"Id,Name\\n\")\n",
    "for row in data:\n",
    "    f.write(\"%s.%s\\n\"%(row[0],row[1]))\n",
    "f.close()\n",
    "con.close()\n"
   ]
  },
  {
   "cell_type": "code",
   "execution_count": 20,
   "metadata": {},
   "outputs": [],
   "source": [
    "import psycopg2\n",
    "import pickle\n",
    "con=psycopg2.connect(database=\"batch50\",\n",
    "                     user=\"postgres\",\n",
    "                     password=\"root\",\n",
    "                     port=5432,\n",
    "                     host=\"localhost\"\n",
    "                     )\n",
    "cur=con.cursor()\n",
    "cur.execute(\"select * from customer\")\n",
    "data=cur.fetchall()\n",
    "f=open(\"db_data3.csv\",\"w\")\n",
    "pickle.dump(data,f)\n",
    "f.close()\n",
    "con.close()"
   ]
  },
  {
   "cell_type": "code",
   "execution_count": null,
   "metadata": {},
   "outputs": [],
   "source": []
  }
 ],
 "metadata": {
  "kernelspec": {
   "display_name": "Python 2",
   "language": "python",
   "name": "python2"
  },
  "language_info": {
   "codemirror_mode": {
    "name": "ipython",
    "version": 2
   },
   "file_extension": ".py",
   "mimetype": "text/x-python",
   "name": "python",
   "nbconvert_exporter": "python",
   "pygments_lexer": "ipython2",
   "version": "2.7.15"
  }
 },
 "nbformat": 4,
 "nbformat_minor": 2
}
