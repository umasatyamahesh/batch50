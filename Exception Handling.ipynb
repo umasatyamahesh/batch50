{
 "cells": [
  {
   "cell_type": "code",
   "execution_count": 1,
   "metadata": {},
   "outputs": [
    {
     "name": "stdout",
     "output_type": "stream",
     "text": [
      "DIVISION PROGRAM\n",
      "Enter number1:6\n",
      "Enter number2:4\n",
      "before conversion:n1=6,n2=4\n",
      "after conversion:n1=6,n2=4\n",
      "result=1\n",
      "thank you\n",
      "Use me again\n"
     ]
    }
   ],
   "source": [
    "print \"DIVISION PROGRAM\"\n",
    "num1=raw_input(\"Enter number1:\")\n",
    "num2=raw_input(\"Enter number2:\")\n",
    "print \"before conversion:n1=%s,n2=%s\"%(num1, num2)\n",
    "num1=int(num1)\n",
    "num2=int(num2)\n",
    "print \"after conversion:n1=%s,n2=%s\"%(num1, num2)\n",
    "res=num1/num2\n",
    "print \"result=%s\"%res\n",
    "print \"thank you\"\n",
    "print \"Use me again\""
   ]
  },
  {
   "cell_type": "code",
   "execution_count": 2,
   "metadata": {},
   "outputs": [
    {
     "name": "stdout",
     "output_type": "stream",
     "text": [
      "DIVISION PROGRAM\n",
      "Enter number1:12.77\n",
      "Enter number2:2.13\n",
      "before conversion:n1=12.77,n2=2.13\n"
     ]
    },
    {
     "ename": "ValueError",
     "evalue": "invalid literal for int() with base 10: '12.77'",
     "output_type": "error",
     "traceback": [
      "\u001b[1;31m---------------------------------------------------------------------------\u001b[0m",
      "\u001b[1;31mValueError\u001b[0m                                Traceback (most recent call last)",
      "\u001b[1;32m<ipython-input-2-9f67adcf308b>\u001b[0m in \u001b[0;36m<module>\u001b[1;34m()\u001b[0m\n\u001b[0;32m      3\u001b[0m \u001b[0mnum2\u001b[0m\u001b[1;33m=\u001b[0m\u001b[0mraw_input\u001b[0m\u001b[1;33m(\u001b[0m\u001b[1;34m\"Enter number2:\"\u001b[0m\u001b[1;33m)\u001b[0m\u001b[1;33m\u001b[0m\u001b[0m\n\u001b[0;32m      4\u001b[0m \u001b[1;32mprint\u001b[0m \u001b[1;34m\"before conversion:n1=%s,n2=%s\"\u001b[0m\u001b[1;33m%\u001b[0m\u001b[1;33m(\u001b[0m\u001b[0mnum1\u001b[0m\u001b[1;33m,\u001b[0m \u001b[0mnum2\u001b[0m\u001b[1;33m)\u001b[0m\u001b[1;33m\u001b[0m\u001b[0m\n\u001b[1;32m----> 5\u001b[1;33m \u001b[0mnum1\u001b[0m\u001b[1;33m=\u001b[0m\u001b[0mint\u001b[0m\u001b[1;33m(\u001b[0m\u001b[0mnum1\u001b[0m\u001b[1;33m)\u001b[0m\u001b[1;33m\u001b[0m\u001b[0m\n\u001b[0m\u001b[0;32m      6\u001b[0m \u001b[0mnum2\u001b[0m\u001b[1;33m=\u001b[0m\u001b[0mint\u001b[0m\u001b[1;33m(\u001b[0m\u001b[0mnum2\u001b[0m\u001b[1;33m)\u001b[0m\u001b[1;33m\u001b[0m\u001b[0m\n\u001b[0;32m      7\u001b[0m \u001b[1;32mprint\u001b[0m \u001b[1;34m\"after conversion:n1=%s,n2=%s\"\u001b[0m\u001b[1;33m%\u001b[0m\u001b[1;33m(\u001b[0m\u001b[0mnum1\u001b[0m\u001b[1;33m,\u001b[0m \u001b[0mnum2\u001b[0m\u001b[1;33m)\u001b[0m\u001b[1;33m\u001b[0m\u001b[0m\n",
      "\u001b[1;31mValueError\u001b[0m: invalid literal for int() with base 10: '12.77'"
     ]
    }
   ],
   "source": [
    "print \"DIVISION PROGRAM\"\n",
    "num1=raw_input(\"Enter number1:\")\n",
    "num2=raw_input(\"Enter number2:\")\n",
    "print \"before conversion:n1=%s,n2=%s\"%(num1, num2)\n",
    "num1=int(num1)\n",
    "num2=int(num2)\n",
    "print \"after conversion:n1=%s,n2=%s\"%(num1, num2)\n",
    "res=num1/num2\n",
    "print \"result=%s\"%res\n",
    "print \"thank you\"\n",
    "print \"Use me again\""
   ]
  },
  {
   "cell_type": "code",
   "execution_count": 3,
   "metadata": {},
   "outputs": [
    {
     "name": "stdout",
     "output_type": "stream",
     "text": [
      "DIVISION PROGRAM\n",
      "Enter number1:\n",
      "Enter number2:\n",
      "before conversion:n1=,n2=\n"
     ]
    },
    {
     "ename": "ValueError",
     "evalue": "invalid literal for int() with base 10: ''",
     "output_type": "error",
     "traceback": [
      "\u001b[1;31m---------------------------------------------------------------------------\u001b[0m",
      "\u001b[1;31mValueError\u001b[0m                                Traceback (most recent call last)",
      "\u001b[1;32m<ipython-input-3-9f67adcf308b>\u001b[0m in \u001b[0;36m<module>\u001b[1;34m()\u001b[0m\n\u001b[0;32m      3\u001b[0m \u001b[0mnum2\u001b[0m\u001b[1;33m=\u001b[0m\u001b[0mraw_input\u001b[0m\u001b[1;33m(\u001b[0m\u001b[1;34m\"Enter number2:\"\u001b[0m\u001b[1;33m)\u001b[0m\u001b[1;33m\u001b[0m\u001b[0m\n\u001b[0;32m      4\u001b[0m \u001b[1;32mprint\u001b[0m \u001b[1;34m\"before conversion:n1=%s,n2=%s\"\u001b[0m\u001b[1;33m%\u001b[0m\u001b[1;33m(\u001b[0m\u001b[0mnum1\u001b[0m\u001b[1;33m,\u001b[0m \u001b[0mnum2\u001b[0m\u001b[1;33m)\u001b[0m\u001b[1;33m\u001b[0m\u001b[0m\n\u001b[1;32m----> 5\u001b[1;33m \u001b[0mnum1\u001b[0m\u001b[1;33m=\u001b[0m\u001b[0mint\u001b[0m\u001b[1;33m(\u001b[0m\u001b[0mnum1\u001b[0m\u001b[1;33m)\u001b[0m\u001b[1;33m\u001b[0m\u001b[0m\n\u001b[0m\u001b[0;32m      6\u001b[0m \u001b[0mnum2\u001b[0m\u001b[1;33m=\u001b[0m\u001b[0mint\u001b[0m\u001b[1;33m(\u001b[0m\u001b[0mnum2\u001b[0m\u001b[1;33m)\u001b[0m\u001b[1;33m\u001b[0m\u001b[0m\n\u001b[0;32m      7\u001b[0m \u001b[1;32mprint\u001b[0m \u001b[1;34m\"after conversion:n1=%s,n2=%s\"\u001b[0m\u001b[1;33m%\u001b[0m\u001b[1;33m(\u001b[0m\u001b[0mnum1\u001b[0m\u001b[1;33m,\u001b[0m \u001b[0mnum2\u001b[0m\u001b[1;33m)\u001b[0m\u001b[1;33m\u001b[0m\u001b[0m\n",
      "\u001b[1;31mValueError\u001b[0m: invalid literal for int() with base 10: ''"
     ]
    }
   ],
   "source": [
    "print \"DIVISION PROGRAM\"\n",
    "num1=raw_input(\"Enter number1:\")\n",
    "num2=raw_input(\"Enter number2:\")\n",
    "print \"before conversion:n1=%s,n2=%s\"%(num1, num2)\n",
    "num1=int(num1)\n",
    "num2=int(num2)\n",
    "print \"after conversion:n1=%s,n2=%s\"%(num1, num2)\n",
    "res=num1/num2\n",
    "print \"result=%s\"%res\n",
    "print \"thank you\"\n",
    "print \"Use me again\""
   ]
  },
  {
   "cell_type": "code",
   "execution_count": 4,
   "metadata": {},
   "outputs": [
    {
     "name": "stdout",
     "output_type": "stream",
     "text": [
      "DIVISION PROGRAM\n",
      "Enter number1:23\n",
      "Enter number2:ewewe\n",
      "before conversion:n1=23,n2=ewewe\n"
     ]
    },
    {
     "ename": "ValueError",
     "evalue": "invalid literal for int() with base 10: 'ewewe'",
     "output_type": "error",
     "traceback": [
      "\u001b[1;31m---------------------------------------------------------------------------\u001b[0m",
      "\u001b[1;31mValueError\u001b[0m                                Traceback (most recent call last)",
      "\u001b[1;32m<ipython-input-4-9f67adcf308b>\u001b[0m in \u001b[0;36m<module>\u001b[1;34m()\u001b[0m\n\u001b[0;32m      4\u001b[0m \u001b[1;32mprint\u001b[0m \u001b[1;34m\"before conversion:n1=%s,n2=%s\"\u001b[0m\u001b[1;33m%\u001b[0m\u001b[1;33m(\u001b[0m\u001b[0mnum1\u001b[0m\u001b[1;33m,\u001b[0m \u001b[0mnum2\u001b[0m\u001b[1;33m)\u001b[0m\u001b[1;33m\u001b[0m\u001b[0m\n\u001b[0;32m      5\u001b[0m \u001b[0mnum1\u001b[0m\u001b[1;33m=\u001b[0m\u001b[0mint\u001b[0m\u001b[1;33m(\u001b[0m\u001b[0mnum1\u001b[0m\u001b[1;33m)\u001b[0m\u001b[1;33m\u001b[0m\u001b[0m\n\u001b[1;32m----> 6\u001b[1;33m \u001b[0mnum2\u001b[0m\u001b[1;33m=\u001b[0m\u001b[0mint\u001b[0m\u001b[1;33m(\u001b[0m\u001b[0mnum2\u001b[0m\u001b[1;33m)\u001b[0m\u001b[1;33m\u001b[0m\u001b[0m\n\u001b[0m\u001b[0;32m      7\u001b[0m \u001b[1;32mprint\u001b[0m \u001b[1;34m\"after conversion:n1=%s,n2=%s\"\u001b[0m\u001b[1;33m%\u001b[0m\u001b[1;33m(\u001b[0m\u001b[0mnum1\u001b[0m\u001b[1;33m,\u001b[0m \u001b[0mnum2\u001b[0m\u001b[1;33m)\u001b[0m\u001b[1;33m\u001b[0m\u001b[0m\n\u001b[0;32m      8\u001b[0m \u001b[0mres\u001b[0m\u001b[1;33m=\u001b[0m\u001b[0mnum1\u001b[0m\u001b[1;33m/\u001b[0m\u001b[0mnum2\u001b[0m\u001b[1;33m\u001b[0m\u001b[0m\n",
      "\u001b[1;31mValueError\u001b[0m: invalid literal for int() with base 10: 'ewewe'"
     ]
    }
   ],
   "source": [
    "print \"DIVISION PROGRAM\"\n",
    "num1=raw_input(\"Enter number1:\")\n",
    "num2=raw_input(\"Enter number2:\")\n",
    "print \"before conversion:n1=%s,n2=%s\"%(num1, num2)\n",
    "num1=int(num1)\n",
    "num2=int(num2)\n",
    "print \"after conversion:n1=%s,n2=%s\"%(num1, num2)\n",
    "res=num1/num2\n",
    "print \"result=%s\"%res\n",
    "print \"thank you\"\n",
    "print \"Use me again\""
   ]
  },
  {
   "cell_type": "code",
   "execution_count": 5,
   "metadata": {},
   "outputs": [
    {
     "name": "stdout",
     "output_type": "stream",
     "text": [
      "DIVISION PROGRAM\n",
      "Enter number1:3.232\n",
      "Enter number2:3.12131\n",
      "before conversion:n1=3.232,n2=3.12131\n",
      "after conversion:n1=3.232,n2=3.12131\n",
      "result=1.03546267433\n",
      "thank you\n",
      "Use me again\n"
     ]
    }
   ],
   "source": [
    "print \"DIVISION PROGRAM\"\n",
    "num1=raw_input(\"Enter number1:\")\n",
    "num2=raw_input(\"Enter number2:\")\n",
    "print \"before conversion:n1=%s,n2=%s\"%(num1, num2)\n",
    "num1=float(num1)\n",
    "num2=float(num2)\n",
    "print \"after conversion:n1=%s,n2=%s\"%(num1, num2)\n",
    "res=num1/num2\n",
    "print \"result=%s\"%res\n",
    "print \"thank you\"\n",
    "print \"Use me again\""
   ]
  },
  {
   "cell_type": "code",
   "execution_count": 6,
   "metadata": {},
   "outputs": [
    {
     "name": "stdout",
     "output_type": "stream",
     "text": [
      "DIVISION PROGRAM\n",
      "Enter number1:2.33\n",
      "Enter number2:wewrrw\n",
      "before conversion:n1=2.33,n2=wewrrw\n"
     ]
    },
    {
     "ename": "ValueError",
     "evalue": "could not convert string to float: wewrrw",
     "output_type": "error",
     "traceback": [
      "\u001b[1;31m---------------------------------------------------------------------------\u001b[0m",
      "\u001b[1;31mValueError\u001b[0m                                Traceback (most recent call last)",
      "\u001b[1;32m<ipython-input-6-1207d9282521>\u001b[0m in \u001b[0;36m<module>\u001b[1;34m()\u001b[0m\n\u001b[0;32m      4\u001b[0m \u001b[1;32mprint\u001b[0m \u001b[1;34m\"before conversion:n1=%s,n2=%s\"\u001b[0m\u001b[1;33m%\u001b[0m\u001b[1;33m(\u001b[0m\u001b[0mnum1\u001b[0m\u001b[1;33m,\u001b[0m \u001b[0mnum2\u001b[0m\u001b[1;33m)\u001b[0m\u001b[1;33m\u001b[0m\u001b[0m\n\u001b[0;32m      5\u001b[0m \u001b[0mnum1\u001b[0m\u001b[1;33m=\u001b[0m\u001b[0mfloat\u001b[0m\u001b[1;33m(\u001b[0m\u001b[0mnum1\u001b[0m\u001b[1;33m)\u001b[0m\u001b[1;33m\u001b[0m\u001b[0m\n\u001b[1;32m----> 6\u001b[1;33m \u001b[0mnum2\u001b[0m\u001b[1;33m=\u001b[0m\u001b[0mfloat\u001b[0m\u001b[1;33m(\u001b[0m\u001b[0mnum2\u001b[0m\u001b[1;33m)\u001b[0m\u001b[1;33m\u001b[0m\u001b[0m\n\u001b[0m\u001b[0;32m      7\u001b[0m \u001b[1;32mprint\u001b[0m \u001b[1;34m\"after conversion:n1=%s,n2=%s\"\u001b[0m\u001b[1;33m%\u001b[0m\u001b[1;33m(\u001b[0m\u001b[0mnum1\u001b[0m\u001b[1;33m,\u001b[0m \u001b[0mnum2\u001b[0m\u001b[1;33m)\u001b[0m\u001b[1;33m\u001b[0m\u001b[0m\n\u001b[0;32m      8\u001b[0m \u001b[0mres\u001b[0m\u001b[1;33m=\u001b[0m\u001b[0mnum1\u001b[0m\u001b[1;33m/\u001b[0m\u001b[0mnum2\u001b[0m\u001b[1;33m\u001b[0m\u001b[0m\n",
      "\u001b[1;31mValueError\u001b[0m: could not convert string to float: wewrrw"
     ]
    }
   ],
   "source": [
    "print \"DIVISION PROGRAM\"\n",
    "num1=raw_input(\"Enter number1:\")\n",
    "num2=raw_input(\"Enter number2:\")\n",
    "print \"before conversion:n1=%s,n2=%s\"%(num1, num2)\n",
    "num1=float(num1)\n",
    "num2=float(num2)\n",
    "print \"after conversion:n1=%s,n2=%s\"%(num1, num2)\n",
    "res=num1/num2\n",
    "print \"result=%s\"%res\n",
    "print \"thank you\"\n",
    "print \"Use me again\""
   ]
  },
  {
   "cell_type": "code",
   "execution_count": 7,
   "metadata": {},
   "outputs": [
    {
     "name": "stdout",
     "output_type": "stream",
     "text": [
      "DIVISION PROGRAM\n",
      "Enter number1:2.334\n",
      "Enter number2:rwwrw\n",
      "before conversion:n1=2.334,n2=rwwrw\n",
      "invalid input\n"
     ]
    }
   ],
   "source": [
    "try:\n",
    "    print \"DIVISION PROGRAM\"\n",
    "    num1=raw_input(\"Enter number1:\")\n",
    "    num2=raw_input(\"Enter number2:\")\n",
    "    print \"before conversion:n1=%s,n2=%s\"%(num1, num2)\n",
    "    num1=float(num1)\n",
    "    num2=float(num2)\n",
    "    print \"after conversion:n1=%s,n2=%s\"%(num1, num2)\n",
    "    res=num1/num2\n",
    "    print \"result=%s\"%res\n",
    "    print \"thank you\"\n",
    "    print \"Use me again\"\n",
    "except:\n",
    "    print 'invalid input'"
   ]
  },
  {
   "cell_type": "code",
   "execution_count": 8,
   "metadata": {},
   "outputs": [
    {
     "name": "stdout",
     "output_type": "stream",
     "text": [
      "DIVISION PROGRAM\n",
      "Enter number1:6.0\n",
      "Enter number2:3.20\n",
      "before conversion:n1=6.0,n2=3.20\n",
      "after conversion:n1=6.0,n2=3.2\n",
      "result=1.875\n",
      "thank you\n",
      "Use me again\n"
     ]
    }
   ],
   "source": [
    "try:\n",
    "    print \"DIVISION PROGRAM\"\n",
    "    num1=raw_input(\"Enter number1:\")\n",
    "    num2=raw_input(\"Enter number2:\")\n",
    "    print \"before conversion:n1=%s,n2=%s\"%(num1, num2)\n",
    "    num1=float(num1)\n",
    "    num2=float(num2)\n",
    "    print \"after conversion:n1=%s,n2=%s\"%(num1, num2)\n",
    "    res=num1/num2\n",
    "    print \"result=%s\"%res\n",
    "    print \"thank you\"\n",
    "    print \"Use me again\"\n",
    "except:\n",
    "    print \"Invalid input\""
   ]
  },
  {
   "cell_type": "code",
   "execution_count": 9,
   "metadata": {},
   "outputs": [
    {
     "name": "stdout",
     "output_type": "stream",
     "text": [
      "DIVISION PROGRAM\n",
      "Enter number1:12.0\n",
      "Enter number2:0\n",
      "before conversion:n1=12.0,n2=0\n",
      "after conversion:n1=12.0,n2=0.0\n",
      "Invalid input\n"
     ]
    }
   ],
   "source": [
    "try:\n",
    "    print \"DIVISION PROGRAM\"\n",
    "    num1=raw_input(\"Enter number1:\")\n",
    "    num2=raw_input(\"Enter number2:\")\n",
    "    print \"before conversion:n1=%s,n2=%s\"%(num1, num2)\n",
    "    num1=float(num1)\n",
    "    num2=float(num2)\n",
    "    print \"after conversion:n1=%s,n2=%s\"%(num1, num2)\n",
    "    res=num1/num2\n",
    "    print \"result=%s\"%res\n",
    "    print \"thank you\"\n",
    "    print \"Use me again\"\n",
    "except:\n",
    "    print \"Invalid input\""
   ]
  },
  {
   "cell_type": "markdown",
   "metadata": {},
   "source": [
    "12.0/0"
   ]
  },
  {
   "cell_type": "code",
   "execution_count": 10,
   "metadata": {},
   "outputs": [
    {
     "ename": "ZeroDivisionError",
     "evalue": "float division by zero",
     "output_type": "error",
     "traceback": [
      "\u001b[1;31m---------------------------------------------------------------------------\u001b[0m",
      "\u001b[1;31mZeroDivisionError\u001b[0m                         Traceback (most recent call last)",
      "\u001b[1;32m<ipython-input-10-586be7d2148b>\u001b[0m in \u001b[0;36m<module>\u001b[1;34m()\u001b[0m\n\u001b[1;32m----> 1\u001b[1;33m \u001b[1;36m12.0\u001b[0m\u001b[1;33m/\u001b[0m\u001b[1;36m0\u001b[0m\u001b[1;33m\u001b[0m\u001b[0m\n\u001b[0m",
      "\u001b[1;31mZeroDivisionError\u001b[0m: float division by zero"
     ]
    }
   ],
   "source": [
    "12.0/0"
   ]
  },
  {
   "cell_type": "code",
   "execution_count": 11,
   "metadata": {},
   "outputs": [
    {
     "name": "stdout",
     "output_type": "stream",
     "text": [
      "DIVISION PROGRAM\n",
      "Enter number1:12.3\n",
      "Enter number2:rerere\n",
      "before conversion:n1=12.3,n2=rerere\n",
      "Invalid input\n",
      "thank you\n",
      "Use me again\n"
     ]
    }
   ],
   "source": [
    "print \"DIVISION PROGRAM\"\n",
    "num1=raw_input(\"Enter number1:\")\n",
    "num2=raw_input(\"Enter number2:\")\n",
    "print \"before conversion:n1=%s,n2=%s\"%(num1, num2)\n",
    "try:\n",
    "    num1=float(num1)\n",
    "    num2=float(num2)\n",
    "    print \"after conversion:n1=%s,n2=%s\"%(num1, num2)\n",
    "    res=num1/num2\n",
    "    print \"result=%s\"%res\n",
    "except:\n",
    "    print \"Invalid input\"\n",
    "print \"thank you\"\n",
    "print \"Use me again\""
   ]
  },
  {
   "cell_type": "code",
   "execution_count": 12,
   "metadata": {},
   "outputs": [
    {
     "name": "stdout",
     "output_type": "stream",
     "text": [
      "DIVISION PROGRAM\n",
      "Enter number1:12.2323\n",
      "Enter number2:0\n",
      "before conversion:n1=12.2323,n2=0\n",
      "after conversion:n1=12.2323,n2=0.0\n",
      "Invalid input\n",
      "thank you\n",
      "Use me again\n"
     ]
    }
   ],
   "source": [
    "print \"DIVISION PROGRAM\"\n",
    "num1=raw_input(\"Enter number1:\")\n",
    "num2=raw_input(\"Enter number2:\")\n",
    "print \"before conversion:n1=%s,n2=%s\"%(num1, num2)\n",
    "try:\n",
    "    num1=float(num1)\n",
    "    num2=float(num2)\n",
    "    print \"after conversion:n1=%s,n2=%s\"%(num1, num2)\n",
    "    res=num1/num2\n",
    "    print \"result=%s\"%res\n",
    "except:\n",
    "    print \"Invalid input\"\n",
    "print \"thank you\"\n",
    "print \"Use me again\""
   ]
  },
  {
   "cell_type": "code",
   "execution_count": 15,
   "metadata": {},
   "outputs": [
    {
     "name": "stdout",
     "output_type": "stream",
     "text": [
      "DIVISION PROGRAM\n",
      "Enter number1:12.23\n",
      "Enter number2:0\n",
      "before conversion:n1=12.23,n2=0\n",
      "after conversion:n1=12.23,n2=0.0\n",
      "Invalid input\n",
      "float division by zero\n",
      "thank you\n",
      "Use me again\n"
     ]
    }
   ],
   "source": [
    "print \"DIVISION PROGRAM\"\n",
    "num1=raw_input(\"Enter number1:\")\n",
    "num2=raw_input(\"Enter number2:\")\n",
    "print \"before conversion:n1=%s,n2=%s\"%(num1, num2)\n",
    "try:\n",
    "    num1=float(num1)\n",
    "    num2=float(num2)\n",
    "    print \"after conversion:n1=%s,n2=%s\"%(num1, num2)\n",
    "    res=num1/num2\n",
    "    print \"result=%s\"%res\n",
    "except Exception as err:\n",
    "    print \"Invalid input\"\n",
    "    print err\n",
    "print \"thank you\"\n",
    "print \"Use me again\""
   ]
  },
  {
   "cell_type": "code",
   "execution_count": 16,
   "metadata": {},
   "outputs": [
    {
     "name": "stdout",
     "output_type": "stream",
     "text": [
      "DIVISION PROGRAM\n",
      "Enter number1:12.0\n",
      "Enter number2:wwrwrw\n",
      "before conversion:n1=12.0,n2=wwrwrw\n",
      "Invalid input\n",
      "could not convert string to float: wwrwrw\n",
      "thank you\n",
      "Use me again\n"
     ]
    }
   ],
   "source": [
    "print \"DIVISION PROGRAM\"\n",
    "num1=raw_input(\"Enter number1:\")\n",
    "num2=raw_input(\"Enter number2:\")\n",
    "print \"before conversion:n1=%s,n2=%s\"%(num1, num2)\n",
    "try:\n",
    "    num1=float(num1)\n",
    "    num2=float(num2)\n",
    "    print \"after conversion:n1=%s,n2=%s\"%(num1, num2)\n",
    "    res=num1/num2\n",
    "    print \"result=%s\"%res\n",
    "except Exception as err:\n",
    "    print \"Invalid input\"\n",
    "    print err\n",
    "print \"thank you\"\n",
    "print \"Use me again\""
   ]
  },
  {
   "cell_type": "code",
   "execution_count": 18,
   "metadata": {},
   "outputs": [
    {
     "name": "stdout",
     "output_type": "stream",
     "text": [
      "DIVISION PROGRAM\n",
      "Enter number1:12.1\n",
      "Enter number2:wew\n",
      "before conversion:n1=12.1,n2=wew\n",
      "we are expecting only digits\n",
      "thank you\n",
      "Use me again\n"
     ]
    }
   ],
   "source": [
    "print \"DIVISION PROGRAM\"\n",
    "num1=raw_input(\"Enter number1:\")\n",
    "num2=raw_input(\"Enter number2:\")\n",
    "print \"before conversion:n1=%s,n2=%s\"%(num1, num2)\n",
    "try: \n",
    "    num1=float(num1)\n",
    "    num2=float(num2)\n",
    "    print \"after conversion:n1=%s,n2=%s\"%(num1, num2)\n",
    "    res=num1/num2\n",
    "    print \"result=%s\"%res\n",
    "except ValueError as err:\n",
    "    print \"we are expecting only digits\"\n",
    "except ZeroDivisionError as err:\n",
    "    print err\n",
    "    print \"b!=0\"\n",
    "except Exception as err:\n",
    "    print \"Invalid input\"\n",
    "    print err\n",
    "print \"thank you\"\n",
    "print \"Use me again\""
   ]
  },
  {
   "cell_type": "code",
   "execution_count": 19,
   "metadata": {},
   "outputs": [
    {
     "name": "stdout",
     "output_type": "stream",
     "text": [
      "DIVISION PROGRAM\n",
      "Enter number1:12.1\n",
      "Enter number2:0\n",
      "before conversion:n1=12.1,n2=0\n",
      "after conversion:n1=12.1,n2=0.0\n",
      "float division by zero\n",
      "b!=0\n",
      "thank you\n",
      "Use me again\n"
     ]
    }
   ],
   "source": [
    "print \"DIVISION PROGRAM\"\n",
    "num1=raw_input(\"Enter number1:\")\n",
    "num2=raw_input(\"Enter number2:\")\n",
    "print \"before conversion:n1=%s,n2=%s\"%(num1, num2)\n",
    "try: \n",
    "    num1=float(num1)\n",
    "    num2=float(num2)\n",
    "    print \"after conversion:n1=%s,n2=%s\"%(num1, num2)\n",
    "    res=num1/num2\n",
    "    print \"result=%s\"%res\n",
    "except ValueError as err:\n",
    "    print \"we are expecting only digits\"\n",
    "except ZeroDivisionError as err:\n",
    "    print err\n",
    "    print \"b!=0\"\n",
    "except Exception as err:\n",
    "    print \"Invalid input\"\n",
    "    print err\n",
    "print \"thank you\"\n",
    "print \"Use me again\""
   ]
  },
  {
   "cell_type": "code",
   "execution_count": 20,
   "metadata": {},
   "outputs": [
    {
     "name": "stdout",
     "output_type": "stream",
     "text": [
      "DIVISION PROGRAM\n",
      "Enter number1:1.2\n",
      "Enter number2:13.4\n",
      "before conversion:n1=1.2,n2=13.4\n",
      "after conversion:n1=1.2,n2=13.4\n",
      "result=0.089552238806\n",
      "thank you\n",
      "Use me again\n"
     ]
    }
   ],
   "source": [
    "import time\n",
    "print \"DIVISION PROGRAM\"\n",
    "num1=raw_input(\"Enter number1:\")\n",
    "num2=raw_input(\"Enter number2:\")\n",
    "print \"before conversion:n1=%s,n2=%s\"%(num1, num2)\n",
    "try: \n",
    "    num1=float(num1)\n",
    "    num2=float(num2)\n",
    "    time.sleep(5)\n",
    "    print \"after conversion:n1=%s,n2=%s\"%(num1, num2)\n",
    "    res=num1/num2\n",
    "    print \"result=%s\"%res\n",
    "except ValueError as err:\n",
    "    print \"we are expecting only digits\"\n",
    "except ZeroDivisionError as err:\n",
    "    print err\n",
    "    print \"b!=0\"\n",
    "except Exception as err:\n",
    "    print \"Invalid input\"\n",
    "    print err\n",
    "print \"thank you\"\n",
    "print \"Use me again\""
   ]
  },
  {
   "cell_type": "code",
   "execution_count": 21,
   "metadata": {},
   "outputs": [
    {
     "name": "stdout",
     "output_type": "stream",
     "text": [
      "DIVISION PROGRAM\n",
      "Enter number1:12.1\n",
      "Enter number2:wewe\n",
      "before conversion:n1=12.1,n2=wewe\n",
      "we are expecting only digits\n",
      "thank you\n",
      "Use me again\n"
     ]
    }
   ],
   "source": [
    "print \"DIVISION PROGRAM\"\n",
    "num1=raw_input(\"Enter number1:\")\n",
    "num2=raw_input(\"Enter number2:\")\n",
    "print \"before conversion:n1=%s,n2=%s\"%(num1, num2)\n",
    "f=open(\"track.csv\",\"a\")\n",
    "f.write(\"\\n%s//%s=\")\n",
    "try: \n",
    "    num1=float(num1)\n",
    "    num2=float(num2)\n",
    "\n",
    "    print \"after conversion:n1=%s,n2=%s\"%(num1, num2)\n",
    "    res=num1/num2\n",
    "    print \"result=%s\"%res\n",
    "    f.write(\"%s\"%res)\n",
    "    f.close()\n",
    "except ValueError as err:\n",
    "    print \"we are expecting only digits\"\n",
    "except ZeroDivisionError as err:\n",
    "    print err\n",
    "    print \"b!=0\"\n",
    "except Exception as err:\n",
    "    print \"Invalid input\"\n",
    "    print err\n",
    "\n",
    "print \"thank you\"\n",
    "print \"Use me again\""
   ]
  },
  {
   "cell_type": "code",
   "execution_count": 23,
   "metadata": {},
   "outputs": [
    {
     "name": "stdout",
     "output_type": "stream",
     "text": [
      "DIVISION PROGRAM\n",
      "Enter number1:12.233\n",
      "Enter number2:12.233\n",
      "before conversion:n1=12.233,n2=12.233\n",
      "after conversion:n1=12.233,n2=12.233\n",
      "result=1.0\n",
      "thank you\n",
      "Use me again\n"
     ]
    }
   ],
   "source": [
    "print \"DIVISION PROGRAM\"\n",
    "num1=raw_input(\"Enter number1:\")\n",
    "num2=raw_input(\"Enter number2:\")\n",
    "print \"before conversion:n1=%s,n2=%s\"%(num1, num2)\n",
    "f=open(\"track.csv\",\"a\")\n",
    "f.write(\"\\n%s//%s=\")\n",
    "try: \n",
    "    num1=float(num1)\n",
    "    num2=float(num2)\n",
    "\n",
    "    print \"after conversion:n1=%s,n2=%s\"%(num1, num2)\n",
    "    res=num1//num2\n",
    "    print \"result=%s\"%res\n",
    "    f.write(\"%s\"%res)\n",
    "    f.close()\n",
    "except ValueError as err:\n",
    "    print \"we are expecting only digits\"\n",
    "except ZeroDivisionError as err:\n",
    "    print err\n",
    "    print \"b!=0\"\n",
    "except Exception as err:\n",
    "    print \"Invalid input\"\n",
    "    print err\n",
    "\n",
    "print \"thank you\"\n",
    "print \"Use me again\""
   ]
  },
  {
   "cell_type": "code",
   "execution_count": 24,
   "metadata": {},
   "outputs": [
    {
     "name": "stdout",
     "output_type": "stream",
     "text": [
      "DIVISION PROGRAM\n",
      "Enter number1:12.0\n",
      "Enter number2:2.0\n",
      "before conversion:n1=12.0,n2=2.0\n",
      "after conversion:n1=12.0,n2=2.0\n",
      "result=6.0\n",
      "thank you\n",
      "Use me again\n"
     ]
    }
   ],
   "source": [
    "print \"DIVISION PROGRAM\"\n",
    "num1=raw_input(\"Enter number1:\")\n",
    "num2=raw_input(\"Enter number2:\")\n",
    "print \"before conversion:n1=%s,n2=%s\"%(num1, num2)\n",
    "f=open(\"track.csv\",\"a\")\n",
    "f.write(\"\\n%s/%s=\"%(num1,num2))\n",
    "try: \n",
    "    num1=float(num1)\n",
    "    num2=float(num2)\n",
    "\n",
    "    print \"after conversion:n1=%s,n2=%s\"%(num1, num2)\n",
    "    res=num1/num2\n",
    "    print \"result=%s\"%res\n",
    "    f.write(\"%s\"%res)\n",
    "    f.close()\n",
    "except ValueError as err:\n",
    "    print \"we are expecting only digits\"\n",
    "except ZeroDivisionError as err:\n",
    "    print err\n",
    "    print \"b!=0\"\n",
    "except Exception as err:\n",
    "    print \"Invalid input\"\n",
    "    print err\n",
    "\n",
    "print \"thank you\"\n",
    "print \"Use me again\""
   ]
  },
  {
   "cell_type": "code",
   "execution_count": 25,
   "metadata": {},
   "outputs": [
    {
     "name": "stdout",
     "output_type": "stream",
     "text": [
      "DIVISION PROGRAM\n",
      "Enter number1:12\n",
      "Enter number2:0\n",
      "before conversion:n1=12,n2=0\n",
      "after conversion:n1=12.0,n2=0.0\n",
      "float division by zero\n",
      "b!=0\n",
      "thank you\n",
      "Use me again\n"
     ]
    }
   ],
   "source": [
    "print \"DIVISION PROGRAM\"\n",
    "num1=raw_input(\"Enter number1:\")\n",
    "num2=raw_input(\"Enter number2:\")\n",
    "print \"before conversion:n1=%s,n2=%s\"%(num1, num2)\n",
    "f=open(\"track.csv\",\"a\")\n",
    "f.write(\"\\n%s/%s=\"%(num1,num2))\n",
    "try: \n",
    "    num1=float(num1)\n",
    "    num2=float(num2)\n",
    "    print \"after conversion:n1=%s,n2=%s\"%(num1, num2)\n",
    "    res=num1/num2\n",
    "    print \"result=%s\"%res\n",
    "    f.write(\"%s\"%res)\n",
    "    f.close()\n",
    "except ValueError as err:\n",
    "    print \"we are expecting only digits\"\n",
    "except ZeroDivisionError as err:\n",
    "    print err\n",
    "    print \"b!=0\"\n",
    "except Exception as err:\n",
    "    print \"Invalid input\"\n",
    "    print err\n",
    "\n",
    "print \"thank you\"\n",
    "print \"Use me again\""
   ]
  },
  {
   "cell_type": "code",
   "execution_count": 26,
   "metadata": {},
   "outputs": [
    {
     "name": "stdout",
     "output_type": "stream",
     "text": [
      "DIVISION PROGRAM\n",
      "Enter number1:12\n",
      "Enter number2:0\n",
      "before conversion:n1=12,n2=0\n",
      "after conversion:n1=12.0,n2=0.0\n",
      "float division by zero\n",
      "b!=0\n",
      "thank you\n",
      "Use me again\n"
     ]
    }
   ],
   "source": [
    "print \"DIVISION PROGRAM\"\n",
    "num1=raw_input(\"Enter number1:\")\n",
    "num2=raw_input(\"Enter number2:\")\n",
    "print \"before conversion:n1=%s,n2=%s\"%(num1, num2)\n",
    "f=open(\"track.csv\",\"a\")\n",
    "f.write(\"\\n%s/%s=\"%(num1,num2))\n",
    "try: \n",
    "    num1=float(num1)\n",
    "    num2=float(num2)\n",
    "    print \"after conversion:n1=%s,n2=%s\"%(num1, num2)\n",
    "    res=num1/num2\n",
    "    print \"result=%s\"%res\n",
    "    f.write(\"%s\"%res)\n",
    "    f.close()\n",
    "except ValueError as err:\n",
    "    print \"we are expecting only digits\"\n",
    "except ZeroDivisionError as err:\n",
    "    print err\n",
    "    print \"b!=0\"\n",
    "except Exception as err:\n",
    "    print \"Invalid input\"\n",
    "    print err\n",
    "finally:\n",
    "    f.close()\n",
    "print \"thank you\"\n",
    "print \"Use me again\"\n"
   ]
  },
  {
   "cell_type": "code",
   "execution_count": 28,
   "metadata": {},
   "outputs": [
    {
     "name": "stdout",
     "output_type": "stream",
     "text": [
      "DIVISION PROGRAM\n",
      "Enter number1:ff\n",
      "Enter number2:gjgjgk\n",
      "before conversion:n1=ff,n2=gjgjgk\n",
      "we are expecting only digits\n",
      "thank you\n",
      "Use me again\n"
     ]
    }
   ],
   "source": [
    "print \"DIVISION PROGRAM\"\n",
    "num1=raw_input(\"Enter number1:\")\n",
    "num2=raw_input(\"Enter number2:\")\n",
    "print \"before conversion:n1=%s,n2=%s\"%(num1, num2)\n",
    "f=open(\"track.csv\",\"a\")\n",
    "f.write(\"\\n%s/%s=\"%(num1,num2))\n",
    "try: \n",
    "    num1=float(num1)\n",
    "    num2=float(num2)\n",
    "    print \"after conversion:n1=%s,n2=%s\"%(num1, num2)\n",
    "    res=num1/num2\n",
    "    print \"result=%s\"%res\n",
    "    f.write(\"%s\"%res)\n",
    "    f.close()\n",
    "except ValueError as err:\n",
    "    print \"we are expecting only digits\"\n",
    "except ZeroDivisionError as err:\n",
    "    print err\n",
    "    print \"b!=0\"\n",
    "except Exception as err:\n",
    "    print \"Invalid input\"\n",
    "    print err\n",
    "finally:\n",
    "    f.close()\n",
    "print \"thank you\"\n",
    "print \"Use me again\"\n"
   ]
  },
  {
   "cell_type": "code",
   "execution_count": 29,
   "metadata": {},
   "outputs": [
    {
     "name": "stdout",
     "output_type": "stream",
     "text": [
      "fun block started\n",
      "try\n",
      "try after return\n",
      "finally\n",
      "fun block ended\n",
      "res= None\n"
     ]
    }
   ],
   "source": [
    "def fun():\n",
    "    print \"fun block started\"\n",
    "    try:\n",
    "        print \"try\"\n",
    "        print \"try after return\"\n",
    "    except:\n",
    "        print \"except\"\n",
    "        return 20\n",
    "    finally:\n",
    "        print \"finally\"\n",
    "    print \"fun block ended\"\n",
    "res=fun()\n",
    "print \"res=\",res"
   ]
  },
  {
   "cell_type": "code",
   "execution_count": 30,
   "metadata": {},
   "outputs": [
    {
     "name": "stdout",
     "output_type": "stream",
     "text": [
      "fun block started\n",
      "try\n",
      "finally\n",
      "res= 10\n"
     ]
    }
   ],
   "source": [
    "def fun():\n",
    "    print \"fun block started\"\n",
    "    try:\n",
    "        print \"try\"\n",
    "        return 10\n",
    "        print \"try after return\"\n",
    "    except:\n",
    "        print \"except\"\n",
    "        return 20\n",
    "    finally:\n",
    "        print \"finally\"\n",
    "    print \"fun block ended\"\n",
    "res=fun()\n",
    "print \"res=\",res"
   ]
  },
  {
   "cell_type": "code",
   "execution_count": 31,
   "metadata": {},
   "outputs": [
    {
     "name": "stdout",
     "output_type": "stream",
     "text": [
      "fun block started\n",
      "try\n",
      "finally\n",
      "res= 10\n"
     ]
    }
   ],
   "source": [
    "def fun():\n",
    "    print \"fun block started\"\n",
    "    try:\n",
    "        print \"try\"\n",
    "        return 10\n",
    "        print 1/0\n",
    "        print \"try after return\"\n",
    "    except:\n",
    "        print \"except\"\n",
    "        return 20\n",
    "    finally:\n",
    "        print \"finally\"\n",
    "    print \"fun block ended\"\n",
    "res=fun()\n",
    "print \"res=\",res"
   ]
  },
  {
   "cell_type": "code",
   "execution_count": 35,
   "metadata": {},
   "outputs": [
    {
     "name": "stdout",
     "output_type": "stream",
     "text": [
      "fun block started\n",
      "try\n",
      "except\n",
      "finally\n",
      "res= 20\n"
     ]
    }
   ],
   "source": [
    "def fun():\n",
    "    print \"fun block started\"\n",
    "    try:\n",
    "        print \"try\"\n",
    "        print 1/0\n",
    "        return 10\n",
    "        print \"try after return\"\n",
    "    except:\n",
    "        print \"except\"\n",
    "        return 20\n",
    "    finally:\n",
    "        print \"finally\"\n",
    "    print \"fun block ended\"\n",
    "res=fun()\n",
    "print \"res=\",res"
   ]
  },
  {
   "cell_type": "code",
   "execution_count": 36,
   "metadata": {},
   "outputs": [
    {
     "name": "stdout",
     "output_type": "stream",
     "text": [
      "fun block started\n",
      "try\n",
      "except\n",
      "finally\n",
      "res= 30\n"
     ]
    }
   ],
   "source": [
    "def fun():\n",
    "    print \"fun block started\"\n",
    "    try:\n",
    "        print \"try\"\n",
    "        print 1/0\n",
    "        return 10\n",
    "        print \"try after return\"\n",
    "    except:\n",
    "        print \"except\"\n",
    "        return 20\n",
    "    finally:\n",
    "        print \"finally\"\n",
    "        return 30\n",
    "    print \"fun block ended\"\n",
    "res=fun()\n",
    "print \"res=\",res"
   ]
  },
  {
   "cell_type": "code",
   "execution_count": 37,
   "metadata": {},
   "outputs": [
    {
     "name": "stdout",
     "output_type": "stream",
     "text": [
      "main started\n",
      "try\n",
      "finally\n",
      "main ended\n"
     ]
    }
   ],
   "source": [
    "print \"main started\"\n",
    "try:\n",
    "    print \"try\"\n",
    "except:\n",
    "    print \"except\"\n",
    "finally:\n",
    "    print \"finally\"\n",
    "print \"main ended\""
   ]
  },
  {
   "cell_type": "code",
   "execution_count": 38,
   "metadata": {},
   "outputs": [
    {
     "name": "stdout",
     "output_type": "stream",
     "text": [
      "main started\n",
      "try\n",
      "except\n",
      "finally\n",
      "main ended\n"
     ]
    }
   ],
   "source": [
    "print \"main started\"\n",
    "try:\n",
    "    print \"try\"\n",
    "    print 1/0\n",
    "except:\n",
    "    print \"except\"\n",
    "finally:\n",
    "    print \"finally\"\n",
    "print \"main ended\""
   ]
  },
  {
   "cell_type": "code",
   "execution_count": 39,
   "metadata": {},
   "outputs": [
    {
     "name": "stdout",
     "output_type": "stream",
     "text": [
      "main started\n",
      "try\n",
      "except\n",
      "finally\n",
      "main ended\n"
     ]
    }
   ],
   "source": [
    "print \"main started\"\n",
    "try:\n",
    "    print \"try\"\n",
    "    print 1/0\n",
    "except:\n",
    "    print \"except\"\n",
    "else:\n",
    "    print \"else\"\n",
    "finally:\n",
    "    print \"finally\"\n",
    "print \"main ended\""
   ]
  },
  {
   "cell_type": "code",
   "execution_count": 40,
   "metadata": {},
   "outputs": [
    {
     "name": "stdout",
     "output_type": "stream",
     "text": [
      "main started\n",
      "try\n",
      "else\n",
      "finally\n",
      "main ended\n"
     ]
    }
   ],
   "source": [
    "print \"main started\"\n",
    "try:\n",
    "    print \"try\"\n",
    "except:\n",
    "    print \"except\"\n",
    "else:\n",
    "    print \"else\"\n",
    "finally:\n",
    "    print \"finally\"\n",
    "print \"main ended\""
   ]
  },
  {
   "cell_type": "code",
   "execution_count": 41,
   "metadata": {},
   "outputs": [
    {
     "ename": "SyntaxError",
     "evalue": "invalid syntax (<ipython-input-41-710d565d10a4>, line 4)",
     "output_type": "error",
     "traceback": [
      "\u001b[1;36m  File \u001b[1;32m\"<ipython-input-41-710d565d10a4>\"\u001b[1;36m, line \u001b[1;32m4\u001b[0m\n\u001b[1;33m    else:\u001b[0m\n\u001b[1;37m       ^\u001b[0m\n\u001b[1;31mSyntaxError\u001b[0m\u001b[1;31m:\u001b[0m invalid syntax\n"
     ]
    }
   ],
   "source": [
    "print \"main started\"\n",
    "try:\n",
    "    print \"try\"\n",
    "else:\n",
    "    print \"else\"\n",
    "finally:\n",
    "    print \"finally\"\n",
    "print \"main ended\""
   ]
  },
  {
   "cell_type": "code",
   "execution_count": 42,
   "metadata": {},
   "outputs": [
    {
     "name": "stdout",
     "output_type": "stream",
     "text": [
      "main started\n",
      "try\n",
      "finally\n",
      "main ended\n"
     ]
    }
   ],
   "source": [
    "print \"main started\"\n",
    "try:\n",
    "    print \"try\"\n",
    "finally:\n",
    "    print \"finally\"\n",
    "print \"main ended\""
   ]
  },
  {
   "cell_type": "code",
   "execution_count": 43,
   "metadata": {},
   "outputs": [
    {
     "ename": "SyntaxError",
     "evalue": "invalid syntax (<ipython-input-43-af587c0b0f66>, line 5)",
     "output_type": "error",
     "traceback": [
      "\u001b[1;36m  File \u001b[1;32m\"<ipython-input-43-af587c0b0f66>\"\u001b[1;36m, line \u001b[1;32m5\u001b[0m\n\u001b[1;33m    print \"main ended\"\u001b[0m\n\u001b[1;37m        ^\u001b[0m\n\u001b[1;31mSyntaxError\u001b[0m\u001b[1;31m:\u001b[0m invalid syntax\n"
     ]
    }
   ],
   "source": [
    "print \"main started\"\n",
    "try:\n",
    "    print \"try\"\n",
    "    print 1/0\n",
    "print \"main ended\""
   ]
  },
  {
   "cell_type": "code",
   "execution_count": 44,
   "metadata": {},
   "outputs": [
    {
     "ename": "SyntaxError",
     "evalue": "invalid syntax (<ipython-input-44-631dfbad9663>, line 5)",
     "output_type": "error",
     "traceback": [
      "\u001b[1;36m  File \u001b[1;32m\"<ipython-input-44-631dfbad9663>\"\u001b[1;36m, line \u001b[1;32m5\u001b[0m\n\u001b[1;33m    else:\u001b[0m\n\u001b[1;37m       ^\u001b[0m\n\u001b[1;31mSyntaxError\u001b[0m\u001b[1;31m:\u001b[0m invalid syntax\n"
     ]
    }
   ],
   "source": [
    "print \"main started\"\n",
    "try:\n",
    "    print \"try\"\n",
    "    print 1/0\n",
    "else:\n",
    "    print 'else'\n",
    "print \"main ended\""
   ]
  },
  {
   "cell_type": "code",
   "execution_count": 45,
   "metadata": {},
   "outputs": [
    {
     "name": "stdout",
     "output_type": "stream",
     "text": [
      "main started\n",
      "try\n",
      "except\n",
      "main ended\n"
     ]
    }
   ],
   "source": [
    "print \"main started\"\n",
    "try:\n",
    "    print \"try\"\n",
    "    print 1/0\n",
    "except:\n",
    "    print 'except'\n",
    "print \"main ended\""
   ]
  },
  {
   "cell_type": "code",
   "execution_count": 46,
   "metadata": {},
   "outputs": [
    {
     "name": "stdout",
     "output_type": "stream",
     "text": [
      "main started\n",
      "try\n",
      "finally!!\n"
     ]
    },
    {
     "ename": "ZeroDivisionError",
     "evalue": "integer division or modulo by zero",
     "output_type": "error",
     "traceback": [
      "\u001b[1;31m---------------------------------------------------------------------------\u001b[0m",
      "\u001b[1;31mZeroDivisionError\u001b[0m                         Traceback (most recent call last)",
      "\u001b[1;32m<ipython-input-46-fdec66662e94>\u001b[0m in \u001b[0;36m<module>\u001b[1;34m()\u001b[0m\n\u001b[0;32m      2\u001b[0m \u001b[1;32mtry\u001b[0m\u001b[1;33m:\u001b[0m\u001b[1;33m\u001b[0m\u001b[0m\n\u001b[0;32m      3\u001b[0m     \u001b[1;32mprint\u001b[0m \u001b[1;34m\"try\"\u001b[0m\u001b[1;33m\u001b[0m\u001b[0m\n\u001b[1;32m----> 4\u001b[1;33m     \u001b[1;32mprint\u001b[0m \u001b[1;36m1\u001b[0m\u001b[1;33m/\u001b[0m\u001b[1;36m0\u001b[0m\u001b[1;33m\u001b[0m\u001b[0m\n\u001b[0m\u001b[0;32m      5\u001b[0m \u001b[1;32mfinally\u001b[0m\u001b[1;33m:\u001b[0m\u001b[1;33m\u001b[0m\u001b[0m\n\u001b[0;32m      6\u001b[0m     \u001b[1;32mprint\u001b[0m \u001b[1;34m\"finally!!\"\u001b[0m\u001b[1;33m\u001b[0m\u001b[0m\n",
      "\u001b[1;31mZeroDivisionError\u001b[0m: integer division or modulo by zero"
     ]
    }
   ],
   "source": [
    "print \"main started\"\n",
    "try:\n",
    "    print \"try\"\n",
    "    print 1/0\n",
    "finally:\n",
    "    print \"finally!!\"\n",
    "    \n",
    "print \"main ended\""
   ]
  },
  {
   "cell_type": "code",
   "execution_count": 49,
   "metadata": {},
   "outputs": [
    {
     "name": "stdout",
     "output_type": "stream",
     "text": [
      "fun block started\n",
      "try\n",
      "finally\n",
      "res= 30\n"
     ]
    }
   ],
   "source": [
    "def fun():\n",
    "    print \"fun block started\"\n",
    "    try:\n",
    "        print \"try\"\n",
    "        print 1/0\n",
    "        return 10\n",
    "        print \"try after return\"\n",
    "    finally:\n",
    "        print \"finally\"\n",
    "        return 30\n",
    "    print \"fun block ended\"\n",
    "res=fun()\n",
    "print \"res=\",res"
   ]
  },
  {
   "cell_type": "code",
   "execution_count": 50,
   "metadata": {},
   "outputs": [
    {
     "name": "stdout",
     "output_type": "stream",
     "text": [
      "fun block started\n",
      "try\n",
      "finally\n"
     ]
    },
    {
     "ename": "ZeroDivisionError",
     "evalue": "integer division or modulo by zero",
     "output_type": "error",
     "traceback": [
      "\u001b[1;31m---------------------------------------------------------------------------\u001b[0m",
      "\u001b[1;31mZeroDivisionError\u001b[0m                         Traceback (most recent call last)",
      "\u001b[1;32m<ipython-input-50-7e4108b1fc34>\u001b[0m in \u001b[0;36m<module>\u001b[1;34m()\u001b[0m\n\u001b[0;32m     10\u001b[0m         \u001b[1;31m#return 30\u001b[0m\u001b[1;33m\u001b[0m\u001b[1;33m\u001b[0m\u001b[0m\n\u001b[0;32m     11\u001b[0m     \u001b[1;32mprint\u001b[0m \u001b[1;34m\"fun block ended\"\u001b[0m\u001b[1;33m\u001b[0m\u001b[0m\n\u001b[1;32m---> 12\u001b[1;33m \u001b[0mres\u001b[0m\u001b[1;33m=\u001b[0m\u001b[0mfun\u001b[0m\u001b[1;33m(\u001b[0m\u001b[1;33m)\u001b[0m\u001b[1;33m\u001b[0m\u001b[0m\n\u001b[0m\u001b[0;32m     13\u001b[0m \u001b[1;32mprint\u001b[0m \u001b[1;34m\"res=\"\u001b[0m\u001b[1;33m,\u001b[0m\u001b[0mres\u001b[0m\u001b[1;33m\u001b[0m\u001b[0m\n",
      "\u001b[1;32m<ipython-input-50-7e4108b1fc34>\u001b[0m in \u001b[0;36mfun\u001b[1;34m()\u001b[0m\n\u001b[0;32m      3\u001b[0m     \u001b[1;32mtry\u001b[0m\u001b[1;33m:\u001b[0m\u001b[1;33m\u001b[0m\u001b[0m\n\u001b[0;32m      4\u001b[0m         \u001b[1;32mprint\u001b[0m \u001b[1;34m\"try\"\u001b[0m\u001b[1;33m\u001b[0m\u001b[0m\n\u001b[1;32m----> 5\u001b[1;33m         \u001b[1;32mprint\u001b[0m \u001b[1;36m1\u001b[0m\u001b[1;33m/\u001b[0m\u001b[1;36m0\u001b[0m\u001b[1;33m\u001b[0m\u001b[0m\n\u001b[0m\u001b[0;32m      6\u001b[0m         \u001b[1;32mreturn\u001b[0m \u001b[1;36m10\u001b[0m\u001b[1;33m\u001b[0m\u001b[0m\n\u001b[0;32m      7\u001b[0m         \u001b[1;32mprint\u001b[0m \u001b[1;34m\"try after return\"\u001b[0m\u001b[1;33m\u001b[0m\u001b[0m\n",
      "\u001b[1;31mZeroDivisionError\u001b[0m: integer division or modulo by zero"
     ]
    }
   ],
   "source": [
    "def fun():\n",
    "    print \"fun block started\"\n",
    "    try:\n",
    "        print \"try\"\n",
    "        print 1/0\n",
    "        return 10\n",
    "        print \"try after return\"\n",
    "    finally:\n",
    "        print \"finally\"\n",
    "        #return 30\n",
    "    print \"fun block ended\"\n",
    "res=fun()\n",
    "print \"res=\",res"
   ]
  },
  {
   "cell_type": "code",
   "execution_count": null,
   "metadata": {},
   "outputs": [],
   "source": []
  }
 ],
 "metadata": {
  "kernelspec": {
   "display_name": "Python 2",
   "language": "python",
   "name": "python2"
  },
  "language_info": {
   "codemirror_mode": {
    "name": "ipython",
    "version": 2
   },
   "file_extension": ".py",
   "mimetype": "text/x-python",
   "name": "python",
   "nbconvert_exporter": "python",
   "pygments_lexer": "ipython2",
   "version": "2.7.15"
  }
 },
 "nbformat": 4,
 "nbformat_minor": 2
}
