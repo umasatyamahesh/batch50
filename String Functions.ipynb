{
 "cells": [
  {
   "cell_type": "code",
   "execution_count": 1,
   "metadata": {},
   "outputs": [
    {
     "data": {
      "text/plain": [
       "'Python program'"
      ]
     },
     "execution_count": 1,
     "metadata": {},
     "output_type": "execute_result"
    }
   ],
   "source": [
    "s='pYTHON PRogrAM'\n",
    "s.capitalize()"
   ]
  },
  {
   "cell_type": "code",
   "execution_count": 2,
   "metadata": {},
   "outputs": [
    {
     "data": {
      "text/plain": [
       "'1python program'"
      ]
     },
     "execution_count": 2,
     "metadata": {},
     "output_type": "execute_result"
    }
   ],
   "source": [
    "s='1pYTHON PRogrAM'\n",
    "s.capitalize()"
   ]
  },
  {
   "cell_type": "code",
   "execution_count": 3,
   "metadata": {},
   "outputs": [
    {
     "data": {
      "text/plain": [
       "''"
      ]
     },
     "execution_count": 3,
     "metadata": {},
     "output_type": "execute_result"
    }
   ],
   "source": [
    "s=''\n",
    "s.capitalize()"
   ]
  },
  {
   "cell_type": "code",
   "execution_count": 7,
   "metadata": {},
   "outputs": [
    {
     "name": "stdout",
     "output_type": "stream",
     "text": [
      "                                       pYTHON PRogrAM                                       \n",
      "pYTHON PRogrAM                                                                              \n",
      "                                                                              pYTHON PRogrAM\n"
     ]
    }
   ],
   "source": [
    "s=\"pYTHON PRogrAM\"\n",
    "print s.center(92)\n",
    "print s.ljust(92)\n",
    "print s.rjust(92)"
   ]
  },
  {
   "cell_type": "code",
   "execution_count": 8,
   "metadata": {},
   "outputs": [
    {
     "name": "stdout",
     "output_type": "stream",
     "text": [
      "*******Python*******\n",
      "Python**************\n",
      "**************Python\n"
     ]
    }
   ],
   "source": [
    "s=\"Python\"\n",
    "print s.center(20,\"*\")\n",
    "print s.ljust(20,\"*\")\n",
    "print s.rjust(20,\"*\")"
   ]
  },
  {
   "cell_type": "code",
   "execution_count": 9,
   "metadata": {},
   "outputs": [
    {
     "name": "stdout",
     "output_type": "stream",
     "text": [
      "pYTHON PRogrAM\n"
     ]
    }
   ],
   "source": [
    "s=\"pYTHON PRogrAM\"\n",
    "print s.center(5)"
   ]
  },
  {
   "cell_type": "code",
   "execution_count": 1,
   "metadata": {},
   "outputs": [
    {
     "data": {
      "text/plain": [
       "'$python program'"
      ]
     },
     "execution_count": 1,
     "metadata": {},
     "output_type": "execute_result"
    }
   ],
   "source": [
    "s='$pyTHOn prOGRam'\n",
    "s.capitalize()"
   ]
  },
  {
   "cell_type": "code",
   "execution_count": 2,
   "metadata": {},
   "outputs": [
    {
     "name": "stdout",
     "output_type": "stream",
     "text": [
      "$$$$$$$$$$$$$$$$$$$$$$$$$$$$$$$$$$$$$$$$$$\n"
     ]
    }
   ],
   "source": [
    "print '$'*42"
   ]
  },
  {
   "cell_type": "code",
   "execution_count": 12,
   "metadata": {},
   "outputs": [
    {
     "name": "stdout",
     "output_type": "stream",
     "text": [
      "***python program***\n",
      "******python program\n",
      "python program******\n"
     ]
    }
   ],
   "source": [
    "s='python program'\n",
    "print s.center(20,\"*\")\n",
    "print s.rjust(20,\"*\")\n",
    "print s.ljust(20,\"*\")"
   ]
  },
  {
   "cell_type": "code",
   "execution_count": 15,
   "metadata": {},
   "outputs": [
    {
     "name": "stdout",
     "output_type": "stream",
     "text": [
      "1\n"
     ]
    }
   ],
   "source": [
    "str='Python is purely a programming language'\n",
    "print str.count('is')"
   ]
  },
  {
   "cell_type": "code",
   "execution_count": 16,
   "metadata": {},
   "outputs": [
    {
     "name": "stdout",
     "output_type": "stream",
     "text": [
      "1\n"
     ]
    }
   ],
   "source": [
    "str='Python is purely a programming language'\n",
    "print str.count('P')"
   ]
  },
  {
   "cell_type": "code",
   "execution_count": 17,
   "metadata": {},
   "outputs": [
    {
     "name": "stdout",
     "output_type": "stream",
     "text": [
      "2\n"
     ]
    }
   ],
   "source": [
    "str='Python is purely a programming language'\n",
    "print str.count('p')"
   ]
  },
  {
   "cell_type": "code",
   "execution_count": 18,
   "metadata": {},
   "outputs": [
    {
     "name": "stdout",
     "output_type": "stream",
     "text": [
      "2\n"
     ]
    }
   ],
   "source": [
    "str='Python is purely a programming language'\n",
    "print str.count('p',1,20)"
   ]
  },
  {
   "cell_type": "code",
   "execution_count": 22,
   "metadata": {},
   "outputs": [
    {
     "name": "stdout",
     "output_type": "stream",
     "text": [
      "1\n"
     ]
    }
   ],
   "source": [
    "str='Python is purely a programming language'\n",
    "print str.count('P',0,30)"
   ]
  },
  {
   "cell_type": "code",
   "execution_count": 23,
   "metadata": {},
   "outputs": [
    {
     "name": "stdout",
     "output_type": "stream",
     "text": [
      "0\n"
     ]
    }
   ],
   "source": [
    "str='Python is purely a programming language'\n",
    "print str.count('P',20,30)"
   ]
  },
  {
   "cell_type": "code",
   "execution_count": 24,
   "metadata": {},
   "outputs": [
    {
     "name": "stdout",
     "output_type": "stream",
     "text": [
      "0\n"
     ]
    }
   ],
   "source": [
    "str='Python is purely a programming language'\n",
    "print str.count('P',20,-30)"
   ]
  },
  {
   "cell_type": "code",
   "execution_count": 26,
   "metadata": {},
   "outputs": [
    {
     "name": "stdout",
     "output_type": "stream",
     "text": [
      "39\n",
      "1\n"
     ]
    }
   ],
   "source": [
    "str='Python is purely a programming language'\n",
    "print len(str)\n",
    "print str.count('P',0,39)"
   ]
  },
  {
   "cell_type": "code",
   "execution_count": 27,
   "metadata": {},
   "outputs": [
    {
     "name": "stdout",
     "output_type": "stream",
     "text": [
      "PYTON PROGRAM\n"
     ]
    }
   ],
   "source": [
    "s=\"pyton PROgram\"\n",
    "print s.upper()"
   ]
  },
  {
   "cell_type": "code",
   "execution_count": 28,
   "metadata": {},
   "outputs": [
    {
     "name": "stdout",
     "output_type": "stream",
     "text": [
      "pyton program\n"
     ]
    }
   ],
   "source": [
    "s=\"pyton PROgram\"\n",
    "print s.lower()"
   ]
  },
  {
   "cell_type": "code",
   "execution_count": 29,
   "metadata": {},
   "outputs": [
    {
     "name": "stdout",
     "output_type": "stream",
     "text": [
      "PYTON proGRAM\n"
     ]
    }
   ],
   "source": [
    "s=\"pyton PROgram\"\n",
    "print s.swapcase()"
   ]
  },
  {
   "cell_type": "code",
   "execution_count": 30,
   "metadata": {},
   "outputs": [
    {
     "name": "stdout",
     "output_type": "stream",
     "text": [
      "False\n"
     ]
    }
   ],
   "source": [
    "s=\"pyton PROgram\"\n",
    "print s.isupper()"
   ]
  },
  {
   "cell_type": "code",
   "execution_count": 36,
   "metadata": {},
   "outputs": [
    {
     "name": "stdout",
     "output_type": "stream",
     "text": [
      "cHl0aG9uIHByb2dyYW0=\n",
      "\n"
     ]
    }
   ],
   "source": [
    "pwd=\"python program\" \n",
    "pwd_e = pwd.encode('base64') \n",
    "print pwd_e"
   ]
  },
  {
   "cell_type": "code",
   "execution_count": 38,
   "metadata": {},
   "outputs": [
    {
     "name": "stdout",
     "output_type": "stream",
     "text": [
      "cHl0aG9uIHByb2dyYW0=\n",
      "\n",
      "python program\n"
     ]
    }
   ],
   "source": [
    "pwd=\"python program\" \n",
    "pwd_e = pwd.encode('base64') \n",
    "print pwd_e\n",
    "pwd_d=pwd_e.decode('base64')\n",
    "print pwd_d"
   ]
  },
  {
   "cell_type": "code",
   "execution_count": 39,
   "metadata": {},
   "outputs": [
    {
     "name": "stdout",
     "output_type": "stream",
     "text": [
      "1\n",
      "0\n",
      "0\n"
     ]
    }
   ],
   "source": [
    "s=\"python is a pure object oriented prograqming language\"\n",
    "print s.count(\"is\")\n",
    "print s.find(\"p\")\n",
    "print s.index(\"p\")"
   ]
  },
  {
   "cell_type": "code",
   "execution_count": 49,
   "metadata": {},
   "outputs": [
    {
     "name": "stdout",
     "output_type": "stream",
     "text": [
      "1\n",
      "-1\n",
      "7\n"
     ]
    }
   ],
   "source": [
    "s=\"python is a pure object oriented prograqming language\"\n",
    "print s.count(\"is\")\n",
    "print s.find(\"is\",0,6)\n",
    "print s.index(\"is\",0,39)"
   ]
  },
  {
   "cell_type": "code",
   "execution_count": 53,
   "metadata": {},
   "outputs": [
    {
     "name": "stdout",
     "output_type": "stream",
     "text": [
      "1\n",
      "7\n",
      "7\n"
     ]
    }
   ],
   "source": [
    "s=\"python is a pure object oriented prograqming language\"\n",
    "print s.count(\"is\")\n",
    "print s.find(\"is\",0)\n",
    "print s.index(\"is\")"
   ]
  },
  {
   "cell_type": "code",
   "execution_count": 56,
   "metadata": {},
   "outputs": [
    {
     "name": "stdout",
     "output_type": "stream",
     "text": [
      "1\n",
      "54\n",
      "54\n"
     ]
    }
   ],
   "source": [
    "s=\"python is a pure object oriented prograqming language 10@\"\n",
    "print s.count(\"10\")\n",
    "print s.find(\"10\")\n",
    "print s.index(\"10\")"
   ]
  },
  {
   "cell_type": "code",
   "execution_count": 57,
   "metadata": {},
   "outputs": [
    {
     "name": "stdout",
     "output_type": "stream",
     "text": [
      "1\n",
      "56\n",
      "56\n"
     ]
    }
   ],
   "source": [
    "s=\"python is a pure object oriented prograqming language 10@\"\n",
    "print s.count(\"@\")\n",
    "print s.find(\"@\")\n",
    "print s.index(\"@\")"
   ]
  },
  {
   "cell_type": "code",
   "execution_count": 58,
   "metadata": {},
   "outputs": [
    {
     "name": "stdout",
     "output_type": "stream",
     "text": [
      "0\n",
      "-1\n"
     ]
    },
    {
     "ename": "ValueError",
     "evalue": "substring not found",
     "output_type": "error",
     "traceback": [
      "\u001b[1;31m---------------------------------------------------------------------------\u001b[0m",
      "\u001b[1;31mValueError\u001b[0m                                Traceback (most recent call last)",
      "\u001b[1;32m<ipython-input-58-993bb4279905>\u001b[0m in \u001b[0;36m<module>\u001b[1;34m()\u001b[0m\n\u001b[0;32m      2\u001b[0m \u001b[1;32mprint\u001b[0m \u001b[0ms\u001b[0m\u001b[1;33m.\u001b[0m\u001b[0mcount\u001b[0m\u001b[1;33m(\u001b[0m\u001b[1;34m\"@\"\u001b[0m\u001b[1;33m)\u001b[0m\u001b[1;33m\u001b[0m\u001b[0m\n\u001b[0;32m      3\u001b[0m \u001b[1;32mprint\u001b[0m \u001b[0ms\u001b[0m\u001b[1;33m.\u001b[0m\u001b[0mfind\u001b[0m\u001b[1;33m(\u001b[0m\u001b[1;34m\"@\"\u001b[0m\u001b[1;33m)\u001b[0m\u001b[1;33m\u001b[0m\u001b[0m\n\u001b[1;32m----> 4\u001b[1;33m \u001b[1;32mprint\u001b[0m \u001b[0ms\u001b[0m\u001b[1;33m.\u001b[0m\u001b[0mindex\u001b[0m\u001b[1;33m(\u001b[0m\u001b[1;34m\"@\"\u001b[0m\u001b[1;33m)\u001b[0m\u001b[1;33m\u001b[0m\u001b[0m\n\u001b[0m",
      "\u001b[1;31mValueError\u001b[0m: substring not found"
     ]
    }
   ],
   "source": [
    "s=\"python is a pure object oriented prograqming language 10\"\n",
    "print s.count(\"@\")\n",
    "print s.find(\"@\")\n",
    "print s.index(\"@\")"
   ]
  },
  {
   "cell_type": "code",
   "execution_count": 59,
   "metadata": {},
   "outputs": [
    {
     "name": "stdout",
     "output_type": "stream",
     "text": [
      "False\n",
      "False\n",
      "False\n",
      "False\n",
      "python    123\n"
     ]
    }
   ],
   "source": [
    "s='python\\t123'\n",
    "print s.isdigit()\n",
    "print s.isalpha()\n",
    "print s.isalnum()\n",
    "print s.isspace()\n",
    "print s.expandtabs(5)"
   ]
  },
  {
   "cell_type": "code",
   "execution_count": 60,
   "metadata": {},
   "outputs": [
    {
     "name": "stdout",
     "output_type": "stream",
     "text": [
      "False\n",
      "True\n",
      "True\n",
      "False\n",
      "python\n"
     ]
    }
   ],
   "source": [
    "s='python'\n",
    "print s.isdigit()\n",
    "print s.isalpha()\n",
    "print s.isalnum()\n",
    "print s.isspace()\n",
    "print s.expandtabs(5)"
   ]
  },
  {
   "cell_type": "code",
   "execution_count": 61,
   "metadata": {},
   "outputs": [
    {
     "name": "stdout",
     "output_type": "stream",
     "text": [
      "False\n",
      "False\n",
      "False\n",
      "True\n",
      " \n"
     ]
    }
   ],
   "source": [
    "s=' '\n",
    "print s.isdigit()\n",
    "print s.isalpha()\n",
    "print s.isalnum()\n",
    "print s.isspace()\n",
    "print s.expandtabs(5)"
   ]
  },
  {
   "cell_type": "code",
   "execution_count": 62,
   "metadata": {},
   "outputs": [
    {
     "name": "stdout",
     "output_type": "stream",
     "text": [
      "True\n"
     ]
    }
   ],
   "source": [
    "s=\"python is a pure object oriented programming language\"\n",
    "print s.startswith('p')"
   ]
  },
  {
   "cell_type": "code",
   "execution_count": 63,
   "metadata": {},
   "outputs": [
    {
     "name": "stdout",
     "output_type": "stream",
     "text": [
      "False\n"
     ]
    }
   ],
   "source": [
    "s=\"python is a pure object oriented programming language\"\n",
    "print s.startswith(' ')"
   ]
  },
  {
   "cell_type": "code",
   "execution_count": 64,
   "metadata": {},
   "outputs": [
    {
     "ename": "TypeError",
     "evalue": "startswith() takes at least 1 argument (0 given)",
     "output_type": "error",
     "traceback": [
      "\u001b[1;31m---------------------------------------------------------------------------\u001b[0m",
      "\u001b[1;31mTypeError\u001b[0m                                 Traceback (most recent call last)",
      "\u001b[1;32m<ipython-input-64-09e22b73b742>\u001b[0m in \u001b[0;36m<module>\u001b[1;34m()\u001b[0m\n\u001b[0;32m      1\u001b[0m \u001b[0ms\u001b[0m\u001b[1;33m=\u001b[0m\u001b[1;34m\"python is a pure object oriented programming language\"\u001b[0m\u001b[1;33m\u001b[0m\u001b[0m\n\u001b[1;32m----> 2\u001b[1;33m \u001b[1;32mprint\u001b[0m \u001b[0ms\u001b[0m\u001b[1;33m.\u001b[0m\u001b[0mstartswith\u001b[0m\u001b[1;33m(\u001b[0m\u001b[1;33m)\u001b[0m\u001b[1;33m\u001b[0m\u001b[0m\n\u001b[0m",
      "\u001b[1;31mTypeError\u001b[0m: startswith() takes at least 1 argument (0 given)"
     ]
    }
   ],
   "source": [
    "s=\"python is a pure object oriented programming language\"\n",
    "print s.startswith()"
   ]
  },
  {
   "cell_type": "code",
   "execution_count": 65,
   "metadata": {},
   "outputs": [
    {
     "name": "stdout",
     "output_type": "stream",
     "text": [
      "True\n"
     ]
    }
   ],
   "source": [
    "s=\"python is a pure object oriented programming language\"\n",
    "print s.startswith('p',0,39)"
   ]
  },
  {
   "cell_type": "code",
   "execution_count": 66,
   "metadata": {},
   "outputs": [
    {
     "name": "stdout",
     "output_type": "stream",
     "text": [
      "53\n",
      "False\n",
      "False\n",
      "True\n"
     ]
    }
   ],
   "source": [
    "s=\"python is a pure object oriented programming language\"\n",
    "print len(s)\n",
    "print s.endswith('gage',0,53)\n",
    "print s.endswith('uag',0,53)\n",
    "print s.endswith('language')"
   ]
  },
  {
   "cell_type": "code",
   "execution_count": 67,
   "metadata": {},
   "outputs": [
    {
     "ename": "TypeError",
     "evalue": "isdigit() takes no arguments (2 given)",
     "output_type": "error",
     "traceback": [
      "\u001b[1;31m---------------------------------------------------------------------------\u001b[0m",
      "\u001b[1;31mTypeError\u001b[0m                                 Traceback (most recent call last)",
      "\u001b[1;32m<ipython-input-67-996808b7607e>\u001b[0m in \u001b[0;36m<module>\u001b[1;34m()\u001b[0m\n\u001b[0;32m      1\u001b[0m \u001b[0ms\u001b[0m\u001b[1;33m=\u001b[0m\u001b[1;34m'python123@'\u001b[0m\u001b[1;33m\u001b[0m\u001b[0m\n\u001b[1;32m----> 2\u001b[1;33m \u001b[1;32mprint\u001b[0m \u001b[0ms\u001b[0m\u001b[1;33m.\u001b[0m\u001b[0misdigit\u001b[0m\u001b[1;33m(\u001b[0m\u001b[1;36m0\u001b[0m\u001b[1;33m,\u001b[0m\u001b[1;36m10\u001b[0m\u001b[1;33m)\u001b[0m\u001b[1;33m\u001b[0m\u001b[0m\n\u001b[0m\u001b[0;32m      3\u001b[0m \u001b[1;32mprint\u001b[0m \u001b[0ms\u001b[0m\u001b[1;33m.\u001b[0m\u001b[0misalpha\u001b[0m\u001b[1;33m(\u001b[0m\u001b[1;33m)\u001b[0m\u001b[1;33m\u001b[0m\u001b[0m\n\u001b[0;32m      4\u001b[0m \u001b[1;32mprint\u001b[0m \u001b[0ms\u001b[0m\u001b[1;33m.\u001b[0m\u001b[0misalnum\u001b[0m\u001b[1;33m(\u001b[0m\u001b[1;33m)\u001b[0m\u001b[1;33m\u001b[0m\u001b[0m\n",
      "\u001b[1;31mTypeError\u001b[0m: isdigit() takes no arguments (2 given)"
     ]
    }
   ],
   "source": [
    "s='python123@'\n",
    "print s.isdigit(0,10)\n",
    "print s.isalpha()\n",
    "print s.isalnum()"
   ]
  },
  {
   "cell_type": "code",
   "execution_count": 68,
   "metadata": {},
   "outputs": [
    {
     "name": "stdout",
     "output_type": "stream",
     "text": [
      "False\n",
      "False\n",
      "False\n",
      "False\n",
      " rt\n"
     ]
    }
   ],
   "source": [
    "s=' rt'\n",
    "print s.isdigit()\n",
    "print s.isalpha()\n",
    "print s.isalnum()\n",
    "print s.isspace()\n",
    "print s.expandtabs(5)"
   ]
  },
  {
   "cell_type": "code",
   "execution_count": 69,
   "metadata": {},
   "outputs": [
    {
     "name": "stdout",
     "output_type": "stream",
     "text": [
      "False\n",
      "False\n",
      "False\n",
      "False\n",
      "     rt   \n"
     ]
    }
   ],
   "source": [
    "s='\\trt\\t'\n",
    "print s.isdigit()\n",
    "print s.isalpha()\n",
    "print s.isalnum()\n",
    "print s.isspace()\n",
    "print s.expandtabs(5)"
   ]
  },
  {
   "cell_type": "code",
   "execution_count": 3,
   "metadata": {},
   "outputs": [
    {
     "name": "stdout",
     "output_type": "stream",
     "text": [
      "1python\n",
      "1PyThOn\n"
     ]
    }
   ],
   "source": [
    "s='1pYtHoN'\n",
    "print s.capitalize()\n",
    "print s.swapcase()"
   ]
  },
  {
   "cell_type": "code",
   "execution_count": 4,
   "metadata": {},
   "outputs": [
    {
     "name": "stdout",
     "output_type": "stream",
     "text": [
      "Python\n",
      "PyThOn\n"
     ]
    }
   ],
   "source": [
    "s='pYtHoN'\n",
    "print s.capitalize()\n",
    "print s.swapcase()"
   ]
  },
  {
   "cell_type": "code",
   "execution_count": 17,
   "metadata": {},
   "outputs": [
    {
     "name": "stdout",
     "output_type": "stream",
     "text": [
      "97\n",
      "122\n",
      "65\n",
      "90\n",
      "a\n",
      "a\n",
      "p\n",
      "y\n",
      "t\n",
      "h\n",
      "o\n",
      "n\n"
     ]
    }
   ],
   "source": [
    "print ord('a')\n",
    "print ord('z')\n",
    "print ord('A')\n",
    "print ord('Z')\n",
    "print chr(97)\n",
    "a=chr(97)\n",
    "print a\n",
    "str='python'\n",
    "for i in str:\n",
    "    print i\n",
    "    #print str(i)"
   ]
  },
  {
   "cell_type": "code",
   "execution_count": 37,
   "metadata": {},
   "outputs": [
    {
     "name": "stdout",
     "output_type": "stream",
     "text": [
      "Enter StringAbCdezZ\n",
      "aBcDEZz\n"
     ]
    }
   ],
   "source": [
    "# 28.\tConvert the total string in to lower case. Without using lower() function.29.\tConvert the total string in to upper case. Without using upper() function.\n",
    "str_in =raw_input(\"Enter String\")\n",
    "arr = [i for i in str_in]\n",
    "#print arr\n",
    "l =len(str_in)\n",
    "for i in range(0,l):\n",
    "    z=ord(arr[i])\n",
    "    #k=0\n",
    "    if (z>=65 and z<=90):\n",
    "        s=z+32\n",
    "        arr[i]=chr(s)\n",
    "    elif (z>=97 and z<=122):\n",
    "        s=z-32\n",
    "        arr[i]=chr(s)      \n",
    "print ''.join(arr)\n",
    "        \n"
   ]
  },
  {
   "cell_type": "code",
   "execution_count": 63,
   "metadata": {},
   "outputs": [
    {
     "name": "stdout",
     "output_type": "stream",
     "text": [
      "enter Original string:assignment\n",
      "enter replacement string:amle\n",
      "enter replacement position2\n",
      "asamlement\n"
     ]
    }
   ],
   "source": [
    "#WAP to replace last n occurrence\n",
    "str=raw_input(\"enter Original string:\")\n",
    "rep_str=raw_input(\"enter replacement string:\")\n",
    "n=int(raw_input(\"enter replacement position\"))\n",
    "l=len(str)\n",
    "#print l\n",
    "k=len(rep_str)\n",
    "z=0\n",
    "if n>l:\n",
    "    print 'Cannot be replaced , string has to be appended'\n",
    "else:\n",
    "    ARR = [i for i in str]\n",
    "    #print ARR\n",
    "    ARR1 = [i for i in rep_str]\n",
    "    #print ARR1\n",
    "    l=l+(k-(l-n))       \n",
    "    for j in range(n,l):\n",
    "         #print ARR1[0]\n",
    "         #print ARR1[z]\n",
    "         ARR[j]=ARR1[z]\n",
    "         z=z+1\n",
    "    print ''.join(ARR)\n",
    "        "
   ]
  },
  {
   "cell_type": "code",
   "execution_count": 1,
   "metadata": {},
   "outputs": [
    {
     "name": "stdout",
     "output_type": "stream",
     "text": [
      "Enter Stringjskadsa\n",
      "['j', 's', 'k', 'a', 'd', 's', 'a']\n",
      "JSKADSA\n"
     ]
    }
   ],
   "source": [
    "# 28.\tConvert the total string in to lower case. Without using lower() function.29.\tConvert the total string in to upper case. Without using upper() function.\n",
    "def swapping(str_in):\n",
    "    arr = [i for i in str_in]\n",
    "    print arr\n",
    "    l =len(str_in)\n",
    "    for i in range(0,l):\n",
    "        z=ord(arr[i])\n",
    "        #k=0\n",
    "        if (z>=65 and z<=90):\n",
    "            s=z+32\n",
    "            arr[i]=chr(s)\n",
    "        elif (z>=97 and z<=122):\n",
    "            s=z-32\n",
    "            arr[i]=chr(s)\n",
    "    print ''.join(arr)\n",
    "str_in =raw_input(\"Enter String\")\n",
    "swapping(str_in)\n"
   ]
  },
  {
   "cell_type": "code",
   "execution_count": 2,
   "metadata": {},
   "outputs": [
    {
     "name": "stdout",
     "output_type": "stream",
     "text": [
      "0\n",
      "0\n",
      "7\n",
      "7\n"
     ]
    }
   ],
   "source": [
    "s='python program'\n",
    "print s.find('p')\n",
    "print s.index('p')\n",
    "print s.rfind('p')\n",
    "print s.index('p')"
   ]
  },
  {
   "cell_type": "code",
   "execution_count": 5,
   "metadata": {},
   "outputs": [
    {
     "name": "stdout",
     "output_type": "stream",
     "text": [
      "0\n"
     ]
    },
    {
     "ename": "ValueError",
     "evalue": "substring not found",
     "output_type": "error",
     "traceback": [
      "\u001b[1;31m---------------------------------------------------------------------------\u001b[0m",
      "\u001b[1;31mValueError\u001b[0m                                Traceback (most recent call last)",
      "\u001b[1;32m<ipython-input-5-7edd5f404a1b>\u001b[0m in \u001b[0;36m<module>\u001b[1;34m()\u001b[0m\n\u001b[0;32m      1\u001b[0m \u001b[0ms\u001b[0m\u001b[1;33m=\u001b[0m\u001b[1;34m'python program'\u001b[0m\u001b[1;33m\u001b[0m\u001b[0m\n\u001b[0;32m      2\u001b[0m \u001b[1;32mprint\u001b[0m \u001b[0ms\u001b[0m\u001b[1;33m.\u001b[0m\u001b[0mfind\u001b[0m\u001b[1;33m(\u001b[0m\u001b[1;34m'p'\u001b[0m\u001b[1;33m)\u001b[0m\u001b[1;33m\u001b[0m\u001b[0m\n\u001b[1;32m----> 3\u001b[1;33m \u001b[1;32mprint\u001b[0m \u001b[0ms\u001b[0m\u001b[1;33m.\u001b[0m\u001b[0mindex\u001b[0m\u001b[1;33m(\u001b[0m\u001b[1;34m'P'\u001b[0m\u001b[1;33m)\u001b[0m\u001b[1;33m\u001b[0m\u001b[0m\n\u001b[0m\u001b[0;32m      4\u001b[0m \u001b[1;32mprint\u001b[0m \u001b[0ms\u001b[0m\u001b[1;33m.\u001b[0m\u001b[0mrfind\u001b[0m\u001b[1;33m(\u001b[0m\u001b[1;34m'P'\u001b[0m\u001b[1;33m)\u001b[0m\u001b[1;33m\u001b[0m\u001b[0m\n\u001b[0;32m      5\u001b[0m \u001b[1;32mprint\u001b[0m \u001b[0ms\u001b[0m\u001b[1;33m.\u001b[0m\u001b[0mindex\u001b[0m\u001b[1;33m(\u001b[0m\u001b[1;34m'P'\u001b[0m\u001b[1;33m)\u001b[0m\u001b[1;33m\u001b[0m\u001b[0m\n",
      "\u001b[1;31mValueError\u001b[0m: substring not found"
     ]
    }
   ],
   "source": [
    "s='python program'\n",
    "print s.find('p')\n",
    "print s.index('P')\n",
    "print s.rfind('P')\n",
    "print s.index('P')"
   ]
  },
  {
   "cell_type": "code",
   "execution_count": 6,
   "metadata": {},
   "outputs": [
    {
     "name": "stdout",
     "output_type": "stream",
     "text": [
      "15\n"
     ]
    }
   ],
   "source": [
    "s='python program'\n",
    "print s.count('')"
   ]
  },
  {
   "cell_type": "code",
   "execution_count": 7,
   "metadata": {},
   "outputs": [
    {
     "name": "stdout",
     "output_type": "stream",
     "text": [
      "Python program\n",
      "Python Program\n"
     ]
    }
   ],
   "source": [
    "s='python program'\n",
    "print s.capitalize()\n",
    "print s.title()"
   ]
  },
  {
   "cell_type": "code",
   "execution_count": 8,
   "metadata": {},
   "outputs": [
    {
     "name": "stdout",
     "output_type": "stream",
     "text": [
      "Py2thon pro$gram\n",
      "Py2Thon Pro$Gram\n"
     ]
    }
   ],
   "source": [
    "s='py2thon pro$Gram'\n",
    "print s.capitalize()\n",
    "print s.title()"
   ]
  },
  {
   "cell_type": "code",
   "execution_count": 11,
   "metadata": {},
   "outputs": [
    {
     "name": "stdout",
     "output_type": "stream",
     "text": [
      "python\n"
     ]
    }
   ],
   "source": [
    "l='python'\n",
    "req=''\n",
    "for i in l:\n",
    "    req=req+i\n",
    "print req"
   ]
  },
  {
   "cell_type": "code",
   "execution_count": 16,
   "metadata": {},
   "outputs": [
    {
     "name": "stdout",
     "output_type": "stream",
     "text": [
      "apple+Orange+banana+pine\n"
     ]
    }
   ],
   "source": [
    "l=[\"apple\",\"Orange\",\"banana\",\"pine\"]\n",
    "print '+'.join(l)"
   ]
  },
  {
   "cell_type": "code",
   "execution_count": 20,
   "metadata": {},
   "outputs": [
    {
     "name": "stdout",
     "output_type": "stream",
     "text": [
      "apple+orange+banana+pine\n"
     ]
    }
   ],
   "source": [
    "l=[\"apple\",'orange','banana','pine']\n",
    "req=''\n",
    "for i in l:\n",
    "    req=req+'+'+i\n",
    "    req=req.strip('+')\n",
    "print req"
   ]
  },
  {
   "cell_type": "code",
   "execution_count": 25,
   "metadata": {},
   "outputs": [
    {
     "name": "stdout",
     "output_type": "stream",
     "text": [
      "Enter Str0101013031\n",
      "****0101013031\n"
     ]
    }
   ],
   "source": [
    "n=raw_input(\"Enter Str\")\n",
    "l=len(n)\n",
    "if l<6:\n",
    "    print '0'*(6-l)+ n\n",
    "else:\n",
    "    print '*'*(l-6)+n"
   ]
  },
  {
   "cell_type": "code",
   "execution_count": 27,
   "metadata": {},
   "outputs": [
    {
     "name": "stdout",
     "output_type": "stream",
     "text": [
      "Enter Str2224\n",
      "002224\n"
     ]
    }
   ],
   "source": [
    "n=raw_input(\"Enter Str\")\n",
    "l=len(n)\n",
    "if l<6:\n",
    "    print '0'*(6-l)+ n\n",
    "else:\n",
    "    print n"
   ]
  },
  {
   "cell_type": "code",
   "execution_count": 32,
   "metadata": {},
   "outputs": [
    {
     "name": "stdout",
     "output_type": "stream",
     "text": [
      "it has spl characters\n"
     ]
    }
   ],
   "source": [
    "s='python!'\n",
    "if s.isalnum():\n",
    "    if s.isalpha() and s.isdigit():\n",
    "        print 'it has digits '\n",
    "    elif s.isalpha() and s.isdigit():\n",
    "        print 'it has numericals'\n",
    "else:\n",
    "    print 'it has spl characters'"
   ]
  },
  {
   "cell_type": "code",
   "execution_count": 37,
   "metadata": {},
   "outputs": [
    {
     "name": "stdout",
     "output_type": "stream",
     "text": [
      "it has alpha\n"
     ]
    }
   ],
   "source": [
    "s='python'\n",
    "if s.isalnum():\n",
    "    if s.isalpha() and s.isdigit():\n",
    "        print 'it has alnum '\n",
    "    elif s.isalpha():\n",
    "        print 'it has alpha'\n",
    "    else:\n",
    "        print 'it has numericals'\n",
    "else:\n",
    "    print 'it has spl characters'"
   ]
  },
  {
   "cell_type": "code",
   "execution_count": 45,
   "metadata": {},
   "outputs": [
    {
     "name": "stdout",
     "output_type": "stream",
     "text": [
      "Enter String:1234\n",
      "it has alnum \n",
      "it has numericals\n"
     ]
    }
   ],
   "source": [
    "s=raw_input(\"Enter String:\")\n",
    "if s.isalnum():\n",
    "    print 'it has alnum '\n",
    "    if s.isalpha():\n",
    "        print 'it has alpha'\n",
    "    elif s.isdigit():\n",
    "        print 'it has numericals'\n",
    "else:\n",
    "    print 'it has spl characters'"
   ]
  },
  {
   "cell_type": "code",
   "execution_count": 46,
   "metadata": {},
   "outputs": [
    {
     "name": "stdout",
     "output_type": "stream",
     "text": [
      "python pro\n"
     ]
    }
   ],
   "source": [
    "s='python program'\n",
    "print s[0:10]"
   ]
  },
  {
   "cell_type": "code",
   "execution_count": 47,
   "metadata": {},
   "outputs": [
    {
     "name": "stdout",
     "output_type": "stream",
     "text": [
      "python program\n"
     ]
    }
   ],
   "source": [
    "s='python program'\n",
    "print s[0:14]"
   ]
  },
  {
   "cell_type": "code",
   "execution_count": 48,
   "metadata": {},
   "outputs": [
    {
     "name": "stdout",
     "output_type": "stream",
     "text": [
      "python program\n"
     ]
    }
   ],
   "source": [
    "s='python program'\n",
    "print s[0:16]"
   ]
  },
  {
   "cell_type": "code",
   "execution_count": 50,
   "metadata": {},
   "outputs": [
    {
     "name": "stdout",
     "output_type": "stream",
     "text": [
      "\n"
     ]
    }
   ],
   "source": [
    "s='python program'\n",
    "print s[0:-16]"
   ]
  },
  {
   "cell_type": "code",
   "execution_count": 51,
   "metadata": {},
   "outputs": [
    {
     "name": "stdout",
     "output_type": "stream",
     "text": [
      "p\n"
     ]
    }
   ],
   "source": [
    "s='python program'\n",
    "print s[0:1:2]"
   ]
  },
  {
   "cell_type": "code",
   "execution_count": 52,
   "metadata": {},
   "outputs": [
    {
     "name": "stdout",
     "output_type": "stream",
     "text": [
      "pto r\n"
     ]
    }
   ],
   "source": [
    "s='python program'\n",
    "print s[0:10:2]"
   ]
  },
  {
   "cell_type": "code",
   "execution_count": 53,
   "metadata": {},
   "outputs": [
    {
     "name": "stdout",
     "output_type": "stream",
     "text": [
      "\n"
     ]
    }
   ],
   "source": [
    "s='python program'\n",
    "print s[0:10:-2]"
   ]
  },
  {
   "cell_type": "code",
   "execution_count": 54,
   "metadata": {},
   "outputs": [
    {
     "name": "stdout",
     "output_type": "stream",
     "text": [
      "python progr\n"
     ]
    }
   ],
   "source": [
    "s='python program'\n",
    "print s[0:-2]"
   ]
  },
  {
   "cell_type": "code",
   "execution_count": 55,
   "metadata": {},
   "outputs": [
    {
     "name": "stdout",
     "output_type": "stream",
     "text": [
      "\n"
     ]
    }
   ],
   "source": [
    "s='python program'\n",
    "print s[-1:10:2]"
   ]
  },
  {
   "cell_type": "code",
   "execution_count": 56,
   "metadata": {},
   "outputs": [
    {
     "name": "stdout",
     "output_type": "stream",
     "text": [
      "pt\n"
     ]
    }
   ],
   "source": [
    "s='python program'\n",
    "print s[0:-10:2]"
   ]
  },
  {
   "cell_type": "code",
   "execution_count": 59,
   "metadata": {},
   "outputs": [
    {
     "name": "stdout",
     "output_type": "stream",
     "text": [
      "pto rgas\n"
     ]
    }
   ],
   "source": [
    "s='python programsw'\n",
    "print s[0:-1:2]"
   ]
  },
  {
   "cell_type": "code",
   "execution_count": 60,
   "metadata": {},
   "outputs": [
    {
     "name": "stdout",
     "output_type": "stream",
     "text": [
      "\n"
     ]
    }
   ],
   "source": [
    "s='python programsw'\n",
    "print s[0:-1:-2]"
   ]
  },
  {
   "cell_type": "code",
   "execution_count": 62,
   "metadata": {},
   "outputs": [
    {
     "name": "stdout",
     "output_type": "stream",
     "text": [
      "pto rga\n"
     ]
    }
   ],
   "source": [
    "s='python programsw'\n",
    "print s[0:14:2]"
   ]
  },
  {
   "cell_type": "code",
   "execution_count": 63,
   "metadata": {},
   "outputs": [
    {
     "name": "stdout",
     "output_type": "stream",
     "text": [
      "\n"
     ]
    }
   ],
   "source": [
    "s='python programsw'\n",
    "print s[-1:14:2]"
   ]
  },
  {
   "cell_type": "code",
   "execution_count": 64,
   "metadata": {},
   "outputs": [
    {
     "name": "stdout",
     "output_type": "stream",
     "text": [
      "gr\n"
     ]
    }
   ],
   "source": [
    "s='python programsw'\n",
    "print s[10:12]"
   ]
  },
  {
   "cell_type": "code",
   "execution_count": 65,
   "metadata": {},
   "outputs": [
    {
     "name": "stdout",
     "output_type": "stream",
     "text": [
      "gorp noh\n"
     ]
    }
   ],
   "source": [
    "s='python programsw'\n",
    "print s[10:2:-1]"
   ]
  },
  {
   "cell_type": "code",
   "execution_count": 66,
   "metadata": {},
   "outputs": [
    {
     "name": "stdout",
     "output_type": "stream",
     "text": [
      "\n"
     ]
    }
   ],
   "source": [
    "s='python program'\n",
    "print s[-10:2]"
   ]
  },
  {
   "cell_type": "code",
   "execution_count": 67,
   "metadata": {},
   "outputs": [
    {
     "name": "stdout",
     "output_type": "stream",
     "text": [
      "on\n"
     ]
    }
   ],
   "source": [
    "s='python program'\n",
    "print s[-10:6]"
   ]
  },
  {
   "cell_type": "code",
   "execution_count": 68,
   "metadata": {},
   "outputs": [
    {
     "name": "stdout",
     "output_type": "stream",
     "text": [
      "oh\n"
     ]
    }
   ],
   "source": [
    "s='python program'\n",
    "print s[-10:2:-1]"
   ]
  },
  {
   "cell_type": "code",
   "execution_count": 69,
   "metadata": {},
   "outputs": [
    {
     "name": "stdout",
     "output_type": "stream",
     "text": [
      "\n"
     ]
    }
   ],
   "source": [
    "s='python program'\n",
    "print s[-10:6:-1]"
   ]
  },
  {
   "cell_type": "code",
   "execution_count": 70,
   "metadata": {},
   "outputs": [
    {
     "name": "stdout",
     "output_type": "stream",
     "text": [
      "margorp nohtyp\n"
     ]
    }
   ],
   "source": [
    "s='python program'\n",
    "print s[::-1]"
   ]
  },
  {
   "cell_type": "code",
   "execution_count": 71,
   "metadata": {},
   "outputs": [
    {
     "name": "stdout",
     "output_type": "stream",
     "text": [
      "p\n"
     ]
    }
   ],
   "source": [
    "s='python program'\n",
    "print s[0::-1]"
   ]
  },
  {
   "cell_type": "code",
   "execution_count": 72,
   "metadata": {},
   "outputs": [
    {
     "name": "stdout",
     "output_type": "stream",
     "text": [
      "python program\n"
     ]
    }
   ],
   "source": [
    "s='python program'\n",
    "print s[0::1]"
   ]
  },
  {
   "cell_type": "code",
   "execution_count": null,
   "metadata": {},
   "outputs": [],
   "source": []
  }
 ],
 "metadata": {
  "kernelspec": {
   "display_name": "Python 2",
   "language": "python",
   "name": "python2"
  },
  "language_info": {
   "codemirror_mode": {
    "name": "ipython",
    "version": 2
   },
   "file_extension": ".py",
   "mimetype": "text/x-python",
   "name": "python",
   "nbconvert_exporter": "python",
   "pygments_lexer": "ipython2",
   "version": "2.7.15"
  }
 },
 "nbformat": 4,
 "nbformat_minor": 2
}
