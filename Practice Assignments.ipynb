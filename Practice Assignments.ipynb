{
 "cells": [
  {
   "cell_type": "code",
   "execution_count": 1,
   "metadata": {},
   "outputs": [
    {
     "name": "stdout",
     "output_type": "stream",
     "text": [
      "[10, 20, 30, 40, 50, 60, 70, 80, 100, 200, 1000, 10000]\n",
      "12\n"
     ]
    }
   ],
   "source": [
    "#Convert this list as single dimensional list\n",
    "l=[10,20,[30,40,50],[60,70,80,[100,200],1000],10000]\n",
    "s=[]\n",
    "for i in l:\n",
    "    if type(i) == list:\n",
    "        for j in i:\n",
    "            if type(j)==list:\n",
    "                for k in j:\n",
    "                    if type(k)== int:\n",
    "                        s.append(k)\n",
    "            else:\n",
    "                s.append(j)\n",
    "    elif type(i) == int:\n",
    "        s.append(i)\n",
    "print s\n",
    "print len(s)"
   ]
  },
  {
   "cell_type": "code",
   "execution_count": 7,
   "metadata": {},
   "outputs": [
    {
     "name": "stdout",
     "output_type": "stream",
     "text": [
      "count of G 1\n",
      "count of o 2\n",
      "count of o 2\n",
      "count of g 1\n",
      "count of l 1\n",
      "count of e 1\n"
     ]
    }
   ],
   "source": [
    "#input: \"Google\" print count of each character\n",
    "str=\"Google\"\n",
    "for i in str:\n",
    "    print \"count of %s\"%i,str.count(i)"
   ]
  },
  {
   "cell_type": "code",
   "execution_count": 6,
   "metadata": {},
   "outputs": [
    {
     "name": "stdout",
     "output_type": "stream",
     "text": [
      "1\n"
     ]
    }
   ],
   "source": [
    "str=\"Google\"\n",
    "print str.count(\"G\")"
   ]
  },
  {
   "cell_type": "code",
   "execution_count": 19,
   "metadata": {},
   "outputs": [
    {
     "name": "stdout",
     "output_type": "stream",
     "text": [
      "<type 'list'>\n",
      "<type 'str'>\n"
     ]
    }
   ],
   "source": [
    "#l=[1,2,3]\n",
    "l=['a','b','c']\n",
    "k= [i for i in l]\n",
    "print type(k)\n",
    "s=''.join(k)\n",
    "print type(s)"
   ]
  },
  {
   "cell_type": "code",
   "execution_count": 20,
   "metadata": {},
   "outputs": [
    {
     "name": "stdout",
     "output_type": "stream",
     "text": [
      "['A', 'B', 'C', 'D', 'a', 'b', 'c', 'd']\n"
     ]
    }
   ],
   "source": [
    "#l=['a','A','b','B','d','D','c','C']  sort the list properly\n",
    "l=['a','A','b','B','d','D','c','C']\n",
    "l.sort()\n",
    "print l"
   ]
  },
  {
   "cell_type": "code",
   "execution_count": 32,
   "metadata": {},
   "outputs": [
    {
     "name": "stdout",
     "output_type": "stream",
     "text": [
      "Count of A is 1\n",
      "Count of B is 1\n",
      "Count of C is 1\n",
      "Count of D is 1\n",
      "Count of a is 1\n",
      "Count of b is 1\n",
      "Count of c is 1\n",
      "Count of d is 1\n",
      "Count of A is 1\n",
      "Count of B is 1\n",
      "Count of C is 1\n",
      "Count of D is 1\n",
      "Count of A is 1\n",
      "Count of B is 1\n",
      "Count of C is 1\n",
      "Count of D is 1\n"
     ]
    }
   ],
   "source": [
    "# l=['a','A','b','B','d','D','c','C'] WAP to find out case insensitive count and case insensitive search for an element.\n",
    "l=['a','A','b','B','d','D','c','C']\n",
    "l.sort()\n",
    "for i in l:\n",
    "    print 'Count of %s is'%i ,l.count(i)\n",
    "l1= (i.upper() for i in l)\n",
    "#print l1\n",
    "for i in l1:\n",
    "    print 'Count of %s is'%i ,l.count(i)"
   ]
  },
  {
   "cell_type": "code",
   "execution_count": 26,
   "metadata": {},
   "outputs": [
    {
     "name": "stdout",
     "output_type": "stream",
     "text": [
      "1\n",
      "1\n",
      "1\n",
      "1\n",
      "1\n",
      "1\n",
      "1\n",
      "1\n"
     ]
    }
   ],
   "source": [
    "l=['a','A','b','B','d','D','c','C']\n",
    "for i in l:\n",
    "    print l.count(i.upper())"
   ]
  },
  {
   "cell_type": "code",
   "execution_count": 33,
   "metadata": {},
   "outputs": [
    {
     "name": "stdout",
     "output_type": "stream",
     "text": [
      "set([1, 2, 3, 4, 5, 6, 7])\n"
     ]
    }
   ],
   "source": [
    "#WAP to find union and intersection of lists\n",
    "l1={1,2,3,4,5}\n",
    "l2={4,5,6,7}\n",
    "print l1.union(l2)"
   ]
  },
  {
   "cell_type": "code",
   "execution_count": 36,
   "metadata": {},
   "outputs": [
    {
     "name": "stdout",
     "output_type": "stream",
     "text": [
      "set([4, 5])\n",
      "set([4, 5])\n",
      "set([1, 2, 3])\n",
      "set([6, 7])\n"
     ]
    }
   ],
   "source": [
    "#WAP to find union and intersection of lists\n",
    "l1={1,2,3,4,5}\n",
    "l2={4,5,6,7}\n",
    "print l1.intersection(l2)\n",
    "print l2.intersection(l1)\n",
    "print l1.difference(l2)\n",
    "print l2.difference(l1)"
   ]
  },
  {
   "cell_type": "code",
   "execution_count": 37,
   "metadata": {},
   "outputs": [
    {
     "name": "stdout",
     "output_type": "stream",
     "text": [
      "[1, 2, 3, 4]\n"
     ]
    }
   ],
   "source": [
    "#78.\tinput: fun(5) output: [1,2,3,4,3,2,1]\n",
    "def fun(a):\n",
    "    l=[]\n",
    "    for i in range(a):\n",
    "         if i> 0:\n",
    "            l.append(i)\n",
    "    print l\n",
    "fun(5)"
   ]
  },
  {
   "cell_type": "code",
   "execution_count": 40,
   "metadata": {},
   "outputs": [
    {
     "name": "stdout",
     "output_type": "stream",
     "text": [
      "[1, 1, 2, 2, 3, 3, 3, 4, 4]\n",
      "[1, 2, 3, 4]\n"
     ]
    }
   ],
   "source": [
    "#80.\tRemove duplicates from the list: a=[1,2,3,2,3,4,1,3,4]\n",
    "a=[1,2,3,2,3,4,1,3,4]\n",
    "a.sort()\n",
    "print a\n",
    "for i in a:\n",
    "    a.remove(i)\n",
    "print a\n"
   ]
  },
  {
   "cell_type": "code",
   "execution_count": 43,
   "metadata": {},
   "outputs": [
    {
     "name": "stdout",
     "output_type": "stream",
     "text": [
      "6\n"
     ]
    }
   ],
   "source": [
    "#81.\tl=['1','2','3'] get the sum of the list\n",
    "l=['1','2','3']\n",
    "Sum = 0\n",
    "for i in l:\n",
    "    Sum = Sum + int(i)\n",
    "print Sum"
   ]
  },
  {
   "cell_type": "code",
   "execution_count": 46,
   "metadata": {},
   "outputs": [
    {
     "name": "stdout",
     "output_type": "stream",
     "text": [
      "[1, 2, 3, 4, 5, 6, 7, 8] <type 'list'>\n"
     ]
    }
   ],
   "source": [
    "#l1=[1,2,3,4] l2=[5,6,7,8] sum of two lists\n",
    "l1=[1,2,3,4]\n",
    "l2=[5,6,7,8]\n",
    "l3 = l1+l2\n",
    "print l3,type(l3)"
   ]
  },
  {
   "cell_type": "code",
   "execution_count": 50,
   "metadata": {},
   "outputs": [
    {
     "name": "stdout",
     "output_type": "stream",
     "text": [
      "{'e': 1, 'o': 2, 'g': 2, 'l': 1}\n"
     ]
    }
   ],
   "source": [
    "l=\"google\"\n",
    "d={}\n",
    "for i in l:\n",
    "    key = i\n",
    "    value = l.count(i)\n",
    "    d.update({key:value})\n",
    "print d"
   ]
  },
  {
   "cell_type": "code",
   "execution_count": 51,
   "metadata": {},
   "outputs": [
    {
     "name": "stdout",
     "output_type": "stream",
     "text": [
      "<type 'list'>\n"
     ]
    }
   ],
   "source": [
    "l=[(\"mohan\", 80), (\"satish\", 90), (\"purnesh\", 40), (\"venkat\", 30)]\n",
    "print type(l)"
   ]
  },
  {
   "cell_type": "code",
   "execution_count": 52,
   "metadata": {},
   "outputs": [
    {
     "name": "stdout",
     "output_type": "stream",
     "text": [
      "[('mohan', 80), ('purnesh', 40), ('satish', 90), ('venkat', 30)]\n"
     ]
    }
   ],
   "source": [
    "l=[(\"mohan\", 80), (\"satish\", 90), (\"purnesh\", 40), (\"venkat\", 30)]\n",
    "l.sort()\n",
    "print l"
   ]
  },
  {
   "cell_type": "code",
   "execution_count": 58,
   "metadata": {},
   "outputs": [
    {
     "name": "stdout",
     "output_type": "stream",
     "text": [
      "[('mohan', 80), ('purnesh', 40), ('satish', 90), ('venkat', 30)]\n"
     ]
    }
   ],
   "source": [
    "l=[(\"mohan\", 80), (\"satish\", 90), (\"purnesh\", 40), (\"venkat\", 30)]\n",
    "l.sort(reverse=False)\n",
    "print l"
   ]
  },
  {
   "cell_type": "code",
   "execution_count": 100,
   "metadata": {},
   "outputs": [
    {
     "name": "stdout",
     "output_type": "stream",
     "text": [
      "[('mohan', 80), ('purnesh', 40), ('satish', 90), ('venkat', 30)]\n"
     ]
    }
   ],
   "source": [
    "from operator import itemgetter\n",
    "l=[(\"mohan\", 80), (\"satish\", 90), (\"purnesh\", 40), (\"venkat\", 30)]\n",
    "l=sorted(l,key=itemgetter(0))\n",
    "print l"
   ]
  },
  {
   "cell_type": "code",
   "execution_count": 99,
   "metadata": {},
   "outputs": [
    {
     "name": "stdout",
     "output_type": "stream",
     "text": [
      "[('venkat', 30), ('purnesh', 40), ('mohan', 80), ('satish', 90)]\n"
     ]
    }
   ],
   "source": [
    "#Sort the list marks = [(\"mohan\", 80), (\"satish\", 90), (\"purnesh\", 40), (\"venkat\", 30)] according to descending order of marks\n",
    "from operator import itemgetter\n",
    "l=[(\"mohan\", 80), (\"satish\", 90), (\"purnesh\", 40), (\"venkat\", 30)]\n",
    "l= sorted(l, key=itemgetter(1))\n",
    "print l"
   ]
  },
  {
   "cell_type": "code",
   "execution_count": 1,
   "metadata": {},
   "outputs": [
    {
     "data": {
      "text/plain": [
       "[20, 30, 40, 50]"
      ]
     },
     "execution_count": 1,
     "metadata": {},
     "output_type": "execute_result"
    }
   ],
   "source": [
    "#Assignment without using For , add 10 to every element\n",
    "l=[10,20,30,40]\n",
    "map(lambda x:x+10, l)"
   ]
  },
  {
   "cell_type": "code",
   "execution_count": 7,
   "metadata": {},
   "outputs": [
    {
     "name": "stdout",
     "output_type": "stream",
     "text": [
      "[10, 20, 30, 40, 50, 50, 50, 60, 70, 70]\n"
     ]
    }
   ],
   "source": [
    "#95.\tWAP to remove n occurrences of specified element from a list\n",
    "l=[10,20,30,40,50,50,50,60,70,70,70,70]\n",
    "def remele(x,y):\n",
    "    r= l.count(x)\n",
    "    #print r\n",
    "    while y>0:\n",
    "        l.remove(x)\n",
    "        y=y-1\n",
    "    print l\n",
    "remele(70,2)\n",
    "    \n",
    "\n"
   ]
  },
  {
   "cell_type": "code",
   "execution_count": 4,
   "metadata": {},
   "outputs": [
    {
     "name": "stdout",
     "output_type": "stream",
     "text": [
      "[10, 20, 30, 40, 50, 50, 50, 60, 70, 70, 70]\n"
     ]
    }
   ],
   "source": [
    "l=[10,20,30,40,50,50,50,60,70,70,70,70]\n",
    "l.remove(70)\n",
    "print l"
   ]
  },
  {
   "cell_type": "code",
   "execution_count": 11,
   "metadata": {},
   "outputs": [
    {
     "name": "stdout",
     "output_type": "stream",
     "text": [
      "True\n"
     ]
    }
   ],
   "source": [
    "#96.\tcompare two lists ignore order. i.e return True l1=[1,2,3,4],l2=[4,2,3,1], fun(l1,l2)-> True\n",
    "l1=[1,2,3,4]\n",
    "l2=[4,2,3,1]\n",
    "l1.sort()\n",
    "l2.sort()\n",
    "def cmplist(l1,l2):\n",
    "    if l1==l2:\n",
    "        print 'True'\n",
    "    else:\n",
    "        print 'false'\n",
    "cmplist(l1,l2)"
   ]
  },
  {
   "cell_type": "code",
   "execution_count": 20,
   "metadata": {},
   "outputs": [
    {
     "name": "stdout",
     "output_type": "stream",
     "text": [
      "[0, 0.1, 0.2, 0.3, 0.4, 0.5, 0.6, 0.7, 0.8, 0.9]\n"
     ]
    }
   ],
   "source": [
    "#102.\tWAP to generate list of floats i.e: fun(0,1,0.1), [0,0.1,0.2,0.3,0.4,0.5,0.6,0.7,0.8,0.9]\n",
    "l=[]\n",
    "def fun(a,b,c):\n",
    "    while a<b:\n",
    "        l.append(a)\n",
    "        a=round(a+c,1)\n",
    "    print l\n",
    "fun(0,1,0.1)"
   ]
  },
  {
   "cell_type": "code",
   "execution_count": null,
   "metadata": {},
   "outputs": [],
   "source": []
  }
 ],
 "metadata": {
  "kernelspec": {
   "display_name": "Python 2",
   "language": "python",
   "name": "python2"
  },
  "language_info": {
   "codemirror_mode": {
    "name": "ipython",
    "version": 2
   },
   "file_extension": ".py",
   "mimetype": "text/x-python",
   "name": "python",
   "nbconvert_exporter": "python",
   "pygments_lexer": "ipython2",
   "version": "2.7.15"
  }
 },
 "nbformat": 4,
 "nbformat_minor": 2
}
