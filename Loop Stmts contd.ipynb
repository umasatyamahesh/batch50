{
 "cells": [
  {
   "cell_type": "code",
   "execution_count": 1,
   "metadata": {},
   "outputs": [
    {
     "name": "stdout",
     "output_type": "stream",
     "text": [
      "10\n"
     ]
    }
   ],
   "source": [
    "a=10\n",
    "print a"
   ]
  },
  {
   "cell_type": "code",
   "execution_count": 1,
   "metadata": {},
   "outputs": [
    {
     "name": "stdout",
     "output_type": "stream",
     "text": [
      "Enter str:PyThOn@!2345\n",
      "P is capital\n",
      "y is small\n",
      "T is capital\n",
      "h is small\n",
      "O is capital\n",
      "n is small\n",
      "@ is spl character\n",
      "! is spl character\n",
      "2 is numerical\n",
      "3 is numerical\n",
      "4 is numerical\n",
      "5 is numerical\n",
      "Num of Caps: 3\n",
      "Num of Small: 3\n",
      "Num of digits: 4\n",
      "Num of Spl char: 2\n"
     ]
    }
   ],
   "source": [
    "str=raw_input(\"Enter str:\")\n",
    "c=0\n",
    "d=0\n",
    "sp=0\n",
    "s=0\n",
    "if len(str)>0:\n",
    "    for i in str:\n",
    "        if ord(i)>=65 and ord(i)<=90:\n",
    "            print \"%s is capital\"%i\n",
    "            c= c+1\n",
    "        elif ord(i)>=97 and ord(i)<=122:\n",
    "            print \"%s is small\"%i\n",
    "            s=s+1\n",
    "        elif ord(i)>=49 and ord(i)<=57:\n",
    "            print \"%s is numerical\"%i\n",
    "            d=d+1\n",
    "        else:\n",
    "            print \"%s is spl character\"%i\n",
    "            sp=sp+1\n",
    "    if c>0:\n",
    "        print \"Num of Caps:\",c\n",
    "    else:\n",
    "        print \"No Caps\"\n",
    "    if s>0:\n",
    "        print \"Num of Small:\",s\n",
    "    else:\n",
    "        print \"No small\"\n",
    "    if d>0:\n",
    "        print \"Num of digits:\",d\n",
    "    else:\n",
    "        print \"No digits\"\n",
    "    if sp>0:\n",
    "        print \"Num of Spl char:\",sp\n",
    "    else:\n",
    "        print \"No Sp Char\"\n",
    "else:\n",
    "    print \"Enter a valid string\"\n"
   ]
  },
  {
   "cell_type": "code",
   "execution_count": 23,
   "metadata": {},
   "outputs": [
    {
     "data": {
      "text/plain": [
       "57"
      ]
     },
     "execution_count": 23,
     "metadata": {},
     "output_type": "execute_result"
    }
   ],
   "source": [
    "ord(\"9\")"
   ]
  },
  {
   "cell_type": "code",
   "execution_count": 38,
   "metadata": {},
   "outputs": [
    {
     "name": "stdout",
     "output_type": "stream",
     "text": [
      "Prime# 2\n",
      "Prime# 3\n",
      "Prime# 5\n",
      "Prime# 7\n"
     ]
    }
   ],
   "source": [
    "#List Prime numbers\n",
    "c=0,\n",
    "z=0\n",
    "for i in range(1,10):\n",
    "    k=0\n",
    "    for c in range(1,i+1):\n",
    "        if (i%c==0):\n",
    "            k = k+1\n",
    "    if (k==2):\n",
    "        z=z+1\n",
    "        print \"Prime#\",i\n",
    "    if (z==100):\n",
    "        break"
   ]
  },
  {
   "cell_type": "code",
   "execution_count": 41,
   "metadata": {},
   "outputs": [
    {
     "data": {
      "text/plain": [
       "[1, 2, 3, 4, 5, 6, 7, 8, 9, 10, 11]"
      ]
     },
     "execution_count": 41,
     "metadata": {},
     "output_type": "execute_result"
    }
   ],
   "source": [
    "range(1,12)"
   ]
  },
  {
   "cell_type": "code",
   "execution_count": 28,
   "metadata": {},
   "outputs": [
    {
     "name": "stdout",
     "output_type": "stream",
     "text": [
      "python\n"
     ]
    }
   ],
   "source": [
    "str='PYTHON'\n",
    "str= str.lower()\n",
    "print str"
   ]
  },
  {
   "cell_type": "code",
   "execution_count": 30,
   "metadata": {},
   "outputs": [
    {
     "name": "stdout",
     "output_type": "stream",
     "text": [
      "PYTHON\n"
     ]
    }
   ],
   "source": [
    "str='python'\n",
    "str=str.upper()\n",
    "print str"
   ]
  },
  {
   "cell_type": "code",
   "execution_count": 42,
   "metadata": {},
   "outputs": [
    {
     "name": "stdout",
     "output_type": "stream",
     "text": [
      "1\n",
      "2\n",
      "4\n",
      "5\n",
      "10\n",
      "20\n",
      "25\n",
      "50\n",
      "100\n"
     ]
    }
   ],
   "source": [
    "#37.\tDetermine the factors of a number entered  by the user\n",
    "for i in [100]:\n",
    "    for c in range(1,i+1):\n",
    "        if (i%c==0):\n",
    "            print c"
   ]
  },
  {
   "cell_type": "code",
   "execution_count": null,
   "metadata": {},
   "outputs": [],
   "source": []
  }
 ],
 "metadata": {
  "kernelspec": {
   "display_name": "Python 2",
   "language": "python",
   "name": "python2"
  },
  "language_info": {
   "codemirror_mode": {
    "name": "ipython",
    "version": 2
   },
   "file_extension": ".py",
   "mimetype": "text/x-python",
   "name": "python",
   "nbconvert_exporter": "python",
   "pygments_lexer": "ipython2",
   "version": "2.7.15"
  }
 },
 "nbformat": 4,
 "nbformat_minor": 2
}
