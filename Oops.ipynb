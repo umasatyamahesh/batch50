{
 "cells": [
  {
   "cell_type": "code",
   "execution_count": 4,
   "metadata": {},
   "outputs": [
    {
     "name": "stdout",
     "output_type": "stream",
     "text": [
      "this is class\n",
      "c1=10,c2=20,c3=30\n"
     ]
    }
   ],
   "source": [
    "class c1:\n",
    "    print \"this is class\"\n",
    "    a=10\n",
    "    b=20\n",
    "    c=30\n",
    "    def fun(c1,c2):\n",
    "        print \"c1=%s,c2=%s\"%(c1,c2)\n",
    "print \"c1=%s,c2=%s,c3=%s\"%(c1.a,c1.b,c1.c)"
   ]
  },
  {
   "cell_type": "code",
   "execution_count": 5,
   "metadata": {},
   "outputs": [
    {
     "name": "stdout",
     "output_type": "stream",
     "text": [
      "this is class\n",
      "c1=10,c2=20,c3=30\n"
     ]
    },
    {
     "ename": "TypeError",
     "evalue": "unbound method fun() must be called with c1 instance as first argument (got int instance instead)",
     "output_type": "error",
     "traceback": [
      "\u001b[1;31m---------------------------------------------------------------------------\u001b[0m",
      "\u001b[1;31mTypeError\u001b[0m                                 Traceback (most recent call last)",
      "\u001b[1;32m<ipython-input-5-8bc2cb4988b2>\u001b[0m in \u001b[0;36m<module>\u001b[1;34m()\u001b[0m\n\u001b[0;32m      7\u001b[0m         \u001b[1;32mprint\u001b[0m \u001b[1;34m\"c1=%s,c2=%s\"\u001b[0m\u001b[1;33m%\u001b[0m\u001b[1;33m(\u001b[0m\u001b[0mc1\u001b[0m\u001b[1;33m,\u001b[0m\u001b[0mc2\u001b[0m\u001b[1;33m)\u001b[0m\u001b[1;33m\u001b[0m\u001b[0m\n\u001b[0;32m      8\u001b[0m \u001b[1;32mprint\u001b[0m \u001b[1;34m\"c1=%s,c2=%s,c3=%s\"\u001b[0m\u001b[1;33m%\u001b[0m\u001b[1;33m(\u001b[0m\u001b[0mc1\u001b[0m\u001b[1;33m.\u001b[0m\u001b[0ma\u001b[0m\u001b[1;33m,\u001b[0m\u001b[0mc1\u001b[0m\u001b[1;33m.\u001b[0m\u001b[0mb\u001b[0m\u001b[1;33m,\u001b[0m\u001b[0mc1\u001b[0m\u001b[1;33m.\u001b[0m\u001b[0mc\u001b[0m\u001b[1;33m)\u001b[0m\u001b[1;33m\u001b[0m\u001b[0m\n\u001b[1;32m----> 9\u001b[1;33m \u001b[0mc1\u001b[0m\u001b[1;33m.\u001b[0m\u001b[0mfun\u001b[0m\u001b[1;33m(\u001b[0m\u001b[1;36m60\u001b[0m\u001b[1;33m,\u001b[0m\u001b[1;36m70\u001b[0m\u001b[1;33m)\u001b[0m\u001b[1;33m\u001b[0m\u001b[0m\n\u001b[0m",
      "\u001b[1;31mTypeError\u001b[0m: unbound method fun() must be called with c1 instance as first argument (got int instance instead)"
     ]
    }
   ],
   "source": [
    "class c1:\n",
    "    print \"this is class\"\n",
    "    a=10\n",
    "    b=20\n",
    "    c=30\n",
    "    def fun(c1,c2):\n",
    "        print \"c1=%s,c2=%s\"%(c1,c2)\n",
    "print \"c1=%s,c2=%s,c3=%s\"%(c1.a,c1.b,c1.c)\n",
    "c1.fun(60,70)"
   ]
  },
  {
   "cell_type": "code",
   "execution_count": 6,
   "metadata": {},
   "outputs": [
    {
     "name": "stdout",
     "output_type": "stream",
     "text": [
      "this is class\n",
      "c1=10,c2=20,c3=30\n",
      "c1=<__main__.c1 instance at 0x000000000574DE08>,c2=70\n"
     ]
    }
   ],
   "source": [
    "class c1:\n",
    "    print \"this is class\"\n",
    "    a=10\n",
    "    b=20\n",
    "    c=30\n",
    "    def fun(c1,c2):\n",
    "        print \"c1=%s,c2=%s\"%(c1,c2)\n",
    "print \"c1=%s,c2=%s,c3=%s\"%(c1.a,c1.b,c1.c)\n",
    "o1=c1()\n",
    "c1.fun(o1,70)"
   ]
  },
  {
   "cell_type": "code",
   "execution_count": 2,
   "metadata": {},
   "outputs": [
    {
     "name": "stdout",
     "output_type": "stream",
     "text": [
      "this is class\n",
      "c1=10,c2=20,c3=30\n",
      "c1=<__main__.c1 instance at 0x000000000511CE88>,c2=70\n",
      "using instance\n",
      "10 20 30\n",
      "c1=<__main__.c1 instance at 0x000000000511CE88>,c2=70\n",
      "None\n"
     ]
    }
   ],
   "source": [
    "class c1:\n",
    "    print \"this is class\"\n",
    "    a=10\n",
    "    b=20\n",
    "    c=30\n",
    "    def fun(c1,c2):\n",
    "        print \"c1=%s,c2=%s\"%(c1,c2)\n",
    "print \"c1=%s,c2=%s,c3=%s\"%(c1.a,c1.b,c1.c)\n",
    "o1=c1()\n",
    "#c1 is a class object.It is created during execution of class definition.\n",
    "#o1 is a data object.It is an instance of c1 and reference of data object created during object creation o1=c1()\n",
    "c1.fun(o1,70)\n",
    "print 'using instance'\n",
    "print o1.a,o1.b,o1.c\n",
    "print o1.fun(70)"
   ]
  },
  {
   "cell_type": "code",
   "execution_count": 1,
   "metadata": {},
   "outputs": [
    {
     "name": "stdout",
     "output_type": "stream",
     "text": [
      "anil kumar 23\n",
      "Jayakumar 27\n"
     ]
    }
   ],
   "source": [
    "class emp():\n",
    "    def get(e1):\n",
    "        print e1.name,e1.age\n",
    "anil=emp()\n",
    "anil.name=\"anil kumar\"\n",
    "anil.age=23\n",
    "anil.doj=\"2018-10-26\"\n",
    "jay=emp()\n",
    "jay.name=\"Jayakumar\"\n",
    "jay.age=27\n",
    "emp.get(anil)\n",
    "emp.get(jay)"
   ]
  },
  {
   "cell_type": "code",
   "execution_count": 2,
   "metadata": {},
   "outputs": [
    {
     "name": "stdout",
     "output_type": "stream",
     "text": [
      "Jayakumar 27\n",
      "anil kumar 23\n"
     ]
    }
   ],
   "source": [
    "class emp():\n",
    "    def get(e1):\n",
    "        print e1.name,e1.age\n",
    "anil=emp()\n",
    "anil.name=\"anil kumar\"\n",
    "anil.age=23\n",
    "anil.doj=\"2018-10-26\"\n",
    "jay=emp()\n",
    "jay.name=\"Jayakumar\"\n",
    "jay.age=27\n",
    "#emp.get(anil)\n",
    "#emp.get(jay)\n",
    "jay.get()\n",
    "anil.get()"
   ]
  },
  {
   "cell_type": "code",
   "execution_count": 8,
   "metadata": {},
   "outputs": [
    {
     "name": "stdout",
     "output_type": "stream",
     "text": [
      "Jayakumar 27 2018-01-22\n",
      "anil kumar 23 2018-10-26\n"
     ]
    }
   ],
   "source": [
    "class emp():\n",
    "    def get(e1):\n",
    "        print e1.name,e1.age,e1.doj\n",
    "anil=emp()\n",
    "anil.name=\"anil kumar\"\n",
    "anil.age=23\n",
    "anil.doj=\"2018-10-26\"\n",
    "jay=emp()\n",
    "jay.name=\"Jayakumar\"\n",
    "jay.age=27\n",
    "jay.doj=\"2018-01-22\"\n",
    "#emp.get(anil)\n",
    "#emp.get(jay)\n",
    "jay.get()\n",
    "anil.get()"
   ]
  },
  {
   "cell_type": "code",
   "execution_count": 4,
   "metadata": {},
   "outputs": [
    {
     "name": "stdout",
     "output_type": "stream",
     "text": [
      "Jayakumar 27\n",
      "anil kumar 23\n"
     ]
    },
    {
     "ename": "AttributeError",
     "evalue": "class emp has no attribute 'name'",
     "output_type": "error",
     "traceback": [
      "\u001b[1;31m---------------------------------------------------------------------------\u001b[0m",
      "\u001b[1;31mAttributeError\u001b[0m                            Traceback (most recent call last)",
      "\u001b[1;32m<ipython-input-4-5f5958d07908>\u001b[0m in \u001b[0;36m<module>\u001b[1;34m()\u001b[0m\n\u001b[0;32m     13\u001b[0m \u001b[0mjay\u001b[0m\u001b[1;33m.\u001b[0m\u001b[0mget\u001b[0m\u001b[1;33m(\u001b[0m\u001b[1;33m)\u001b[0m\u001b[1;33m\u001b[0m\u001b[0m\n\u001b[0;32m     14\u001b[0m \u001b[0manil\u001b[0m\u001b[1;33m.\u001b[0m\u001b[0mget\u001b[0m\u001b[1;33m(\u001b[0m\u001b[1;33m)\u001b[0m\u001b[1;33m\u001b[0m\u001b[0m\n\u001b[1;32m---> 15\u001b[1;33m \u001b[1;32mprint\u001b[0m \u001b[0memp\u001b[0m\u001b[1;33m.\u001b[0m\u001b[0mname\u001b[0m\u001b[1;33m\u001b[0m\u001b[0m\n\u001b[0m",
      "\u001b[1;31mAttributeError\u001b[0m: class emp has no attribute 'name'"
     ]
    }
   ],
   "source": [
    "class emp():\n",
    "    def get(e1):\n",
    "        print e1.name,e1.age\n",
    "anil=emp()\n",
    "anil.name=\"anil kumar\"\n",
    "anil.age=23\n",
    "anil.doj=\"2018-10-26\"\n",
    "jay=emp()\n",
    "jay.name=\"Jayakumar\"\n",
    "jay.age=27\n",
    "#emp.get(anil)\n",
    "#emp.get(jay)\n",
    "jay.get()\n",
    "anil.get()\n",
    "print emp.name"
   ]
  },
  {
   "cell_type": "code",
   "execution_count": 7,
   "metadata": {},
   "outputs": [
    {
     "name": "stdout",
     "output_type": "stream",
     "text": [
      "Jayakumar 27 KHYAATHI\n",
      "anil kumar 23 KHYAATHI\n",
      "KHYAATHI\n"
     ]
    },
    {
     "ename": "AttributeError",
     "evalue": "class emp has no attribute 'anil'",
     "output_type": "error",
     "traceback": [
      "\u001b[1;31m---------------------------------------------------------------------------\u001b[0m",
      "\u001b[1;31mAttributeError\u001b[0m                            Traceback (most recent call last)",
      "\u001b[1;32m<ipython-input-7-df18ba0734e8>\u001b[0m in \u001b[0;36m<module>\u001b[1;34m()\u001b[0m\n\u001b[0;32m     16\u001b[0m \u001b[0manil\u001b[0m\u001b[1;33m.\u001b[0m\u001b[0mget\u001b[0m\u001b[1;33m(\u001b[0m\u001b[1;33m)\u001b[0m\u001b[1;33m\u001b[0m\u001b[0m\n\u001b[0;32m     17\u001b[0m \u001b[1;32mprint\u001b[0m \u001b[0memp\u001b[0m\u001b[1;33m.\u001b[0m\u001b[0mcompany_name\u001b[0m\u001b[1;33m\u001b[0m\u001b[0m\n\u001b[1;32m---> 18\u001b[1;33m \u001b[1;32mprint\u001b[0m \u001b[0memp\u001b[0m\u001b[1;33m.\u001b[0m\u001b[0manil\u001b[0m\u001b[1;33m.\u001b[0m\u001b[0mname\u001b[0m\u001b[1;33m\u001b[0m\u001b[0m\n\u001b[0m",
      "\u001b[1;31mAttributeError\u001b[0m: class emp has no attribute 'anil'"
     ]
    }
   ],
   "source": [
    "#Class Var can be binded and reference in method using data objects but viceversa is not possible.\n",
    "class emp():\n",
    "    company_name=\"KHYAATHI\"\n",
    "    def get(e1):\n",
    "        print e1.name,e1.age,e1.company_name\n",
    "anil=emp()\n",
    "anil.name=\"anil kumar\"\n",
    "anil.age=23\n",
    "anil.doj=\"2018-10-26\"\n",
    "jay=emp()\n",
    "jay.name=\"Jayakumar\"\n",
    "jay.age=27\n",
    "#emp.get(anil)\n",
    "#emp.get(jay)\n",
    "jay.get()\n",
    "anil.get()\n",
    "print emp.company_name\n",
    "print emp.anil.name"
   ]
  },
  {
   "cell_type": "code",
   "execution_count": 9,
   "metadata": {},
   "outputs": [
    {
     "name": "stdout",
     "output_type": "stream",
     "text": [
      "Enter Name:Mahesh\n",
      "ENter age:32\n",
      "Mahesh 32 KHYAATHI\n",
      "Mahesh 32 KHYAATHI\n"
     ]
    }
   ],
   "source": [
    "class emp():\n",
    "    company_name=\"KHYAATHI\"\n",
    "    def get(self):\n",
    "        print self.name,self.age,self.company_name\n",
    "anil=emp()\n",
    "n=raw_input(\"Enter Name:\")\n",
    "a=raw_input(\"ENter age:\")\n",
    "anil.name=n\n",
    "anil.age=a\n",
    "emp.get(anil)\n",
    "anil.get()"
   ]
  },
  {
   "cell_type": "code",
   "execution_count": 10,
   "metadata": {},
   "outputs": [
    {
     "name": "stdout",
     "output_type": "stream",
     "text": [
      "Enter Name:Mahesh\n",
      "Enter age:32\n",
      "Mahesh 32 KHYAATHI\n",
      "Mahesh 32 KHYAATHI\n"
     ]
    }
   ],
   "source": [
    "class emp():\n",
    "    company_name=\"KHYAATHI\"\n",
    "    def set_data(self,n1,a1):\n",
    "        self.n1=n\n",
    "        self.a1=a\n",
    "    def get(self):\n",
    "        print self.name,self.age,self.company_name\n",
    "anil=emp()\n",
    "n=raw_input(\"Enter Name:\")\n",
    "a=raw_input(\"Enter age:\")\n",
    "anil.name=n\n",
    "anil.age=a\n",
    "anil.set_data(n,a)\n",
    "anil.get()\n",
    "emp.get(anil)"
   ]
  },
  {
   "cell_type": "code",
   "execution_count": 11,
   "metadata": {},
   "outputs": [
    {
     "name": "stdout",
     "output_type": "stream",
     "text": [
      "anil 23 KHYAATHI\n",
      "jay 31 KHYAATHI\n"
     ]
    }
   ],
   "source": [
    "class Emp:\n",
    "    company_name=\"KHYAATHI\"\n",
    "    def set_data(self, name1, age1):\n",
    "        self.name=name1\n",
    "        self.age=age1\n",
    "    def get(self):\n",
    "        print self.name,self.age, self.company_name\n",
    "anil = Emp()\n",
    "anil.set_data(\"anil\",23) # anil,n,a\n",
    "anil.get()\n",
    "jay=Emp()\n",
    "jay.set_data(\"jay\",31) # jay,n,a\n",
    "jay.get()"
   ]
  },
  {
   "cell_type": "code",
   "execution_count": 20,
   "metadata": {},
   "outputs": [
    {
     "name": "stdout",
     "output_type": "stream",
     "text": [
      "enter name:jj\n",
      "enter age:45\n",
      "jj 45\n"
     ]
    }
   ],
   "source": [
    "class emp:\n",
    "    def set_data(self,n1,a1):\n",
    "        self.name=n1\n",
    "        self.age=a1\n",
    "        #pass\n",
    "    def get(self):\n",
    "        print self.name,self.age\n",
    "john=emp()\n",
    "n=raw_input(\"enter name:\")\n",
    "a=raw_input(\"enter age:\")\n",
    "john.set_data(n,a)\n",
    "john.get()"
   ]
  },
  {
   "cell_type": "code",
   "execution_count": 21,
   "metadata": {},
   "outputs": [
    {
     "name": "stdout",
     "output_type": "stream",
     "text": [
      "('Raj', 25, 25000.6, 12, 28000.672)\n",
      "('David', 25, 25000, 12, 25000)\n"
     ]
    }
   ],
   "source": [
    "class emp():\n",
    "    def __init__(self,name,age,current_sal,__hike_per,role):\n",
    "        self.name=name\n",
    "        self.age=age\n",
    "        self.current_sal=current_sal\n",
    "        #self.updated_sal=updated_sal\n",
    "        self.__hike_per=__hike_per\n",
    "        self.role=role\n",
    "        return None\n",
    "    def __calc_sal(self):\n",
    "        if self.role=='Manager':\n",
    "            updated_sal = self.current_sal + (self.current_sal*self.__hike_per/100.0)\n",
    "        else:\n",
    "            updated_sal=self.current_sal  \n",
    "        return updated_sal\n",
    "    def get(self):\n",
    "        return self.name,self.age,self.current_sal,self.__hike_per,self.__calc_sal()\n",
    "Raj=emp(\"Raj\",25,25000.60,12,\"Manager\")\n",
    "David=emp(\"David\",25,25000,12,\"Team Leader\")\n",
    "print Raj.get()\n",
    "print David.get()\n",
    "\n",
    "        "
   ]
  },
  {
   "cell_type": "code",
   "execution_count": 1,
   "metadata": {},
   "outputs": [
    {
     "name": "stdout",
     "output_type": "stream",
     "text": [
      "this is init\n"
     ]
    }
   ],
   "source": [
    "class c1:\n",
    "    def __init__(self):\n",
    "        print \"this is init\"\n",
    "    def get(self):\n",
    "        print \"this is get\"\n",
    "o1=c1()"
   ]
  },
  {
   "cell_type": "code",
   "execution_count": 2,
   "metadata": {},
   "outputs": [
    {
     "name": "stdout",
     "output_type": "stream",
     "text": [
      "this is init\n",
      "this is get\n"
     ]
    }
   ],
   "source": [
    "class c1:\n",
    "    def __init__(self):\n",
    "        print \"this is init\"\n",
    "    def get(self):\n",
    "        print \"this is get\"\n",
    "o1=c1()\n",
    "o1.get()"
   ]
  },
  {
   "cell_type": "code",
   "execution_count": 4,
   "metadata": {},
   "outputs": [
    {
     "name": "stdout",
     "output_type": "stream",
     "text": [
      "this is init\n",
      "this is init\n",
      "this is init\n"
     ]
    }
   ],
   "source": [
    "class c1():\n",
    "    def __init__(self):\n",
    "        print 'this is init'\n",
    "    def get(self):\n",
    "        print 'this is get'\n",
    "o1=c1()\n",
    "o2=c1()\n",
    "o3=c1()"
   ]
  },
  {
   "cell_type": "code",
   "execution_count": 5,
   "metadata": {},
   "outputs": [
    {
     "name": "stdout",
     "output_type": "stream",
     "text": [
      "this is class\n",
      "this is init\n",
      "this is init\n",
      "this is init\n"
     ]
    }
   ],
   "source": [
    "class c1:\n",
    "    print \"this is class\"\n",
    "    def __init__(self,name,age,weight,height):\n",
    "        print \"this is init\"\n",
    "    def get(self):\n",
    "        return self.name, self.age,self.weight, self.height\n",
    "o1=c1(\"name1\",23,54.67,5.3)\n",
    "o2=c1(\"name2\",22,55.67,5.8)\n",
    "o3=c1(\"name3\",26,57.67,5.1)"
   ]
  },
  {
   "cell_type": "code",
   "execution_count": 8,
   "metadata": {},
   "outputs": [
    {
     "name": "stdout",
     "output_type": "stream",
     "text": [
      "this is class\n",
      "('Mahesh', 30, 78, 5.11)\n",
      "('Ganesh', 30, 75, 5.8)\n"
     ]
    }
   ],
   "source": [
    "class c1():\n",
    "    print \"this is class\"\n",
    "    def __init__(self,name,age,weight,height):\n",
    "        self.name=name\n",
    "        self.age=age\n",
    "        self.weight=weight\n",
    "        self.height=height\n",
    "        return None\n",
    "    def get(self):\n",
    "        return self.name,self.age,self.weight,self.height\n",
    "mah=c1(\"Mahesh\",30,78,5.11)\n",
    "gan=c1(\"Ganesh\",30,75,5.8)\n",
    "print mah.get()\n",
    "print gan.get()"
   ]
  },
  {
   "cell_type": "code",
   "execution_count": 11,
   "metadata": {},
   "outputs": [
    {
     "name": "stdout",
     "output_type": "stream",
     "text": [
      "this is class\n"
     ]
    },
    {
     "ename": "NameError",
     "evalue": "global name 'weight' is not defined",
     "output_type": "error",
     "traceback": [
      "\u001b[1;31m---------------------------------------------------------------------------\u001b[0m",
      "\u001b[1;31mNameError\u001b[0m                                 Traceback (most recent call last)",
      "\u001b[1;32m<ipython-input-11-fd695c7f2beb>\u001b[0m in \u001b[0;36m<module>\u001b[1;34m()\u001b[0m\n\u001b[0;32m      9\u001b[0m     \u001b[1;32mdef\u001b[0m \u001b[0mget\u001b[0m\u001b[1;33m(\u001b[0m\u001b[0mself\u001b[0m\u001b[1;33m)\u001b[0m\u001b[1;33m:\u001b[0m\u001b[1;33m\u001b[0m\u001b[0m\n\u001b[0;32m     10\u001b[0m         \u001b[1;32mreturn\u001b[0m \u001b[0mself\u001b[0m\u001b[1;33m.\u001b[0m\u001b[0mname\u001b[0m\u001b[1;33m,\u001b[0m\u001b[0mself\u001b[0m\u001b[1;33m.\u001b[0m\u001b[0mage\u001b[0m\u001b[1;33m,\u001b[0m\u001b[0mself\u001b[0m\u001b[1;33m.\u001b[0m\u001b[0mweight\u001b[0m\u001b[1;33m,\u001b[0m\u001b[0mself\u001b[0m\u001b[1;33m.\u001b[0m\u001b[0mheight\u001b[0m\u001b[1;33m\u001b[0m\u001b[0m\n\u001b[1;32m---> 11\u001b[1;33m \u001b[0mmah\u001b[0m\u001b[1;33m=\u001b[0m\u001b[0mc1\u001b[0m\u001b[1;33m(\u001b[0m\u001b[1;34m\"Mahesh\"\u001b[0m\u001b[1;33m,\u001b[0m\u001b[1;36m30\u001b[0m\u001b[1;33m,\u001b[0m\u001b[1;36m0\u001b[0m\u001b[1;33m,\u001b[0m\u001b[1;36m0\u001b[0m\u001b[1;33m)\u001b[0m\u001b[1;33m\u001b[0m\u001b[0m\n\u001b[0m\u001b[0;32m     12\u001b[0m \u001b[0mgan\u001b[0m\u001b[1;33m=\u001b[0m\u001b[0mc1\u001b[0m\u001b[1;33m(\u001b[0m\u001b[1;34m\"Ganesh\"\u001b[0m\u001b[1;33m,\u001b[0m\u001b[1;36m30\u001b[0m\u001b[1;33m,\u001b[0m\u001b[1;36m75\u001b[0m\u001b[1;33m,\u001b[0m\u001b[1;36m5.8\u001b[0m\u001b[1;33m)\u001b[0m\u001b[1;33m\u001b[0m\u001b[0m\n\u001b[0;32m     13\u001b[0m \u001b[1;32mprint\u001b[0m \u001b[0mmah\u001b[0m\u001b[1;33m.\u001b[0m\u001b[0mget\u001b[0m\u001b[1;33m(\u001b[0m\u001b[1;33m)\u001b[0m\u001b[1;33m\u001b[0m\u001b[0m\n",
      "\u001b[1;32m<ipython-input-11-fd695c7f2beb>\u001b[0m in \u001b[0;36m__init__\u001b[1;34m(self, name, age, *args)\u001b[0m\n\u001b[0;32m      4\u001b[0m         \u001b[0mself\u001b[0m\u001b[1;33m.\u001b[0m\u001b[0mname\u001b[0m\u001b[1;33m=\u001b[0m\u001b[0mname\u001b[0m\u001b[1;33m\u001b[0m\u001b[0m\n\u001b[0;32m      5\u001b[0m         \u001b[0mself\u001b[0m\u001b[1;33m.\u001b[0m\u001b[0mage\u001b[0m\u001b[1;33m=\u001b[0m\u001b[0mage\u001b[0m\u001b[1;33m\u001b[0m\u001b[0m\n\u001b[1;32m----> 6\u001b[1;33m         \u001b[0mself\u001b[0m\u001b[1;33m.\u001b[0m\u001b[0mweight\u001b[0m\u001b[1;33m=\u001b[0m\u001b[0mweight\u001b[0m\u001b[1;33m\u001b[0m\u001b[0m\n\u001b[0m\u001b[0;32m      7\u001b[0m         \u001b[0mself\u001b[0m\u001b[1;33m.\u001b[0m\u001b[0mheight\u001b[0m\u001b[1;33m=\u001b[0m\u001b[0mheight\u001b[0m\u001b[1;33m\u001b[0m\u001b[0m\n\u001b[0;32m      8\u001b[0m         \u001b[1;32mreturn\u001b[0m \u001b[0mNone\u001b[0m\u001b[1;33m\u001b[0m\u001b[0m\n",
      "\u001b[1;31mNameError\u001b[0m: global name 'weight' is not defined"
     ]
    }
   ],
   "source": [
    "class c1():\n",
    "    print \"this is class\"\n",
    "    def __init__(self,name,age,*args):\n",
    "        self.name=name\n",
    "        self.age=age\n",
    "        self.weight=weight\n",
    "        self.height=height\n",
    "        return None\n",
    "    def get(self):\n",
    "        return self.name,self.age,self.weight,self.height\n",
    "mah=c1(\"Mahesh\",30,0,0)\n",
    "gan=c1(\"Ganesh\",30,75,5.8)\n",
    "print mah.get()\n",
    "print gan.get()"
   ]
  },
  {
   "cell_type": "code",
   "execution_count": 13,
   "metadata": {},
   "outputs": [
    {
     "name": "stdout",
     "output_type": "stream",
     "text": [
      "insert\n"
     ]
    }
   ],
   "source": [
    "class Model:\n",
    "    def __init__(self,data):\n",
    "        self.data=data\n",
    "    def insert(self):\n",
    "        print 'insert'\n",
    "        #return self.data\n",
    "    def update(self):\n",
    "        print 'update'\n",
    "    def delete(self):\n",
    "        print 'delete'\n",
    "    def browse(self):\n",
    "        print browse\n",
    "c1=Model(data={\"name\":\"Rajkumar\",\"age\":25})\n",
    "c1.insert()"
   ]
  },
  {
   "cell_type": "code",
   "execution_count": 14,
   "metadata": {},
   "outputs": [
    {
     "name": "stdout",
     "output_type": "stream",
     "text": [
      "insert\n"
     ]
    },
    {
     "data": {
      "text/plain": [
       "{'age': 25, 'name': 'Rajkumar'}"
      ]
     },
     "execution_count": 14,
     "metadata": {},
     "output_type": "execute_result"
    }
   ],
   "source": [
    "class Model:\n",
    "    def __init__(self,data):\n",
    "        self.data=data\n",
    "    def insert(self):\n",
    "        print 'insert'\n",
    "        return self.data\n",
    "    def update(self):\n",
    "        print 'update'\n",
    "    def delete(self):\n",
    "        print 'delete'\n",
    "    def browse(self):\n",
    "        print browse\n",
    "c1=Model(data={\"name\":\"Rajkumar\",\"age\":25})\n",
    "c1.insert()"
   ]
  },
  {
   "cell_type": "code",
   "execution_count": 19,
   "metadata": {},
   "outputs": [
    {
     "name": "stdout",
     "output_type": "stream",
     "text": [
      "insert\n"
     ]
    },
    {
     "data": {
      "text/plain": [
       "({'age': 25, 'name': 'Rajkumar'}, {'Pan card#': 'ABCCD9189'})"
      ]
     },
     "execution_count": 19,
     "metadata": {},
     "output_type": "execute_result"
    }
   ],
   "source": [
    "class Model:\n",
    "    def __init__(self,data,sensitive_data):\n",
    "        self.data=data\n",
    "        self.sensitive_data=sensitive_data\n",
    "    def insert(self):\n",
    "        print 'insert'\n",
    "        return self.data,self.sensitive_data\n",
    "    def update(self):\n",
    "        print 'update'\n",
    "    def delete(self):\n",
    "        print 'delete'\n",
    "    def browse(self):\n",
    "        print browse\n",
    "c1=Model(data={\"name\":\"Rajkumar\",\"age\":25},sensitive_data={\"Pan card#\":\"ABCCD9189\"})\n",
    "c1.insert()"
   ]
  },
  {
   "cell_type": "code",
   "execution_count": 26,
   "metadata": {},
   "outputs": [
    {
     "name": "stdout",
     "output_type": "stream",
     "text": [
      "insert\n"
     ]
    },
    {
     "ename": "AttributeError",
     "evalue": "Model instance has no attribute '__sensitive_data'",
     "output_type": "error",
     "traceback": [
      "\u001b[1;31m---------------------------------------------------------------------------\u001b[0m",
      "\u001b[1;31mAttributeError\u001b[0m                            Traceback (most recent call last)",
      "\u001b[1;32m<ipython-input-26-c56ba52bf842>\u001b[0m in \u001b[0;36m<module>\u001b[1;34m()\u001b[0m\n\u001b[0;32m     14\u001b[0m \u001b[0mc1\u001b[0m\u001b[1;33m=\u001b[0m\u001b[0mModel\u001b[0m\u001b[1;33m(\u001b[0m\u001b[0mdata\u001b[0m\u001b[1;33m=\u001b[0m\u001b[1;33m{\u001b[0m\u001b[1;34m\"name\"\u001b[0m\u001b[1;33m:\u001b[0m\u001b[1;34m\"Rajkumar\"\u001b[0m\u001b[1;33m,\u001b[0m\u001b[1;34m\"age\"\u001b[0m\u001b[1;33m:\u001b[0m\u001b[1;36m25\u001b[0m\u001b[1;33m}\u001b[0m\u001b[1;33m,\u001b[0m\u001b[0msensitive_data\u001b[0m\u001b[1;33m=\u001b[0m\u001b[1;33m{\u001b[0m\u001b[1;34m\"Pan card#\"\u001b[0m\u001b[1;33m:\u001b[0m\u001b[1;34m\"ABCCD9189\"\u001b[0m\u001b[1;33m}\u001b[0m\u001b[1;33m)\u001b[0m\u001b[1;33m\u001b[0m\u001b[0m\n\u001b[0;32m     15\u001b[0m \u001b[0mc1\u001b[0m\u001b[1;33m.\u001b[0m\u001b[0minsert\u001b[0m\u001b[1;33m(\u001b[0m\u001b[1;33m)\u001b[0m\u001b[1;33m\u001b[0m\u001b[0m\n\u001b[1;32m---> 16\u001b[1;33m \u001b[0mc1\u001b[0m\u001b[1;33m.\u001b[0m\u001b[0m__sensitive_data\u001b[0m\u001b[1;33m\u001b[0m\u001b[0m\n\u001b[0m",
      "\u001b[1;31mAttributeError\u001b[0m: Model instance has no attribute '__sensitive_data'"
     ]
    }
   ],
   "source": [
    "class Model:\n",
    "    def __init__(self,data,sensitive_data):\n",
    "        self.data=data\n",
    "        self.__sensitive_data=sensitive_data\n",
    "    def insert(self):\n",
    "        print 'insert'\n",
    "        return self.data,self.__sensitive_data\n",
    "    def update(self):\n",
    "        print 'update'\n",
    "    def delete(self):\n",
    "        print 'delete'\n",
    "    def browse(self):\n",
    "        print browse\n",
    "c1=Model(data={\"name\":\"Rajkumar\",\"age\":25},sensitive_data={\"Pan card#\":\"ABCCD9189\"})\n",
    "c1.insert()\n",
    "c1.__sensitive_data"
   ]
  },
  {
   "cell_type": "code",
   "execution_count": 27,
   "metadata": {},
   "outputs": [
    {
     "ename": "AttributeError",
     "evalue": "Model instance has no attribute '__insert'",
     "output_type": "error",
     "traceback": [
      "\u001b[1;31m---------------------------------------------------------------------------\u001b[0m",
      "\u001b[1;31mAttributeError\u001b[0m                            Traceback (most recent call last)",
      "\u001b[1;32m<ipython-input-27-0485653462bd>\u001b[0m in \u001b[0;36m<module>\u001b[1;34m()\u001b[0m\n\u001b[0;32m     13\u001b[0m         \u001b[1;32mprint\u001b[0m \u001b[0mbrowse\u001b[0m\u001b[1;33m\u001b[0m\u001b[0m\n\u001b[0;32m     14\u001b[0m \u001b[0mc1\u001b[0m\u001b[1;33m=\u001b[0m\u001b[0mModel\u001b[0m\u001b[1;33m(\u001b[0m\u001b[0mdata\u001b[0m\u001b[1;33m=\u001b[0m\u001b[1;33m{\u001b[0m\u001b[1;34m\"name\"\u001b[0m\u001b[1;33m:\u001b[0m\u001b[1;34m\"Rajkumar\"\u001b[0m\u001b[1;33m,\u001b[0m\u001b[1;34m\"age\"\u001b[0m\u001b[1;33m:\u001b[0m\u001b[1;36m25\u001b[0m\u001b[1;33m}\u001b[0m\u001b[1;33m,\u001b[0m\u001b[0msensitive_data\u001b[0m\u001b[1;33m=\u001b[0m\u001b[1;33m{\u001b[0m\u001b[1;34m\"Pan card#\"\u001b[0m\u001b[1;33m:\u001b[0m\u001b[1;34m\"ABCCD9189\"\u001b[0m\u001b[1;33m}\u001b[0m\u001b[1;33m)\u001b[0m\u001b[1;33m\u001b[0m\u001b[0m\n\u001b[1;32m---> 15\u001b[1;33m \u001b[0mc1\u001b[0m\u001b[1;33m.\u001b[0m\u001b[0m__insert\u001b[0m\u001b[1;33m(\u001b[0m\u001b[1;33m)\u001b[0m\u001b[1;33m\u001b[0m\u001b[0m\n\u001b[0m\u001b[0;32m     16\u001b[0m \u001b[1;31m#c1.__sensitive_data\u001b[0m\u001b[1;33m\u001b[0m\u001b[1;33m\u001b[0m\u001b[0m\n",
      "\u001b[1;31mAttributeError\u001b[0m: Model instance has no attribute '__insert'"
     ]
    }
   ],
   "source": [
    "class Model:\n",
    "    def __init__(self,data,sensitive_data):\n",
    "        self.data=data\n",
    "        self.__sensitive_data=sensitive_data\n",
    "    def __insert(self):\n",
    "        print 'insert'\n",
    "        return self.data,self.__sensitive_data\n",
    "    def update(self):\n",
    "        print 'update'\n",
    "    def delete(self):\n",
    "        print 'delete'\n",
    "    def browse(self):\n",
    "        print browse\n",
    "c1=Model(data={\"name\":\"Rajkumar\",\"age\":25},sensitive_data={\"Pan card#\":\"ABCCD9189\"})\n",
    "c1.__insert()\n",
    "#c1.__sensitive_data"
   ]
  },
  {
   "cell_type": "code",
   "execution_count": 30,
   "metadata": {},
   "outputs": [
    {
     "ename": "AttributeError",
     "evalue": "Model instance has no attribute '__insert'",
     "output_type": "error",
     "traceback": [
      "\u001b[1;31m---------------------------------------------------------------------------\u001b[0m",
      "\u001b[1;31mAttributeError\u001b[0m                            Traceback (most recent call last)",
      "\u001b[1;32m<ipython-input-30-0485653462bd>\u001b[0m in \u001b[0;36m<module>\u001b[1;34m()\u001b[0m\n\u001b[0;32m     13\u001b[0m         \u001b[1;32mprint\u001b[0m \u001b[0mbrowse\u001b[0m\u001b[1;33m\u001b[0m\u001b[0m\n\u001b[0;32m     14\u001b[0m \u001b[0mc1\u001b[0m\u001b[1;33m=\u001b[0m\u001b[0mModel\u001b[0m\u001b[1;33m(\u001b[0m\u001b[0mdata\u001b[0m\u001b[1;33m=\u001b[0m\u001b[1;33m{\u001b[0m\u001b[1;34m\"name\"\u001b[0m\u001b[1;33m:\u001b[0m\u001b[1;34m\"Rajkumar\"\u001b[0m\u001b[1;33m,\u001b[0m\u001b[1;34m\"age\"\u001b[0m\u001b[1;33m:\u001b[0m\u001b[1;36m25\u001b[0m\u001b[1;33m}\u001b[0m\u001b[1;33m,\u001b[0m\u001b[0msensitive_data\u001b[0m\u001b[1;33m=\u001b[0m\u001b[1;33m{\u001b[0m\u001b[1;34m\"Pan card#\"\u001b[0m\u001b[1;33m:\u001b[0m\u001b[1;34m\"ABCCD9189\"\u001b[0m\u001b[1;33m}\u001b[0m\u001b[1;33m)\u001b[0m\u001b[1;33m\u001b[0m\u001b[0m\n\u001b[1;32m---> 15\u001b[1;33m \u001b[0mc1\u001b[0m\u001b[1;33m.\u001b[0m\u001b[0m__insert\u001b[0m\u001b[1;33m(\u001b[0m\u001b[1;33m)\u001b[0m\u001b[1;33m\u001b[0m\u001b[0m\n\u001b[0m\u001b[0;32m     16\u001b[0m \u001b[1;31m#c1.__sensitive_data\u001b[0m\u001b[1;33m\u001b[0m\u001b[1;33m\u001b[0m\u001b[0m\n",
      "\u001b[1;31mAttributeError\u001b[0m: Model instance has no attribute '__insert'"
     ]
    }
   ],
   "source": [
    "class Model:\n",
    "    def __init__(self,data,sensitive_data):\n",
    "        self.data=data\n",
    "        self.__sensitive_data=sensitive_data\n",
    "    def __insert(self):\n",
    "        print 'insert'\n",
    "        return self.data,self.__sensitive_data\n",
    "    def update(self):\n",
    "        print 'update'\n",
    "    def delete(self):\n",
    "        print 'delete'\n",
    "    def browse(self):\n",
    "        print browse\n",
    "c1=Model(data={\"name\":\"Rajkumar\",\"age\":25},sensitive_data={\"Pan card#\":\"ABCCD9189\"})\n",
    "c1.__insert()\n",
    "#c1.__sensitive_data"
   ]
  },
  {
   "cell_type": "code",
   "execution_count": 31,
   "metadata": {},
   "outputs": [
    {
     "name": "stdout",
     "output_type": "stream",
     "text": [
      "insert\n"
     ]
    },
    {
     "data": {
      "text/plain": [
       "({'age': 25, 'name': 'Rajkumar'}, {'Pan card#': 'ABCCD9189'})"
      ]
     },
     "execution_count": 31,
     "metadata": {},
     "output_type": "execute_result"
    }
   ],
   "source": [
    "class Model:\n",
    "    def __init__(self,data,sensitive_data):\n",
    "        self.data=data\n",
    "        self.__sensitive_data=sensitive_data\n",
    "    def __insert__(self):\n",
    "        print 'insert'\n",
    "        return self.data,self.__sensitive_data\n",
    "    def update(self):\n",
    "        print 'update'\n",
    "    def delete(self):\n",
    "        print 'delete'\n",
    "    def browse(self):\n",
    "        print browse\n",
    "c1=Model(data={\"name\":\"Rajkumar\",\"age\":25},sensitive_data={\"Pan card#\":\"ABCCD9189\"})\n",
    "c1.__insert__()\n",
    "#c1.__sensitive_data"
   ]
  },
  {
   "cell_type": "code",
   "execution_count": 32,
   "metadata": {},
   "outputs": [
    {
     "name": "stdout",
     "output_type": "stream",
     "text": [
      "insert\n"
     ]
    },
    {
     "data": {
      "text/plain": [
       "{'Pan card#': 'ABCCD9189'}"
      ]
     },
     "execution_count": 32,
     "metadata": {},
     "output_type": "execute_result"
    }
   ],
   "source": [
    "class Model:\n",
    "    def __init__(self,data,sensitive_data):\n",
    "        self.data=data\n",
    "        self.__sensitive_data__=sensitive_data\n",
    "    def __insert__(self):\n",
    "        print 'insert'\n",
    "        return self.data,self.__sensitive_data__\n",
    "    def update(self):\n",
    "        print 'update'\n",
    "    def delete(self):\n",
    "        print 'delete'\n",
    "    def browse(self):\n",
    "        print browse\n",
    "c1=Model(data={\"name\":\"Rajkumar\",\"age\":25},sensitive_data={\"Pan card#\":\"ABCCD9189\"})\n",
    "c1.__insert__()\n",
    "c1.__sensitive_data__"
   ]
  },
  {
   "cell_type": "code",
   "execution_count": 33,
   "metadata": {},
   "outputs": [
    {
     "name": "stdout",
     "output_type": "stream",
     "text": [
      "insert {'age': 25, 'name': 'Rajkumar'} {'Pan card#': 'ABCCD9189'}\n"
     ]
    },
    {
     "data": {
      "text/plain": [
       "({'age': 25, 'name': 'Rajkumar'}, {'Pan card#': 'ABCCD9189'})"
      ]
     },
     "execution_count": 33,
     "metadata": {},
     "output_type": "execute_result"
    }
   ],
   "source": [
    "class Model:\n",
    "    def __init__(self,data,sensitive_data):\n",
    "        self.data=data\n",
    "        self.__sensitive_data=sensitive_data\n",
    "    def insert(self):\n",
    "        print 'insert %s %s'%(self.data,self.__sensitive_data)\n",
    "    def update(self):\n",
    "        print 'update %s %s'%(self.data,self.__sensitive_data)\n",
    "    def delete(self):\n",
    "        print 'delete %s %s'%(self.data,self.__sensitive_data)\n",
    "    def browse(self):\n",
    "        print 'browse %s %s'%(self.data,self.__sensitive_data)\n",
    "    def get(self):\n",
    "        return self.data,self.__sensitive_data\n",
    "c1=Model(data={\"name\":\"Rajkumar\",\"age\":25},sensitive_data={\"Pan card#\":\"ABCCD9189\"})\n",
    "c1.insert()\n",
    "c1.get()"
   ]
  },
  {
   "cell_type": "code",
   "execution_count": 37,
   "metadata": {},
   "outputs": [
    {
     "name": "stdout",
     "output_type": "stream",
     "text": [
      "insert {'age': 25, 'role': 'Manager', 'name': 'Rajkumar'} {'Pan card#': 'ABCCD9189'}\n",
      "insert {'age': 25, 'role': 'Team Lead', 'name': 'Suresh'} {'Pan card#': 'ABCCD9189'}\n",
      "({'age': 25, 'role': 'Manager', 'name': 'Rajkumar'}, {'Pan card#': 'ABCCD9189'})\n",
      "{'age': 25, 'role': 'Team Lead', 'name': 'Suresh'}\n"
     ]
    }
   ],
   "source": [
    "class Model:\n",
    "    def __init__(self,data,sensitive_data):\n",
    "        self.data=data\n",
    "        self.__sensitive_data=sensitive_data\n",
    "    def insert(self):\n",
    "        print 'insert %s %s'%(self.data,self.__sensitive_data)\n",
    "    def update(self):\n",
    "        print 'update %s %s'%(self.data,self.__sensitive_data)\n",
    "    def delete(self):\n",
    "        print 'delete %s %s'%(self.data,self.__sensitive_data)\n",
    "    def browse(self):\n",
    "        print 'browse %s %s'%(self.data,self.__sensitive_data)\n",
    "    def get(self):\n",
    "        if self.data.get(\"role\")==\"Manager\":\n",
    "            return self.data,self.__sensitive_data\n",
    "        else:\n",
    "            return self.data\n",
    "c1=Model(data={\"name\":\"Rajkumar\",\"age\":25,\"role\":\"Manager\"},sensitive_data={\"Pan card#\":\"ABCCD9189\"})\n",
    "c2=Model(data={\"name\":\"Suresh\",\"age\":25,\"role\":\"Team Lead\"},sensitive_data={\"Pan card#\":\"ABCCD9189\"})\n",
    "c1.insert()\n",
    "c2.insert()\n",
    "print c1.get()\n",
    "print c2.get()"
   ]
  },
  {
   "cell_type": "code",
   "execution_count": 39,
   "metadata": {},
   "outputs": [
    {
     "name": "stdout",
     "output_type": "stream",
     "text": [
      "insert {'Username': 'user1', 'age': 25, 'password': 'pwd1', 'role': 'Manager', 'name': 'Rajkumar'} {'Pan card#': 'ABCCD9189'}\n",
      "authentication failed\n",
      "({'Username': 'user1', 'age': 25, 'password': 'pwd1', 'role': 'Manager', 'name': 'Rajkumar'}, {'Pan card#': 'ABCCD9189'})\n",
      "{'Username': 'user2', 'age': 25, 'password': 'pwd2', 'role': 'Team Lead', 'name': 'Suresh'}\n"
     ]
    }
   ],
   "source": [
    "class Model:\n",
    "    def __init__(self,data,sensitive_data):\n",
    "        self.data=data\n",
    "        self.__sensitive_data=sensitive_data\n",
    "    def __login(self):\n",
    "        if self.data.get(\"Username\")==\"user1\" and self.data.get(\"password\")==\"pwd1\":\n",
    "            return True\n",
    "        else:\n",
    "            return False\n",
    "    def insert(self):\n",
    "        if self.__login():\n",
    "            print 'insert %s %s'%(self.data,self.__sensitive_data)\n",
    "        else:\n",
    "            print 'authentication failed'\n",
    "    def update(self):\n",
    "        print 'update %s %s'%(self.data,self.__sensitive_data)\n",
    "    def delete(self):\n",
    "        print 'delete %s %s'%(self.data,self.__sensitive_data)\n",
    "    def browse(self):\n",
    "        print 'browse %s %s'%(self.data,self.__sensitive_data)\n",
    "    def get(self):\n",
    "        if self.data.get(\"role\")==\"Manager\":\n",
    "            return self.data,self.__sensitive_data\n",
    "        else:\n",
    "            return self.data\n",
    "c1=Model(data={\"name\":\"Rajkumar\",\"age\":25,\"role\":\"Manager\",\"Username\":\"user1\",\"password\":\"pwd1\"},\n",
    "         sensitive_data={\"Pan card#\":\"ABCCD9189\"})\n",
    "c2=Model(data={\"name\":\"Suresh\",\"age\":25,\"role\":\"Team Lead\",\"Username\":\"user2\",\"password\":\"pwd2\"},\n",
    "         sensitive_data={\"Pan card#\":\"ABCCD9189\"})\n",
    "c1.insert()\n",
    "c2.insert()\n",
    "print c1.get()\n",
    "print c2.get()"
   ]
  },
  {
   "cell_type": "code",
   "execution_count": 41,
   "metadata": {},
   "outputs": [
    {
     "name": "stdout",
     "output_type": "stream",
     "text": [
      "insert query: {'name': 'cust1', 'address': 'ad1'}, customer\n",
      "insert query: {'name': 'supplier', 'address': 'ad1'}, supplier\n"
     ]
    }
   ],
   "source": [
    "class Model:\n",
    "    def __init__(self, data,table):\n",
    "        self.data=data\n",
    "        self.table=table\n",
    "    def insert(self):\n",
    "        print \"insert query: %s, %s\"%(self.data, self.table)\n",
    "    def update(self):\n",
    "        print \"update query: %s\"%(self.data, self.table)\n",
    "    def delete(self):\n",
    "        print \"delete query: %s\"%(self.data, self.table)\n",
    "    def browse(self):\n",
    "        print \"select query: %s\"%(self.data, self.table)\n",
    "    def get(self):\n",
    "        return self.data\n",
    "customer = Model(data={\"name\":\"cust1\",\"address\":\"ad1\"},table=\"customer\")\n",
    "customer.insert()\n",
    "sup = Model(data={\"name\":\"supplier\",\"address\":\"ad1\"},table=\"supplier\")\n",
    "sup.insert()"
   ]
  },
  {
   "cell_type": "code",
   "execution_count": 42,
   "metadata": {},
   "outputs": [
    {
     "ename": "AttributeError",
     "evalue": "Customer instance has no attribute 'insert'",
     "output_type": "error",
     "traceback": [
      "\u001b[1;31m---------------------------------------------------------------------------\u001b[0m",
      "\u001b[1;31mAttributeError\u001b[0m                            Traceback (most recent call last)",
      "\u001b[1;32m<ipython-input-42-d5e014f829ec>\u001b[0m in \u001b[0;36m<module>\u001b[1;34m()\u001b[0m\n\u001b[0;32m     24\u001b[0m \u001b[0mc\u001b[0m\u001b[1;33m=\u001b[0m\u001b[0mCustomer\u001b[0m\u001b[1;33m(\u001b[0m\u001b[0mname\u001b[0m\u001b[1;33m=\u001b[0m\u001b[1;34m\"cust1\"\u001b[0m\u001b[1;33m,\u001b[0m\u001b[0maddress\u001b[0m\u001b[1;33m=\u001b[0m\u001b[1;34m'ad1'\u001b[0m\u001b[1;33m)\u001b[0m\u001b[1;33m\u001b[0m\u001b[0m\n\u001b[0;32m     25\u001b[0m \u001b[0ms\u001b[0m\u001b[1;33m=\u001b[0m\u001b[0mSupplier\u001b[0m\u001b[1;33m(\u001b[0m\u001b[0mname\u001b[0m\u001b[1;33m=\u001b[0m\u001b[1;34m\"sup\"\u001b[0m\u001b[1;33m,\u001b[0m\u001b[0maddress\u001b[0m\u001b[1;33m=\u001b[0m\u001b[1;34m'ad2'\u001b[0m\u001b[1;33m,\u001b[0m\u001b[0mwarehouse\u001b[0m\u001b[1;33m=\u001b[0m\u001b[1;34m\"warehouse\"\u001b[0m\u001b[1;33m)\u001b[0m\u001b[1;33m\u001b[0m\u001b[0m\n\u001b[1;32m---> 26\u001b[1;33m \u001b[0mc\u001b[0m\u001b[1;33m.\u001b[0m\u001b[0minsert\u001b[0m\u001b[1;33m(\u001b[0m\u001b[1;33m)\u001b[0m\u001b[1;33m\u001b[0m\u001b[0m\n\u001b[0m\u001b[0;32m     27\u001b[0m \u001b[0ms\u001b[0m\u001b[1;33m.\u001b[0m\u001b[0minsert\u001b[0m\u001b[1;33m(\u001b[0m\u001b[1;33m)\u001b[0m\u001b[1;33m\u001b[0m\u001b[0m\n",
      "\u001b[1;31mAttributeError\u001b[0m: Customer instance has no attribute 'insert'"
     ]
    }
   ],
   "source": [
    "class Model:\n",
    "    def __init__(self, data,table):\n",
    "        self.data=data\n",
    "        self.table=table\n",
    "    def insert(self):\n",
    "        print \"insert query: %s, %s\"%(self.data, self.table)\n",
    "    def update(self):\n",
    "        print \"update query: %s\"%(self.data, self.table)\n",
    "    def delete(self):\n",
    "        print \"delete query: %s\"%(self.data, self.table)\n",
    "    def browse(self):\n",
    "        print \"select query: %s\"%(self.data, self.table)\n",
    "    def get(self):\n",
    "        return self.data\n",
    "class Customer:\n",
    "    def __init__(self,name,address):\n",
    "        self.name=name\n",
    "        self.address=address\n",
    "class Supplier:\n",
    "    def __init__(self,name,address,warehouse):\n",
    "        self.name=name\n",
    "        self.address=address\n",
    "        self.warehouse=warehouse\n",
    "c=Customer(name=\"cust1\",address='ad1')\n",
    "s=Supplier(name=\"sup\",address='ad2',warehouse=\"warehouse\")\n",
    "c.insert()\n",
    "s.insert()\n"
   ]
  },
  {
   "cell_type": "code",
   "execution_count": 43,
   "metadata": {},
   "outputs": [
    {
     "ename": "AttributeError",
     "evalue": "Customer instance has no attribute 'insert'",
     "output_type": "error",
     "traceback": [
      "\u001b[1;31m---------------------------------------------------------------------------\u001b[0m",
      "\u001b[1;31mAttributeError\u001b[0m                            Traceback (most recent call last)",
      "\u001b[1;32m<ipython-input-43-d5e014f829ec>\u001b[0m in \u001b[0;36m<module>\u001b[1;34m()\u001b[0m\n\u001b[0;32m     24\u001b[0m \u001b[0mc\u001b[0m\u001b[1;33m=\u001b[0m\u001b[0mCustomer\u001b[0m\u001b[1;33m(\u001b[0m\u001b[0mname\u001b[0m\u001b[1;33m=\u001b[0m\u001b[1;34m\"cust1\"\u001b[0m\u001b[1;33m,\u001b[0m\u001b[0maddress\u001b[0m\u001b[1;33m=\u001b[0m\u001b[1;34m'ad1'\u001b[0m\u001b[1;33m)\u001b[0m\u001b[1;33m\u001b[0m\u001b[0m\n\u001b[0;32m     25\u001b[0m \u001b[0ms\u001b[0m\u001b[1;33m=\u001b[0m\u001b[0mSupplier\u001b[0m\u001b[1;33m(\u001b[0m\u001b[0mname\u001b[0m\u001b[1;33m=\u001b[0m\u001b[1;34m\"sup\"\u001b[0m\u001b[1;33m,\u001b[0m\u001b[0maddress\u001b[0m\u001b[1;33m=\u001b[0m\u001b[1;34m'ad2'\u001b[0m\u001b[1;33m,\u001b[0m\u001b[0mwarehouse\u001b[0m\u001b[1;33m=\u001b[0m\u001b[1;34m\"warehouse\"\u001b[0m\u001b[1;33m)\u001b[0m\u001b[1;33m\u001b[0m\u001b[0m\n\u001b[1;32m---> 26\u001b[1;33m \u001b[0mc\u001b[0m\u001b[1;33m.\u001b[0m\u001b[0minsert\u001b[0m\u001b[1;33m(\u001b[0m\u001b[1;33m)\u001b[0m\u001b[1;33m\u001b[0m\u001b[0m\n\u001b[0m\u001b[0;32m     27\u001b[0m \u001b[0ms\u001b[0m\u001b[1;33m.\u001b[0m\u001b[0minsert\u001b[0m\u001b[1;33m(\u001b[0m\u001b[1;33m)\u001b[0m\u001b[1;33m\u001b[0m\u001b[0m\n",
      "\u001b[1;31mAttributeError\u001b[0m: Customer instance has no attribute 'insert'"
     ]
    }
   ],
   "source": [
    "class Model:\n",
    "    def __init__(self, data,table):\n",
    "        self.data=data\n",
    "        self.table=table\n",
    "    def insert(self):\n",
    "        print \"insert query: %s, %s\"%(self.data, self.table)\n",
    "    def update(self):\n",
    "        print \"update query: %s\"%(self.data, self.table)\n",
    "    def delete(self):\n",
    "        print \"delete query: %s\"%(self.data, self.table)\n",
    "    def browse(self):\n",
    "        print \"select query: %s\"%(self.data, self.table)\n",
    "    def get(self):\n",
    "        return self.data\n",
    "class Customer:\n",
    "    def __init__(self,name,address):\n",
    "        self.name=name\n",
    "        self.address=address\n",
    "class Supplier:\n",
    "    def __init__(self,name,address,warehouse):\n",
    "        self.name=name\n",
    "        self.address=address\n",
    "        self.warehouse=warehouse\n",
    "c=Customer(name=\"cust1\",address='ad1')\n",
    "s=Supplier(name=\"sup\",address='ad2',warehouse=\"warehouse\")\n",
    "c.insert()\n",
    "s.insert()\n"
   ]
  },
  {
   "cell_type": "code",
   "execution_count": 50,
   "metadata": {},
   "outputs": [
    {
     "name": "stdout",
     "output_type": "stream",
     "text": [
      "insert query: cust1, ad1, Customer\n",
      "insert query: sup, ad2, warehouse, Supplier\n"
     ]
    }
   ],
   "source": [
    "class Model:\n",
    "    def __init__(self, data,table):\n",
    "        self.data=data\n",
    "        self.table=table\n",
    "    def insert(self):\n",
    "        print \"insert query: %s, %s\"%(self.data, self.table)\n",
    "    def update(self):\n",
    "        print \"update query: %s\"%(self.data, self.table)\n",
    "    def delete(self):\n",
    "        print \"delete query: %s\"%(self.data, self.table)\n",
    "    def browse(self):\n",
    "        print \"select query: %s\"%(self.data, self.table)\n",
    "    def get(self):\n",
    "        return self.data\n",
    "class Customer:\n",
    "    def __init__(self,name,address):\n",
    "        self.name=name\n",
    "        self.address=address\n",
    "        self.table=\"Customer\"\n",
    "    def insert(self):\n",
    "        print \"insert query: %s, %s, %s\"%(self.name,self.address, self.table)\n",
    "class Supplier:\n",
    "    def __init__(self,name,address,warehouse):\n",
    "        self.name=name\n",
    "        self.address=address\n",
    "        self.warehouse=warehouse\n",
    "        self.table=\"Supplier\"\n",
    "    def insert(self):\n",
    "        print \"insert query: %s, %s, %s, %s\"%(self.name,self.address,self.warehouse, self.table)\n",
    "c=Customer(name=\"cust1\",address=\"ad1\")\n",
    "s=Supplier(name=\"sup\",address=\"ad2\",warehouse=\"warehouse\")\n",
    "c.insert()\n",
    "s.insert()\n"
   ]
  },
  {
   "cell_type": "code",
   "execution_count": 53,
   "metadata": {},
   "outputs": [
    {
     "name": "stdout",
     "output_type": "stream",
     "text": [
      "this is fun1 in c1\n",
      "this is fun2 in c2\n"
     ]
    }
   ],
   "source": [
    "class c1:\n",
    "    def fun1(self):\n",
    "        print 'this is fun1 in c1'\n",
    "class c2:\n",
    "    def fun2(self):\n",
    "        print 'this is fun2 in c2'\n",
    "class c3:\n",
    "    def operations(self):\n",
    "        o1=c1()\n",
    "        o2=c2()\n",
    "        o1.fun1()\n",
    "        o2.fun2()\n",
    "o3=c3()\n",
    "o3.operations()"
   ]
  },
  {
   "cell_type": "code",
   "execution_count": 54,
   "metadata": {},
   "outputs": [
    {
     "ename": "AttributeError",
     "evalue": "c3 instance has no attribute 'fun1'",
     "output_type": "error",
     "traceback": [
      "\u001b[1;31m---------------------------------------------------------------------------\u001b[0m",
      "\u001b[1;31mAttributeError\u001b[0m                            Traceback (most recent call last)",
      "\u001b[1;32m<ipython-input-54-92d3c11aed03>\u001b[0m in \u001b[0;36m<module>\u001b[1;34m()\u001b[0m\n\u001b[0;32m     10\u001b[0m         \u001b[0mself\u001b[0m\u001b[1;33m.\u001b[0m\u001b[0mfun2\u001b[0m\u001b[1;33m(\u001b[0m\u001b[1;33m)\u001b[0m\u001b[1;33m\u001b[0m\u001b[0m\n\u001b[0;32m     11\u001b[0m \u001b[0mo3\u001b[0m\u001b[1;33m=\u001b[0m\u001b[0mc3\u001b[0m\u001b[1;33m(\u001b[0m\u001b[1;33m)\u001b[0m\u001b[1;33m\u001b[0m\u001b[0m\n\u001b[1;32m---> 12\u001b[1;33m \u001b[0mo3\u001b[0m\u001b[1;33m.\u001b[0m\u001b[0moperations\u001b[0m\u001b[1;33m(\u001b[0m\u001b[1;33m)\u001b[0m\u001b[1;33m\u001b[0m\u001b[0m\n\u001b[0m",
      "\u001b[1;32m<ipython-input-54-92d3c11aed03>\u001b[0m in \u001b[0;36moperations\u001b[1;34m(self)\u001b[0m\n\u001b[0;32m      7\u001b[0m \u001b[1;32mclass\u001b[0m \u001b[0mc3\u001b[0m\u001b[1;33m:\u001b[0m\u001b[1;33m\u001b[0m\u001b[0m\n\u001b[0;32m      8\u001b[0m     \u001b[1;32mdef\u001b[0m \u001b[0moperations\u001b[0m\u001b[1;33m(\u001b[0m\u001b[0mself\u001b[0m\u001b[1;33m)\u001b[0m\u001b[1;33m:\u001b[0m\u001b[1;33m\u001b[0m\u001b[0m\n\u001b[1;32m----> 9\u001b[1;33m         \u001b[0mself\u001b[0m\u001b[1;33m.\u001b[0m\u001b[0mfun1\u001b[0m\u001b[1;33m(\u001b[0m\u001b[1;33m)\u001b[0m\u001b[1;33m\u001b[0m\u001b[0m\n\u001b[0m\u001b[0;32m     10\u001b[0m         \u001b[0mself\u001b[0m\u001b[1;33m.\u001b[0m\u001b[0mfun2\u001b[0m\u001b[1;33m(\u001b[0m\u001b[1;33m)\u001b[0m\u001b[1;33m\u001b[0m\u001b[0m\n\u001b[0;32m     11\u001b[0m \u001b[0mo3\u001b[0m\u001b[1;33m=\u001b[0m\u001b[0mc3\u001b[0m\u001b[1;33m(\u001b[0m\u001b[1;33m)\u001b[0m\u001b[1;33m\u001b[0m\u001b[0m\n",
      "\u001b[1;31mAttributeError\u001b[0m: c3 instance has no attribute 'fun1'"
     ]
    }
   ],
   "source": [
    "class c1:\n",
    "    def fun1(self):\n",
    "        print \"this is fun1 in c1\"\n",
    "class c2:\n",
    "    def fun2(self):\n",
    "        print \"this is fun2 in c2\"\n",
    "class c3:\n",
    "    def operations(self):\n",
    "        self.fun1()\n",
    "        self.fun2()\n",
    "o3=c3()\n",
    "o3.operations()"
   ]
  },
  {
   "cell_type": "code",
   "execution_count": 55,
   "metadata": {},
   "outputs": [
    {
     "ename": "AttributeError",
     "evalue": "c3 instance has no attribute 'fun1'",
     "output_type": "error",
     "traceback": [
      "\u001b[1;31m---------------------------------------------------------------------------\u001b[0m",
      "\u001b[1;31mAttributeError\u001b[0m                            Traceback (most recent call last)",
      "\u001b[1;32m<ipython-input-55-e30d63665e98>\u001b[0m in \u001b[0;36m<module>\u001b[1;34m()\u001b[0m\n\u001b[0;32m     10\u001b[0m         \u001b[0mself\u001b[0m\u001b[1;33m.\u001b[0m\u001b[0mfun2\u001b[0m\u001b[1;33m(\u001b[0m\u001b[1;33m)\u001b[0m\u001b[1;33m\u001b[0m\u001b[0m\n\u001b[0;32m     11\u001b[0m \u001b[0mo3\u001b[0m\u001b[1;33m=\u001b[0m\u001b[0mc3\u001b[0m\u001b[1;33m(\u001b[0m\u001b[1;33m)\u001b[0m\u001b[1;33m\u001b[0m\u001b[0m\n\u001b[1;32m---> 12\u001b[1;33m \u001b[0mo3\u001b[0m\u001b[1;33m.\u001b[0m\u001b[0moperations\u001b[0m\u001b[1;33m(\u001b[0m\u001b[1;33m)\u001b[0m\u001b[1;33m\u001b[0m\u001b[0m\n\u001b[0m",
      "\u001b[1;32m<ipython-input-55-e30d63665e98>\u001b[0m in \u001b[0;36moperations\u001b[1;34m(self)\u001b[0m\n\u001b[0;32m      7\u001b[0m \u001b[1;32mclass\u001b[0m \u001b[0mc3\u001b[0m\u001b[1;33m(\u001b[0m\u001b[0mc2\u001b[0m\u001b[1;33m)\u001b[0m\u001b[1;33m:\u001b[0m\u001b[1;33m\u001b[0m\u001b[0m\n\u001b[0;32m      8\u001b[0m     \u001b[1;32mdef\u001b[0m \u001b[0moperations\u001b[0m\u001b[1;33m(\u001b[0m\u001b[0mself\u001b[0m\u001b[1;33m)\u001b[0m\u001b[1;33m:\u001b[0m\u001b[1;33m\u001b[0m\u001b[0m\n\u001b[1;32m----> 9\u001b[1;33m         \u001b[0mself\u001b[0m\u001b[1;33m.\u001b[0m\u001b[0mfun1\u001b[0m\u001b[1;33m(\u001b[0m\u001b[1;33m)\u001b[0m\u001b[1;33m\u001b[0m\u001b[0m\n\u001b[0m\u001b[0;32m     10\u001b[0m         \u001b[0mself\u001b[0m\u001b[1;33m.\u001b[0m\u001b[0mfun2\u001b[0m\u001b[1;33m(\u001b[0m\u001b[1;33m)\u001b[0m\u001b[1;33m\u001b[0m\u001b[0m\n\u001b[0;32m     11\u001b[0m \u001b[0mo3\u001b[0m\u001b[1;33m=\u001b[0m\u001b[0mc3\u001b[0m\u001b[1;33m(\u001b[0m\u001b[1;33m)\u001b[0m\u001b[1;33m\u001b[0m\u001b[0m\n",
      "\u001b[1;31mAttributeError\u001b[0m: c3 instance has no attribute 'fun1'"
     ]
    }
   ],
   "source": [
    "class c1:\n",
    "    def fun1(self):\n",
    "        print \"this is fun1 in c1\"\n",
    "class c2:\n",
    "    def fun2(self):\n",
    "        print \"this is fun2 in c2\"\n",
    "class c3(c2):\n",
    "    def operations(self):\n",
    "        self.fun1()\n",
    "        self.fun2()\n",
    "o3=c3()\n",
    "o3.operations()"
   ]
  },
  {
   "cell_type": "code",
   "execution_count": 56,
   "metadata": {},
   "outputs": [
    {
     "name": "stdout",
     "output_type": "stream",
     "text": [
      "this is fun1 in c1\n",
      "this is fun2 in c2\n"
     ]
    }
   ],
   "source": [
    "class c1:\n",
    "    def fun1(self):\n",
    "        print \"this is fun1 in c1\"\n",
    "class c2(c1):\n",
    "    def fun2(self):\n",
    "        print \"this is fun2 in c2\"\n",
    "class c3(c2):\n",
    "    def operations(self):\n",
    "        self.fun1()\n",
    "        self.fun2()\n",
    "o3=c3()\n",
    "o3.operations()"
   ]
  },
  {
   "cell_type": "code",
   "execution_count": 58,
   "metadata": {},
   "outputs": [
    {
     "name": "stdout",
     "output_type": "stream",
     "text": [
      "this is fun1 in c3\n",
      "this is fun2 in c2\n"
     ]
    }
   ],
   "source": [
    "class c1:\n",
    "    def fun1(self):\n",
    "        print \"this is fun1 in c1\"\n",
    "class c2(c1):\n",
    "    def fun2(self):\n",
    "        print \"this is fun2 in c2\"\n",
    "class c3(c2):\n",
    "    def operations(self):\n",
    "        self.fun1()    \n",
    "        self.fun2()\n",
    "    def fun1(self):\n",
    "            print \"this is fun1 in c3\"\n",
    "o3=c3()\n",
    "o3.operations()"
   ]
  },
  {
   "cell_type": "code",
   "execution_count": 59,
   "metadata": {},
   "outputs": [
    {
     "name": "stdout",
     "output_type": "stream",
     "text": [
      "this is fun1 in c3\n",
      "this is fun2 in c2\n"
     ]
    }
   ],
   "source": [
    "class c1:\n",
    "    def fun1(self):\n",
    "        print \"this is fun1 in c1\"\n",
    "    def fun2(self):\n",
    "        print \"this is fun2 in c1\"\n",
    "class c2(c1):\n",
    "    def fun2(self):\n",
    "        print \"this is fun2 in c2\"\n",
    "class c3(c2):\n",
    "    def operations(self):\n",
    "        self.fun1()    \n",
    "        self.fun2()\n",
    "    def fun1(self):\n",
    "            print \"this is fun1 in c3\"\n",
    "o3=c3()\n",
    "o3.operations()"
   ]
  },
  {
   "cell_type": "code",
   "execution_count": 60,
   "metadata": {},
   "outputs": [
    {
     "name": "stdout",
     "output_type": "stream",
     "text": [
      "this is fun1 in c1\n",
      "this is fun2 in c2\n"
     ]
    }
   ],
   "source": [
    "class c1:\n",
    "    def fun1(self):\n",
    "        print \"this is fun1 in c1\"\n",
    "    def fun2(self):\n",
    "        print \"this is fun2 in c1\"\n",
    "class c2(c1):\n",
    "    def fun2(self):\n",
    "        print \"this is fun2 in c2\"\n",
    "class c3(c2):\n",
    "    def operations(self):\n",
    "        self.fun1()    \n",
    "        self.fun2()\n",
    "    #def fun1(self):\n",
    "     #       print \"this is fun1 in c3\"\n",
    "o3=c3()\n",
    "o3.operations()"
   ]
  },
  {
   "cell_type": "code",
   "execution_count": 61,
   "metadata": {},
   "outputs": [
    {
     "name": "stdout",
     "output_type": "stream",
     "text": [
      "this is fun1 in c3\n",
      "this is fun2 in c1\n"
     ]
    }
   ],
   "source": [
    "class c1:\n",
    "    def fun1(self):\n",
    "        print \"this is fun1 in c1\"\n",
    "    def fun2(self):\n",
    "        print \"this is fun2 in c1\"\n",
    "class c2():\n",
    "    def fun2(self):\n",
    "        print \"this is fun2 in c2\"\n",
    "class c3(c1,c2):\n",
    "    def operations(self):\n",
    "        self.fun1()    \n",
    "        self.fun2()\n",
    "    def fun1(self):\n",
    "        print \"this is fun1 in c3\"\n",
    "o3=c3()\n",
    "o3.operations()"
   ]
  },
  {
   "cell_type": "code",
   "execution_count": 62,
   "metadata": {},
   "outputs": [
    {
     "name": "stdout",
     "output_type": "stream",
     "text": [
      "this is fun1 in c1\n",
      "this is fun2 in c1\n"
     ]
    }
   ],
   "source": [
    "class c1:\n",
    "    def fun1(self):\n",
    "        print \"this is fun1 in c1\"\n",
    "    def fun2(self):\n",
    "        print \"this is fun2 in c1\"\n",
    "class c2(c1):\n",
    "    def fun3(self):\n",
    "        print \"this is fun2 in c2\"\n",
    "class c3(c2):\n",
    "    def operations(self):\n",
    "        self.fun1()    \n",
    "        self.fun2()\n",
    "    #def fun1(self):\n",
    "     #       print \"this is fun1 in c3\"\n",
    "o3=c3()\n",
    "o3.operations()"
   ]
  },
  {
   "cell_type": "code",
   "execution_count": 63,
   "metadata": {},
   "outputs": [
    {
     "name": "stdout",
     "output_type": "stream",
     "text": [
      "this is fun2 in c2\n"
     ]
    }
   ],
   "source": [
    "class c1:\n",
    "    def fun1(self):\n",
    "        print \"this is fun1 in c1\"\n",
    "class c2(c1):\n",
    "    def fun2(self):\n",
    "        print \"this is fun2 in c2\"\n",
    "class c3(c2):\n",
    "    def operations(self):\n",
    "        self.fun1()\n",
    "o3=c3()\n",
    "o3.fun2()"
   ]
  },
  {
   "cell_type": "code",
   "execution_count": null,
   "metadata": {},
   "outputs": [],
   "source": [
    "#method overloading , calling same function with diff num of arguments and diff type.\n",
    "# in python , this can be achieved using *args or **kwargsx`"
   ]
  },
  {
   "cell_type": "code",
   "execution_count": 1,
   "metadata": {},
   "outputs": [
    {
     "name": "stdout",
     "output_type": "stream",
     "text": [
      "insert:{'name': 'cust1', 'address': 'ad1'}, customer\n",
      "insert:{'ware': 'w1', 'name': 'sup', 'address': 'ad1'}, sup\n"
     ]
    }
   ],
   "source": [
    "class Model:\n",
    "    def __init__(self, data,table=None):\n",
    "        self.data=data\n",
    "        self.table=table\n",
    "    def insert(self):\n",
    "        print \"insert:%s, %s\"%(self.data,self.table)\n",
    "    def update(self):\n",
    "        print \"update:%s, %s\"%(self.data,self.table)\n",
    "    def delete(self):\n",
    "        print \"delete:%s, %s\"%(self.data,self.table)\n",
    "class Customer(Model):\n",
    "    pass\n",
    "class Sup(Model):\n",
    "    pass\n",
    "c1=Customer(data={\"name\":\"cust1\",\"address\":\"ad1\"},table=\"customer\")\n",
    "s=Sup(data={\"name\":\"sup\",\"address\":\"ad1\",\"ware\":\"w1\"}, table=\"sup\")\n",
    "c1.insert()\n",
    "s.insert()"
   ]
  },
  {
   "cell_type": "code",
   "execution_count": 2,
   "metadata": {},
   "outputs": [
    {
     "ename": "AttributeError",
     "evalue": "Customer instance has no attribute 'data'",
     "output_type": "error",
     "traceback": [
      "\u001b[1;31m---------------------------------------------------------------------------\u001b[0m",
      "\u001b[1;31mAttributeError\u001b[0m                            Traceback (most recent call last)",
      "\u001b[1;32m<ipython-input-2-2d1196d584c7>\u001b[0m in \u001b[0;36m<module>\u001b[1;34m()\u001b[0m\n\u001b[0;32m     22\u001b[0m \u001b[0mc1\u001b[0m\u001b[1;33m=\u001b[0m\u001b[0mCustomer\u001b[0m\u001b[1;33m(\u001b[0m\u001b[1;34m\"cust1\"\u001b[0m\u001b[1;33m,\u001b[0m\u001b[1;34m\"address1\"\u001b[0m\u001b[1;33m)\u001b[0m\u001b[1;33m\u001b[0m\u001b[0m\n\u001b[0;32m     23\u001b[0m \u001b[0ms\u001b[0m\u001b[1;33m=\u001b[0m\u001b[0mSup\u001b[0m\u001b[1;33m(\u001b[0m\u001b[1;34m\"sup1\"\u001b[0m\u001b[1;33m,\u001b[0m\u001b[1;34m\"address2\"\u001b[0m\u001b[1;33m,\u001b[0m\u001b[1;34m\"ware1\"\u001b[0m\u001b[1;33m)\u001b[0m\u001b[1;33m\u001b[0m\u001b[0m\n\u001b[1;32m---> 24\u001b[1;33m \u001b[0mc1\u001b[0m\u001b[1;33m.\u001b[0m\u001b[0minsert\u001b[0m\u001b[1;33m(\u001b[0m\u001b[1;33m)\u001b[0m\u001b[1;33m\u001b[0m\u001b[0m\n\u001b[0m\u001b[0;32m     25\u001b[0m \u001b[0ms\u001b[0m\u001b[1;33m.\u001b[0m\u001b[0minsert\u001b[0m\u001b[1;33m(\u001b[0m\u001b[1;33m)\u001b[0m\u001b[1;33m\u001b[0m\u001b[0m\n",
      "\u001b[1;32m<ipython-input-2-2d1196d584c7>\u001b[0m in \u001b[0;36minsert\u001b[1;34m(self)\u001b[0m\n\u001b[0;32m      3\u001b[0m         \u001b[0mself\u001b[0m\u001b[1;33m.\u001b[0m\u001b[0mdata\u001b[0m\u001b[1;33m=\u001b[0m\u001b[0mdata\u001b[0m\u001b[1;33m\u001b[0m\u001b[0m\n\u001b[0;32m      4\u001b[0m     \u001b[1;32mdef\u001b[0m \u001b[0minsert\u001b[0m\u001b[1;33m(\u001b[0m\u001b[0mself\u001b[0m\u001b[1;33m)\u001b[0m\u001b[1;33m:\u001b[0m\u001b[1;33m\u001b[0m\u001b[0m\n\u001b[1;32m----> 5\u001b[1;33m         \u001b[1;32mprint\u001b[0m \u001b[1;34m\"insert:%s, %s\"\u001b[0m\u001b[1;33m%\u001b[0m\u001b[1;33m(\u001b[0m\u001b[0mself\u001b[0m\u001b[1;33m.\u001b[0m\u001b[0mdata\u001b[0m\u001b[1;33m,\u001b[0m\u001b[0mself\u001b[0m\u001b[1;33m.\u001b[0m\u001b[0mtable\u001b[0m\u001b[1;33m)\u001b[0m\u001b[1;33m\u001b[0m\u001b[0m\n\u001b[0m\u001b[0;32m      6\u001b[0m     \u001b[1;32mdef\u001b[0m \u001b[0mupdate\u001b[0m\u001b[1;33m(\u001b[0m\u001b[0mself\u001b[0m\u001b[1;33m)\u001b[0m\u001b[1;33m:\u001b[0m\u001b[1;33m\u001b[0m\u001b[0m\n\u001b[0;32m      7\u001b[0m         \u001b[1;32mprint\u001b[0m \u001b[1;34m\"update:%s, %s\"\u001b[0m\u001b[1;33m%\u001b[0m\u001b[1;33m(\u001b[0m\u001b[0mself\u001b[0m\u001b[1;33m.\u001b[0m\u001b[0mdata\u001b[0m\u001b[1;33m,\u001b[0m\u001b[0mself\u001b[0m\u001b[1;33m.\u001b[0m\u001b[0mtable\u001b[0m\u001b[1;33m)\u001b[0m\u001b[1;33m\u001b[0m\u001b[0m\n",
      "\u001b[1;31mAttributeError\u001b[0m: Customer instance has no attribute 'data'"
     ]
    }
   ],
   "source": [
    "class Model:\n",
    "    def __init__(self, data):\n",
    "        self.data=data\n",
    "    def insert(self):\n",
    "        print \"insert:%s, %s\"%(self.data,self.table)\n",
    "    def update(self):\n",
    "        print \"update:%s, %s\"%(self.data,self.table)\n",
    "    def delete(self):\n",
    "        print \"delete:%s, %s\"%(self.data,self.table)\n",
    "class Customer(Model):\n",
    "    def __init__(self, name, address):\n",
    "        self.name=name\n",
    "        self.address=address\n",
    "        self.table=\"customer\"\n",
    "class Sup(Model):\n",
    "    def __init__(self,name, address, ware):\n",
    "        self.name=name\n",
    "        self.address=address\n",
    "        self.ware=ware\n",
    "        self.table=\"supplier\"\n",
    "        \n",
    "c1=Customer(\"cust1\",\"address1\")\n",
    "s=Sup(\"sup1\",\"address2\",\"ware1\")\n",
    "c1.insert()\n",
    "s.insert()"
   ]
  },
  {
   "cell_type": "code",
   "execution_count": 3,
   "metadata": {},
   "outputs": [
    {
     "name": "stdout",
     "output_type": "stream",
     "text": [
      "insert:{'name': 'cust1', 'address': 'address1'}, customer\n",
      "insert:{'ware': 'ware1', 'name': 'sup1', 'address': 'address2'}, supplier\n"
     ]
    }
   ],
   "source": [
    "class Model:\n",
    "    def __init__(self, data):\n",
    "        self.data=data\n",
    "    def insert(self):\n",
    "        print \"insert:%s, %s\"%(self.data,self.table)\n",
    "    def update(self):\n",
    "        print \"update:%s, %s\"%(self.data,self.table)\n",
    "    def delete(self):\n",
    "        print \"delete:%s, %s\"%(self.data,self.table)\n",
    "class Customer(Model):\n",
    "    def __init__(self, name, address):\n",
    "        self.name=name\n",
    "        self.address=address\n",
    "        self.table=\"customer\"\n",
    "        self.data={\"name\":self.name,\"address\":self.address}\n",
    "class Sup(Model):\n",
    "    def __init__(self,name, address, ware):\n",
    "        self.name=name\n",
    "        self.address=address\n",
    "        self.ware=ware\n",
    "        self.table=\"supplier\"\n",
    "        self.data={\"name\":self.name,\"address\":self.address,\"ware\":self.ware}\n",
    "        \n",
    "c1=Customer(\"cust1\",\"address1\")\n",
    "s=Sup(\"sup1\",\"address2\",\"ware1\")\n",
    "c1.insert()\n",
    "s.insert()"
   ]
  },
  {
   "cell_type": "code",
   "execution_count": 4,
   "metadata": {},
   "outputs": [
    {
     "ename": "TypeError",
     "evalue": "__init__() got an unexpected keyword argument 'data'",
     "output_type": "error",
     "traceback": [
      "\u001b[1;31m---------------------------------------------------------------------------\u001b[0m",
      "\u001b[1;31mTypeError\u001b[0m                                 Traceback (most recent call last)",
      "\u001b[1;32m<ipython-input-4-785cff611bbd>\u001b[0m in \u001b[0;36m<module>\u001b[1;34m()\u001b[0m\n\u001b[0;32m     22\u001b[0m         \u001b[0mself\u001b[0m\u001b[1;33m.\u001b[0m\u001b[0m__init__\u001b[0m\u001b[1;33m(\u001b[0m\u001b[0mdata\u001b[0m\u001b[1;33m=\u001b[0m\u001b[1;33m{\u001b[0m\u001b[1;34m\"name\"\u001b[0m\u001b[1;33m:\u001b[0m\u001b[0mself\u001b[0m\u001b[1;33m.\u001b[0m\u001b[0mname\u001b[0m\u001b[1;33m,\u001b[0m\u001b[1;34m\"address\"\u001b[0m\u001b[1;33m:\u001b[0m\u001b[0mself\u001b[0m\u001b[1;33m.\u001b[0m\u001b[0maddress\u001b[0m\u001b[1;33m,\u001b[0m\u001b[1;34m\"ware\"\u001b[0m\u001b[1;33m:\u001b[0m\u001b[0mself\u001b[0m\u001b[1;33m.\u001b[0m\u001b[0mware\u001b[0m\u001b[1;33m}\u001b[0m\u001b[1;33m)\u001b[0m\u001b[1;33m\u001b[0m\u001b[0m\n\u001b[0;32m     23\u001b[0m \u001b[1;33m\u001b[0m\u001b[0m\n\u001b[1;32m---> 24\u001b[1;33m \u001b[0mc1\u001b[0m\u001b[1;33m=\u001b[0m\u001b[0mCustomer\u001b[0m\u001b[1;33m(\u001b[0m\u001b[1;34m\"cust1\"\u001b[0m\u001b[1;33m,\u001b[0m\u001b[1;34m\"address1\"\u001b[0m\u001b[1;33m)\u001b[0m\u001b[1;33m\u001b[0m\u001b[0m\n\u001b[0m\u001b[0;32m     25\u001b[0m \u001b[0ms\u001b[0m\u001b[1;33m=\u001b[0m\u001b[0mSup\u001b[0m\u001b[1;33m(\u001b[0m\u001b[1;34m\"sup1\"\u001b[0m\u001b[1;33m,\u001b[0m\u001b[1;34m\"address2\"\u001b[0m\u001b[1;33m,\u001b[0m\u001b[1;34m\"ware1\"\u001b[0m\u001b[1;33m)\u001b[0m\u001b[1;33m\u001b[0m\u001b[0m\n\u001b[0;32m     26\u001b[0m \u001b[0mc1\u001b[0m\u001b[1;33m.\u001b[0m\u001b[0minsert\u001b[0m\u001b[1;33m(\u001b[0m\u001b[1;33m)\u001b[0m\u001b[1;33m\u001b[0m\u001b[0m\n",
      "\u001b[1;32m<ipython-input-4-785cff611bbd>\u001b[0m in \u001b[0;36m__init__\u001b[1;34m(self, name, address)\u001b[0m\n\u001b[0;32m     13\u001b[0m         \u001b[0mself\u001b[0m\u001b[1;33m.\u001b[0m\u001b[0maddress\u001b[0m\u001b[1;33m=\u001b[0m\u001b[0maddress\u001b[0m\u001b[1;33m\u001b[0m\u001b[0m\n\u001b[0;32m     14\u001b[0m         \u001b[0mself\u001b[0m\u001b[1;33m.\u001b[0m\u001b[0mtable\u001b[0m\u001b[1;33m=\u001b[0m\u001b[1;34m\"customer\"\u001b[0m\u001b[1;33m\u001b[0m\u001b[0m\n\u001b[1;32m---> 15\u001b[1;33m         \u001b[0mself\u001b[0m\u001b[1;33m.\u001b[0m\u001b[0m__init__\u001b[0m\u001b[1;33m(\u001b[0m\u001b[0mdata\u001b[0m\u001b[1;33m=\u001b[0m\u001b[1;33m{\u001b[0m\u001b[1;34m\"name\"\u001b[0m\u001b[1;33m:\u001b[0m\u001b[0mself\u001b[0m\u001b[1;33m.\u001b[0m\u001b[0mname\u001b[0m\u001b[1;33m,\u001b[0m\u001b[1;34m\"address\"\u001b[0m\u001b[1;33m:\u001b[0m\u001b[0mself\u001b[0m\u001b[1;33m.\u001b[0m\u001b[0maddress\u001b[0m\u001b[1;33m}\u001b[0m\u001b[1;33m)\u001b[0m\u001b[1;33m\u001b[0m\u001b[0m\n\u001b[0m\u001b[0;32m     16\u001b[0m \u001b[1;32mclass\u001b[0m \u001b[0mSup\u001b[0m\u001b[1;33m(\u001b[0m\u001b[0mModel\u001b[0m\u001b[1;33m)\u001b[0m\u001b[1;33m:\u001b[0m\u001b[1;33m\u001b[0m\u001b[0m\n\u001b[0;32m     17\u001b[0m     \u001b[1;32mdef\u001b[0m \u001b[0m__init__\u001b[0m\u001b[1;33m(\u001b[0m\u001b[0mself\u001b[0m\u001b[1;33m,\u001b[0m\u001b[0mname\u001b[0m\u001b[1;33m,\u001b[0m \u001b[0maddress\u001b[0m\u001b[1;33m,\u001b[0m \u001b[0mware\u001b[0m\u001b[1;33m)\u001b[0m\u001b[1;33m:\u001b[0m\u001b[1;33m\u001b[0m\u001b[0m\n",
      "\u001b[1;31mTypeError\u001b[0m: __init__() got an unexpected keyword argument 'data'"
     ]
    }
   ],
   "source": [
    "class Model:\n",
    "    def __init__(self, data):\n",
    "        self.data=data\n",
    "    def insert(self):\n",
    "        print \"insert:%s, %s\"%(self.data,self.table)\n",
    "    def update(self):\n",
    "        print \"update:%s, %s\"%(self.data,self.table)\n",
    "    def delete(self):\n",
    "        print \"delete:%s, %s\"%(self.data,self.table)\n",
    "class Customer(Model):\n",
    "    def __init__(self, name, address):\n",
    "        self.name=name\n",
    "        self.address=address\n",
    "        self.table=\"customer\"\n",
    "        self.__init__(data={\"name\":self.name,\"address\":self.address})\n",
    "class Sup(Model):\n",
    "    def __init__(self,name, address, ware):\n",
    "        self.name=name\n",
    "        self.address=address\n",
    "        self.ware=ware\n",
    "        self.table=\"supplier\"\n",
    "        self.__init__(data={\"name\":self.name,\"address\":self.address,\"ware\":self.ware})\n",
    "        \n",
    "c1=Customer(\"cust1\",\"address1\")\n",
    "s=Sup(\"sup1\",\"address2\",\"ware1\")\n",
    "c1.insert()\n",
    "s.insert()"
   ]
  },
  {
   "cell_type": "code",
   "execution_count": 5,
   "metadata": {},
   "outputs": [
    {
     "name": "stdout",
     "output_type": "stream",
     "text": [
      "insert:{'name': 'cust1', 'address': 'address1'}, customer\n",
      "insert:{'ware': 'ware1', 'name': 'sup1', 'address': 'address2'}, supplier\n"
     ]
    }
   ],
   "source": [
    "class Model:\n",
    "    def __init__(self, data):\n",
    "        self.data=data\n",
    "    def insert(self):\n",
    "        print \"insert:%s, %s\"%(self.data,self.table)\n",
    "    def update(self):\n",
    "        print \"update:%s, %s\"%(self.data,self.table)\n",
    "    def delete(self):\n",
    "        print \"delete:%s, %s\"%(self.data,self.table)\n",
    "class Customer(Model):\n",
    "    def __init__(self, name, address):\n",
    "        self.name=name\n",
    "        self.address=address\n",
    "        self.table=\"customer\"\n",
    "        Model.__init__(self,data={\"name\":self.name,\"address\":self.address})\n",
    "class Sup(Model):\n",
    "    def __init__(self,name, address, ware):\n",
    "        self.name=name\n",
    "        self.address=address\n",
    "        self.ware=ware\n",
    "        self.table=\"supplier\"\n",
    "        Model.__init__(self,data={\"name\":self.name,\"address\":self.address,\"ware\":self.ware})\n",
    "        \n",
    "c1=Customer(\"cust1\",\"address1\")\n",
    "s=Sup(\"sup1\",\"address2\",\"ware1\")\n",
    "c1.insert()\n",
    "s.insert()"
   ]
  },
  {
   "cell_type": "code",
   "execution_count": 6,
   "metadata": {},
   "outputs": [
    {
     "name": "stdout",
     "output_type": "stream",
     "text": [
      "insert:{'name': 'cust1', 'address': 'address1'}, customer\n",
      "validate\n",
      "insert:{'ware': 'ware1', 'name': 'sup1', 'address': 'address2'}, supplier\n"
     ]
    }
   ],
   "source": [
    "class Model:\n",
    "    def __init__(self, data):\n",
    "        self.data=data\n",
    "    def insert(self):\n",
    "        print \"insert:%s, %s\"%(self.data,self.table)\n",
    "    def update(self):\n",
    "        print \"update:%s, %s\"%(self.data,self.table)\n",
    "    def delete(self):\n",
    "        print \"delete:%s, %s\"%(self.data,self.table)\n",
    "class Customer(Model):\n",
    "    def __init__(self, name, address):\n",
    "        self.name=name\n",
    "        self.address=address\n",
    "        self.table=\"customer\"\n",
    "        Model.__init__(self,data={\"name\":self.name,\"address\":self.address})\n",
    "class Sup(Model):\n",
    "    def __init__(self,name, address, ware):\n",
    "        self.name=name\n",
    "        self.address=address\n",
    "        self.ware=ware\n",
    "        self.table=\"supplier\"\n",
    "        Model.__init__(self,data={\"name\":self.name,\"address\":self.address,\"ware\":self.ware})\n",
    "    def validate_insert(self):\n",
    "        print \"validate\"\n",
    "        print \"insert:%s, %s\"%(self.data,self.table)\n",
    "        \n",
    "c1=Customer(\"cust1\",\"address1\")\n",
    "s=Sup(\"sup1\",\"address2\",\"ware1\")\n",
    "c1.insert()\n",
    "s.validate_insert()"
   ]
  },
  {
   "cell_type": "code",
   "execution_count": 10,
   "metadata": {},
   "outputs": [
    {
     "name": "stdout",
     "output_type": "stream",
     "text": [
      "insert values {'name': 'Customer', 'address': 'Address1'} Customer\n",
      "insert values {'shop': 'Warehouse', 'name': 'Supplier', 'address': 'Address2'} Supplier\n"
     ]
    }
   ],
   "source": [
    "class Model():\n",
    "    def __init__(self,data,table):\n",
    "        self.data=data\n",
    "        self.table=table\n",
    "    def insert(self):\n",
    "        print 'insert values %s %s'%(self.data,self.table)\n",
    "    def update(self):\n",
    "        print 'update values %s %s'%(self.data,self.table)\n",
    "    def delete(self):\n",
    "        print 'delete values %s %s'%(self.data,self.table)\n",
    "class Customer(Model):\n",
    "    def __init__(self,name,address):\n",
    "        self.name=name\n",
    "        self.address=address\n",
    "        self.table=\"Customer\"\n",
    "        self.data={\"name\":self.name,\"address\":self.address}\n",
    "class supplier(Model):\n",
    "    def __init__(self,name,address,shop):\n",
    "        self.name=name\n",
    "        self.address=address\n",
    "        self.shop=shop\n",
    "        self.table=\"Supplier\"\n",
    "        self.data={\"name\":self.name,\"address\":self.address,\"shop\":self.shop}\n",
    "c1=Customer(\"Customer\",\"Address1\")\n",
    "sup=supplier(\"Supplier\",\"Address2\",\"Warehouse\")\n",
    "c1.insert()\n",
    "sup.insert()\n",
    "    \n",
    "    "
   ]
  },
  {
   "cell_type": "code",
   "execution_count": 12,
   "metadata": {},
   "outputs": [
    {
     "name": "stdout",
     "output_type": "stream",
     "text": [
      "<__main__.Emp instance at 0x00000000052CB088>\n"
     ]
    }
   ],
   "source": [
    "# method overloading\n",
    "# calling a same function with different number of arguments and different types of arguments\n",
    "# in python can achieve this using defalut arguments, *args, **kwargs\n",
    "class Emp:\n",
    "    def __init__(self, name, age=0, weight=0, height=0):\n",
    "        self.name=name\n",
    "        self.age=age\n",
    "        self.weight=weight\n",
    "        self.height=height\n",
    "anil=Emp(\"Anil kumar\")\n",
    "jay=Emp(\"jayaram\",1.5, 12)\n",
    "vedha=Emp(\"Vedhanvesh\",0.5,7,1)\n",
    "print anil"
   ]
  },
  {
   "cell_type": "code",
   "execution_count": 13,
   "metadata": {},
   "outputs": [
    {
     "name": "stdout",
     "output_type": "stream",
     "text": [
      "new is called\n",
      "None\n"
     ]
    }
   ],
   "source": [
    "# singleton\n",
    "\"\"\"\n",
    "Three steps are involved in data object creation i.e : anil=Emp(\"Anil kumar\")\n",
    "1. it will call __new__ method to create data object\n",
    "2. by taking the data object from __new__, it will call constructor. do.__init__(params)\n",
    "3. return the dataobject. that is refer by anil in the below program.\n",
    "\"\"\"\n",
    "class Emp(object):\n",
    "    def __new__(cls, *args):\n",
    "        print \"new is called\"\n",
    "        return None\n",
    "    def __init__(self, name, age=0, weight=0, height=0):\n",
    "        print \"init called\"\n",
    "        self.name=name\n",
    "        self.age=age\n",
    "        self.weight=weight\n",
    "        self.height=height\n",
    "anil=Emp(\"Anil kumar\")\n",
    "print anil"
   ]
  },
  {
   "cell_type": "code",
   "execution_count": 16,
   "metadata": {},
   "outputs": [
    {
     "name": "stdout",
     "output_type": "stream",
     "text": [
      "new is called\n"
     ]
    },
    {
     "ename": "AttributeError",
     "evalue": "'NoneType' object has no attribute 'get'",
     "output_type": "error",
     "traceback": [
      "\u001b[1;31m---------------------------------------------------------------------------\u001b[0m",
      "\u001b[1;31mAttributeError\u001b[0m                            Traceback (most recent call last)",
      "\u001b[1;32m<ipython-input-16-fa044d084d63>\u001b[0m in \u001b[0;36m<module>\u001b[1;34m()\u001b[0m\n\u001b[0;32m     19\u001b[0m         \u001b[1;32mreturn\u001b[0m \u001b[0mself\u001b[0m\u001b[1;33m.\u001b[0m\u001b[0mname\u001b[0m\u001b[1;33m,\u001b[0m \u001b[0mself\u001b[0m\u001b[1;33m.\u001b[0m\u001b[0mage\u001b[0m\u001b[1;33m,\u001b[0m \u001b[0mself\u001b[0m\u001b[1;33m.\u001b[0m\u001b[0mweight\u001b[0m\u001b[1;33m,\u001b[0m \u001b[0mself\u001b[0m\u001b[1;33m.\u001b[0m\u001b[0mheight\u001b[0m\u001b[1;33m\u001b[0m\u001b[0m\n\u001b[0;32m     20\u001b[0m \u001b[0manil\u001b[0m\u001b[1;33m=\u001b[0m\u001b[0mEmp\u001b[0m\u001b[1;33m(\u001b[0m\u001b[1;34m\"Anil kumar\"\u001b[0m\u001b[1;33m)\u001b[0m\u001b[1;33m\u001b[0m\u001b[0m\n\u001b[1;32m---> 21\u001b[1;33m \u001b[1;32mprint\u001b[0m \u001b[0manil\u001b[0m\u001b[1;33m.\u001b[0m\u001b[0mget\u001b[0m\u001b[1;33m(\u001b[0m\u001b[1;33m)\u001b[0m\u001b[1;33m\u001b[0m\u001b[0m\n\u001b[0m",
      "\u001b[1;31mAttributeError\u001b[0m: 'NoneType' object has no attribute 'get'"
     ]
    }
   ],
   "source": [
    "# singleton\n",
    "\"\"\"\n",
    "Three steps are involved in data object creation i.e : anil=Emp(\"Anil kumar\")\n",
    "1. it will call __new__ method to create data object\n",
    "2. by taking the data object from __new__, it will call constructor. do.__init__(params)\n",
    "3. return the dataobject. that is refer by anil in the below program.\n",
    "\"\"\"\n",
    "class Emp(object):\n",
    "    def __new__(cls, *args):\n",
    "        print \"new is called\"\n",
    "        return None\n",
    "    def __init__(self, name, age=0, weight=0, height=0):\n",
    "        print \"init called\"\n",
    "        self.name=name\n",
    "        self.age=age\n",
    "        self.weight=weight\n",
    "        self.height=height\n",
    "    def get(self):\n",
    "        return self.name, self.age, self.weight, self.height\n",
    "anil=Emp(\"Anil kumar\")\n",
    "print anil.get()"
   ]
  },
  {
   "cell_type": "code",
   "execution_count": 17,
   "metadata": {},
   "outputs": [
    {
     "name": "stdout",
     "output_type": "stream",
     "text": [
      "new is called\n",
      "init called\n",
      "('Anil kumar', 0, 0, 0)\n"
     ]
    },
    {
     "name": "stderr",
     "output_type": "stream",
     "text": [
      "C:\\Users\\umasa\\Anaconda2\\lib\\site-packages\\ipykernel_launcher.py:11: DeprecationWarning: object() takes no parameters\n",
      "  # This is added back by InteractiveShellApp.init_path()\n"
     ]
    }
   ],
   "source": [
    "# singleton\n",
    "\"\"\"\n",
    "Three steps are involved in data object creation i.e : anil=Emp(\"Anil kumar\")\n",
    "1. it will call __new__ method to create data object\n",
    "2. by taking the data object from __new__, it will call constructor. do.__init__(params)\n",
    "3. return the dataobject. that is refer by anil in the below program.\n",
    "\"\"\"\n",
    "class Emp(object):\n",
    "    def __new__(cls, *args):\n",
    "        print \"new is called\"\n",
    "        return object.__new__(cls, *args)\n",
    "    def __init__(self, name, age=0, weight=0, height=0):\n",
    "        print \"init called\"\n",
    "        self.name=name\n",
    "        self.age=age\n",
    "        self.weight=weight\n",
    "        self.height=height\n",
    "    def get(self):\n",
    "        return self.name, self.age, self.weight, self.height\n",
    "anil=Emp(\"Anil kumar\")\n",
    "print anil.get()"
   ]
  },
  {
   "cell_type": "code",
   "execution_count": 18,
   "metadata": {},
   "outputs": [
    {
     "name": "stdout",
     "output_type": "stream",
     "text": [
      "new is called\n",
      "init called\n",
      "('Anil kumar', 0, 0, 0)\n",
      "new is called\n",
      "init called\n",
      "('jayaram', 0, 0, 0)\n",
      "new is called\n"
     ]
    },
    {
     "name": "stderr",
     "output_type": "stream",
     "text": [
      "C:\\Users\\umasa\\Anaconda2\\lib\\site-packages\\ipykernel_launcher.py:16: DeprecationWarning: object() takes no parameters\n",
      "  app.launch_new_instance()\n"
     ]
    },
    {
     "ename": "Exception",
     "evalue": "Can create only two objects.",
     "output_type": "error",
     "traceback": [
      "\u001b[1;31m---------------------------------------------------------------------------\u001b[0m",
      "\u001b[1;31mException\u001b[0m                                 Traceback (most recent call last)",
      "\u001b[1;32m<ipython-input-18-b48c52c2b1c6>\u001b[0m in \u001b[0;36m<module>\u001b[1;34m()\u001b[0m\n\u001b[0;32m     29\u001b[0m \u001b[0mjay\u001b[0m\u001b[1;33m=\u001b[0m\u001b[0mEmp\u001b[0m\u001b[1;33m(\u001b[0m\u001b[1;34m\"jayaram\"\u001b[0m\u001b[1;33m)\u001b[0m\u001b[1;33m\u001b[0m\u001b[0m\n\u001b[0;32m     30\u001b[0m \u001b[1;32mprint\u001b[0m \u001b[0mjay\u001b[0m\u001b[1;33m.\u001b[0m\u001b[0mget\u001b[0m\u001b[1;33m(\u001b[0m\u001b[1;33m)\u001b[0m\u001b[1;33m\u001b[0m\u001b[0m\n\u001b[1;32m---> 31\u001b[1;33m \u001b[0mvedha\u001b[0m\u001b[1;33m=\u001b[0m\u001b[0mEmp\u001b[0m\u001b[1;33m(\u001b[0m\u001b[1;34m\"Vedhanvesh\"\u001b[0m\u001b[1;33m)\u001b[0m\u001b[1;33m\u001b[0m\u001b[0m\n\u001b[0m",
      "\u001b[1;32m<ipython-input-18-b48c52c2b1c6>\u001b[0m in \u001b[0;36m__new__\u001b[1;34m(cls, *args)\u001b[0m\n\u001b[0;32m     11\u001b[0m         \u001b[1;32mprint\u001b[0m \u001b[1;34m\"new is called\"\u001b[0m\u001b[1;33m\u001b[0m\u001b[0m\n\u001b[0;32m     12\u001b[0m         \u001b[1;32mif\u001b[0m \u001b[0mcls\u001b[0m\u001b[1;33m.\u001b[0m\u001b[0mobj_count\u001b[0m\u001b[1;33m>=\u001b[0m\u001b[1;36m2\u001b[0m\u001b[1;33m:\u001b[0m\u001b[1;33m\u001b[0m\u001b[0m\n\u001b[1;32m---> 13\u001b[1;33m             \u001b[1;32mraise\u001b[0m \u001b[0mException\u001b[0m\u001b[1;33m(\u001b[0m\u001b[1;34m\"Can create only two objects.\"\u001b[0m\u001b[1;33m)\u001b[0m\u001b[1;33m\u001b[0m\u001b[0m\n\u001b[0m\u001b[0;32m     14\u001b[0m         \u001b[1;32melse\u001b[0m\u001b[1;33m:\u001b[0m\u001b[1;33m\u001b[0m\u001b[0m\n\u001b[0;32m     15\u001b[0m             \u001b[0mcls\u001b[0m\u001b[1;33m.\u001b[0m\u001b[0mobj_count\u001b[0m \u001b[1;33m=\u001b[0m \u001b[0mcls\u001b[0m\u001b[1;33m.\u001b[0m\u001b[0mobj_count\u001b[0m\u001b[1;33m+\u001b[0m\u001b[1;36m1\u001b[0m\u001b[1;33m\u001b[0m\u001b[0m\n",
      "\u001b[1;31mException\u001b[0m: Can create only two objects."
     ]
    }
   ],
   "source": [
    "# singleton\n",
    "\"\"\"\n",
    "Three steps are involved in data object creation i.e : anil=Emp(\"Anil kumar\")\n",
    "1. it will call __new__ method to create data object\n",
    "2. by taking the data object from __new__, it will call constructor. do.__init__(params)\n",
    "3. return the dataobject. that is refer by anil in the below program.\n",
    "\"\"\"\n",
    "class Emp(object):\n",
    "    obj_count=0\n",
    "    def __new__(cls, *args):\n",
    "        print \"new is called\"\n",
    "        if cls.obj_count>=2:\n",
    "            raise Exception(\"Can create only two objects.\")\n",
    "        else:\n",
    "            cls.obj_count = cls.obj_count+1\n",
    "            obj = object.__new__(cls, *args)\n",
    "            return obj\n",
    "        \n",
    "    def __init__(self, name, age=0, weight=0, height=0):\n",
    "        print \"init called\"\n",
    "        self.name=name\n",
    "        self.age=age\n",
    "        self.weight=weight\n",
    "        self.height=height\n",
    "    def get(self):\n",
    "        return self.name, self.age, self.weight, self.height\n",
    "anil=Emp(\"Anil kumar\")\n",
    "print anil.get()\n",
    "jay=Emp(\"jayaram\")\n",
    "print jay.get()\n",
    "vedha=Emp(\"Vedhanvesh\")"
   ]
  },
  {
   "cell_type": "code",
   "execution_count": 20,
   "metadata": {},
   "outputs": [
    {
     "name": "stdout",
     "output_type": "stream",
     "text": [
      "new is called\n",
      "init called\n",
      "('Anil kumar', 0, 0, 0)\n",
      "new is called\n",
      "init called\n",
      "('jayaram', 0, 0, 0)\n",
      "new is called\n",
      "init called\n"
     ]
    },
    {
     "name": "stderr",
     "output_type": "stream",
     "text": [
      "C:\\Users\\umasa\\Anaconda2\\lib\\site-packages\\ipykernel_launcher.py:16: DeprecationWarning: object() takes no parameters\n",
      "  app.launch_new_instance()\n"
     ]
    }
   ],
   "source": [
    "# singleton\n",
    "\"\"\"\n",
    "Three steps are involved in data object creation i.e : anil=Emp(\"Anil kumar\")\n",
    "1. it will call __new__ method to create data object\n",
    "2. by taking the data object from __new__, it will call constructor. do.__init__(params)\n",
    "3. return the dataobject. that is refer by anil in the below program.\n",
    "\"\"\"\n",
    "class Emp(object):\n",
    "    obj_count=0\n",
    "    def __new__(cls, *args):\n",
    "        print \"new is called\"\n",
    "        if cls.obj_count>=3:\n",
    "            raise Exception(\"Can create only two objects.\")\n",
    "        else:\n",
    "            cls.obj_count = cls.obj_count+1\n",
    "            obj = object.__new__(cls, *args)\n",
    "            return obj\n",
    "        \n",
    "    def __init__(self, name, age=0, weight=0, height=0):\n",
    "        print \"init called\"\n",
    "        self.name=name\n",
    "        self.age=age\n",
    "        self.weight=weight\n",
    "        self.height=height\n",
    "    def get(self):\n",
    "        return self.name, self.age, self.weight, self.height\n",
    "anil=Emp(\"Anil kumar\")\n",
    "print anil.get()\n",
    "jay=Emp(\"jayaram\")\n",
    "print jay.get()\n",
    "vedha=Emp(\"Vedhanvesh\")"
   ]
  },
  {
   "cell_type": "code",
   "execution_count": null,
   "metadata": {},
   "outputs": [],
   "source": []
  }
 ],
 "metadata": {
  "kernelspec": {
   "display_name": "Python 2",
   "language": "python",
   "name": "python2"
  },
  "language_info": {
   "codemirror_mode": {
    "name": "ipython",
    "version": 2
   },
   "file_extension": ".py",
   "mimetype": "text/x-python",
   "name": "python",
   "nbconvert_exporter": "python",
   "pygments_lexer": "ipython2",
   "version": "2.7.15"
  }
 },
 "nbformat": 4,
 "nbformat_minor": 2
}
