{
 "cells": [
  {
   "cell_type": "code",
   "execution_count": 1,
   "metadata": {},
   "outputs": [
    {
     "name": "stdout",
     "output_type": "stream",
     "text": [
      "[10, 20, 30, 40, 50, 60, 70, 80, 100, 200, 1000, 10000]\n",
      "12\n"
     ]
    }
   ],
   "source": [
    "#Convert this list as single dimensional list\n",
    "l=[10,20,[30,40,50],[60,70,80,[100,200],1000],10000]\n",
    "s=[]\n",
    "for i in l:\n",
    "    if type(i) == list:\n",
    "        for j in i:\n",
    "            if type(j)==list:\n",
    "                for k in j:\n",
    "                    if type(k)== int:\n",
    "                        s.append(k)\n",
    "            else:\n",
    "                s.append(j)\n",
    "    elif type(i) == int:\n",
    "        s.append(i)\n",
    "print s\n",
    "print len(s)"
   ]
  },
  {
   "cell_type": "code",
   "execution_count": 7,
   "metadata": {},
   "outputs": [
    {
     "name": "stdout",
     "output_type": "stream",
     "text": [
      "count of G 1\n",
      "count of o 2\n",
      "count of o 2\n",
      "count of g 1\n",
      "count of l 1\n",
      "count of e 1\n"
     ]
    }
   ],
   "source": [
    "#input: \"Google\" print count of each character\n",
    "str=\"Google\"\n",
    "for i in str:\n",
    "    print \"count of %s\"%i,str.count(i)"
   ]
  },
  {
   "cell_type": "code",
   "execution_count": 6,
   "metadata": {},
   "outputs": [
    {
     "name": "stdout",
     "output_type": "stream",
     "text": [
      "1\n"
     ]
    }
   ],
   "source": [
    "str=\"Google\"\n",
    "print str.count(\"G\")"
   ]
  },
  {
   "cell_type": "code",
   "execution_count": 19,
   "metadata": {},
   "outputs": [
    {
     "name": "stdout",
     "output_type": "stream",
     "text": [
      "<type 'list'>\n",
      "<type 'str'>\n"
     ]
    }
   ],
   "source": [
    "#l=[1,2,3]\n",
    "l=['a','b','c']\n",
    "k= [i for i in l]\n",
    "print type(k)\n",
    "s=''.join(k)\n",
    "print type(s)"
   ]
  },
  {
   "cell_type": "code",
   "execution_count": 20,
   "metadata": {},
   "outputs": [
    {
     "name": "stdout",
     "output_type": "stream",
     "text": [
      "['A', 'B', 'C', 'D', 'a', 'b', 'c', 'd']\n"
     ]
    }
   ],
   "source": [
    "#l=['a','A','b','B','d','D','c','C']  sort the list properly\n",
    "l=['a','A','b','B','d','D','c','C']\n",
    "l.sort()\n",
    "print l"
   ]
  },
  {
   "cell_type": "code",
   "execution_count": 32,
   "metadata": {},
   "outputs": [
    {
     "name": "stdout",
     "output_type": "stream",
     "text": [
      "Count of A is 1\n",
      "Count of B is 1\n",
      "Count of C is 1\n",
      "Count of D is 1\n",
      "Count of a is 1\n",
      "Count of b is 1\n",
      "Count of c is 1\n",
      "Count of d is 1\n",
      "Count of A is 1\n",
      "Count of B is 1\n",
      "Count of C is 1\n",
      "Count of D is 1\n",
      "Count of A is 1\n",
      "Count of B is 1\n",
      "Count of C is 1\n",
      "Count of D is 1\n"
     ]
    }
   ],
   "source": [
    "# l=['a','A','b','B','d','D','c','C'] WAP to find out case insensitive count and case insensitive search for an element.\n",
    "l=['a','A','b','B','d','D','c','C']\n",
    "l.sort()\n",
    "for i in l:\n",
    "    print 'Count of %s is'%i ,l.count(i)\n",
    "l1= (i.upper() for i in l)\n",
    "#print l1\n",
    "for i in l1:\n",
    "    print 'Count of %s is'%i ,l.count(i)"
   ]
  },
  {
   "cell_type": "code",
   "execution_count": 26,
   "metadata": {},
   "outputs": [
    {
     "name": "stdout",
     "output_type": "stream",
     "text": [
      "1\n",
      "1\n",
      "1\n",
      "1\n",
      "1\n",
      "1\n",
      "1\n",
      "1\n"
     ]
    }
   ],
   "source": [
    "l=['a','A','b','B','d','D','c','C']\n",
    "for i in l:\n",
    "    print l.count(i.upper())"
   ]
  },
  {
   "cell_type": "code",
   "execution_count": 33,
   "metadata": {},
   "outputs": [
    {
     "name": "stdout",
     "output_type": "stream",
     "text": [
      "set([1, 2, 3, 4, 5, 6, 7])\n"
     ]
    }
   ],
   "source": [
    "#WAP to find union and intersection of lists\n",
    "l1={1,2,3,4,5}\n",
    "l2={4,5,6,7}\n",
    "print l1.union(l2)"
   ]
  },
  {
   "cell_type": "code",
   "execution_count": 36,
   "metadata": {},
   "outputs": [
    {
     "name": "stdout",
     "output_type": "stream",
     "text": [
      "set([4, 5])\n",
      "set([4, 5])\n",
      "set([1, 2, 3])\n",
      "set([6, 7])\n"
     ]
    }
   ],
   "source": [
    "#WAP to find union and intersection of lists\n",
    "l1={1,2,3,4,5}\n",
    "l2={4,5,6,7}\n",
    "print l1.intersection(l2)\n",
    "print l2.intersection(l1)\n",
    "print l1.difference(l2)\n",
    "print l2.difference(l1)"
   ]
  },
  {
   "cell_type": "code",
   "execution_count": 37,
   "metadata": {},
   "outputs": [
    {
     "name": "stdout",
     "output_type": "stream",
     "text": [
      "[1, 2, 3, 4]\n"
     ]
    }
   ],
   "source": [
    "#78.\tinput: fun(5) output: [1,2,3,4,3,2,1]\n",
    "def fun(a):\n",
    "    l=[]\n",
    "    for i in range(a):\n",
    "         if i> 0:\n",
    "            l.append(i)\n",
    "    print l\n",
    "fun(5)"
   ]
  },
  {
   "cell_type": "code",
   "execution_count": 40,
   "metadata": {},
   "outputs": [
    {
     "name": "stdout",
     "output_type": "stream",
     "text": [
      "[1, 1, 2, 2, 3, 3, 3, 4, 4]\n",
      "[1, 2, 3, 4]\n"
     ]
    }
   ],
   "source": [
    "#80.\tRemove duplicates from the list: a=[1,2,3,2,3,4,1,3,4]\n",
    "a=[1,2,3,2,3,4,1,3,4]\n",
    "a.sort()\n",
    "print a\n",
    "for i in a:\n",
    "    a.remove(i)\n",
    "print a\n"
   ]
  },
  {
   "cell_type": "code",
   "execution_count": 43,
   "metadata": {},
   "outputs": [
    {
     "name": "stdout",
     "output_type": "stream",
     "text": [
      "6\n"
     ]
    }
   ],
   "source": [
    "#81.\tl=['1','2','3'] get the sum of the list\n",
    "l=['1','2','3']\n",
    "Sum = 0\n",
    "for i in l:\n",
    "    Sum = Sum + int(i)\n",
    "print Sum"
   ]
  },
  {
   "cell_type": "code",
   "execution_count": 46,
   "metadata": {},
   "outputs": [
    {
     "name": "stdout",
     "output_type": "stream",
     "text": [
      "[1, 2, 3, 4, 5, 6, 7, 8] <type 'list'>\n"
     ]
    }
   ],
   "source": [
    "#l1=[1,2,3,4] l2=[5,6,7,8] sum of two lists\n",
    "l1=[1,2,3,4]\n",
    "l2=[5,6,7,8]\n",
    "l3 = l1+l2\n",
    "print l3,type(l3)"
   ]
  },
  {
   "cell_type": "code",
   "execution_count": 50,
   "metadata": {},
   "outputs": [
    {
     "name": "stdout",
     "output_type": "stream",
     "text": [
      "{'e': 1, 'o': 2, 'g': 2, 'l': 1}\n"
     ]
    }
   ],
   "source": [
    "l=\"google\"\n",
    "d={}\n",
    "for i in l:\n",
    "    key = i\n",
    "    value = l.count(i)\n",
    "    d.update({key:value})\n",
    "print d"
   ]
  },
  {
   "cell_type": "code",
   "execution_count": 51,
   "metadata": {},
   "outputs": [
    {
     "name": "stdout",
     "output_type": "stream",
     "text": [
      "<type 'list'>\n"
     ]
    }
   ],
   "source": [
    "l=[(\"mohan\", 80), (\"satish\", 90), (\"purnesh\", 40), (\"venkat\", 30)]\n",
    "print type(l)"
   ]
  },
  {
   "cell_type": "code",
   "execution_count": 52,
   "metadata": {},
   "outputs": [
    {
     "name": "stdout",
     "output_type": "stream",
     "text": [
      "[('mohan', 80), ('purnesh', 40), ('satish', 90), ('venkat', 30)]\n"
     ]
    }
   ],
   "source": [
    "l=[(\"mohan\", 80), (\"satish\", 90), (\"purnesh\", 40), (\"venkat\", 30)]\n",
    "l.sort()\n",
    "print l"
   ]
  },
  {
   "cell_type": "code",
   "execution_count": 58,
   "metadata": {},
   "outputs": [
    {
     "name": "stdout",
     "output_type": "stream",
     "text": [
      "[('mohan', 80), ('purnesh', 40), ('satish', 90), ('venkat', 30)]\n"
     ]
    }
   ],
   "source": [
    "l=[(\"mohan\", 80), (\"satish\", 90), (\"purnesh\", 40), (\"venkat\", 30)]\n",
    "l.sort(reverse=False)\n",
    "print l"
   ]
  },
  {
   "cell_type": "code",
   "execution_count": 100,
   "metadata": {},
   "outputs": [
    {
     "name": "stdout",
     "output_type": "stream",
     "text": [
      "[('mohan', 80), ('purnesh', 40), ('satish', 90), ('venkat', 30)]\n"
     ]
    }
   ],
   "source": [
    "from operator import itemgetter\n",
    "l=[(\"mohan\", 80), (\"satish\", 90), (\"purnesh\", 40), (\"venkat\", 30)]\n",
    "l=sorted(l,key=itemgetter(0))\n",
    "print l"
   ]
  },
  {
   "cell_type": "code",
   "execution_count": 99,
   "metadata": {},
   "outputs": [
    {
     "name": "stdout",
     "output_type": "stream",
     "text": [
      "[('venkat', 30), ('purnesh', 40), ('mohan', 80), ('satish', 90)]\n"
     ]
    }
   ],
   "source": [
    "#Sort the list marks = [(\"mohan\", 80), (\"satish\", 90), (\"purnesh\", 40), (\"venkat\", 30)] according to descending order of marks\n",
    "from operator import itemgetter\n",
    "l=[(\"mohan\", 80), (\"satish\", 90), (\"purnesh\", 40), (\"venkat\", 30)]\n",
    "l= sorted(l, key=itemgetter(1))\n",
    "print l"
   ]
  },
  {
   "cell_type": "code",
   "execution_count": 1,
   "metadata": {},
   "outputs": [
    {
     "data": {
      "text/plain": [
       "[20, 30, 40, 50]"
      ]
     },
     "execution_count": 1,
     "metadata": {},
     "output_type": "execute_result"
    }
   ],
   "source": [
    "#Assignment without using For , add 10 to every element\n",
    "l=[10,20,30,40]\n",
    "map(lambda x:x+10, l)"
   ]
  },
  {
   "cell_type": "code",
   "execution_count": 7,
   "metadata": {},
   "outputs": [
    {
     "name": "stdout",
     "output_type": "stream",
     "text": [
      "[10, 20, 30, 40, 50, 50, 50, 60, 70, 70]\n"
     ]
    }
   ],
   "source": [
    "#95.\tWAP to remove n occurrences of specified element from a list\n",
    "l=[10,20,30,40,50,50,50,60,70,70,70,70]\n",
    "def remele(x,y):\n",
    "    r= l.count(x)\n",
    "    #print r\n",
    "    while y>0:\n",
    "        l.remove(x)\n",
    "        y=y-1\n",
    "    print l\n",
    "remele(70,2)\n",
    "    \n",
    "\n"
   ]
  },
  {
   "cell_type": "code",
   "execution_count": 4,
   "metadata": {},
   "outputs": [
    {
     "name": "stdout",
     "output_type": "stream",
     "text": [
      "[10, 20, 30, 40, 50, 50, 50, 60, 70, 70, 70]\n"
     ]
    }
   ],
   "source": [
    "l=[10,20,30,40,50,50,50,60,70,70,70,70]\n",
    "l.remove(70)\n",
    "print l"
   ]
  },
  {
   "cell_type": "code",
   "execution_count": 11,
   "metadata": {},
   "outputs": [
    {
     "name": "stdout",
     "output_type": "stream",
     "text": [
      "True\n"
     ]
    }
   ],
   "source": [
    "#96.\tcompare two lists ignore order. i.e return True l1=[1,2,3,4],l2=[4,2,3,1], fun(l1,l2)-> True\n",
    "l1=[1,2,3,4]\n",
    "l2=[4,2,3,1]\n",
    "l1.sort()\n",
    "l2.sort()\n",
    "def cmplist(l1,l2):\n",
    "    if l1==l2:\n",
    "        print 'True'\n",
    "    else:\n",
    "        print 'false'\n",
    "cmplist(l1,l2)"
   ]
  },
  {
   "cell_type": "code",
   "execution_count": 20,
   "metadata": {},
   "outputs": [
    {
     "name": "stdout",
     "output_type": "stream",
     "text": [
      "[0, 0.1, 0.2, 0.3, 0.4, 0.5, 0.6, 0.7, 0.8, 0.9]\n"
     ]
    }
   ],
   "source": [
    "#102.\tWAP to generate list of floats i.e: fun(0,1,0.1), [0,0.1,0.2,0.3,0.4,0.5,0.6,0.7,0.8,0.9]\n",
    "l=[]\n",
    "def fun(a,b,c):\n",
    "    while a<b:\n",
    "        l.append(a)\n",
    "        a=round(a+c,1)\n",
    "    print l\n",
    "fun(0,1,0.1)"
   ]
  },
  {
   "cell_type": "code",
   "execution_count": 1,
   "metadata": {},
   "outputs": [
    {
     "name": "stdout",
     "output_type": "stream",
     "text": [
      "<type 'tuple'>\n",
      "[212, 34, 12, 4, 3, 3, 2, 1, 1]\n",
      "212\n"
     ]
    }
   ],
   "source": [
    "n=1,2,3,4,1,34,3,212,12\n",
    "print type(n)\n",
    "l=list(n)\n",
    "#print l, type(l)\n",
    "l.sort(reverse=True)\n",
    "print l\n",
    "print l[0]"
   ]
  },
  {
   "cell_type": "code",
   "execution_count": 2,
   "metadata": {},
   "outputs": [
    {
     "name": "stdout",
     "output_type": "stream",
     "text": [
      "python margorp good egaugnal\n"
     ]
    }
   ],
   "source": [
    "#ex: \"python program good language\"-> \"python margorp good egaugnal\"\n",
    "str=\"python program good language\"\n",
    "l=str.split(' ')\n",
    "#print l\n",
    "res=[]\n",
    "c=0\n",
    "for i in l:\n",
    "    if c%2==0:\n",
    "        res.append(i)\n",
    "    else:\n",
    "        i=i[::-1]\n",
    "        res.append(i)\n",
    "    c=c+1\n",
    "print ' '.join(res)\n"
   ]
  },
  {
   "cell_type": "code",
   "execution_count": 3,
   "metadata": {},
   "outputs": [
    {
     "name": "stdout",
     "output_type": "stream",
     "text": [
      "abcdefgabcefgadbcde\n",
      "abcdefgabcefgadbcde\n",
      "abcdefgabcefgadbcdefg\n"
     ]
    }
   ],
   "source": [
    "#WAP to remove all occurrences of given substring from actual string\n",
    "str='abcdefgabcefgadbcdefg'\n",
    "s=str.strip('fg')\n",
    "l=str.rstrip('fg')\n",
    "print s\n",
    "print l\n",
    "print str"
   ]
  },
  {
   "cell_type": "code",
   "execution_count": 4,
   "metadata": {},
   "outputs": [
    {
     "name": "stdout",
     "output_type": "stream",
     "text": [
      "abcdabcadbcd\n"
     ]
    }
   ],
   "source": [
    "#WAP to remove all occurrences of given substring from actual string\n",
    "str='abcdefgabcefgadbcdefg'\n",
    "l=str.split('efg')\n",
    "l=''.join(l)\n",
    "print l"
   ]
  },
  {
   "cell_type": "code",
   "execution_count": 5,
   "metadata": {},
   "outputs": [
    {
     "name": "stdout",
     "output_type": "stream",
     "text": [
      "abcdabcadbcd\n"
     ]
    }
   ],
   "source": [
    "#WAP to remove all occurrences of given substring from actual string\n",
    "str='abcdefgabcefgadbcdefg'\n",
    "str=str.split('efg')\n",
    "str=''.join(str)\n",
    "print str"
   ]
  },
  {
   "cell_type": "code",
   "execution_count": 6,
   "metadata": {},
   "outputs": [
    {
     "name": "stdout",
     "output_type": "stream",
     "text": [
      "abcdabcadbcdefg\n"
     ]
    }
   ],
   "source": [
    "#104.\tWAP to remove first n occurrences of given substring from actual string\n",
    "str='abcdefgabcefgadbcdefg'\n",
    "l=str.split('efg',2)\n",
    "str=''.join(l)\n",
    "print str"
   ]
  },
  {
   "cell_type": "code",
   "execution_count": 7,
   "metadata": {},
   "outputs": [
    {
     "name": "stdout",
     "output_type": "stream",
     "text": [
      "['python', 'program', 'good', 'language']\n"
     ]
    }
   ],
   "source": [
    "str=\"python2program2good2language\"\n",
    "l=str.split('2')\n",
    "print l"
   ]
  },
  {
   "cell_type": "code",
   "execution_count": 8,
   "metadata": {},
   "outputs": [
    {
     "name": "stdout",
     "output_type": "stream",
     "text": [
      "abcdxxxabcxxxadbcdefg\n"
     ]
    }
   ],
   "source": [
    "#WAP to replace last n occurrences of given substring with destination string in actual string\n",
    "str='abcdefgabcefgadbcdefg'\n",
    "str=str.replace('efg','xxx',2)\n",
    "print str"
   ]
  },
  {
   "cell_type": "code",
   "execution_count": 9,
   "metadata": {},
   "outputs": [
    {
     "name": "stdout",
     "output_type": "stream",
     "text": [
      "[10, 20, 20, 40, 10, 50]\n"
     ]
    }
   ],
   "source": [
    "#98.\thow to remove all occurrences of the given element in a list\n",
    "l=[10,20,30,20,30,40,10,30,50,30]\n",
    "#res=[]\n",
    "for i in l:\n",
    "    if i==30:\n",
    "        l.remove(i)\n",
    "print l"
   ]
  },
  {
   "cell_type": "code",
   "execution_count": 10,
   "metadata": {},
   "outputs": [
    {
     "name": "stdout",
     "output_type": "stream",
     "text": [
      "[20, 30, 20, 30, 40, 10, 50]\n"
     ]
    }
   ],
   "source": [
    "l=[10,20,30,20,30,40,10,50]\n",
    "l.remove(10)\n",
    "print l"
   ]
  },
  {
   "cell_type": "code",
   "execution_count": 11,
   "metadata": {},
   "outputs": [
    {
     "name": "stdout",
     "output_type": "stream",
     "text": [
      "['a', 3, 2, 4, 5, 'z', 5, 4]\n"
     ]
    }
   ],
   "source": [
    "l=['a',2,3,2,4,5,'z',5,4]\n",
    "l.remove(2)\n",
    "print l\n"
   ]
  },
  {
   "cell_type": "code",
   "execution_count": 12,
   "metadata": {},
   "outputs": [
    {
     "name": "stdout",
     "output_type": "stream",
     "text": [
      "[10, 20, 20, 40, 10, 30, 50, 30]\n"
     ]
    }
   ],
   "source": [
    "#99.\thow to remove first n occurrences of the given element in a list\n",
    "l=[10,20,30,20,30,40,10,30,50,30]\n",
    "c,n=0,2\n",
    "for i in l:\n",
    "    if i==30:\n",
    "        l.remove(i)\n",
    "        c=c+1\n",
    "    if c==n:\n",
    "        break\n",
    "print l\n"
   ]
  },
  {
   "cell_type": "code",
   "execution_count": 33,
   "metadata": {},
   "outputs": [
    {
     "name": "stdout",
     "output_type": "stream",
     "text": [
      "[10, 20, 30, 20, 30, 40, 10, 50]\n"
     ]
    }
   ],
   "source": [
    "#100.\thow to remove last n occurrences of the given element in a list\n",
    "l=[10,20,30,20,30,40,10,30,50,30]\n",
    "l.reverse()\n",
    "c,n=0,2\n",
    "for i in l:\n",
    "    if i==30:\n",
    "        l.remove(i)\n",
    "        c=c+1\n",
    "    if c==n:\n",
    "        break\n",
    "l.reverse()\n",
    "print l"
   ]
  },
  {
   "cell_type": "code",
   "execution_count": 34,
   "metadata": {},
   "outputs": [
    {
     "name": "stdout",
     "output_type": "stream",
     "text": [
      "[50, 10, 40, 30, 20, 30, 20, 10]\n"
     ]
    }
   ],
   "source": [
    "#100.\thow to remove last n occurrences of the given element in a list\n",
    "l=[10,20,30,20,30,40,10,30,50,30]\n",
    "l=[i for i in l[::-1]]\n",
    "c,n=0,2\n",
    "for i in res:\n",
    "    if i==30:\n",
    "        l.remove(i)\n",
    "        c=c+1\n",
    "    if c==n:\n",
    "        break\n",
    "#res.sort(reverse=True)\n",
    "l=[i for i in res[::-1]]\n",
    "print l"
   ]
  },
  {
   "cell_type": "code",
   "execution_count": 31,
   "metadata": {},
   "outputs": [
    {
     "name": "stdout",
     "output_type": "stream",
     "text": [
      "['ch', 'sf', 'cc', 'ch', 'sc', 'sh', 'ch', 'sh']\n"
     ]
    }
   ],
   "source": [
    "X = ['ch','sf', 'cc', 'ch', 'sc', 'sh', 'ch','sh','ch']\n",
    "X.reverse()\n",
    "X.remove('ch')\n",
    "X.reverse()\n",
    "print X"
   ]
  },
  {
   "cell_type": "code",
   "execution_count": 60,
   "metadata": {},
   "outputs": [
    {
     "name": "stdout",
     "output_type": "stream",
     "text": [
      "[10, 20, 30, 20, 30, 40, 10, 50, 30]\n"
     ]
    }
   ],
   "source": [
    "#101.\thow to remove nth occurrence of the given element in a list\n",
    "l=[10,20,30,20,30,40,10,30,50,30]\n",
    "res=[]\n",
    "k,c=3,0\n",
    "for i in l:\n",
    "    if i==30:\n",
    "        c=c+1\n",
    "        if c==k:\n",
    "            continue\n",
    "    res.append(i)\n",
    "print res\n",
    "        \n",
    "    "
   ]
  },
  {
   "cell_type": "code",
   "execution_count": 88,
   "metadata": {},
   "outputs": [
    {
     "name": "stdout",
     "output_type": "stream",
     "text": [
      "[220, 170, 169, 110, 100, 90, 50, 40, 30, 25, 20, 10]\n",
      "169\n"
     ]
    }
   ],
   "source": [
    "#Find third max value of element in a list with soring and without sorting a list.\n",
    "l=[10,20,30,20,30,40,10,30,50,30,100,25,110,90,220,220,169,169,170,50,50,10,20,40]\n",
    "l.sort()\n",
    "#print l\n",
    "a=0\n",
    "for i in l:\n",
    "    a=l.count(i)\n",
    "    while a>1:\n",
    "        l.remove(i)\n",
    "        a=a-1\n",
    "l.reverse()\n",
    "print l\n",
    "print l[2]"
   ]
  },
  {
   "cell_type": "code",
   "execution_count": 6,
   "metadata": {},
   "outputs": [
    {
     "name": "stdout",
     "output_type": "stream",
     "text": [
      "[10, 20, 30, 40, 50, 100, 25, 110, 90, 220, 169, 170]\n",
      "[220, 170, 169, 110, 100, 90, 50, 40, 30, 25, 20, 10] 169\n"
     ]
    }
   ],
   "source": [
    "#Find third max value of element in a list with soring and without sorting a list.\n",
    "l=[10,20,30,20,30,40,10,30,50,30,100,25,110,90,220,220,169,169,170,50,50,10,20,40]\n",
    "a,b=0,0\n",
    "res=[]\n",
    "for i in l:    \n",
    "        if i in res:\n",
    "            pass\n",
    "        else:\n",
    "            res.append(i)\n",
    "print res\n",
    "lt=len(res)\n",
    "for i in res:\n",
    "    for a in range(lt-1):\n",
    "        if res[a]<res[a+1]:\n",
    "            temp=res[a+1]\n",
    "            res[a+1]=res[a]\n",
    "            res[a]=temp\n",
    "print res,res[2]    \n"
   ]
  },
  {
   "cell_type": "code",
   "execution_count": 36,
   "metadata": {},
   "outputs": [
    {
     "name": "stdout",
     "output_type": "stream",
     "text": [
      "[30, 20, 40, 10]\n"
     ]
    }
   ],
   "source": [
    "res=[20,30,40,10]\n",
    "i=res[0]\n",
    "res[0]=res[1]\n",
    "res[1]=i\n",
    "print res\n",
    "\n"
   ]
  },
  {
   "cell_type": "code",
   "execution_count": 1,
   "metadata": {},
   "outputs": [
    {
     "name": "stdout",
     "output_type": "stream",
     "text": [
      "false\n"
     ]
    }
   ],
   "source": [
    "i=10\n",
    "res=[20,30,40,10]\n",
    "if i > (j for j in res):\n",
    "    print 'true'\n",
    "else:\n",
    "    print 'false'"
   ]
  },
  {
   "cell_type": "code",
   "execution_count": 20,
   "metadata": {},
   "outputs": [
    {
     "name": "stdout",
     "output_type": "stream",
     "text": [
      "be it be it be it what u want be it xx xx what u want xx xx 6\n"
     ]
    }
   ],
   "source": [
    "#replace last two occurrences of given source string with destination string\n",
    "str='be it be it be it what u want be it be it what u want be it'\n",
    "l=str.count('be it')\n",
    "str= str.replace('be it','xx xx')\n",
    "str= str.replace('xx xx','be it',4)\n",
    "print str,l"
   ]
  },
  {
   "cell_type": "code",
   "execution_count": null,
   "metadata": {},
   "outputs": [],
   "source": []
  }
 ],
 "metadata": {
  "kernelspec": {
   "display_name": "Python 2",
   "language": "python",
   "name": "python2"
  },
  "language_info": {
   "codemirror_mode": {
    "name": "ipython",
    "version": 2
   },
   "file_extension": ".py",
   "mimetype": "text/x-python",
   "name": "python",
   "nbconvert_exporter": "python",
   "pygments_lexer": "ipython2",
   "version": "2.7.15"
  }
 },
 "nbformat": 4,
 "nbformat_minor": 2
}
