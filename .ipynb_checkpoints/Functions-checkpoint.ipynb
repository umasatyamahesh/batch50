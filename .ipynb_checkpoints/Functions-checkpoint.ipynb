{
 "cells": [
  {
   "cell_type": "code",
   "execution_count": 1,
   "metadata": {},
   "outputs": [
    {
     "name": "stdout",
     "output_type": "stream",
     "text": [
      "program started\n",
      "program ended\n",
      "this is function\n"
     ]
    }
   ],
   "source": [
    "print 'program started'\n",
    "def func():\n",
    "    print \"this is function\"\n",
    "print 'program ended'\n",
    "func()"
   ]
  },
  {
   "cell_type": "code",
   "execution_count": 3,
   "metadata": {},
   "outputs": [
    {
     "name": "stdout",
     "output_type": "stream",
     "text": [
      "a=10,b=5\n",
      "Summation: 15\n",
      "a=2,b=5\n",
      "Substraction: -3\n",
      "a=3,b=4\n",
      "multiplication: 12\n",
      "a=10,b=3)\n",
      "Division: 3.33333333333\n"
     ]
    }
   ],
   "source": [
    "def add(a,b):\n",
    "    print 'a=%s,b=%s'%(a,b)\n",
    "    print 'Summation:',a+b\n",
    "def sub(a,b):\n",
    "    print 'a=%s,b=%s'%(a,b)\n",
    "    print 'Substraction:',a-b\n",
    "def mul(a,b):\n",
    "    print 'a=%s,b=%s'%(a,b)\n",
    "    print 'multiplication:',(a*b)\n",
    "def div(a,b):\n",
    "    print 'a=%s,b=%s)'%(a,b)\n",
    "    print 'Division:',a/float(b)\n",
    "add(10,5)\n",
    "sub(2,5)\n",
    "mul(3,4)\n",
    "div(10,3)\n"
   ]
  },
  {
   "cell_type": "code",
   "execution_count": 1,
   "metadata": {},
   "outputs": [
    {
     "name": "stdout",
     "output_type": "stream",
     "text": [
      "a=10,b=2,c=1,d=0,e=0\n",
      "Sum: 13\n"
     ]
    }
   ],
   "source": [
    "def fun(a,b=20,c=0,d=0,e=0):\n",
    "    print 'a=%s,b=%s,c=%s,d=%s,e=%s'%(a,b,c,d,e)\n",
    "    print 'Sum:',(a+b+c+d+e)\n",
    "fun(10,2,1)"
   ]
  },
  {
   "cell_type": "code",
   "execution_count": 9,
   "metadata": {},
   "outputs": [
    {
     "name": "stdout",
     "output_type": "stream",
     "text": [
      " a=10,b=20\n",
      "k: (30, 40, 50)\n",
      "sum: 30\n"
     ]
    }
   ],
   "source": [
    "#*args\n",
    "def sum(a,b,*k):\n",
    "    print 'a=%d,b=%d'%(a,b)\n",
    "    print 'k:',k\n",
    "    print 'sum:',(a+b)\n",
    "sum(10,20,30,40,50)"
   ]
  },
  {
   "cell_type": "code",
   "execution_count": 19,
   "metadata": {},
   "outputs": [
    {
     "name": "stdout",
     "output_type": "stream",
     "text": [
      "kwargs: {'a': 10, 'c': 30, 'b': 20}\n",
      "<type 'dict'>\n",
      "60\n",
      "50\n"
     ]
    }
   ],
   "source": [
    "#**kwargs\n",
    "a=10\n",
    "b=20\n",
    "c=20\n",
    "def sum(**kwargs):\n",
    "    print 'kwargs:',kwargs\n",
    "    print type(kwargs)\n",
    "    print kwargs.get('a')+kwargs.get('b')+kwargs.get('c')\n",
    "    print a+b+c\n",
    "sum(a=10,b=20,c=30)"
   ]
  },
  {
   "cell_type": "code",
   "execution_count": 18,
   "metadata": {},
   "outputs": [
    {
     "name": "stdout",
     "output_type": "stream",
     "text": [
      "kwargs: {'a': 10, 'c': 30, 'b': 20}\n",
      "<type 'dict'>\n",
      "60\n"
     ]
    }
   ],
   "source": [
    "#**kwargs\n",
    "def sum(**kwargs):\n",
    "    print 'kwargs:',kwargs\n",
    "    print type(kwargs)\n",
    "    print kwargs.get('a')+kwargs.get('b')+kwargs.get('c')\n",
    "sum(a=10,b=20,c=30)"
   ]
  },
  {
   "cell_type": "code",
   "execution_count": 22,
   "metadata": {},
   "outputs": [
    {
     "name": "stdout",
     "output_type": "stream",
     "text": [
      "Prime # 2\n",
      "Prime # 3\n",
      "Prime # 5\n",
      "Prime # 7\n"
     ]
    }
   ],
   "source": [
    "def prime(a):\n",
    "    for i in range(2,a):\n",
    "        for c in range(2,i):\n",
    "            if (i%c==0):\n",
    "                break\n",
    "        else:\n",
    "            print 'Prime #',i\n",
    "            \n",
    "c=0\n",
    "prime(10)"
   ]
  },
  {
   "cell_type": "code",
   "execution_count": 23,
   "metadata": {},
   "outputs": [
    {
     "name": "stdout",
     "output_type": "stream",
     "text": [
      "P\n",
      "y\n",
      "t\n",
      "h\n",
      "o\n",
      "n\n"
     ]
    }
   ],
   "source": [
    "def readstr(str):\n",
    "    for i in str:\n",
    "        print i\n",
    "readstr('Python')"
   ]
  },
  {
   "cell_type": "code",
   "execution_count": 24,
   "metadata": {},
   "outputs": [
    {
     "name": "stdout",
     "output_type": "stream",
     "text": [
      "{'rate': 1.5, 'time': 3, 'Principal': 1000}\n",
      "45.0\n"
     ]
    }
   ],
   "source": [
    "def SimInt(**kwargs):\n",
    "    print kwargs\n",
    "    print kwargs.get('Principal')*kwargs.get('time')*kwargs.get('rate')/float(100)\n",
    "SimInt(Principal=1000,time=3,rate=1.5)"
   ]
  },
  {
   "cell_type": "code",
   "execution_count": 5,
   "metadata": {},
   "outputs": [
    {
     "name": "stdout",
     "output_type": "stream",
     "text": [
      "other stmts\n",
      "5678\n",
      "x1=1234,x2=5678,x3=10,x4=20,y1=30\n",
      "z1=30,z=1264\n",
      "5678\n",
      "pgm ended\n"
     ]
    }
   ],
   "source": [
    "x1=1234\n",
    "x2=5678\n",
    "def fun(x3,x4,y1):\n",
    "    print 'x1=%s,x2=%s,x3=%s,x4=%s,y1=%s'%(x1,x2,x3,x4,y1)\n",
    "    z=x1+y1\n",
    "    z1=x4+x3\n",
    "    print 'z1=%s,z=%s'%(z1,z)\n",
    "print 'other stmts'\n",
    "print y1\n",
    "fun(10,20,30)\n",
    "print y1\n",
    "print 'pgm ended'\n"
   ]
  },
  {
   "cell_type": "code",
   "execution_count": 9,
   "metadata": {},
   "outputs": [
    {
     "name": "stdout",
     "output_type": "stream",
     "text": [
      "a=10,b=20,c=30\n",
      "f1 <function fun at 0x0000000004EEEE48>\n",
      "f2 30\n"
     ]
    }
   ],
   "source": [
    "def fun(a,b):\n",
    "    c=a+b\n",
    "    print 'a=%s,b=%s,c=%s'%(a,b,c)\n",
    "    return c\n",
    "f1= fun\n",
    "f2= fun(10,20)\n",
    "print 'f1',f1\n",
    "print 'f2',f2\n"
   ]
  },
  {
   "cell_type": "code",
   "execution_count": 1,
   "metadata": {},
   "outputs": [
    {
     "name": "stdout",
     "output_type": "stream",
     "text": [
      "before func a=1000,b=2000\n",
      "in the function, x=10,y=15,a=16,b=17\n",
      "AFter the cal:a=%s,b=%s (1000, 2000)\n"
     ]
    }
   ],
   "source": [
    "a=1000\n",
    "b=2000\n",
    "print \"before func a=%s,b=%d\"%(a,b)\n",
    "def fun(x,y,a,b):\n",
    "    print 'in the function, x=%s,y=%s,a=%s,b=%s'%(x,y,a,b)\n",
    "fun(10,15,16,17)\n",
    "print 'AFter the cal:a=%s,b=%s',(a,b)\n"
   ]
  },
  {
   "cell_type": "code",
   "execution_count": 3,
   "metadata": {},
   "outputs": [
    {
     "name": "stdout",
     "output_type": "stream",
     "text": [
      "before func a=1000,b=2000\n",
      "in the function, x=10,y=15,a=16,b=17\n",
      "AFter the cal:a=%s,b=%s (1000, 2000)\n",
      "f1 <function fun at 0x00000000055E6208>\n",
      "f2 None\n"
     ]
    }
   ],
   "source": [
    "a=1000\n",
    "b=2000\n",
    "print \"before func a=%s,b=%d\"%(a,b)\n",
    "def fun(x,y,a,b):\n",
    "    print 'in the function, x=%s,y=%s,a=%s,b=%s'%(x,y,a,b)\n",
    "f1=fun\n",
    "f2=fun(10,15,16,17)\n",
    "print 'AFter the cal:a=%s,b=%s',(a,b)\n",
    "print 'f1', f1\n",
    "print 'f2', f2\n"
   ]
  },
  {
   "cell_type": "code",
   "execution_count": 4,
   "metadata": {},
   "outputs": [
    {
     "name": "stdout",
     "output_type": "stream",
     "text": [
      "before func a=1000,b=2000\n",
      "in the function, x=10,y=15,a=16,b=17\n",
      "AFter the cal:a=%s,b=%s (1000, 2000)\n",
      "f1 <function fun at 0x00000000055E6278>\n",
      "f2 33\n"
     ]
    }
   ],
   "source": [
    "a=1000\n",
    "b=2000\n",
    "print \"before func a=%s,b=%d\"%(a,b)\n",
    "def fun(x,y,a,b):\n",
    "    print 'in the function, x=%s,y=%s,a=%s,b=%s'%(x,y,a,b)\n",
    "    c=a+b\n",
    "    return c\n",
    "f1=fun\n",
    "f2=fun(10,15,16,17)\n",
    "print 'AFter the cal:a=%s,b=%s',(a,b)\n",
    "print 'f1', f1\n",
    "print 'f2', f2"
   ]
  },
  {
   "cell_type": "code",
   "execution_count": 5,
   "metadata": {},
   "outputs": [
    {
     "name": "stdout",
     "output_type": "stream",
     "text": [
      "before func a=1000,b=2000\n",
      "in the function, x=10,y=15,a=16,b=17\n",
      "AFter the cal:a=%s,b=%s (1000, 2000)\n",
      "f1 <function fun at 0x00000000055E6438>\n",
      "f2 (33, 16, 17, 10, 15)\n"
     ]
    }
   ],
   "source": [
    "a=1000\n",
    "b=2000\n",
    "print \"before func a=%s,b=%d\"%(a,b)\n",
    "def fun(x,y,a,b):\n",
    "    print 'in the function, x=%s,y=%s,a=%s,b=%s'%(x,y,a,b)\n",
    "    c=a+b\n",
    "    return c,a,b,x,y\n",
    "f1=fun\n",
    "f2=fun(10,15,16,17)\n",
    "print 'AFter the cal:a=%s,b=%s',(a,b)\n",
    "print 'f1', f1\n",
    "print 'f2', f2"
   ]
  },
  {
   "cell_type": "code",
   "execution_count": 6,
   "metadata": {},
   "outputs": [
    {
     "name": "stdout",
     "output_type": "stream",
     "text": [
      "(10, 20, 30)\n"
     ]
    }
   ],
   "source": [
    "def fun(a,b):\n",
    "    c=a+b\n",
    "    return a,b,c\n",
    "d= fun(10,20)\n",
    "print d"
   ]
  },
  {
   "cell_type": "code",
   "execution_count": 7,
   "metadata": {},
   "outputs": [
    {
     "name": "stdout",
     "output_type": "stream",
     "text": [
      "(10, 20, 30)\n"
     ]
    }
   ],
   "source": [
    "def fun(a,b):\n",
    "    c=a+b\n",
    "    return a,b,c\n",
    "print fun(10,20)"
   ]
  },
  {
   "cell_type": "code",
   "execution_count": 29,
   "metadata": {},
   "outputs": [
    {
     "name": "stdout",
     "output_type": "stream",
     "text": [
      "0\n",
      "1\n",
      "1\n",
      "2\n",
      "3\n",
      "5\n",
      "8\n",
      "13\n",
      "21\n",
      "34\n"
     ]
    }
   ],
   "source": [
    "#0 1 1 2 3 5 8 13......\n",
    "def fib(a):\n",
    "    b=0\n",
    "    c=1\n",
    "    for i in range (1,a+1):\n",
    "            if (i==1):\n",
    "                print b\n",
    "                continue\n",
    "            else:    \n",
    "                b=b+c\n",
    "                print b\n",
    "                c=b-c            \n",
    "fib(10)"
   ]
  },
  {
   "cell_type": "code",
   "execution_count": 9,
   "metadata": {},
   "outputs": [
    {
     "name": "stdout",
     "output_type": "stream",
     "text": [
      "True\n"
     ]
    }
   ],
   "source": [
    "str='python is a programming language'\n",
    "print 'py' in str"
   ]
  },
  {
   "cell_type": "code",
   "execution_count": 10,
   "metadata": {},
   "outputs": [
    {
     "name": "stdout",
     "output_type": "stream",
     "text": [
      "False\n"
     ]
    }
   ],
   "source": [
    "str='python is a programming language'\n",
    "print 'Py' in str"
   ]
  },
  {
   "cell_type": "code",
   "execution_count": 28,
   "metadata": {},
   "outputs": [
    {
     "name": "stdout",
     "output_type": "stream",
     "text": [
      "before func a=1000,b=2000\n",
      "in the function, x=10,y=15,a=1,b=17\n",
      "AFter the cal:a=%s,b=%s (1, 2000)\n",
      "f1 <function fun at 0x0000000004E4CF98>\n",
      "f2 (18, 1, 17, 10, 15)\n"
     ]
    }
   ],
   "source": [
    "a=1000\n",
    "b=2000\n",
    "print \"before func a=%s,b=%d\"%(a,b)\n",
    "def fun(x,y,b):\n",
    "    global a\n",
    "    a=1\n",
    "    print 'in the function, x=%s,y=%s,a=%s,b=%s'%(x,y,a,b)\n",
    "    c=a+b\n",
    "    return c,a,b,x,y\n",
    "f1=fun\n",
    "f2=fun(10,15,17)\n",
    "print 'AFter the cal:a=%s,b=%s',(a,b)\n",
    "print 'f1', f1\n",
    "print 'f2', f2"
   ]
  },
  {
   "cell_type": "code",
   "execution_count": null,
   "metadata": {},
   "outputs": [],
   "source": []
  }
 ],
 "metadata": {
  "kernelspec": {
   "display_name": "Python 2",
   "language": "python",
   "name": "python2"
  },
  "language_info": {
   "codemirror_mode": {
    "name": "ipython",
    "version": 2
   },
   "file_extension": ".py",
   "mimetype": "text/x-python",
   "name": "python",
   "nbconvert_exporter": "python",
   "pygments_lexer": "ipython2",
   "version": "2.7.15"
  }
 },
 "nbformat": 4,
 "nbformat_minor": 2
}
