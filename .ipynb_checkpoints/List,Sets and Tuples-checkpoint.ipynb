{
 "cells": [
  {
   "cell_type": "code",
   "execution_count": 1,
   "metadata": {},
   "outputs": [
    {
     "name": "stdout",
     "output_type": "stream",
     "text": [
      "set([40, 1000, 10, 20, 30])\n",
      "set([40, 1000, 10, 20, 30])\n",
      "set([40, 10, 20, 30])\n"
     ]
    }
   ],
   "source": [
    "s=set([10,20,30,40])\n",
    "s1=s\n",
    "s2=s.copy()\n",
    "s.add(1000)\n",
    "print s\n",
    "print s1\n",
    "print s2"
   ]
  },
  {
   "cell_type": "code",
   "execution_count": 1,
   "metadata": {},
   "outputs": [],
   "source": [
    "l=[10,2030,40,5,1.2,\"dfdsf\",1+2j,True, None,[1000,200,300]]"
   ]
  },
  {
   "cell_type": "code",
   "execution_count": 2,
   "metadata": {},
   "outputs": [
    {
     "name": "stdout",
     "output_type": "stream",
     "text": [
      "['p', 'y', 't', 'h', 'o', 'n']\n",
      "['apple', 'banana', 'oprange']\n"
     ]
    }
   ],
   "source": [
    "l=list(\"python\")\n",
    "print l\n",
    "s=\"apple banana oprange\"\n",
    "l=s.split()\n",
    "print l"
   ]
  },
  {
   "cell_type": "code",
   "execution_count": 3,
   "metadata": {},
   "outputs": [
    {
     "name": "stdout",
     "output_type": "stream",
     "text": [
      "[10, 20, [30, 40, 50], [60, 70, 80, [100, 200], 1000], 10000]\n"
     ]
    }
   ],
   "source": [
    "l=[10,20,[30,40,50],[60,70,80,[100,200],1000],10000]\n",
    "print l"
   ]
  },
  {
   "cell_type": "code",
   "execution_count": 4,
   "metadata": {},
   "outputs": [
    {
     "data": {
      "text/plain": [
       "5"
      ]
     },
     "execution_count": 4,
     "metadata": {},
     "output_type": "execute_result"
    }
   ],
   "source": [
    "len(l)"
   ]
  },
  {
   "cell_type": "code",
   "execution_count": 5,
   "metadata": {},
   "outputs": [
    {
     "name": "stdout",
     "output_type": "stream",
     "text": [
      "10\n",
      "20\n",
      "[30, 40, 50]\n",
      "[60, 70, 80, [100, 200], 1000]\n",
      "10000\n"
     ]
    }
   ],
   "source": [
    "for i in l:\n",
    "    print i"
   ]
  },
  {
   "cell_type": "code",
   "execution_count": 7,
   "metadata": {},
   "outputs": [
    {
     "name": "stdout",
     "output_type": "stream",
     "text": [
      "[10, 20, [30, 40, 50], [60, 70, 80, [100, 200], 1000], 10000]\n"
     ]
    }
   ],
   "source": [
    "s=str(l)\n",
    "print s"
   ]
  },
  {
   "cell_type": "code",
   "execution_count": 9,
   "metadata": {},
   "outputs": [
    {
     "name": "stdout",
     "output_type": "stream",
     "text": [
      "[10, 20, [30, 40, 50], [60, 70, 80, [100, 200], 1000], 10000]\n"
     ]
    }
   ],
   "source": [
    "s.strip('[')\n",
    "print s"
   ]
  },
  {
   "cell_type": "code",
   "execution_count": 1,
   "metadata": {},
   "outputs": [
    {
     "name": "stdout",
     "output_type": "stream",
     "text": [
      "[1, 2, 3, 4, 5, 6, 7, 8]\n"
     ]
    }
   ],
   "source": [
    "l1=[1,2,3,4]\n",
    "l2=[5,6,7,8]\n",
    "print l1+l2"
   ]
  },
  {
   "cell_type": "code",
   "execution_count": 2,
   "metadata": {},
   "outputs": [
    {
     "name": "stdout",
     "output_type": "stream",
     "text": [
      "[1, 2, 3, 4, 5, 4, 7, 8]\n"
     ]
    }
   ],
   "source": [
    "l1=[1,2,3,4]\n",
    "l2=[5,4,7,8]\n",
    "print l1+l2"
   ]
  },
  {
   "cell_type": "code",
   "execution_count": 3,
   "metadata": {},
   "outputs": [
    {
     "ename": "TypeError",
     "evalue": "unsupported operand type(s) for -: 'list' and 'list'",
     "output_type": "error",
     "traceback": [
      "\u001b[1;31m---------------------------------------------------------------------------\u001b[0m",
      "\u001b[1;31mTypeError\u001b[0m                                 Traceback (most recent call last)",
      "\u001b[1;32m<ipython-input-3-a03ef0aca588>\u001b[0m in \u001b[0;36m<module>\u001b[1;34m()\u001b[0m\n\u001b[1;32m----> 1\u001b[1;33m \u001b[1;32mprint\u001b[0m \u001b[0ml1\u001b[0m\u001b[1;33m-\u001b[0m\u001b[0ml2\u001b[0m\u001b[1;33m\u001b[0m\u001b[0m\n\u001b[0m",
      "\u001b[1;31mTypeError\u001b[0m: unsupported operand type(s) for -: 'list' and 'list'"
     ]
    }
   ],
   "source": [
    "print l1-l2"
   ]
  },
  {
   "cell_type": "code",
   "execution_count": 4,
   "metadata": {},
   "outputs": [
    {
     "name": "stdout",
     "output_type": "stream",
     "text": [
      "False\n"
     ]
    }
   ],
   "source": [
    "l1=[1,2,3,4]\n",
    "l2=[5,6,7,8]\n",
    "print l1>l2"
   ]
  },
  {
   "cell_type": "code",
   "execution_count": 5,
   "metadata": {},
   "outputs": [
    {
     "data": {
      "text/plain": [
       "True"
      ]
     },
     "execution_count": 5,
     "metadata": {},
     "output_type": "execute_result"
    }
   ],
   "source": [
    "l1=[1,2,3,4]\n",
    "l2=[1,2,3,4]\n",
    "l1==l2"
   ]
  },
  {
   "cell_type": "code",
   "execution_count": 6,
   "metadata": {},
   "outputs": [
    {
     "data": {
      "text/plain": [
       "False"
      ]
     },
     "execution_count": 6,
     "metadata": {},
     "output_type": "execute_result"
    }
   ],
   "source": [
    "l1=[1,2,3,4]\n",
    "l2=[1,2,3,3]\n",
    "l1==l2"
   ]
  },
  {
   "cell_type": "code",
   "execution_count": 7,
   "metadata": {},
   "outputs": [
    {
     "data": {
      "text/plain": [
       "True"
      ]
     },
     "execution_count": 7,
     "metadata": {},
     "output_type": "execute_result"
    }
   ],
   "source": [
    "l1=[1,2,3,4]\n",
    "l2=[1,2,3,3]\n",
    "l1>l2"
   ]
  },
  {
   "cell_type": "code",
   "execution_count": 8,
   "metadata": {},
   "outputs": [
    {
     "data": {
      "text/plain": [
       "True"
      ]
     },
     "execution_count": 8,
     "metadata": {},
     "output_type": "execute_result"
    }
   ],
   "source": [
    "l1=[5,2,3,2,100,200,300]\n",
    "l2=[1,2,3,3]\n",
    "l1>l2"
   ]
  },
  {
   "cell_type": "code",
   "execution_count": 9,
   "metadata": {},
   "outputs": [
    {
     "data": {
      "text/plain": [
       "[10, 20, 30, 40, 50]"
      ]
     },
     "execution_count": 9,
     "metadata": {},
     "output_type": "execute_result"
    }
   ],
   "source": [
    "l1=[10,20,30,40]\n",
    "l1+[50]"
   ]
  },
  {
   "cell_type": "code",
   "execution_count": 10,
   "metadata": {},
   "outputs": [
    {
     "ename": "TypeError",
     "evalue": "unsupported operand type(s) for -: 'list' and 'list'",
     "output_type": "error",
     "traceback": [
      "\u001b[1;31m---------------------------------------------------------------------------\u001b[0m",
      "\u001b[1;31mTypeError\u001b[0m                                 Traceback (most recent call last)",
      "\u001b[1;32m<ipython-input-10-8d92128e1ba7>\u001b[0m in \u001b[0;36m<module>\u001b[1;34m()\u001b[0m\n\u001b[0;32m      1\u001b[0m \u001b[0ml1\u001b[0m\u001b[1;33m=\u001b[0m\u001b[1;33m[\u001b[0m\u001b[1;36m10\u001b[0m\u001b[1;33m,\u001b[0m\u001b[1;36m20\u001b[0m\u001b[1;33m,\u001b[0m\u001b[1;36m30\u001b[0m\u001b[1;33m,\u001b[0m\u001b[1;36m40\u001b[0m\u001b[1;33m,\u001b[0m\u001b[1;36m50\u001b[0m\u001b[1;33m]\u001b[0m\u001b[1;33m\u001b[0m\u001b[0m\n\u001b[1;32m----> 2\u001b[1;33m \u001b[0ml1\u001b[0m\u001b[1;33m-\u001b[0m\u001b[1;33m[\u001b[0m\u001b[1;36m50\u001b[0m\u001b[1;33m]\u001b[0m\u001b[1;33m\u001b[0m\u001b[0m\n\u001b[0m",
      "\u001b[1;31mTypeError\u001b[0m: unsupported operand type(s) for -: 'list' and 'list'"
     ]
    }
   ],
   "source": [
    "l1=[10,20,30,40,50]\n",
    "l1-[50]"
   ]
  },
  {
   "cell_type": "code",
   "execution_count": 11,
   "metadata": {},
   "outputs": [
    {
     "name": "stdout",
     "output_type": "stream",
     "text": [
      "[10, 20, 30, 40, 50]\n",
      "[10, 20, 30, 40]\n"
     ]
    }
   ],
   "source": [
    "l1=[10,20,30,40]\n",
    "l2=l1+[50]\n",
    "print l2\n",
    "print l1"
   ]
  },
  {
   "cell_type": "code",
   "execution_count": 13,
   "metadata": {},
   "outputs": [
    {
     "name": "stdout",
     "output_type": "stream",
     "text": [
      "[10, 20, 30, 40, 50]\n",
      "None\n"
     ]
    }
   ],
   "source": [
    "l=[10,20,30,40]\n",
    "l1=l.append(50)\n",
    "print l\n",
    "print l1"
   ]
  },
  {
   "cell_type": "code",
   "execution_count": 14,
   "metadata": {},
   "outputs": [
    {
     "name": "stdout",
     "output_type": "stream",
     "text": [
      "<type 'list'>\n",
      "10 <type 'int'>\n",
      "20 <type 'int'>\n",
      "[30, 40, 50] <type 'list'>\n",
      "[60, 70, 80, [100, 200], 1000] <type 'list'>\n",
      "10000 <type 'int'>\n"
     ]
    }
   ],
   "source": [
    "l=[10,20,[30,40,50],[60,70,80,[100,200],1000],10000]\n",
    "print type(l)\n",
    "for i in l:\n",
    "    print i, type(i)\n"
   ]
  },
  {
   "cell_type": "code",
   "execution_count": 15,
   "metadata": {},
   "outputs": [
    {
     "name": "stdout",
     "output_type": "stream",
     "text": [
      "[10, 20, [30, 40, 50], [60, 70, 80, [100, 200], 1000], 10000]\n"
     ]
    }
   ],
   "source": [
    "s=str(l)\n",
    "print s"
   ]
  },
  {
   "cell_type": "code",
   "execution_count": 21,
   "metadata": {},
   "outputs": [
    {
     "name": "stdout",
     "output_type": "stream",
     "text": [
      "[10, 20, [30, 40, 50], [60, 70, 80, [100, 200], 1000], 10000]\n"
     ]
    }
   ],
   "source": [
    "s1=[i for i in l]\n",
    "print s1"
   ]
  },
  {
   "cell_type": "code",
   "execution_count": 25,
   "metadata": {},
   "outputs": [
    {
     "name": "stdout",
     "output_type": "stream",
     "text": [
      "[10, 20, [30, 40, 50], [60, 70, 80, [100, 200], 1000], 10000, 10, 20, [30, 40, 50], [60, 70, 80, [100, 200], 1000], 10000, 10, 20, [30, 40, 50], [60, 70, 80, [100, 200], 1000], 10000, '1', '0', '0', '0']\n"
     ]
    }
   ],
   "source": [
    "l=[10,20,[30,40,50],[60,70,80,[100,200],1000],10000]\n",
    "s1.extend(\"1000\")\n",
    "print s1"
   ]
  },
  {
   "cell_type": "code",
   "execution_count": 28,
   "metadata": {},
   "outputs": [
    {
     "data": {
      "text/plain": [
       "'[10, 20, [30, 40, 50], [60, 70, 80, [100, 200], 1000], 10000]'"
      ]
     },
     "execution_count": 28,
     "metadata": {},
     "output_type": "execute_result"
    }
   ],
   "source": [
    "l=[10,20,[30,40,50],[60,70,80,[100,200],1000],10000]\n",
    "s=str(l)\n",
    "''.join(s)"
   ]
  },
  {
   "cell_type": "code",
   "execution_count": 29,
   "metadata": {},
   "outputs": [
    {
     "data": {
      "text/plain": [
       "'10, 20, 30, 40, 50], 60, 70, 80, 100, 200], 1000], 10000]'"
      ]
     },
     "execution_count": 29,
     "metadata": {},
     "output_type": "execute_result"
    }
   ],
   "source": [
    "l=[10,20,[30,40,50],[60,70,80,[100,200],1000],10000]\n",
    "s=str(l)\n",
    "s.replace(\"[\",'')"
   ]
  },
  {
   "cell_type": "code",
   "execution_count": 43,
   "metadata": {},
   "outputs": [
    {
     "name": "stdout",
     "output_type": "stream",
     "text": [
      "10, 20, 30, 40, 50, 60, 70, 80, 100, 200, 1000, 10000\n",
      "53\n",
      "['1', '0', ',', ' ', '2', '0', ',', ' ', '3', '0', ',', ' ', '4', '0', ',', ' ', '5', '0', ',', ' ', '6', '0', ',', ' ', '7', '0', ',', ' ', '8', '0', ',', ' ', '1', '0', '0', ',', ' ', '2', '0', '0', ',', ' ', '1', '0', '0', '0', ',', ' ', '1', '0', '0', '0', '0']\n"
     ]
    }
   ],
   "source": [
    "l=[10,20,[30,40,50],[60,70,80,[100,200],1000],10000]\n",
    "s=str(l)\n",
    "s=s.replace(\"[\",'')\n",
    "s=s.replace(\"]\",'')\n",
    "print s\n",
    "print len(s)\n",
    "s1=[i for i in s]\n",
    "print s1"
   ]
  },
  {
   "cell_type": "code",
   "execution_count": 48,
   "metadata": {},
   "outputs": [
    {
     "name": "stdout",
     "output_type": "stream",
     "text": [
      "10, 20, 30, 40, 50, 60, 70, 80, 100, 200, 1000, 10000\n",
      "53\n",
      "['1', '0', ',', ' ', '2', '0', ',', ' ', '3', '0', ',', ' ', '4', '0', ',', ' ', '5', '0', ',', ' ', '6', '0', ',', ' ', '7', '0', ',', ' ', '8', '0', ',', ' ', '1', '0', '0', ',', ' ', '2', '0', '0', ',', ' ', '1', '0', '0', '0', ',', ' ', '1', '0', '0', '0', '0']\n",
      "53\n",
      "['1', '0', ',', ' ', '2', '0', ',', ' ', '3', '0', ',', ' ', '4', '0', ',', ' ', '5', '0', ',', ' ', '6', '0', ',', ' ', '7', '0', ',', ' ', '8', '0', ',', ' ', '1', '0', '0', ',', ' ', '2', '0', '0', ',', ' ', '1', '0', '0', '0', ',', ' ', '1', '0', '0', '0', '0']\n"
     ]
    }
   ],
   "source": [
    "l=[10,20,[30,40,50],[60,70,80,[100,200],1000],10000]\n",
    "s=str(l)\n",
    "s=s.replace(\"[\",'')\n",
    "s=s.replace(\"]\",'')\n",
    "print s\n",
    "print len(s)\n",
    "s1=[i for i in s]\n",
    "print s1\n",
    "#s1= ''.join(s1)\n",
    "#print s1\n",
    "print len(s1)\n",
    "l=list(s1)\n",
    "print l"
   ]
  },
  {
   "cell_type": "code",
   "execution_count": 93,
   "metadata": {},
   "outputs": [
    {
     "name": "stdout",
     "output_type": "stream",
     "text": [
      "[10, 20, 30, 40, 50, 60, 70, 80, [100, 200], 1000, 10000]\n",
      "11\n"
     ]
    }
   ],
   "source": [
    "l=[10,20,[30,40,50],[60,70,80,[100,200],1000],10000]\n",
    "#print type(l[2])\n",
    "s=[]\n",
    "#s1=[]\n",
    "for i in l:\n",
    "    #print type(i)\n",
    "    if type(i) == list:\n",
    "        for j in i:\n",
    "            s.append(j)\n",
    "            #print j\n",
    "    elif type(i) == int:\n",
    "            s.append(i)\n",
    "#s=s + s1\n",
    "print s\n",
    "print len(s)\n",
    "    "
   ]
  },
  {
   "cell_type": "code",
   "execution_count": 95,
   "metadata": {},
   "outputs": [
    {
     "name": "stdout",
     "output_type": "stream",
     "text": [
      "[10, 20, 30, 40, 50, 60, 70, 80, 100, 200, 1000, 10000]\n",
      "12\n"
     ]
    }
   ],
   "source": [
    "l=[10,20,[30,40,50],[60,70,80,100,200,1000],10000]\n",
    "#print type(l[2])\n",
    "s=[]\n",
    "#s1=[]\n",
    "for i in l:\n",
    "    #print type(i)\n",
    "    if type(i) == list:\n",
    "        for j in i:\n",
    "            s.append(j)\n",
    "            #print j\n",
    "    elif type(i) == int:\n",
    "            s.append(i)\n",
    "#s=s + s1\n",
    "print s\n",
    "print len(s)"
   ]
  },
  {
   "cell_type": "code",
   "execution_count": 102,
   "metadata": {},
   "outputs": [
    {
     "name": "stdout",
     "output_type": "stream",
     "text": [
      "[10, 20, 30, 40, 50, 60, 70, 80, 100, 200, 1000, 10000]\n",
      "12\n"
     ]
    }
   ],
   "source": [
    "l=[10,20,[30,40,50],[60,70,80,[100,200],1000],10000]\n",
    "s=[]\n",
    "for i in l:\n",
    "    if type(i) == list:\n",
    "        for j in i:\n",
    "            if type(j)==list:\n",
    "                for k in j:\n",
    "                    if type(k)== int:\n",
    "                        s.append(k)\n",
    "            else:\n",
    "                s.append(j)\n",
    "    elif type(i) == int:\n",
    "        s.append(i)\n",
    "print s\n",
    "print len(s)\n",
    "    "
   ]
  },
  {
   "cell_type": "code",
   "execution_count": 49,
   "metadata": {},
   "outputs": [
    {
     "name": "stdout",
     "output_type": "stream",
     "text": [
      "['Mango', 'apple', 'banana', 'orange']\n"
     ]
    }
   ],
   "source": [
    "# solve this issue as an assignment\n",
    "l=[\"apple\",\"orange\",\"banana\",\"Mango\"]\n",
    "l.sort()\n",
    "print l"
   ]
  },
  {
   "cell_type": "code",
   "execution_count": null,
   "metadata": {},
   "outputs": [],
   "source": []
  },
  {
   "cell_type": "code",
   "execution_count": 53,
   "metadata": {},
   "outputs": [
    {
     "name": "stdout",
     "output_type": "stream",
     "text": [
      "['apple', 'banana', 'mango', 'orange']\n"
     ]
    }
   ],
   "source": [
    "# solve this issue as an assignment\n",
    "l=[\"apple\",\"orange\",\"banana\",\"Mango\"]\n",
    "s=[]\n",
    "for i in l:\n",
    "    s.append(i.lower())\n",
    "#print s\n",
    "s.sort()\n",
    "print s"
   ]
  },
  {
   "cell_type": "code",
   "execution_count": 103,
   "metadata": {},
   "outputs": [
    {
     "name": "stdout",
     "output_type": "stream",
     "text": [
      "[10, 20, 30, 40, 50, 60, 70, 80, 100, 200, 1000, 10000, 11, 12, 13, 14, 15, 20, 21, 22]\n",
      "20\n"
     ]
    }
   ],
   "source": [
    "l=[10,20,[30,40,50],[60,70,80,[100,200],1000],10000,[11,12,13,14,15,[20,21],22]]\n",
    "s=[]\n",
    "for i in l:\n",
    "    if type(i) == list:\n",
    "        for j in i:\n",
    "            if type(j)==list:\n",
    "                for k in j:\n",
    "                    if type(k)== int:\n",
    "                        s.append(k)\n",
    "            else:\n",
    "                s.append(j)\n",
    "    elif type(i) == int:\n",
    "        s.append(i)\n",
    "print s\n",
    "print len(s)"
   ]
  },
  {
   "cell_type": "code",
   "execution_count": 105,
   "metadata": {},
   "outputs": [
    {
     "name": "stdout",
     "output_type": "stream",
     "text": [
      "[10, 20, 30, 40, 50, 60, 70, 80, 100, 200, 1000, 10000, 11, 12, 13, 14, 15, 20, 21, 31, 32, 22]\n",
      "22\n"
     ]
    }
   ],
   "source": [
    "l=[10,20,[30,40,50],[60,70,80,[100,200],1000],10000,[11,12,13,14,15,[20,21,31,32],22]]\n",
    "s=[]\n",
    "for i in l:\n",
    "    if type(i) == list:\n",
    "        for j in i:\n",
    "            if type(j)==list:\n",
    "                for k in j:\n",
    "                    if type(k)== int:\n",
    "                        s.append(k)\n",
    "            else:\n",
    "                s.append(j)\n",
    "    elif type(i) == int:\n",
    "        s.append(i)\n",
    "print s\n",
    "print len(s)"
   ]
  },
  {
   "cell_type": "code",
   "execution_count": 1,
   "metadata": {},
   "outputs": [
    {
     "name": "stdout",
     "output_type": "stream",
     "text": [
      "l1= None\n",
      "l= ['cpp', 'c', 'java', 'python', 'Python', 'PYTHON']\n"
     ]
    }
   ],
   "source": [
    "l=[\"cpp\",\"c\",\"python\",\"Python\",\"PYTHON\"]\n",
    "l1=l.insert(2,\"java\")\n",
    "print \"l1=\",l1\n",
    "print \"l=\",l"
   ]
  },
  {
   "cell_type": "code",
   "execution_count": 2,
   "metadata": {},
   "outputs": [
    {
     "name": "stdout",
     "output_type": "stream",
     "text": [
      "l1= PYTHON\n",
      "l= ['cpp', 'c', 'python', 'Python']\n"
     ]
    }
   ],
   "source": [
    "l=[\"cpp\",\"c\",\"python\",\"Python\",\"PYTHON\"]\n",
    "l1=l.pop()\n",
    "print \"l1=\",l1\n",
    "print \"l=\",l"
   ]
  },
  {
   "cell_type": "code",
   "execution_count": 3,
   "metadata": {},
   "outputs": [
    {
     "name": "stdout",
     "output_type": "stream",
     "text": [
      "l1= None\n",
      "l= ['cpp', 'c', 'python', 'java', 'Python', 'PYTHON']\n"
     ]
    }
   ],
   "source": [
    "l=[\"cpp\",\"c\",\"python\",\"Python\",\"PYTHON\"]\n",
    "l1=l.insert(-2,\"java\")\n",
    "print \"l1=\",l1\n",
    "print \"l=\",l"
   ]
  },
  {
   "cell_type": "code",
   "execution_count": 4,
   "metadata": {},
   "outputs": [
    {
     "name": "stdout",
     "output_type": "stream",
     "text": [
      "[40, 40, 40, 30, 30, 30, 20, 20, 20, 10, 10, 10]\n"
     ]
    }
   ],
   "source": [
    "l=[10,20,30,40,10,20,30,40,10,20,30,40]\n",
    "l.sort(reverse=True)\n",
    "print l"
   ]
  },
  {
   "cell_type": "code",
   "execution_count": 6,
   "metadata": {},
   "outputs": [
    {
     "name": "stdout",
     "output_type": "stream",
     "text": [
      "[40, 40, 40, 30, 30, 30, 20, 20, 20, 10, 10, 10]\n"
     ]
    }
   ],
   "source": [
    "l=[10,20,30,40,10,20,30,40,10,20,30,40]\n",
    "l.sort(None,None,True)\n",
    "print l"
   ]
  },
  {
   "cell_type": "code",
   "execution_count": 7,
   "metadata": {},
   "outputs": [
    {
     "name": "stdout",
     "output_type": "stream",
     "text": [
      "set([70, 40, 10, 80, 50, 20, 60, 30])\n"
     ]
    }
   ],
   "source": [
    "s=set([10,20,30,20,40,30,50,60,70,80,70])\n",
    "print s"
   ]
  },
  {
   "cell_type": "code",
   "execution_count": 9,
   "metadata": {},
   "outputs": [
    {
     "name": "stdout",
     "output_type": "stream",
     "text": [
      "set([40, 10, 50, 20, 60, 30]) <type 'set'>\n"
     ]
    }
   ],
   "source": [
    "s={10,20,30,20,40,50,40,60}\n",
    "print s,type(s)"
   ]
  },
  {
   "cell_type": "code",
   "execution_count": 11,
   "metadata": {},
   "outputs": [
    {
     "ename": "TypeError",
     "evalue": "'set' object does not support indexing",
     "output_type": "error",
     "traceback": [
      "\u001b[1;31m---------------------------------------------------------------------------\u001b[0m",
      "\u001b[1;31mTypeError\u001b[0m                                 Traceback (most recent call last)",
      "\u001b[1;32m<ipython-input-11-08a17795aff2>\u001b[0m in \u001b[0;36m<module>\u001b[1;34m()\u001b[0m\n\u001b[0;32m      1\u001b[0m \u001b[0ms\u001b[0m\u001b[1;33m=\u001b[0m\u001b[1;33m{\u001b[0m\u001b[1;36m10\u001b[0m\u001b[1;33m,\u001b[0m\u001b[1;36m20\u001b[0m\u001b[1;33m,\u001b[0m\u001b[1;36m30\u001b[0m\u001b[1;33m,\u001b[0m\u001b[1;36m20\u001b[0m\u001b[1;33m,\u001b[0m\u001b[1;36m40\u001b[0m\u001b[1;33m,\u001b[0m\u001b[1;36m50\u001b[0m\u001b[1;33m,\u001b[0m\u001b[1;36m40\u001b[0m\u001b[1;33m,\u001b[0m\u001b[1;36m60\u001b[0m\u001b[1;33m}\u001b[0m\u001b[1;33m\u001b[0m\u001b[0m\n\u001b[1;32m----> 2\u001b[1;33m \u001b[1;32mprint\u001b[0m \u001b[0ms\u001b[0m\u001b[1;33m[\u001b[0m\u001b[1;36m0\u001b[0m\u001b[1;33m]\u001b[0m\u001b[1;33m\u001b[0m\u001b[0m\n\u001b[0m",
      "\u001b[1;31mTypeError\u001b[0m: 'set' object does not support indexing"
     ]
    }
   ],
   "source": [
    "s={10,20,30,20,40,50,40,60}\n",
    "print s[0]"
   ]
  },
  {
   "cell_type": "code",
   "execution_count": 14,
   "metadata": {},
   "outputs": [
    {
     "name": "stdout",
     "output_type": "stream",
     "text": [
      "(40, 10, 20, 30) <type 'tuple'>\n"
     ]
    }
   ],
   "source": [
    "s={10,10,20,20,40,40,30,30}\n",
    "l=tuple(s)\n",
    "print l,type(l)"
   ]
  },
  {
   "cell_type": "code",
   "execution_count": 15,
   "metadata": {},
   "outputs": [
    {
     "ename": "TypeError",
     "evalue": "'set' object does not support item assignment",
     "output_type": "error",
     "traceback": [
      "\u001b[1;31m---------------------------------------------------------------------------\u001b[0m",
      "\u001b[1;31mTypeError\u001b[0m                                 Traceback (most recent call last)",
      "\u001b[1;32m<ipython-input-15-c586065afbf7>\u001b[0m in \u001b[0;36m<module>\u001b[1;34m()\u001b[0m\n\u001b[0;32m      1\u001b[0m \u001b[0ms\u001b[0m\u001b[1;33m=\u001b[0m\u001b[1;33m{\u001b[0m\u001b[1;36m10\u001b[0m\u001b[1;33m,\u001b[0m\u001b[1;36m10\u001b[0m\u001b[1;33m,\u001b[0m\u001b[1;36m20\u001b[0m\u001b[1;33m,\u001b[0m\u001b[1;36m20\u001b[0m\u001b[1;33m,\u001b[0m\u001b[1;36m40\u001b[0m\u001b[1;33m,\u001b[0m\u001b[1;36m40\u001b[0m\u001b[1;33m,\u001b[0m\u001b[1;36m30\u001b[0m\u001b[1;33m,\u001b[0m\u001b[1;36m30\u001b[0m\u001b[1;33m}\u001b[0m\u001b[1;33m\u001b[0m\u001b[0m\n\u001b[1;32m----> 2\u001b[1;33m \u001b[0ms\u001b[0m\u001b[1;33m[\u001b[0m\u001b[1;36m0\u001b[0m\u001b[1;33m]\u001b[0m\u001b[1;33m=\u001b[0m\u001b[1;36m100\u001b[0m\u001b[1;33m\u001b[0m\u001b[0m\n\u001b[0m\u001b[0;32m      3\u001b[0m \u001b[1;32mprint\u001b[0m \u001b[0ms\u001b[0m\u001b[1;33m\u001b[0m\u001b[0m\n",
      "\u001b[1;31mTypeError\u001b[0m: 'set' object does not support item assignment"
     ]
    }
   ],
   "source": [
    "s={10,10,20,20,40,40,30,30}\n",
    "s[0]=100\n",
    "print s"
   ]
  },
  {
   "cell_type": "code",
   "execution_count": 16,
   "metadata": {},
   "outputs": [
    {
     "ename": "TypeError",
     "evalue": "'tuple' object does not support item assignment",
     "output_type": "error",
     "traceback": [
      "\u001b[1;31m---------------------------------------------------------------------------\u001b[0m",
      "\u001b[1;31mTypeError\u001b[0m                                 Traceback (most recent call last)",
      "\u001b[1;32m<ipython-input-16-2dbc48bc3189>\u001b[0m in \u001b[0;36m<module>\u001b[1;34m()\u001b[0m\n\u001b[0;32m      1\u001b[0m \u001b[0mt\u001b[0m\u001b[1;33m=\u001b[0m\u001b[1;33m(\u001b[0m\u001b[1;36m10\u001b[0m\u001b[1;33m,\u001b[0m\u001b[1;36m20\u001b[0m\u001b[1;33m,\u001b[0m\u001b[1;36m30\u001b[0m\u001b[1;33m,\u001b[0m\u001b[1;36m100\u001b[0m\u001b[1;33m)\u001b[0m\u001b[1;33m\u001b[0m\u001b[0m\n\u001b[1;32m----> 2\u001b[1;33m \u001b[0mt\u001b[0m\u001b[1;33m[\u001b[0m\u001b[1;36m0\u001b[0m\u001b[1;33m]\u001b[0m\u001b[1;33m=\u001b[0m\u001b[1;36m100\u001b[0m\u001b[1;33m\u001b[0m\u001b[0m\n\u001b[0m",
      "\u001b[1;31mTypeError\u001b[0m: 'tuple' object does not support item assignment"
     ]
    }
   ],
   "source": [
    "t=(10,20,30,100)\n",
    "t[0]=100"
   ]
  },
  {
   "cell_type": "code",
   "execution_count": 17,
   "metadata": {},
   "outputs": [
    {
     "name": "stdout",
     "output_type": "stream",
     "text": [
      "(10, 20, 30, 20, 30, 40)\n"
     ]
    }
   ],
   "source": [
    "t1=(10,20,30)\n",
    "t2=(20,30,40)\n",
    "t=t1+t2\n",
    "print t"
   ]
  },
  {
   "cell_type": "code",
   "execution_count": 18,
   "metadata": {},
   "outputs": [
    {
     "ename": "TypeError",
     "evalue": "unsupported operand type(s) for +: 'set' and 'set'",
     "output_type": "error",
     "traceback": [
      "\u001b[1;31m---------------------------------------------------------------------------\u001b[0m",
      "\u001b[1;31mTypeError\u001b[0m                                 Traceback (most recent call last)",
      "\u001b[1;32m<ipython-input-18-cfd015e8e2cf>\u001b[0m in \u001b[0;36m<module>\u001b[1;34m()\u001b[0m\n\u001b[0;32m      1\u001b[0m \u001b[0ms1\u001b[0m\u001b[1;33m=\u001b[0m\u001b[1;33m{\u001b[0m\u001b[1;36m10\u001b[0m\u001b[1;33m,\u001b[0m\u001b[1;36m20\u001b[0m\u001b[1;33m,\u001b[0m\u001b[1;36m30\u001b[0m\u001b[1;33m}\u001b[0m\u001b[1;33m\u001b[0m\u001b[0m\n\u001b[0;32m      2\u001b[0m \u001b[0ms2\u001b[0m\u001b[1;33m=\u001b[0m\u001b[1;33m{\u001b[0m\u001b[1;36m20\u001b[0m\u001b[1;33m,\u001b[0m\u001b[1;36m30\u001b[0m\u001b[1;33m,\u001b[0m\u001b[1;36m40\u001b[0m\u001b[1;33m}\u001b[0m\u001b[1;33m\u001b[0m\u001b[0m\n\u001b[1;32m----> 3\u001b[1;33m \u001b[0ms\u001b[0m\u001b[1;33m=\u001b[0m\u001b[0ms1\u001b[0m\u001b[1;33m+\u001b[0m\u001b[0ms2\u001b[0m\u001b[1;33m\u001b[0m\u001b[0m\n\u001b[0m\u001b[0;32m      4\u001b[0m \u001b[1;32mprint\u001b[0m \u001b[0ms\u001b[0m\u001b[1;33m\u001b[0m\u001b[0m\n",
      "\u001b[1;31mTypeError\u001b[0m: unsupported operand type(s) for +: 'set' and 'set'"
     ]
    }
   ],
   "source": [
    "s1={10,20,30}\n",
    "s2={20,30,40}\n",
    "s=s1+s2\n",
    "print s"
   ]
  },
  {
   "cell_type": "code",
   "execution_count": 19,
   "metadata": {},
   "outputs": [
    {
     "name": "stdout",
     "output_type": "stream",
     "text": [
      "set([1000, 10, 20, 30])\n"
     ]
    }
   ],
   "source": [
    "s1={10,20,30}\n",
    "s1.add(1000)\n",
    "print s1"
   ]
  },
  {
   "cell_type": "code",
   "execution_count": 20,
   "metadata": {},
   "outputs": [
    {
     "name": "stdout",
     "output_type": "stream",
     "text": [
      "set([40, 20, 30]) set([])\n"
     ]
    }
   ],
   "source": [
    "s1={10,20,30}\n",
    "s2={20,30,40}\n",
    "s1.clear()\n",
    "s=s2.copy()\n",
    "print s,s1"
   ]
  },
  {
   "cell_type": "code",
   "execution_count": 21,
   "metadata": {},
   "outputs": [
    {
     "name": "stdout",
     "output_type": "stream",
     "text": [
      "set(['pavan', 'anil', 'ashok', 'ravi', 'ajay'])\n",
      "pavan\n",
      "set(['anil', 'ashok', 'ravi', 'ajay'])\n",
      "anil\n",
      "set(['ashok', 'ravi', 'ajay'])\n"
     ]
    }
   ],
   "source": [
    "s = set([\"anil\",\"ashok\",\"ajay\",\"ravi\",\"pavan\"])\n",
    "print s\n",
    "print s.pop()\n",
    "print s\n",
    "print s.pop()\n",
    "print s"
   ]
  },
  {
   "cell_type": "code",
   "execution_count": 22,
   "metadata": {},
   "outputs": [
    {
     "name": "stdout",
     "output_type": "stream",
     "text": [
      "set([40, 30])\n",
      "set([40, 30])\n"
     ]
    }
   ],
   "source": [
    "s1=set([10,20,30,40])\n",
    "s2=set([30,40,50,60])\n",
    "print s1.intersection(s2)\n",
    "print s2.intersection(s1)"
   ]
  },
  {
   "cell_type": "code",
   "execution_count": 24,
   "metadata": {},
   "outputs": [
    {
     "name": "stdout",
     "output_type": "stream",
     "text": [
      "set([40, 10, 50, 20, 60, 30])\n",
      "set([40, 10, 50, 20, 60, 30])\n"
     ]
    }
   ],
   "source": [
    "s1=set([10,20,30,40])\n",
    "s2=set([30,40,50,60])\n",
    "print s1.union(s2)\n",
    "print s2.union(s1)"
   ]
  },
  {
   "cell_type": "code",
   "execution_count": 26,
   "metadata": {},
   "outputs": [
    {
     "name": "stdout",
     "output_type": "stream",
     "text": [
      "[(10, 20, 30, 40)] 1 <type 'list'>\n"
     ]
    }
   ],
   "source": [
    "s1=[(10,20,30,40)]\n",
    "print s1,len(s1),type(s1)"
   ]
  },
  {
   "cell_type": "code",
   "execution_count": 29,
   "metadata": {},
   "outputs": [
    {
     "name": "stdout",
     "output_type": "stream",
     "text": [
      "set([80, 10, 20])\n",
      "set([50, 60])\n"
     ]
    }
   ],
   "source": [
    "s1=set([10,20,30,40,80])\n",
    "s2=set([30,40,50,60])\n",
    "print s1.difference(s2)\n",
    "print s2.difference(s1)"
   ]
  },
  {
   "cell_type": "code",
   "execution_count": 31,
   "metadata": {},
   "outputs": [
    {
     "name": "stdout",
     "output_type": "stream",
     "text": [
      "1\n",
      "2\n"
     ]
    }
   ],
   "source": [
    "t=(10,20,30)\n",
    "print t.count(10)\n",
    "print t.index(30)"
   ]
  },
  {
   "cell_type": "code",
   "execution_count": 32,
   "metadata": {},
   "outputs": [
    {
     "name": "stdout",
     "output_type": "stream",
     "text": [
      "None\n",
      "set([20, 10])\n",
      "set([40, 50, 60, 30])\n"
     ]
    }
   ],
   "source": [
    "s1=set([10,20,30,40])\n",
    "s2=set([30,40,50,60])\n",
    "print s1.difference_update(s2)\n",
    "print s1\n",
    "print s2"
   ]
  },
  {
   "cell_type": "code",
   "execution_count": 33,
   "metadata": {},
   "outputs": [
    {
     "name": "stdout",
     "output_type": "stream",
     "text": [
      "None\n",
      "set([40, 10, 20, 30])\n",
      "set([50, 60])\n"
     ]
    }
   ],
   "source": [
    "s1=set([10,20,30,40])\n",
    "s2=set([30,40,50,60])\n",
    "print s2.difference_update(s1)\n",
    "print s1\n",
    "print s2"
   ]
  },
  {
   "cell_type": "code",
   "execution_count": null,
   "metadata": {},
   "outputs": [],
   "source": []
  }
 ],
 "metadata": {
  "kernelspec": {
   "display_name": "Python 2",
   "language": "python",
   "name": "python2"
  },
  "language_info": {
   "codemirror_mode": {
    "name": "ipython",
    "version": 2
   },
   "file_extension": ".py",
   "mimetype": "text/x-python",
   "name": "python",
   "nbconvert_exporter": "python",
   "pygments_lexer": "ipython2",
   "version": "2.7.15"
  }
 },
 "nbformat": 4,
 "nbformat_minor": 2
}
