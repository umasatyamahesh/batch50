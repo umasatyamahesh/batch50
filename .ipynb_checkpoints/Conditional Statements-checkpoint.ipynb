{
 "cells": [
  {
   "cell_type": "code",
   "execution_count": 1,
   "metadata": {},
   "outputs": [
    {
     "name": "stdout",
     "output_type": "stream",
     "text": [
      "True\n"
     ]
    }
   ],
   "source": [
    "#boolean expression\n",
    "a=\"7\"\n",
    "b=\"60000\"\n",
    "print a>b\n"
   ]
  },
  {
   "cell_type": "code",
   "execution_count": 2,
   "metadata": {},
   "outputs": [
    {
     "data": {
      "text/plain": [
       "False"
      ]
     },
     "execution_count": 2,
     "metadata": {},
     "output_type": "execute_result"
    }
   ],
   "source": [
    "bool(0.0)"
   ]
  },
  {
   "cell_type": "code",
   "execution_count": 5,
   "metadata": {},
   "outputs": [
    {
     "name": "stdout",
     "output_type": "stream",
     "text": [
      "()\n"
     ]
    }
   ],
   "source": [
    "a=(())\n",
    "print a"
   ]
  },
  {
   "cell_type": "code",
   "execution_count": 6,
   "metadata": {},
   "outputs": [
    {
     "name": "stdout",
     "output_type": "stream",
     "text": [
      "Enter a Value\n",
      "0\n",
      "Enter atleast one character\n",
      "thanks\n"
     ]
    }
   ],
   "source": [
    "V=raw_input(\"Enter a Value\")\n",
    "print len(V)\n",
    "if len(V)>0:\n",
    "    print V\n",
    "else:\n",
    "    print \"Enter atleast one character\"\n",
    "print \"thanks\"\n",
    "    "
   ]
  },
  {
   "cell_type": "code",
   "execution_count": 7,
   "metadata": {},
   "outputs": [
    {
     "name": "stdout",
     "output_type": "stream",
     "text": [
      "Enter a Value6767676\n",
      "7\n",
      "6767676\n",
      "thanks\n"
     ]
    }
   ],
   "source": [
    "V=raw_input(\"Enter a Value\")\n",
    "print len(V)\n",
    "if len(V)>0:\n",
    "    print V\n",
    "else:\n",
    "    print \"Enter atleast one character\"\n",
    "print \"thanks\""
   ]
  },
  {
   "cell_type": "code",
   "execution_count": 8,
   "metadata": {},
   "outputs": [
    {
     "name": "stdout",
     "output_type": "stream",
     "text": [
      "Enter a Value0\n",
      "0\n",
      "thanks\n"
     ]
    }
   ],
   "source": [
    "V=raw_input(\"Enter a Value\")\n",
    "#print len(V)\n",
    "if bool(V):\n",
    "    print V\n",
    "else:\n",
    "    print \"Enter atleast one character\"\n",
    "print \"thanks\""
   ]
  },
  {
   "cell_type": "code",
   "execution_count": 9,
   "metadata": {},
   "outputs": [
    {
     "name": "stdout",
     "output_type": "stream",
     "text": [
      "Enter a Value\n",
      "Enter atleast one character\n",
      "thanks\n"
     ]
    }
   ],
   "source": [
    "V=raw_input(\"Enter a Value\")\n",
    "#print len(V)\n",
    "if bool(V):\n",
    "    print V\n",
    "else:\n",
    "    print \"Enter atleast one character\"\n",
    "print \"thanks\""
   ]
  },
  {
   "cell_type": "code",
   "execution_count": 7,
   "metadata": {},
   "outputs": [
    {
     "name": "stdout",
     "output_type": "stream",
     "text": [
      "Enter num of ppl:50\n",
      "Enter num of buses currently available:1\n",
      "Enter num of seats:53\n",
      "Enter Adj Factor3\n",
      "No additional buses reqd\n"
     ]
    }
   ],
   "source": [
    "NP= int(raw_input(\"Enter num of ppl:\"))\n",
    "NB= int(raw_input(\"Enter num of buses currently available:\"))\n",
    "NS= int(raw_input(\"Enter num of seats:\"))\n",
    "AJ= int(raw_input(\"Enter Adj Factor\"))\n",
    "Z = NP/(NS-AJ)\n",
    "if Z == 1:\n",
    "    print \"No additional buses reqd\"\n",
    "else:\n",
    "    print \"additional buses reqd are\",(Z-NB)\n"
   ]
  },
  {
   "cell_type": "code",
   "execution_count": null,
   "metadata": {},
   "outputs": [],
   "source": []
  },
  {
   "cell_type": "code",
   "execution_count": null,
   "metadata": {},
   "outputs": [],
   "source": []
  }
 ],
 "metadata": {
  "kernelspec": {
   "display_name": "Python 2",
   "language": "python",
   "name": "python2"
  },
  "language_info": {
   "codemirror_mode": {
    "name": "ipython",
    "version": 2
   },
   "file_extension": ".py",
   "mimetype": "text/x-python",
   "name": "python",
   "nbconvert_exporter": "python",
   "pygments_lexer": "ipython2",
   "version": "2.7.15"
  }
 },
 "nbformat": 4,
 "nbformat_minor": 2
}
