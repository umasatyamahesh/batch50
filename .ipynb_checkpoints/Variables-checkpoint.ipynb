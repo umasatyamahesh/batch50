{
 "cells": [
  {
   "cell_type": "code",
   "execution_count": 1,
   "metadata": {},
   "outputs": [
    {
     "name": "stdout",
     "output_type": "stream",
     "text": [
      "30\n",
      "program ended\n"
     ]
    }
   ],
   "source": [
    "a=10\n",
    "b=20\n",
    "print a+b\n",
    "print \"program ended\""
   ]
  },
  {
   "cell_type": "code",
   "execution_count": 2,
   "metadata": {},
   "outputs": [
    {
     "name": "stdout",
     "output_type": "stream",
     "text": [
      "10 20\n"
     ]
    }
   ],
   "source": [
    "a=10\n",
    "b=20\n",
    "print a,b"
   ]
  },
  {
   "cell_type": "code",
   "execution_count": 4,
   "metadata": {},
   "outputs": [],
   "source": [
    "def fun():\n",
    " print \"sdfs\""
   ]
  },
  {
   "cell_type": "code",
   "execution_count": 6,
   "metadata": {},
   "outputs": [
    {
     "name": "stdout",
     "output_type": "stream",
     "text": [
      "66682696\n",
      "66682696\n"
     ]
    }
   ],
   "source": [
    "a=1000\n",
    "c=a\n",
    "print id(a)\n",
    "print id(c)"
   ]
  },
  {
   "cell_type": "code",
   "execution_count": 1,
   "metadata": {},
   "outputs": [],
   "source": [
    "a=1000\n",
    "b=2000\n",
    "c=b\n",
    "d=2000\n",
    "e=a"
   ]
  },
  {
   "cell_type": "code",
   "execution_count": 2,
   "metadata": {},
   "outputs": [
    {
     "name": "stdout",
     "output_type": "stream",
     "text": [
      "rabbit\n"
     ]
    }
   ],
   "source": [
    "S1= \"rabbit\"\n",
    "S2=S1\n",
    "S1= \"apple\"\n",
    "print S2"
   ]
  },
  {
   "cell_type": "code",
   "execution_count": 4,
   "metadata": {},
   "outputs": [
    {
     "name": "stdout",
     "output_type": "stream",
     "text": [
      "_\n",
      "_\n",
      "A\n",
      "A\n",
      "53891360\n",
      "53891360\n"
     ]
    }
   ],
   "source": [
    "s1= \"Mahesh_A\"\n",
    "s2= s1\n",
    "s1= \"_Apple\"\n",
    "print s1[0]\n",
    "print s2[6]\n",
    "print s1[1]\n",
    "print s2[7]\n",
    "print id(s1[1])\n",
    "print id(s2[7])"
   ]
  },
  {
   "cell_type": "code",
   "execution_count": 6,
   "metadata": {},
   "outputs": [
    {
     "name": "stdout",
     "output_type": "stream",
     "text": [
      "1000 <type 'int'>\n",
      "10.23 <type 'float'>\n",
      "python <type 'str'>\n",
      "[12, 20, 30] <type 'list'>\n",
      "(10, 20, 30) <type 'tuple'>\n",
      "{'age': 23, 'name': 'Mahesh'} <type 'dict'>\n"
     ]
    }
   ],
   "source": [
    "a=1000\n",
    "print a , type(a)\n",
    "a=10.23\n",
    "print a , type(a)\n",
    "a=\"python\"\n",
    "print a , type(a)\n",
    "a=[12,20,30]\n",
    "print a , type(a)\n",
    "a=(10,20,30)\n",
    "print a , type(a)\n",
    "a={\"name\":\"Mahesh\", \"age\":23}\n",
    "print a , type(a)"
   ]
  },
  {
   "cell_type": "code",
   "execution_count": null,
   "metadata": {},
   "outputs": [],
   "source": []
  }
 ],
 "metadata": {
  "kernelspec": {
   "display_name": "Python 2",
   "language": "python",
   "name": "python2"
  },
  "language_info": {
   "codemirror_mode": {
    "name": "ipython",
    "version": 2
   },
   "file_extension": ".py",
   "mimetype": "text/x-python",
   "name": "python",
   "nbconvert_exporter": "python",
   "pygments_lexer": "ipython2",
   "version": "2.7.15"
  }
 },
 "nbformat": 4,
 "nbformat_minor": 2
}
