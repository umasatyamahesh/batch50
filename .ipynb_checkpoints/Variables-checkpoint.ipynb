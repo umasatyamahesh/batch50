{
 "cells": [
  {
   "cell_type": "code",
   "execution_count": 1,
   "metadata": {},
   "outputs": [
    {
     "name": "stdout",
     "output_type": "stream",
     "text": [
      "30\n",
      "program ended\n"
     ]
    }
   ],
   "source": [
    "a=10\n",
    "b=20\n",
    "print a+b\n",
    "print \"program ended\""
   ]
  },
  {
   "cell_type": "code",
   "execution_count": 2,
   "metadata": {},
   "outputs": [
    {
     "name": "stdout",
     "output_type": "stream",
     "text": [
      "10 20\n"
     ]
    }
   ],
   "source": [
    "a=10\n",
    "b=20\n",
    "print a,b"
   ]
  },
  {
   "cell_type": "code",
   "execution_count": 4,
   "metadata": {},
   "outputs": [],
   "source": [
    "def fun():\n",
    " print \"sdfs\""
   ]
  },
  {
   "cell_type": "code",
   "execution_count": 6,
   "metadata": {},
   "outputs": [
    {
     "name": "stdout",
     "output_type": "stream",
     "text": [
      "66682696\n",
      "66682696\n"
     ]
    }
   ],
   "source": [
    "a=1000\n",
    "c=a\n",
    "print id(a)\n",
    "print id(c)"
   ]
  },
  {
   "cell_type": "code",
   "execution_count": 1,
   "metadata": {},
   "outputs": [],
   "source": [
    "a=1000\n",
    "b=2000\n",
    "c=b\n",
    "d=2000\n",
    "e=a"
   ]
  },
  {
   "cell_type": "code",
   "execution_count": 2,
   "metadata": {},
   "outputs": [
    {
     "name": "stdout",
     "output_type": "stream",
     "text": [
      "rabbit\n"
     ]
    }
   ],
   "source": [
    "S1= \"rabbit\"\n",
    "S2=S1\n",
    "S1= \"apple\"\n",
    "print S2"
   ]
  },
  {
   "cell_type": "code",
   "execution_count": 4,
   "metadata": {},
   "outputs": [
    {
     "name": "stdout",
     "output_type": "stream",
     "text": [
      "_\n",
      "_\n",
      "A\n",
      "A\n",
      "53891360\n",
      "53891360\n"
     ]
    }
   ],
   "source": [
    "s1= \"Mahesh_A\"\n",
    "s2= s1\n",
    "s1= \"_Apple\"\n",
    "print s1[0]\n",
    "print s2[6]\n",
    "print s1[1]\n",
    "print s2[7]\n",
    "print id(s1[1])\n",
    "print id(s2[7])"
   ]
  },
  {
   "cell_type": "code",
   "execution_count": 6,
   "metadata": {},
   "outputs": [
    {
     "name": "stdout",
     "output_type": "stream",
     "text": [
      "1000 <type 'int'>\n",
      "10.23 <type 'float'>\n",
      "python <type 'str'>\n",
      "[12, 20, 30] <type 'list'>\n",
      "(10, 20, 30) <type 'tuple'>\n",
      "{'age': 23, 'name': 'Mahesh'} <type 'dict'>\n"
     ]
    }
   ],
   "source": [
    "a=1000\n",
    "print a , type(a)\n",
    "a=10.23\n",
    "print a , type(a)\n",
    "a=\"python\"\n",
    "print a , type(a)\n",
    "a=[12,20,30]\n",
    "print a , type(a)\n",
    "a=(10,20,30)\n",
    "print a , type(a)\n",
    "a={\"name\":\"Mahesh\", \"age\":23}\n",
    "print a , type(a)"
   ]
  },
  {
   "cell_type": "code",
   "execution_count": 1,
   "metadata": {},
   "outputs": [
    {
     "name": "stdout",
     "output_type": "stream",
     "text": [
      "Enter usrnameusr1\n",
      "enter pwdpwd1\n",
      "usr1\n",
      "pwd1\n"
     ]
    }
   ],
   "source": [
    "usrname=raw_input(\"Enter usrname\")\n",
    "pwd=raw_input(\"enter pwd\")\n",
    "print usrname\n",
    "print pwd"
   ]
  },
  {
   "cell_type": "code",
   "execution_count": 2,
   "metadata": {},
   "outputs": [
    {
     "name": "stdout",
     "output_type": "stream",
     "text": [
      "enter110\n",
      "enter220\n",
      "1020\n",
      "30\n"
     ]
    }
   ],
   "source": [
    "num1=raw_input(\"enter1\")\n",
    "num2=raw_input(\"enter2\")\n",
    "print num1+num2\n",
    "print int(num1)+int(num2)"
   ]
  },
  {
   "cell_type": "code",
   "execution_count": 1,
   "metadata": {},
   "outputs": [],
   "source": [
    "#insert into Customer(name, age, height) values (',anilmumar')\n"
   ]
  },
  {
   "cell_type": "code",
   "execution_count": 2,
   "metadata": {},
   "outputs": [
    {
     "name": "stdout",
     "output_type": "stream",
     "text": [
      "'hello', I am in \"hyderabad\"\n"
     ]
    }
   ],
   "source": [
    "# 'hello', I am in \"hyderabad\"\n",
    "print \"'hello', I am in \\\"hyderabad\\\"\""
   ]
  },
  {
   "cell_type": "code",
   "execution_count": 3,
   "metadata": {},
   "outputs": [
    {
     "name": "stdout",
     "output_type": "stream",
     "text": [
      "\"hello\", I am in 'hyderabad'\n"
     ]
    }
   ],
   "source": [
    "# \"hello\", I am in 'hyderabad'\n",
    "print '\"hello\", I am in \\'hyderabad\\''"
   ]
  },
  {
   "cell_type": "code",
   "execution_count": 4,
   "metadata": {},
   "outputs": [
    {
     "name": "stdout",
     "output_type": "stream",
     "text": [
      "line1\tline2\tline3\n",
      "sdfskmf\n",
      "djfdjdjf\n"
     ]
    }
   ],
   "source": [
    "print 'line1\\tline2\\tline3\\nsdfskmf\\ndjfdjdjf'"
   ]
  },
  {
   "cell_type": "code",
   "execution_count": 5,
   "metadata": {},
   "outputs": [
    {
     "name": "stdout",
     "output_type": "stream",
     "text": [
      "Person Name:anil kumar, Weight:23, Height=5.67\n"
     ]
    }
   ],
   "source": [
    "name = \"anil kumar\"\n",
    "Weight = 23\n",
    "Height = 5.67\n",
    "print('Person Name:%s, Weight:%d, Height=%.2f')%(name, Weight, Height)"
   ]
  },
  {
   "cell_type": "code",
   "execution_count": 1,
   "metadata": {},
   "outputs": [
    {
     "data": {
      "text/plain": [
       "65"
      ]
     },
     "execution_count": 1,
     "metadata": {},
     "output_type": "execute_result"
    }
   ],
   "source": [
    "ord(\"A\")"
   ]
  },
  {
   "cell_type": "code",
   "execution_count": 3,
   "metadata": {},
   "outputs": [
    {
     "data": {
      "text/plain": [
       "'a'"
      ]
     },
     "execution_count": 3,
     "metadata": {},
     "output_type": "execute_result"
    }
   ],
   "source": [
    "#10. Take three upper case letters from the user convert in to smallcase.\n",
    "chr(ord(\"A\")+32)"
   ]
  },
  {
   "cell_type": "code",
   "execution_count": 12,
   "metadata": {},
   "outputs": [
    {
     "name": "stdout",
     "output_type": "stream",
     "text": [
      "Enter Name:Jay\n",
      "enter age:1.67\n",
      "enter height:456.2424\n",
      "enter weight:76.43535\n",
      "name=\"Jay\",age=1.670000 ,height=456.242400 ,weight=76.435350 \n"
     ]
    }
   ],
   "source": [
    "# 9. name=\"Jayaram\" age=1.6 height=3.5356234 weight=10.343856783\n",
    "name=raw_input(\"Enter Name:\")\n",
    "age =raw_input(\"enter age:\")\n",
    "height =raw_input(\"enter height:\")\n",
    "weight= raw_input(\"enter weight:\")\n",
    "print 'name=\"%s\",age=%f ,height=%f ,weight=%f '%(name,float(age),float(height),float(weight))"
   ]
  },
  {
   "cell_type": "code",
   "execution_count": 13,
   "metadata": {},
   "outputs": [
    {
     "name": "stdout",
     "output_type": "stream",
     "text": [
      "enter the size of Hard disk in GB:2\n",
      "Size in MB:2000 , Size in KB:2000000\n"
     ]
    }
   ],
   "source": [
    "HGB =raw_input(\"enter the size of Hard disk in GB:\")\n",
    "SMB = 1000* int(HGB)\n",
    "SKB = 1000* int(SMB)\n",
    "print \"Size in MB:%d , Size in KB:%d\"%(SMB,SKB)"
   ]
  },
  {
   "cell_type": "code",
   "execution_count": 19,
   "metadata": {},
   "outputs": [
    {
     "name": "stdout",
     "output_type": "stream",
     "text": [
      "Num of buses reqd:10\n"
     ]
    }
   ],
   "source": [
    "N1 = 50\n",
    "N2 = 500\n",
    "Z = int(N2/N1)\n",
    "print (\"Num of buses reqd:%d\")%Z"
   ]
  },
  {
   "cell_type": "code",
   "execution_count": null,
   "metadata": {},
   "outputs": [],
   "source": []
  }
 ],
 "metadata": {
  "kernelspec": {
   "display_name": "Python 2",
   "language": "python",
   "name": "python2"
  },
  "language_info": {
   "codemirror_mode": {
    "name": "ipython",
    "version": 2
   },
   "file_extension": ".py",
   "mimetype": "text/x-python",
   "name": "python",
   "nbconvert_exporter": "python",
   "pygments_lexer": "ipython2",
   "version": "2.7.15"
  }
 },
 "nbformat": 4,
 "nbformat_minor": 2
}
