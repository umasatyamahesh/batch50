{
 "cells": [
  {
   "cell_type": "code",
   "execution_count": 2,
   "metadata": {},
   "outputs": [
    {
     "name": "stdout",
     "output_type": "stream",
     "text": [
      "{'k3': 'v3', 'k2': 'v2', 'k1': 'v1'}\n"
     ]
    }
   ],
   "source": [
    "d={\"k1\":\"v1\",\"k2\":\"v2\",\"k3\":\"v3\"}\n",
    "print d"
   ]
  },
  {
   "cell_type": "code",
   "execution_count": 3,
   "metadata": {},
   "outputs": [
    {
     "name": "stdout",
     "output_type": "stream",
     "text": [
      "k3\n",
      "k2\n",
      "k1\n"
     ]
    }
   ],
   "source": [
    "for i in d:\n",
    "    print i"
   ]
  },
  {
   "cell_type": "code",
   "execution_count": 5,
   "metadata": {},
   "outputs": [
    {
     "name": "stdout",
     "output_type": "stream",
     "text": [
      "{'k3': 'v3', 'k2': 'v2', 'k1': 'v1'}\n",
      "{'k3': 'v3', 'k2': 'v2', 'k1': 'v1'}\n"
     ]
    }
   ],
   "source": [
    "d={\"k1\":\"v1\",\"k2\":\"v2\",\"k3\":\"v3\"}\n",
    "s=dict([(\"k1\",\"v1\"),(\"k2\",\"v2\"),(\"k3\",\"v3\")])\n",
    "print d\n",
    "print s"
   ]
  },
  {
   "cell_type": "code",
   "execution_count": 7,
   "metadata": {},
   "outputs": [
    {
     "data": {
      "text/plain": [
       "'zero'"
      ]
     },
     "execution_count": 7,
     "metadata": {},
     "output_type": "execute_result"
    }
   ],
   "source": [
    "p={\"name\":\"Arun\",\"age\":30,\"height\":5.6,0:\"zero\"}\n",
    "p[0]"
   ]
  },
  {
   "cell_type": "code",
   "execution_count": 8,
   "metadata": {},
   "outputs": [
    {
     "ename": "KeyError",
     "evalue": "0",
     "output_type": "error",
     "traceback": [
      "\u001b[1;31m---------------------------------------------------------------------------\u001b[0m",
      "\u001b[1;31mKeyError\u001b[0m                                  Traceback (most recent call last)",
      "\u001b[1;32m<ipython-input-8-368f156ad175>\u001b[0m in \u001b[0;36m<module>\u001b[1;34m()\u001b[0m\n\u001b[0;32m      1\u001b[0m \u001b[0mp\u001b[0m\u001b[1;33m=\u001b[0m\u001b[1;33m{\u001b[0m\u001b[1;34m\"name\"\u001b[0m\u001b[1;33m:\u001b[0m\u001b[1;34m\"Arun\"\u001b[0m\u001b[1;33m,\u001b[0m\u001b[1;34m\"age\"\u001b[0m\u001b[1;33m:\u001b[0m\u001b[1;36m30\u001b[0m\u001b[1;33m,\u001b[0m\u001b[1;34m\"height\"\u001b[0m\u001b[1;33m:\u001b[0m\u001b[1;36m5.6\u001b[0m\u001b[1;33m}\u001b[0m\u001b[1;33m\u001b[0m\u001b[0m\n\u001b[1;32m----> 2\u001b[1;33m \u001b[0mp\u001b[0m\u001b[1;33m[\u001b[0m\u001b[1;36m0\u001b[0m\u001b[1;33m]\u001b[0m\u001b[1;33m\u001b[0m\u001b[0m\n\u001b[0m",
      "\u001b[1;31mKeyError\u001b[0m: 0"
     ]
    }
   ],
   "source": [
    "p={\"name\":\"Arun\",\"age\":30,\"height\":5.6}\n",
    "p[0]"
   ]
  },
  {
   "cell_type": "code",
   "execution_count": 9,
   "metadata": {},
   "outputs": [
    {
     "name": "stdout",
     "output_type": "stream",
     "text": [
      "Arun\n",
      "30\n"
     ]
    }
   ],
   "source": [
    "p={\"name\":\"Arun\",\"age\":30,\"height\":5.6}\n",
    "print p[\"name\"]\n",
    "print p[\"age\"]"
   ]
  },
  {
   "cell_type": "code",
   "execution_count": 11,
   "metadata": {},
   "outputs": [
    {
     "name": "stdout",
     "output_type": "stream",
     "text": [
      "{'age': 30, 'name': 'Arun', 'weight': 70, 'height': 5.6}\n"
     ]
    }
   ],
   "source": [
    "p={\"name\":\"Arun\",\"age\":30,\"height\":5.6}\n",
    "p[\"weight\"]=70\n",
    "print p"
   ]
  },
  {
   "cell_type": "code",
   "execution_count": 13,
   "metadata": {},
   "outputs": [
    {
     "name": "stdout",
     "output_type": "stream",
     "text": [
      "{'cell': 8092082212L, 'age': 30, 'name': 'Arun', 'weight': 70, 'height': 5.6}\n"
     ]
    }
   ],
   "source": [
    "p={\"name\":\"Arun\",\"age\":30,\"height\":5.6,\"weight\":70}\n",
    "p[\"cell\"]=8092082212\n",
    "print p"
   ]
  },
  {
   "cell_type": "code",
   "execution_count": 14,
   "metadata": {},
   "outputs": [
    {
     "name": "stdout",
     "output_type": "stream",
     "text": [
      "{'cell': '8092082212', 'age': 30, 'name': 'Arun', 'weight': 70, 'height': 5.6}\n"
     ]
    }
   ],
   "source": [
    "p={\"name\":\"Arun\",\"age\":30,\"height\":5.6,\"weight\":70}\n",
    "p[\"cell\"]=\"8092082212\"\n",
    "print p"
   ]
  },
  {
   "cell_type": "code",
   "execution_count": 19,
   "metadata": {},
   "outputs": [
    {
     "name": "stdout",
     "output_type": "stream",
     "text": [
      "{'cell': '8092082212', 'age': 30, 'name': 'Arun', 'weight': 70, 'height': 5.6}\n"
     ]
    }
   ],
   "source": [
    "p={\"name\":\"Arun\",\"age\":30,\"height\":5.6,\"weight\":70,\"cell\":\"8092082212\"}\n",
    "p.setdefault(\"cell\",\"224200\")\n",
    "print p"
   ]
  },
  {
   "cell_type": "code",
   "execution_count": 20,
   "metadata": {},
   "outputs": [
    {
     "name": "stdout",
     "output_type": "stream",
     "text": [
      "{'Ok': 'fine', 'name': 'Arun', 'weight': 70, 'age': 30, 'height': 5.6, 'cell': '8092082212'}\n"
     ]
    }
   ],
   "source": [
    "p={\"name\":\"Arun\",\"age\":30,\"height\":5.6,\"weight\":70,\"cell\":\"8092082212\"}\n",
    "p.setdefault(\"Ok\",\"fine\")\n",
    "print p"
   ]
  },
  {
   "cell_type": "code",
   "execution_count": 22,
   "metadata": {},
   "outputs": [
    {
     "ename": "SyntaxError",
     "evalue": "invalid syntax (<ipython-input-22-cf1740842f84>, line 2)",
     "output_type": "error",
     "traceback": [
      "\u001b[1;36m  File \u001b[1;32m\"<ipython-input-22-cf1740842f84>\"\u001b[1;36m, line \u001b[1;32m2\u001b[0m\n\u001b[1;33m    print p.update(\"cell\":'8790979922')\u001b[0m\n\u001b[1;37m                         ^\u001b[0m\n\u001b[1;31mSyntaxError\u001b[0m\u001b[1;31m:\u001b[0m invalid syntax\n"
     ]
    }
   ],
   "source": [
    "p={\"name\":\"Arun\",\"age\":30,\"height\":5.6,\"weight\":70,\"cell\":\"8092082212\"}\n",
    "print p.update(\"cell\":'8790979922')"
   ]
  },
  {
   "cell_type": "code",
   "execution_count": 23,
   "metadata": {},
   "outputs": [
    {
     "ename": "SyntaxError",
     "evalue": "invalid syntax (<ipython-input-23-082e58d8678a>, line 2)",
     "output_type": "error",
     "traceback": [
      "\u001b[1;36m  File \u001b[1;32m\"<ipython-input-23-082e58d8678a>\"\u001b[1;36m, line \u001b[1;32m2\u001b[0m\n\u001b[1;33m    print p.update(\"cell\")='8790979922'\u001b[0m\n\u001b[1;37m                          ^\u001b[0m\n\u001b[1;31mSyntaxError\u001b[0m\u001b[1;31m:\u001b[0m invalid syntax\n"
     ]
    }
   ],
   "source": [
    "p={\"name\":\"Arun\",\"age\":30,\"height\":5.6,\"weight\":70,\"cell\":\"8092082212\"}\n",
    "print p.update(\"cell\")='8790979922'"
   ]
  },
  {
   "cell_type": "code",
   "execution_count": 24,
   "metadata": {},
   "outputs": [
    {
     "name": "stdout",
     "output_type": "stream",
     "text": [
      "{'cell': '8092082212', 'age': 30, 'name': 'Vijay', 'weight': 70, 'height': 5.6}\n"
     ]
    }
   ],
   "source": [
    "p={\"name\":\"Arun\",\"age\":30,\"height\":5.6,\"weight\":70,\"cell\":\"8092082212\"}\n",
    "p[\"name\"]=\"Vijay\"\n",
    "print p"
   ]
  },
  {
   "cell_type": "code",
   "execution_count": 26,
   "metadata": {},
   "outputs": [
    {
     "name": "stdout",
     "output_type": "stream",
     "text": [
      "None\n",
      "{'cell': '8790979922', 'name': 'Arun', 'weight': 70, 'age': 30, 'height': 5.6}\n"
     ]
    }
   ],
   "source": [
    "p={\"name\":\"Arun\",\"age\":30,\"height\":5.6,\"weight\":70,\"cell\":\"8092082212\"}\n",
    "print p.update({\"cell\":'8790979922'})\n",
    "print p"
   ]
  },
  {
   "cell_type": "code",
   "execution_count": 30,
   "metadata": {},
   "outputs": [
    {
     "name": "stdout",
     "output_type": "stream",
     "text": [
      "{'name': 'Arun', 'weight': 70, 'age': 30, 'height': 5.6, 'cell': '234523', 'adhar': '2345rewr23r23', 'pan': 'werwe432rf'}\n",
      "{'name': 'Arun', 'weight': 70, 'age': 30, 'height': 5.6, 'cell': '234523', 'adhar': '2345rewr23r23', 'pan': 'werwe432rf'}\n"
     ]
    }
   ],
   "source": [
    "p={\"name\":\"Arun\",\"age\":30,\"height\":5.6,\"weight\":70,\"cell\":\"8092082212\"}\n",
    "p.update({\"cell\":\"234523\",\"pan\":\"werwe432rf\",\"adhar\":\"2345rewr23r23\"})\n",
    "p1=p\n",
    "print p\n",
    "print p1"
   ]
  },
  {
   "cell_type": "code",
   "execution_count": 28,
   "metadata": {},
   "outputs": [
    {
     "name": "stdout",
     "output_type": "stream",
     "text": [
      "[20, 10, 40, 30, 100]\n"
     ]
    }
   ],
   "source": [
    "l=[20,10,40,30,100]\n",
    "print l"
   ]
  },
  {
   "cell_type": "code",
   "execution_count": 31,
   "metadata": {},
   "outputs": [
    {
     "data": {
      "text/plain": [
       "'Arun'"
      ]
     },
     "execution_count": 31,
     "metadata": {},
     "output_type": "execute_result"
    }
   ],
   "source": [
    "p={\"name\":\"Arun\",\"age\":30,\"height\":5.6,\"weight\":70,\"cell\":\"8092082212\"}\n",
    "p.get(\"name\")"
   ]
  },
  {
   "cell_type": "code",
   "execution_count": 34,
   "metadata": {},
   "outputs": [
    {
     "name": "stdout",
     "output_type": "stream",
     "text": [
      "None\n"
     ]
    },
    {
     "ename": "KeyError",
     "evalue": "'indi'",
     "output_type": "error",
     "traceback": [
      "\u001b[1;31m---------------------------------------------------------------------------\u001b[0m",
      "\u001b[1;31mKeyError\u001b[0m                                  Traceback (most recent call last)",
      "\u001b[1;32m<ipython-input-34-0efbdb86e21b>\u001b[0m in \u001b[0;36m<module>\u001b[1;34m()\u001b[0m\n\u001b[0;32m      1\u001b[0m \u001b[0mp\u001b[0m\u001b[1;33m=\u001b[0m\u001b[1;33m{\u001b[0m\u001b[1;34m\"name\"\u001b[0m\u001b[1;33m:\u001b[0m\u001b[1;34m\"Arun\"\u001b[0m\u001b[1;33m,\u001b[0m\u001b[1;34m\"age\"\u001b[0m\u001b[1;33m:\u001b[0m\u001b[1;36m30\u001b[0m\u001b[1;33m,\u001b[0m\u001b[1;34m\"height\"\u001b[0m\u001b[1;33m:\u001b[0m\u001b[1;36m5.6\u001b[0m\u001b[1;33m,\u001b[0m\u001b[1;34m\"weight\"\u001b[0m\u001b[1;33m:\u001b[0m\u001b[1;36m70\u001b[0m\u001b[1;33m,\u001b[0m\u001b[1;34m\"cell\"\u001b[0m\u001b[1;33m:\u001b[0m\u001b[1;34m\"8092082212\"\u001b[0m\u001b[1;33m}\u001b[0m\u001b[1;33m\u001b[0m\u001b[0m\n\u001b[0;32m      2\u001b[0m \u001b[1;32mprint\u001b[0m \u001b[0mp\u001b[0m\u001b[1;33m.\u001b[0m\u001b[0mget\u001b[0m\u001b[1;33m(\u001b[0m\u001b[1;34m\"indi\"\u001b[0m\u001b[1;33m)\u001b[0m\u001b[1;33m\u001b[0m\u001b[0m\n\u001b[1;32m----> 3\u001b[1;33m \u001b[1;32mprint\u001b[0m \u001b[0mp\u001b[0m\u001b[1;33m[\u001b[0m\u001b[1;34m\"indi\"\u001b[0m\u001b[1;33m]\u001b[0m\u001b[1;33m\u001b[0m\u001b[0m\n\u001b[0m",
      "\u001b[1;31mKeyError\u001b[0m: 'indi'"
     ]
    }
   ],
   "source": [
    "p={\"name\":\"Arun\",\"age\":30,\"height\":5.6,\"weight\":70,\"cell\":\"8092082212\"}\n",
    "print p.get(\"indi\")\n",
    "print p[\"indi\"]"
   ]
  },
  {
   "cell_type": "code",
   "execution_count": 35,
   "metadata": {},
   "outputs": [
    {
     "name": "stdout",
     "output_type": "stream",
     "text": [
      "None\n",
      "12345\n"
     ]
    }
   ],
   "source": [
    "p={\"name\":\"Arun\",\"age\":30,\"height\":5.6,\"weight\":70,\"cell\":\"8092082212\"}\n",
    "print p.get(\"indi\")\n",
    "print p.get(\"indi\",12345)"
   ]
  },
  {
   "cell_type": "code",
   "execution_count": 36,
   "metadata": {},
   "outputs": [
    {
     "name": "stdout",
     "output_type": "stream",
     "text": [
      "(0, 'a')\n",
      "(1, 'b')\n",
      "(2, 'c')\n",
      "(3, 'd')\n"
     ]
    }
   ],
   "source": [
    "l=[\"a\",\"b\",\"c\",\"d\"]\n",
    "for i in enumerate(l):\n",
    "    print i"
   ]
  },
  {
   "cell_type": "code",
   "execution_count": 40,
   "metadata": {},
   "outputs": [
    {
     "name": "stdout",
     "output_type": "stream",
     "text": [
      "0 a\n",
      "1 b\n",
      "2 c\n",
      "3 d\n"
     ]
    }
   ],
   "source": [
    "l=[\"a\",\"b\",\"c\",\"d\"]\n",
    "for ind,value in enumerate(l):\n",
    "    print ind,value"
   ]
  },
  {
   "cell_type": "code",
   "execution_count": 41,
   "metadata": {},
   "outputs": [
    {
     "name": "stdout",
     "output_type": "stream",
     "text": [
      "a\n",
      "['a', 'c', 'd']\n",
      "c\n",
      "['a', 'c']\n"
     ]
    }
   ],
   "source": [
    "l=[\"a\",\"b\",\"c\",\"d\"]\n",
    "for ind, value in enumerate(l):\n",
    "    print value\n",
    "    l.pop(ind+1)\n",
    "    print l"
   ]
  },
  {
   "cell_type": "code",
   "execution_count": 42,
   "metadata": {},
   "outputs": [
    {
     "name": "stdout",
     "output_type": "stream",
     "text": [
      "[]\n"
     ]
    }
   ],
   "source": [
    "l=[10,10,10,10,10]\n",
    "for i in l:\n",
    "    while l.count(i)>0:\n",
    "        l.remove(i)\n",
    "print l"
   ]
  },
  {
   "cell_type": "code",
   "execution_count": 43,
   "metadata": {},
   "outputs": [
    {
     "name": "stdout",
     "output_type": "stream",
     "text": [
      "[10]\n"
     ]
    }
   ],
   "source": [
    "l=[10,10,10,10,10]\n",
    "for i in l:\n",
    "    while l.count(i)>1:\n",
    "        l.remove(i)\n",
    "print l"
   ]
  },
  {
   "cell_type": "code",
   "execution_count": 44,
   "metadata": {},
   "outputs": [
    {
     "name": "stdout",
     "output_type": "stream",
     "text": [
      "[10, 10]\n"
     ]
    }
   ],
   "source": [
    "l=[10,10,10,10,10]\n",
    "for i in l:\n",
    "    l.remove(i)\n",
    "print l"
   ]
  },
  {
   "cell_type": "code",
   "execution_count": 45,
   "metadata": {},
   "outputs": [
    {
     "name": "stdout",
     "output_type": "stream",
     "text": [
      "[20, 10]\n"
     ]
    }
   ],
   "source": [
    "l=[10,20,10,10,10]\n",
    "for i in l:\n",
    "    l.remove(i)\n",
    "print l"
   ]
  },
  {
   "cell_type": "code",
   "execution_count": 46,
   "metadata": {},
   "outputs": [
    {
     "name": "stdout",
     "output_type": "stream",
     "text": [
      "[20, 20]\n"
     ]
    }
   ],
   "source": [
    "l=[10,20,10,20,10]\n",
    "for i in l:\n",
    "    l.remove(i)\n",
    "print l"
   ]
  },
  {
   "cell_type": "code",
   "execution_count": 48,
   "metadata": {},
   "outputs": [
    {
     "name": "stdout",
     "output_type": "stream",
     "text": [
      "[10, 10, 10]\n"
     ]
    }
   ],
   "source": [
    "l=[10,10,10,10,10,10]\n",
    "for i in l:\n",
    "    l.remove(i)\n",
    "print l"
   ]
  },
  {
   "cell_type": "code",
   "execution_count": 49,
   "metadata": {},
   "outputs": [
    {
     "name": "stdout",
     "output_type": "stream",
     "text": [
      "0\n",
      "1\n",
      "2\n",
      "[10, 10, 10]\n"
     ]
    }
   ],
   "source": [
    "l=[10,10,10,10,10,10]\n",
    "for ind,value in enumerate(l):\n",
    "    print ind\n",
    "    l.remove(value)\n",
    "print l"
   ]
  },
  {
   "cell_type": "code",
   "execution_count": 52,
   "metadata": {},
   "outputs": [
    {
     "name": "stdout",
     "output_type": "stream",
     "text": [
      "0\n",
      "1\n",
      "2\n",
      "[10, 10]\n"
     ]
    }
   ],
   "source": [
    "l=[10,10,10,10,10]\n",
    "for ind,value in enumerate(l):\n",
    "    print ind\n",
    "    l.remove(value)\n",
    "print l"
   ]
  },
  {
   "cell_type": "code",
   "execution_count": 54,
   "metadata": {},
   "outputs": [
    {
     "name": "stdout",
     "output_type": "stream",
     "text": [
      "0\n",
      "[20, 10, 20, 10]\n",
      "1\n",
      "[20, 20, 10]\n",
      "2\n",
      "[20, 20]\n"
     ]
    }
   ],
   "source": [
    "l=[10,20,10,20,10]\n",
    "for ind,value in enumerate(l):\n",
    "    print ind\n",
    "    l.remove(value)\n",
    "    print l"
   ]
  },
  {
   "cell_type": "code",
   "execution_count": 55,
   "metadata": {},
   "outputs": [
    {
     "name": "stdout",
     "output_type": "stream",
     "text": [
      "[10, 10, 10]\n"
     ]
    }
   ],
   "source": [
    "l=[10,10,10,10,10,10]\n",
    "for i in l:\n",
    "    l.remove(10)\n",
    "print l"
   ]
  },
  {
   "cell_type": "code",
   "execution_count": 56,
   "metadata": {},
   "outputs": [
    {
     "name": "stdout",
     "output_type": "stream",
     "text": [
      "0\n",
      "[20, 10, 20, 10]\n",
      "1\n",
      "[20, 20, 10]\n",
      "2\n",
      "[20, 20]\n"
     ]
    }
   ],
   "source": [
    "l=[10,20,10,20,10]\n",
    "for ind,value in enumerate(l):\n",
    "    print ind\n",
    "    l.remove(i)\n",
    "    print l"
   ]
  },
  {
   "cell_type": "code",
   "execution_count": null,
   "metadata": {},
   "outputs": [],
   "source": [
    "Emp={}\n",
    "N=int(raw_input(\"Enter the number of employees:\"))\n",
    "for i in range(1,N+1):\n",
    "    EmpName =raw_input(\"EmpName:\")\n",
    "    EmpId   =int(raw_input(\"EmpId:\"))\n",
    "    EmpAge  =int(raw_input(\"EmpAge:\"))\n",
    "    EmpWt   =float(raw_input(\"EmpWt:\"))\n",
    "    EmpHt   =float(raw_input(\"EmpHt:\"))\n",
    "    EmpBMI  = EmpWt/(EmpHt**2)\n",
    "    if EmpBMI > 18 and EmpBMI<= 25:\n",
    "        Result =\"Associate is Normal Weight\"\n",
    "    elif EmpBMI >25 and EmpBMI<=30:\n",
    "        Result =\"Associate is Over Weight\"\n",
    "    elif EmpBMI > 30:\n",
    "        Result =\"Associate is Obese\"\n",
    "    else:\n",
    "        Result =\"Associate is Under Weight\"\n",
    "    Emp.update({\"EmpName\":EmpName,\"EmpId\":EmpId,\"EmpAge\":EmpAge,\"EmpWt\":EmpWt,\"EmpHt\":EmpHt,\"EmpBMI\":EmpBMI,\"Result\":Result})\n",
    "    #Emp.iterkeys()\n",
    "print Emp"
   ]
  },
  {
   "cell_type": "code",
   "execution_count": 1,
   "metadata": {},
   "outputs": [
    {
     "name": "stdout",
     "output_type": "stream",
     "text": [
      "Enter name:Mahesh\n",
      "enter age:32\n",
      "{'age': '32', 'name': 'Mahesh'}\n"
     ]
    }
   ],
   "source": [
    "d={}\n",
    "name=raw_input(\"Enter name:\")\n",
    "age=raw_input(\"enter age:\")\n",
    "d.update({\"name\":name,\"age\":age})\n",
    "print d"
   ]
  },
  {
   "cell_type": "code",
   "execution_count": 2,
   "metadata": {},
   "outputs": [
    {
     "name": "stdout",
     "output_type": "stream",
     "text": [
      "{'EmpId': 3233232, 'EmpName': 'Suresh', 'EmpBMI': 41.351606805293, 'EmpAge': 31, 'EmpWt': 140.0, 'EmpHt': 1.84}\n"
     ]
    }
   ],
   "source": [
    "E={'EmpId': 3233232, 'EmpName': 'Suresh', 'EmpBMI': 41.351606805293, 'EmpAge': 31, 'EmpWt': 140.0, 'EmpHt': 1.84}\n",
    "E1=E.copy()\n",
    "print E1"
   ]
  },
  {
   "cell_type": "code",
   "execution_count": 3,
   "metadata": {},
   "outputs": [
    {
     "name": "stdout",
     "output_type": "stream",
     "text": [
      "<dictionary-valueiterator object at 0x0000000004BE9138>\n",
      "[3233232, 'Suresh', 41.351606805293, 31, 140.0, 1.84]\n"
     ]
    }
   ],
   "source": [
    "E={'EmpId': 3233232, 'EmpName': 'Suresh', 'EmpBMI': 41.351606805293, 'EmpAge': 31, 'EmpWt': 140.0, 'EmpHt': 1.84}\n",
    "print E.itervalues()\n",
    "print E.values()"
   ]
  },
  {
   "cell_type": "code",
   "execution_count": 4,
   "metadata": {},
   "outputs": [
    {
     "ename": "TypeError",
     "evalue": "unsupported operand type(s) for +: 'dict' and 'dict'",
     "output_type": "error",
     "traceback": [
      "\u001b[1;31m---------------------------------------------------------------------------\u001b[0m",
      "\u001b[1;31mTypeError\u001b[0m                                 Traceback (most recent call last)",
      "\u001b[1;32m<ipython-input-4-ab80e542da9b>\u001b[0m in \u001b[0;36m<module>\u001b[1;34m()\u001b[0m\n\u001b[0;32m      1\u001b[0m \u001b[0ms1\u001b[0m\u001b[1;33m=\u001b[0m\u001b[1;33m{\u001b[0m\u001b[1;34m\"k2\"\u001b[0m\u001b[1;33m:\u001b[0m\u001b[1;36m3\u001b[0m\u001b[1;33m}\u001b[0m\u001b[1;33m\u001b[0m\u001b[0m\n\u001b[0;32m      2\u001b[0m \u001b[0ms2\u001b[0m\u001b[1;33m=\u001b[0m\u001b[1;33m{\u001b[0m\u001b[1;34m\"k3\"\u001b[0m\u001b[1;33m:\u001b[0m\u001b[1;36m3\u001b[0m\u001b[1;33m}\u001b[0m\u001b[1;33m\u001b[0m\u001b[0m\n\u001b[1;32m----> 3\u001b[1;33m \u001b[0ms\u001b[0m\u001b[1;33m=\u001b[0m\u001b[0ms1\u001b[0m\u001b[1;33m+\u001b[0m\u001b[0ms2\u001b[0m\u001b[1;33m\u001b[0m\u001b[0m\n\u001b[0m\u001b[0;32m      4\u001b[0m \u001b[1;32mprint\u001b[0m \u001b[0ms\u001b[0m\u001b[1;33m\u001b[0m\u001b[0m\n",
      "\u001b[1;31mTypeError\u001b[0m: unsupported operand type(s) for +: 'dict' and 'dict'"
     ]
    }
   ],
   "source": [
    "s1={\"k2\":3}\n",
    "s2={\"k3\":3}\n",
    "s=s1+s2\n",
    "print s"
   ]
  },
  {
   "cell_type": "code",
   "execution_count": 5,
   "metadata": {},
   "outputs": [
    {
     "name": "stdout",
     "output_type": "stream",
     "text": [
      "st1\n",
      "10\n"
     ]
    }
   ],
   "source": [
    "#return and yield\n",
    "def fun():\n",
    "    print 'st1'\n",
    "    return 10\n",
    "    print 'st2'\n",
    "    return 20\n",
    "    print 'st3'\n",
    "    return 30\n",
    "res=fun()\n",
    "print res"
   ]
  },
  {
   "cell_type": "code",
   "execution_count": 6,
   "metadata": {},
   "outputs": [
    {
     "name": "stdout",
     "output_type": "stream",
     "text": [
      "<generator object fun at 0x0000000004CA53A8>\n"
     ]
    }
   ],
   "source": [
    "#return and yield\n",
    "def fun():\n",
    "    print 'st1'\n",
    "    yield 10\n",
    "    print 'st2'\n",
    "    yield 20\n",
    "    print 'st3'\n",
    "    yield 30\n",
    "res=fun()\n",
    "print res"
   ]
  },
  {
   "cell_type": "code",
   "execution_count": 8,
   "metadata": {},
   "outputs": [
    {
     "name": "stdout",
     "output_type": "stream",
     "text": [
      "st1\n",
      "10\n",
      "st2\n",
      "20\n",
      "st3\n",
      "30\n"
     ]
    }
   ],
   "source": [
    "#return and yield\n",
    "def fun():\n",
    "    print 'st1'\n",
    "    yield 10\n",
    "    print 'st2'\n",
    "    yield 20\n",
    "    print 'st3'\n",
    "    yield 30\n",
    "res=fun()\n",
    "for i in res:\n",
    "    print i"
   ]
  },
  {
   "cell_type": "code",
   "execution_count": 9,
   "metadata": {},
   "outputs": [
    {
     "name": "stdout",
     "output_type": "stream",
     "text": [
      "10\n",
      "20\n",
      "30\n",
      "********************\n",
      "10\n",
      "20\n",
      "30\n"
     ]
    }
   ],
   "source": [
    "# return and yield\n",
    "def fun():\n",
    "    yield 10\n",
    "    yield 20\n",
    "    yield 30\n",
    "def fun1():\n",
    "    return [10,20,30]\n",
    "res=fun()\n",
    "res1=fun1()\n",
    "for i in res:\n",
    "    print i\n",
    "print \"*\"*20\n",
    "for i in res1:\n",
    "    print i"
   ]
  },
  {
   "cell_type": "code",
   "execution_count": 10,
   "metadata": {},
   "outputs": [
    {
     "name": "stdout",
     "output_type": "stream",
     "text": [
      "{0: 'zero', 'age': 29, 'name': 'Anil kumar', 'height': 5.6}\n",
      "(0, 'zero')\n"
     ]
    }
   ],
   "source": [
    "p={\"name\": \"Anil kumar\",\"age\":29,\"height\":5.6,0:\"zero\"}\n",
    "print p\n",
    "print p.popitem()"
   ]
  },
  {
   "cell_type": "code",
   "execution_count": 11,
   "metadata": {},
   "outputs": [
    {
     "name": "stdout",
     "output_type": "stream",
     "text": [
      "False\n"
     ]
    }
   ],
   "source": [
    "p={\"name\": \"Anil kumar\",\"age\":29,\"height\":5.6,0:\"zero\"}\n",
    "print 29 in p"
   ]
  },
  {
   "cell_type": "code",
   "execution_count": 13,
   "metadata": {},
   "outputs": [
    {
     "name": "stdout",
     "output_type": "stream",
     "text": [
      "False\n"
     ]
    }
   ],
   "source": [
    "p={\"name\": \"Anil kumar\",\"age\":29,\"height\":5.6,0:\"zero\"}\n",
    "print 29 in p.keys()"
   ]
  },
  {
   "cell_type": "code",
   "execution_count": 14,
   "metadata": {},
   "outputs": [
    {
     "name": "stdout",
     "output_type": "stream",
     "text": [
      "True\n"
     ]
    }
   ],
   "source": [
    "p={\"name\": \"Anil kumar\",\"age\":29,\"height\":5.6,0:\"zero\"}\n",
    "print 29 in p.values()"
   ]
  },
  {
   "cell_type": "code",
   "execution_count": 15,
   "metadata": {},
   "outputs": [
    {
     "name": "stdout",
     "output_type": "stream",
     "text": [
      "True\n",
      "True\n",
      "True\n"
     ]
    }
   ],
   "source": [
    "p={\"name\": \"Anil kumar\",\"age\":29,\"height\":5.6,0:\"zero\"}\n",
    "print \"age\" in p\n",
    "print \"age\" in p.keys()\n",
    "print p.has_key(\"age\")"
   ]
  },
  {
   "cell_type": "code",
   "execution_count": 16,
   "metadata": {},
   "outputs": [
    {
     "name": "stdout",
     "output_type": "stream",
     "text": [
      "False\n",
      "False\n",
      "False\n"
     ]
    }
   ],
   "source": [
    "p={\"name\": \"Anil kumar\",\"age\":29,\"height\":5.6,0:\"zero\"}\n",
    "print \"age1\" in p\n",
    "print \"age1\" in p.keys()\n",
    "print p.has_key(\"age1\")"
   ]
  },
  {
   "cell_type": "code",
   "execution_count": 17,
   "metadata": {},
   "outputs": [
    {
     "name": "stdout",
     "output_type": "stream",
     "text": [
      "{}\n",
      "{}\n"
     ]
    }
   ],
   "source": [
    "p={\"name\": \"Anil kumar\",\"age\":29,\"height\":5.6,0:\"zero\"}\n",
    "p1=p\n",
    "p.clear()\n",
    "print p\n",
    "print p1"
   ]
  },
  {
   "cell_type": "code",
   "execution_count": 18,
   "metadata": {},
   "outputs": [
    {
     "name": "stdout",
     "output_type": "stream",
     "text": [
      "{}\n",
      "{}\n",
      "{0: 'zero', 'age': 29, 'name': 'Anil kumar', 'height': 5.6}\n"
     ]
    }
   ],
   "source": [
    "p={\"name\": \"Anil kumar\",\"age\":29,\"height\":5.6,0:\"zero\"}\n",
    "p1=p\n",
    "p2=p.copy()\n",
    "p.clear()\n",
    "print p\n",
    "print p1\n",
    "print p2"
   ]
  },
  {
   "cell_type": "code",
   "execution_count": 21,
   "metadata": {},
   "outputs": [
    {
     "name": "stdout",
     "output_type": "stream",
     "text": [
      "(0, 'zero')\n",
      "('age', 29)\n",
      "('name', 'Anil kumar')\n",
      "('height', 5.6)\n",
      "0 zero\n",
      "age 29\n",
      "name Anil kumar\n",
      "height 5.6\n"
     ]
    }
   ],
   "source": [
    "p={\"name\": \"Anil kumar\",\"age\":29,\"height\":5.6,0:\"zero\"}\n",
    "for i in p.items():\n",
    "    print i\n",
    "    \n",
    "for key,value in p.items():\n",
    "    print key,value"
   ]
  },
  {
   "cell_type": "code",
   "execution_count": 22,
   "metadata": {},
   "outputs": [
    {
     "name": "stdout",
     "output_type": "stream",
     "text": [
      "[10, 20]\n"
     ]
    }
   ],
   "source": [
    "l1=[10]\n",
    "l2=[20]\n",
    "l=l1+l2\n",
    "print l"
   ]
  },
  {
   "cell_type": "code",
   "execution_count": 23,
   "metadata": {},
   "outputs": [
    {
     "name": "stdout",
     "output_type": "stream",
     "text": [
      "<type 'list'>\n",
      "<type 'tuple'>\n",
      "<type 'tuple'>\n"
     ]
    }
   ],
   "source": [
    "a=[10,20,30]\n",
    "b=(10,20,30)\n",
    "c=10,20,30\n",
    "print type(a)\n",
    "print type(b)\n",
    "print type(c)"
   ]
  },
  {
   "cell_type": "code",
   "execution_count": 24,
   "metadata": {},
   "outputs": [
    {
     "name": "stdout",
     "output_type": "stream",
     "text": [
      "10\n",
      "20\n"
     ]
    }
   ],
   "source": [
    "a,b=10,20\n",
    "print a\n",
    "print b"
   ]
  },
  {
   "cell_type": "code",
   "execution_count": 25,
   "metadata": {},
   "outputs": [
    {
     "ename": "ValueError",
     "evalue": "too many values to unpack",
     "output_type": "error",
     "traceback": [
      "\u001b[1;31m---------------------------------------------------------------------------\u001b[0m",
      "\u001b[1;31mValueError\u001b[0m                                Traceback (most recent call last)",
      "\u001b[1;32m<ipython-input-25-e11fee39f8c8>\u001b[0m in \u001b[0;36m<module>\u001b[1;34m()\u001b[0m\n\u001b[1;32m----> 1\u001b[1;33m \u001b[0ma\u001b[0m\u001b[1;33m,\u001b[0m\u001b[0mb\u001b[0m\u001b[1;33m=\u001b[0m\u001b[1;36m10\u001b[0m\u001b[1;33m,\u001b[0m\u001b[1;36m20\u001b[0m\u001b[1;33m,\u001b[0m\u001b[1;36m20\u001b[0m\u001b[1;33m\u001b[0m\u001b[0m\n\u001b[0m\u001b[0;32m      2\u001b[0m \u001b[1;32mprint\u001b[0m \u001b[0ma\u001b[0m\u001b[1;33m\u001b[0m\u001b[0m\n\u001b[0;32m      3\u001b[0m \u001b[1;32mprint\u001b[0m \u001b[0mb\u001b[0m\u001b[1;33m\u001b[0m\u001b[0m\n",
      "\u001b[1;31mValueError\u001b[0m: too many values to unpack"
     ]
    }
   ],
   "source": [
    "a,b=10,20,20\n",
    "print a\n",
    "print b"
   ]
  },
  {
   "cell_type": "code",
   "execution_count": 26,
   "metadata": {},
   "outputs": [
    {
     "name": "stdout",
     "output_type": "stream",
     "text": [
      "[10, 20]\n",
      "[20, 30]\n"
     ]
    }
   ],
   "source": [
    "a,b=[[10,20],[20,30]]\n",
    "print a\n",
    "print b"
   ]
  },
  {
   "cell_type": "code",
   "execution_count": 28,
   "metadata": {},
   "outputs": [
    {
     "name": "stdout",
     "output_type": "stream",
     "text": [
      "[10, 20]\n",
      "[20, 30]\n",
      "30\n",
      "40\n"
     ]
    }
   ],
   "source": [
    "a,b=[[10,20],[20,30]]\n",
    "c,d=30,40\n",
    "print a\n",
    "print b\n",
    "print c\n",
    "print d"
   ]
  },
  {
   "cell_type": "code",
   "execution_count": 29,
   "metadata": {},
   "outputs": [
    {
     "name": "stdout",
     "output_type": "stream",
     "text": [
      "29\n",
      "{0: 'zero', 'name': 'Anil kumar', 'height': 5.6}\n"
     ]
    }
   ],
   "source": [
    "p={\"name\": \"Anil kumar\",\"age\":29,\"height\":5.6,0:\"zero\"}\n",
    "print p.pop(\"age\")\n",
    "print p"
   ]
  },
  {
   "cell_type": "code",
   "execution_count": 30,
   "metadata": {},
   "outputs": [
    {
     "ename": "KeyError",
     "evalue": "'cell'",
     "output_type": "error",
     "traceback": [
      "\u001b[1;31m---------------------------------------------------------------------------\u001b[0m",
      "\u001b[1;31mKeyError\u001b[0m                                  Traceback (most recent call last)",
      "\u001b[1;32m<ipython-input-30-3ea034f4727e>\u001b[0m in \u001b[0;36m<module>\u001b[1;34m()\u001b[0m\n\u001b[0;32m      1\u001b[0m \u001b[0mp\u001b[0m\u001b[1;33m=\u001b[0m\u001b[1;33m{\u001b[0m\u001b[1;34m\"name\"\u001b[0m\u001b[1;33m:\u001b[0m \u001b[1;34m\"Anil kumar\"\u001b[0m\u001b[1;33m,\u001b[0m\u001b[1;34m\"age\"\u001b[0m\u001b[1;33m:\u001b[0m\u001b[1;36m29\u001b[0m\u001b[1;33m,\u001b[0m\u001b[1;34m\"height\"\u001b[0m\u001b[1;33m:\u001b[0m\u001b[1;36m5.6\u001b[0m\u001b[1;33m,\u001b[0m\u001b[1;36m0\u001b[0m\u001b[1;33m:\u001b[0m\u001b[1;34m\"zero\"\u001b[0m\u001b[1;33m}\u001b[0m\u001b[1;33m\u001b[0m\u001b[0m\n\u001b[1;32m----> 2\u001b[1;33m \u001b[1;32mprint\u001b[0m \u001b[0mp\u001b[0m\u001b[1;33m.\u001b[0m\u001b[0mpop\u001b[0m\u001b[1;33m(\u001b[0m\u001b[1;34m\"cell\"\u001b[0m\u001b[1;33m)\u001b[0m\u001b[1;33m\u001b[0m\u001b[0m\n\u001b[0m\u001b[0;32m      3\u001b[0m \u001b[1;32mprint\u001b[0m \u001b[0mp\u001b[0m\u001b[1;33m\u001b[0m\u001b[0m\n",
      "\u001b[1;31mKeyError\u001b[0m: 'cell'"
     ]
    }
   ],
   "source": [
    "p={\"name\": \"Anil kumar\",\"age\":29,\"height\":5.6,0:\"zero\"}\n",
    "print p.pop(\"cell\")\n",
    "print p"
   ]
  },
  {
   "cell_type": "code",
   "execution_count": 31,
   "metadata": {},
   "outputs": [
    {
     "name": "stdout",
     "output_type": "stream",
     "text": [
      "43235\n",
      "{0: 'zero', 'age': 29, 'name': 'Anil kumar', 'height': 5.6}\n"
     ]
    }
   ],
   "source": [
    "p={\"name\": \"Anil kumar\",\"age\":29,\"height\":5.6,0:\"zero\"}\n",
    "print p.pop(\"cell\",43235)\n",
    "print p"
   ]
  },
  {
   "cell_type": "code",
   "execution_count": 57,
   "metadata": {},
   "outputs": [
    {
     "name": "stdout",
     "output_type": "stream",
     "text": [
      "Enter the number of employees:3\n",
      "EmpName:Mahesh\n",
      "EmpId:232242\n",
      "EmpAge:32\n",
      "EmpWt in Kg:75\n",
      "EmpHt in mt:1.78\n",
      "EmpName:Suresh\n",
      "EmpId:224242\n",
      "EmpAge:30\n",
      "EmpWt in Kg:150\n",
      "EmpHt in mt:1.78\n",
      "EmpName:Rajesh\n",
      "EmpId:322422\n",
      "EmpAge:35\n",
      "EmpWt in Kg:40\n",
      "EmpHt in mt:1.78\n",
      "OrderedDict([('1.EmpAge', 32), ('1.EmpBMI', 23.67), ('1.EmpHt', 1.78), ('1.EmpId', 232242), ('1.EmpName', 'Mahesh'), ('1.EmpResult', 'Associate is Normal Weight'), ('1.EmpWt', 75.0), ('2.EmpAge', 30), ('2.EmpBMI', 47.34), ('2.EmpHt', 1.78), ('2.EmpId', 224242), ('2.EmpName', 'Suresh'), ('2.EmpResult', 'Associate is Obese'), ('2.EmpWt', 150.0), ('3.EmpAge', 35), ('3.EmpBMI', 12.62), ('3.EmpHt', 1.78), ('3.EmpId', 322422), ('3.EmpName', 'Rajesh'), ('3.EmpResult', 'Associate is Under Weight'), ('3.EmpWt', 40.0)])\n"
     ]
    }
   ],
   "source": [
    "#BMI of an associate\n",
    "import collections\n",
    "Emp={}\n",
    "N=int(raw_input(\"Enter the number of employees:\"))\n",
    "for i in range(1,N+1):\n",
    "    EA1 =\"EmpName\"\n",
    "    EA2 =\"EmpId\"\n",
    "    EA3 =\"EmpAge\"\n",
    "    EA4 =\"EmpWt\"\n",
    "    EA5 =\"EmpHt\"\n",
    "    EA6 =\"EmpBMI\"\n",
    "    EA7 =\"EmpResult\"\n",
    "    EA1 = EA1.replace(EA1,str(i)+'.'+ EA1)\n",
    "    EA2 = EA2.replace(EA2,str(i)+'.'+ EA2)\n",
    "    EA3 = EA3.replace(EA3,str(i)+'.'+ EA3)\n",
    "    EA4 = EA4.replace(EA4,str(i)+'.'+ EA4)\n",
    "    EA5 = EA5.replace(EA5,str(i)+'.'+ EA5)\n",
    "    EA6 = EA6.replace(EA6,str(i)+'.'+ EA6)\n",
    "    EA7 = EA7.replace(EA7,str(i)+'.'+ EA7)\n",
    "    EmpName =raw_input(\"EmpName:\")\n",
    "    EmpId   =int(raw_input(\"EmpId:\"))\n",
    "    EmpAge  =int(raw_input(\"EmpAge:\"))\n",
    "    EmpWt   =float(raw_input(\"EmpWt in Kg:\"))\n",
    "    EmpHt   =float(raw_input(\"EmpHt in mt:\"))\n",
    "    EmpBMI  = EmpWt/(EmpHt**2)\n",
    "    EmpBMI  =round(EmpBMI,2)\n",
    "    if EmpBMI > 18 and EmpBMI<= 25:\n",
    "        Result =\"Associate is Normal Weight\"\n",
    "    elif EmpBMI >25 and EmpBMI<=30:\n",
    "        Result =\"Associate is Over Weight\"\n",
    "    elif EmpBMI > 30:\n",
    "        Result =\"Associate is Obese\"\n",
    "    else:\n",
    "        Result =\"Associate is Under Weight\"\n",
    "    Emp.update({EA1:EmpName,EA2:EmpId,EA3:EmpAge,EA4:EmpWt,EA5:EmpHt,EA6:EmpBMI,EA7:Result})\n",
    "    #Emp.iterkeys()\n",
    "Emp = collections.OrderedDict(sorted(Emp.items()))\n",
    "print Emp"
   ]
  },
  {
   "cell_type": "code",
   "execution_count": 47,
   "metadata": {},
   "outputs": [
    {
     "name": "stdout",
     "output_type": "stream",
     "text": [
      "EmpName1\n",
      "EmpName2\n",
      "EmpName3\n",
      "EmpName4\n",
      "EmpName5\n",
      "EmpName6\n",
      "EmpName7\n",
      "EmpName8\n",
      "EmpName9\n"
     ]
    }
   ],
   "source": [
    "s=\"EmpName\"\n",
    "#s1=s.replace('e','E')\n",
    "#print s1\n",
    "#print s\n",
    "for i in range(1,10):\n",
    "    s1=s.replace(\"EmpName\",\"EmpName\"+str(i))\n",
    "    print s1"
   ]
  },
  {
   "cell_type": "code",
   "execution_count": 48,
   "metadata": {},
   "outputs": [
    {
     "name": "stdout",
     "output_type": "stream",
     "text": [
      "EmpName1\n",
      "EmpName12\n",
      "EmpName123\n",
      "EmpName1234\n",
      "EmpName12345\n",
      "EmpName123456\n",
      "EmpName1234567\n",
      "EmpName12345678\n",
      "EmpName123456789\n"
     ]
    }
   ],
   "source": [
    "s=\"EmpName\"\n",
    "#s1=s.replace('e','E')\n",
    "#print s1\n",
    "#print s\n",
    "for i in range(1,10):\n",
    "    s=s.replace(s,s+str(i))\n",
    "    print s"
   ]
  },
  {
   "cell_type": "code",
   "execution_count": 49,
   "metadata": {},
   "outputs": [
    {
     "name": "stdout",
     "output_type": "stream",
     "text": [
      "EmpName1\n",
      "EmpName2\n",
      "EmpName3\n",
      "EmpName4\n",
      "EmpName5\n",
      "EmpName6\n",
      "EmpName7\n",
      "EmpName8\n",
      "EmpName9\n"
     ]
    }
   ],
   "source": [
    "s=\"EmpName\"\n",
    "#s1=s.replace('e','E')\n",
    "#print s1\n",
    "#print s\n",
    "for i in range(1,10):\n",
    "    s=\"EmpName\"\n",
    "    s=s.replace(s,s+str(i))\n",
    "    print s"
   ]
  },
  {
   "cell_type": "code",
   "execution_count": 1,
   "metadata": {},
   "outputs": [
    {
     "name": "stdout",
     "output_type": "stream",
     "text": [
      "13.42\n"
     ]
    }
   ],
   "source": [
    "a=13.424242422\n",
    "a=round(a,2)\n",
    "print a"
   ]
  },
  {
   "cell_type": "code",
   "execution_count": 3,
   "metadata": {},
   "outputs": [
    {
     "name": "stdout",
     "output_type": "stream",
     "text": [
      "Enter the number of employees:2\n",
      "EmpName:Mahesh\n",
      "EmpId:229373\n",
      "EmpAge:32\n",
      "EmpWt in Kg:77\n",
      "EmpHt in mt:1.78\n",
      "EmpName:Ashok\n",
      "EmpId:242441\n",
      "EmpAge:30\n",
      "EmpWt in Kg:150\n",
      "EmpHt in mt:1.78\n",
      "[{'EmpId': 242441, 'EmpName': 'Ashok', 'EmpBMI': 47.34, 'EmpAge': 30, 'EmpWt': 150.0, 'EmpHt': 1.78, 'Result': 'Associate is Obese'}, {'EmpId': 229373, 'EmpName': 'Mahesh', 'EmpBMI': 24.3, 'EmpAge': 32, 'EmpWt': 77.0, 'EmpHt': 1.78, 'Result': 'Associate is Normal Weight'}]\n"
     ]
    }
   ],
   "source": [
    "#BMI of an associate\n",
    "import collections\n",
    "Emp=[]\n",
    "N=int(raw_input(\"Enter the number of employees:\"))\n",
    "for i in range(N):\n",
    "    EmpName =raw_input(\"EmpName:\")\n",
    "    EmpId   =int(raw_input(\"EmpId:\"))\n",
    "    EmpAge  =int(raw_input(\"EmpAge:\"))\n",
    "    EmpWt   =float(raw_input(\"EmpWt in Kg:\"))\n",
    "    EmpHt   =float(raw_input(\"EmpHt in mt:\"))\n",
    "    EmpBMI  = EmpWt/(EmpHt**2)\n",
    "    EmpBMI  =round(EmpBMI,2)\n",
    "    if EmpBMI > 18 and EmpBMI<= 25:\n",
    "        Result =\"Associate is Normal Weight\"\n",
    "    elif EmpBMI >25 and EmpBMI<=30:\n",
    "        Result =\"Associate is Over Weight\"\n",
    "    elif EmpBMI > 30:\n",
    "        Result =\"Associate is Obese\"\n",
    "    else:\n",
    "        Result =\"Associate is Under Weight\"\n",
    "    Emp.append({\"EmpName\":EmpName,\"EmpId\":EmpId,\"EmpAge\":EmpAge,\"EmpWt\":EmpWt,\"EmpHt\":EmpHt,\"EmpBMI\":EmpBMI,\"Result\":Result})\n",
    "    #Emp.iterkeys()\n",
    "#Emp = collections.OrderedDict(sorted(Emp.items()))\n",
    "Emp.sort()\n",
    "print Emp"
   ]
  },
  {
   "cell_type": "code",
   "execution_count": 4,
   "metadata": {},
   "outputs": [
    {
     "data": {
      "text/plain": [
       "[('age', 23), ('name', 'anil')]"
      ]
     },
     "execution_count": 4,
     "metadata": {},
     "output_type": "execute_result"
    }
   ],
   "source": [
    "d={\"name\":\"anil\",\"age\":23}\n",
    "d.items()"
   ]
  },
  {
   "cell_type": "code",
   "execution_count": 5,
   "metadata": {},
   "outputs": [
    {
     "data": {
      "text/plain": [
       "<dictionary-itemiterator at 0x4dac728>"
      ]
     },
     "execution_count": 5,
     "metadata": {},
     "output_type": "execute_result"
    }
   ],
   "source": [
    "d={\"name\":\"anil\",\"age\":23}\n",
    "d.iteritems()"
   ]
  },
  {
   "cell_type": "code",
   "execution_count": 9,
   "metadata": {},
   "outputs": [
    {
     "data": {
      "text/plain": [
       "dict_items([('age', 23), ('name', 'Anil')])"
      ]
     },
     "execution_count": 9,
     "metadata": {},
     "output_type": "execute_result"
    }
   ],
   "source": [
    "d={\"name\":\"Anil\",\"age\":23}\n",
    "d.viewitems()"
   ]
  },
  {
   "cell_type": "code",
   "execution_count": 10,
   "metadata": {},
   "outputs": [
    {
     "name": "stdout",
     "output_type": "stream",
     "text": [
      "('age', 23)\n",
      "('name', 'anil')\n"
     ]
    }
   ],
   "source": [
    "d={\"name\":\"anil\",\"age\":23}\n",
    "for i in d.iteritems():\n",
    "    print i"
   ]
  },
  {
   "cell_type": "code",
   "execution_count": 11,
   "metadata": {},
   "outputs": [
    {
     "name": "stdout",
     "output_type": "stream",
     "text": [
      "('age', 23)\n",
      "('name', 'anil')\n"
     ]
    }
   ],
   "source": [
    "d={\"name\":\"anil\",\"age\":23}\n",
    "ii=d.iteritems()\n",
    "for i in ii:\n",
    "    print i"
   ]
  },
  {
   "cell_type": "code",
   "execution_count": 13,
   "metadata": {},
   "outputs": [
    {
     "name": "stdout",
     "output_type": "stream",
     "text": [
      "('age', 23)\n",
      "('name', 'anil')\n"
     ]
    }
   ],
   "source": [
    "d={\"name\":\"anil\",\"age\":23}\n",
    "ii=d.items()\n",
    "for i in ii:\n",
    "    print i"
   ]
  },
  {
   "cell_type": "code",
   "execution_count": 15,
   "metadata": {},
   "outputs": [
    {
     "ename": "RuntimeError",
     "evalue": "dictionary changed size during iteration",
     "output_type": "error",
     "traceback": [
      "\u001b[1;31m---------------------------------------------------------------------------\u001b[0m",
      "\u001b[1;31mRuntimeError\u001b[0m                              Traceback (most recent call last)",
      "\u001b[1;32m<ipython-input-15-96eb1e1d6a8a>\u001b[0m in \u001b[0;36m<module>\u001b[1;34m()\u001b[0m\n\u001b[0;32m      2\u001b[0m \u001b[0mii\u001b[0m\u001b[1;33m=\u001b[0m\u001b[0md\u001b[0m\u001b[1;33m.\u001b[0m\u001b[0miteritems\u001b[0m\u001b[1;33m(\u001b[0m\u001b[1;33m)\u001b[0m\u001b[1;33m\u001b[0m\u001b[0m\n\u001b[0;32m      3\u001b[0m \u001b[0md\u001b[0m\u001b[1;33m.\u001b[0m\u001b[0mupdate\u001b[0m\u001b[1;33m(\u001b[0m\u001b[1;33m{\u001b[0m\u001b[1;34m\"ht\"\u001b[0m\u001b[1;33m:\u001b[0m\u001b[1;36m1.78\u001b[0m\u001b[1;33m}\u001b[0m\u001b[1;33m)\u001b[0m\u001b[1;33m\u001b[0m\u001b[0m\n\u001b[1;32m----> 4\u001b[1;33m \u001b[1;32mfor\u001b[0m \u001b[0mi\u001b[0m \u001b[1;32min\u001b[0m \u001b[0mii\u001b[0m\u001b[1;33m:\u001b[0m\u001b[1;33m\u001b[0m\u001b[0m\n\u001b[0m\u001b[0;32m      5\u001b[0m     \u001b[1;32mprint\u001b[0m \u001b[0mi\u001b[0m\u001b[1;33m\u001b[0m\u001b[0m\n",
      "\u001b[1;31mRuntimeError\u001b[0m: dictionary changed size during iteration"
     ]
    }
   ],
   "source": [
    "d={\"name\":\"anil\",\"age\":23}\n",
    "ii=d.iteritems()\n",
    "d.update({\"ht\":1.78})\n",
    "for i in ii:\n",
    "    print i"
   ]
  },
  {
   "cell_type": "code",
   "execution_count": 16,
   "metadata": {},
   "outputs": [
    {
     "name": "stdout",
     "output_type": "stream",
     "text": [
      "('age', 23)\n",
      "('name', 'anil')\n",
      "('ht', 1.78)\n"
     ]
    }
   ],
   "source": [
    "d={\"name\":\"anil\",\"age\":23}\n",
    "ii=d.iteritems()\n",
    "d.update({\"ht\":1.78})\n",
    "ii=d.iteritems()\n",
    "for i in ii:\n",
    "    print i"
   ]
  },
  {
   "cell_type": "code",
   "execution_count": 21,
   "metadata": {},
   "outputs": [
    {
     "name": "stdout",
     "output_type": "stream",
     "text": [
      "<type 'dict_items'>\n",
      "('age', 23)\n",
      "('name', 'anil')\n"
     ]
    }
   ],
   "source": [
    "d={\"name\":\"anil\",\"age\":23}\n",
    "vi=d.viewitems()\n",
    "print type(vi)\n",
    "for i in vi:\n",
    "    print i"
   ]
  },
  {
   "cell_type": "code",
   "execution_count": 22,
   "metadata": {},
   "outputs": [
    {
     "name": "stdout",
     "output_type": "stream",
     "text": [
      "('age', 23)\n",
      "('name', 'anil')\n",
      "('ht', 1.78)\n"
     ]
    }
   ],
   "source": [
    "d={\"name\":\"anil\",\"age\":23}\n",
    "vi=d.viewitems()\n",
    "d.update({\"ht\":1.78})\n",
    "for i in vi:\n",
    "    print i"
   ]
  },
  {
   "cell_type": "code",
   "execution_count": 23,
   "metadata": {},
   "outputs": [
    {
     "name": "stdout",
     "output_type": "stream",
     "text": [
      "('age', 23)\n",
      "('name', 'anil')\n"
     ]
    }
   ],
   "source": [
    "d={\"name\":\"anil\",\"age\":23}\n",
    "ii=d.items()\n",
    "d.update({\"ht\":1.78})\n",
    "for i in ii:\n",
    "    print i"
   ]
  },
  {
   "cell_type": "code",
   "execution_count": 3,
   "metadata": {},
   "outputs": [
    {
     "data": {
      "text/plain": [
       "xrange(1320000000)"
      ]
     },
     "execution_count": 3,
     "metadata": {},
     "output_type": "execute_result"
    }
   ],
   "source": [
    "xrange(1320000000)"
   ]
  },
  {
   "cell_type": "code",
   "execution_count": 4,
   "metadata": {},
   "outputs": [
    {
     "name": "stdout",
     "output_type": "stream",
     "text": [
      "('age', 23)\n"
     ]
    }
   ],
   "source": [
    "d={\"name\":\"anil\",\"age\":23}\n",
    "ii = d.iteritems()\n",
    "for i in ii:\n",
    "    print i\n",
    "    break"
   ]
  },
  {
   "cell_type": "code",
   "execution_count": 5,
   "metadata": {},
   "outputs": [
    {
     "name": "stdout",
     "output_type": "stream",
     "text": [
      "('name', 'anil')\n"
     ]
    }
   ],
   "source": [
    "for i in ii:\n",
    "    print i"
   ]
  },
  {
   "cell_type": "code",
   "execution_count": 6,
   "metadata": {},
   "outputs": [
    {
     "name": "stdout",
     "output_type": "stream",
     "text": [
      "('age', 23)\n"
     ]
    }
   ],
   "source": [
    "d={\"name\":\"anil\",\"age\":23}\n",
    "vi = d.viewitems()\n",
    "for i in vi:\n",
    "    print i\n",
    "    break"
   ]
  },
  {
   "cell_type": "code",
   "execution_count": 7,
   "metadata": {},
   "outputs": [
    {
     "name": "stdout",
     "output_type": "stream",
     "text": [
      "('age', 23)\n"
     ]
    }
   ],
   "source": [
    "d={\"name\":\"anil\",\"age\":23}\n",
    "vi = d.viewitems()\n",
    "for i in vi:\n",
    "    print i\n",
    "    break"
   ]
  },
  {
   "cell_type": "code",
   "execution_count": 11,
   "metadata": {},
   "outputs": [
    {
     "name": "stdout",
     "output_type": "stream",
     "text": [
      "('cell', 235423534)\n",
      "('age', 23)\n",
      "('name', 'anil')\n"
     ]
    }
   ],
   "source": [
    "d.update({\"cell\":235423534})\n",
    "for i in vi:\n",
    "    print i"
   ]
  },
  {
   "cell_type": "code",
   "execution_count": null,
   "metadata": {},
   "outputs": [],
   "source": []
  }
 ],
 "metadata": {
  "kernelspec": {
   "display_name": "Python 2",
   "language": "python",
   "name": "python2"
  },
  "language_info": {
   "codemirror_mode": {
    "name": "ipython",
    "version": 2
   },
   "file_extension": ".py",
   "mimetype": "text/x-python",
   "name": "python",
   "nbconvert_exporter": "python",
   "pygments_lexer": "ipython2",
   "version": "2.7.15"
  }
 },
 "nbformat": 4,
 "nbformat_minor": 2
}
