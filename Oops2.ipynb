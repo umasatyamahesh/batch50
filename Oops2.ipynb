{
 "cells": [
  {
   "cell_type": "code",
   "execution_count": 3,
   "metadata": {},
   "outputs": [
    {
     "name": "stdout",
     "output_type": "stream",
     "text": [
      "('Anilkumar', 23, 'Kukatpally', 'Khyaati')\n",
      "('Khyaati', 'Kukatpally')\n"
     ]
    }
   ],
   "source": [
    "class Emp:\n",
    "    company_name=\"Khyaati\"\n",
    "    company_address=\"Kukatpally\"\n",
    "    def __init__(self,name,age):\n",
    "        self.name=name\n",
    "        self.age=age\n",
    "    def get_companydetails(self):\n",
    "        return self.company_name, self.company_address\n",
    "    def get(self):\n",
    "        return self.name,self.age,self.company_address,self.company_name\n",
    "anil=Emp(\"Anilkumar\",23)\n",
    "print anil.get()\n",
    "print anil.get_companydetails()"
   ]
  },
  {
   "cell_type": "code",
   "execution_count": 4,
   "metadata": {},
   "outputs": [
    {
     "name": "stdout",
     "output_type": "stream",
     "text": [
      "('Anilkumar', 23, 'Kukatpally', 'Khyaati')\n",
      "('Khyaati', 'Kukatpally')\n"
     ]
    }
   ],
   "source": [
    "class Emp:\n",
    "    company_name=\"Khyaati\"\n",
    "    company_address=\"Kukatpally\"\n",
    "    def __init__(self,name,age):\n",
    "        self.name=name\n",
    "        self.age=age\n",
    "    @classmethod\n",
    "    def get_companydetails(self):\n",
    "        return self.company_name, self.company_address\n",
    "    def get(self):\n",
    "        return self.name,self.age,self.company_address,self.company_name\n",
    "anil=Emp(\"Anilkumar\",23)\n",
    "print anil.get()\n",
    "print anil.get_companydetails()"
   ]
  },
  {
   "cell_type": "code",
   "execution_count": 5,
   "metadata": {},
   "outputs": [
    {
     "name": "stdout",
     "output_type": "stream",
     "text": [
      "('Anilkumar', 23, 'Kukatpally', 'Khyaati')\n",
      "('Khyaati', 'Kukatpally')\n"
     ]
    }
   ],
   "source": [
    "class Emp:\n",
    "    company_name=\"Khyaati\"\n",
    "    company_address=\"Kukatpally\"\n",
    "    def __init__(self,name,age):\n",
    "        self.name=name\n",
    "        self.age=age\n",
    "    @classmethod\n",
    "    def get_companydetails(cls):\n",
    "        return cls.company_name, cls.company_address\n",
    "    def get(self):\n",
    "        return self.name,self.age,self.company_address,self.company_name\n",
    "anil=Emp(\"Anilkumar\",23)\n",
    "print anil.get()\n",
    "print anil.get_companydetails()"
   ]
  },
  {
   "cell_type": "code",
   "execution_count": 6,
   "metadata": {},
   "outputs": [
    {
     "name": "stdout",
     "output_type": "stream",
     "text": [
      "('Anilkumar', 23, 'Kukatpally', 'Khyaati')\n",
      "('Khyaati', 'Kukatpally')\n",
      "('Khyaati', 'Kukatpally')\n"
     ]
    }
   ],
   "source": [
    "class Emp:\n",
    "    company_name=\"Khyaati\"\n",
    "    company_address=\"Kukatpally\"\n",
    "    def __init__(self,name,age):\n",
    "        self.name=name\n",
    "        self.age=age\n",
    "    @classmethod\n",
    "    def get_companydetails(cls):\n",
    "        return cls.company_name, cls.company_address\n",
    "    def get(self):\n",
    "        return self.name,self.age,self.company_address,self.company_name\n",
    "anil=Emp(\"Anilkumar\",23)\n",
    "print anil.get()\n",
    "print anil.get_companydetails()\n",
    "print Emp.get_companydetails()"
   ]
  },
  {
   "cell_type": "code",
   "execution_count": 7,
   "metadata": {},
   "outputs": [
    {
     "name": "stdout",
     "output_type": "stream",
     "text": [
      "('Anilkumar', 23, 'Kukatpally', 'Khyaati')\n",
      "('Khyaati', 'Kukatpally')\n",
      "('Khyaati', 'Kukatpally')\n"
     ]
    }
   ],
   "source": [
    "class Emp:\n",
    "    company_name=\"Khyaati\"\n",
    "    company_address=\"Kukatpally\"\n",
    "    def __init__(self,name,age):\n",
    "        self.name=name\n",
    "        self.age=age\n",
    "    @classmethod\n",
    "    def get_companydetails(self):\n",
    "        return self.company_name, self.company_address\n",
    "    def get(self):\n",
    "        return self.name,self.age,self.company_address,self.company_name\n",
    "anil=Emp(\"Anilkumar\",23)\n",
    "print anil.get()\n",
    "print anil.get_companydetails()\n",
    "print Emp.get_companydetails()"
   ]
  },
  {
   "cell_type": "code",
   "execution_count": 9,
   "metadata": {},
   "outputs": [
    {
     "name": "stdout",
     "output_type": "stream",
     "text": [
      "('Anilkumar', 23, 'Kukatpally', 'Khyaati')\n",
      "('Khyaati', 'Kukatpally')\n"
     ]
    },
    {
     "ename": "TypeError",
     "evalue": "unbound method get_companydetails() must be called with Emp instance as first argument (got nothing instead)",
     "output_type": "error",
     "traceback": [
      "\u001b[1;31m---------------------------------------------------------------------------\u001b[0m",
      "\u001b[1;31mTypeError\u001b[0m                                 Traceback (most recent call last)",
      "\u001b[1;32m<ipython-input-9-f3623a574bbd>\u001b[0m in \u001b[0;36m<module>\u001b[1;34m()\u001b[0m\n\u001b[0;32m     12\u001b[0m \u001b[1;32mprint\u001b[0m \u001b[0manil\u001b[0m\u001b[1;33m.\u001b[0m\u001b[0mget\u001b[0m\u001b[1;33m(\u001b[0m\u001b[1;33m)\u001b[0m\u001b[1;33m\u001b[0m\u001b[0m\n\u001b[0;32m     13\u001b[0m \u001b[1;32mprint\u001b[0m \u001b[0manil\u001b[0m\u001b[1;33m.\u001b[0m\u001b[0mget_companydetails\u001b[0m\u001b[1;33m(\u001b[0m\u001b[1;33m)\u001b[0m\u001b[1;33m\u001b[0m\u001b[0m\n\u001b[1;32m---> 14\u001b[1;33m \u001b[1;32mprint\u001b[0m \u001b[0mEmp\u001b[0m\u001b[1;33m.\u001b[0m\u001b[0mget_companydetails\u001b[0m\u001b[1;33m(\u001b[0m\u001b[1;33m)\u001b[0m\u001b[1;33m\u001b[0m\u001b[0m\n\u001b[0m",
      "\u001b[1;31mTypeError\u001b[0m: unbound method get_companydetails() must be called with Emp instance as first argument (got nothing instead)"
     ]
    }
   ],
   "source": [
    "class Emp:\n",
    "    company_name=\"Khyaati\"\n",
    "    company_address=\"Kukatpally\"\n",
    "    def __init__(self,name,age):\n",
    "        self.name=name\n",
    "        self.age=age\n",
    "    def get_companydetails(self):\n",
    "        return self.company_name, self.company_address\n",
    "    def get(self):\n",
    "        return self.name,self.age,self.company_address,self.company_name\n",
    "anil=Emp(\"Anilkumar\",23)\n",
    "print anil.get()\n",
    "print anil.get_companydetails()\n",
    "print Emp.get_companydetails()"
   ]
  },
  {
   "cell_type": "code",
   "execution_count": 10,
   "metadata": {},
   "outputs": [
    {
     "name": "stdout",
     "output_type": "stream",
     "text": [
      "('Anilkumar', 23, 'Kukatpally', 'Khyaati')\n",
      "('Khyaati', 'Kukatpally')\n",
      "('Khyaati', 'Kukatpally')\n"
     ]
    },
    {
     "ename": "TypeError",
     "evalue": "unbound method get() must be called with Emp instance as first argument (got nothing instead)",
     "output_type": "error",
     "traceback": [
      "\u001b[1;31m---------------------------------------------------------------------------\u001b[0m",
      "\u001b[1;31mTypeError\u001b[0m                                 Traceback (most recent call last)",
      "\u001b[1;32m<ipython-input-10-afe8cad0804e>\u001b[0m in \u001b[0;36m<module>\u001b[1;34m()\u001b[0m\n\u001b[0;32m     14\u001b[0m \u001b[1;32mprint\u001b[0m \u001b[0manil\u001b[0m\u001b[1;33m.\u001b[0m\u001b[0mget_companydetails\u001b[0m\u001b[1;33m(\u001b[0m\u001b[1;33m)\u001b[0m\u001b[1;33m\u001b[0m\u001b[0m\n\u001b[0;32m     15\u001b[0m \u001b[1;32mprint\u001b[0m \u001b[0mEmp\u001b[0m\u001b[1;33m.\u001b[0m\u001b[0mget_companydetails\u001b[0m\u001b[1;33m(\u001b[0m\u001b[1;33m)\u001b[0m\u001b[1;33m\u001b[0m\u001b[0m\n\u001b[1;32m---> 16\u001b[1;33m \u001b[1;32mprint\u001b[0m \u001b[0mEmp\u001b[0m\u001b[1;33m.\u001b[0m\u001b[0mget\u001b[0m\u001b[1;33m(\u001b[0m\u001b[1;33m)\u001b[0m\u001b[1;33m\u001b[0m\u001b[0m\n\u001b[0m",
      "\u001b[1;31mTypeError\u001b[0m: unbound method get() must be called with Emp instance as first argument (got nothing instead)"
     ]
    }
   ],
   "source": [
    "class Emp:\n",
    "    company_name=\"Khyaati\"\n",
    "    company_address=\"Kukatpally\"\n",
    "    def __init__(self,name,age):\n",
    "        self.name=name\n",
    "        self.age=age\n",
    "    @classmethod\n",
    "    def get_companydetails(self):\n",
    "        return self.company_name, self.company_address\n",
    "    def get(self):\n",
    "        return self.name,self.age,self.company_address,self.company_name\n",
    "anil=Emp(\"Anilkumar\",23)\n",
    "print anil.get()\n",
    "print anil.get_companydetails()\n",
    "print Emp.get_companydetails()\n",
    "print Emp.get()"
   ]
  },
  {
   "cell_type": "code",
   "execution_count": 13,
   "metadata": {},
   "outputs": [
    {
     "name": "stdout",
     "output_type": "stream",
     "text": [
      "('Anilkumar', 23, 'Kukatpally', 'Khyaati')\n",
      "('Khyaati', 'Kukatpally')\n",
      "('Khyaati', 'Kukatpally')\n"
     ]
    }
   ],
   "source": [
    "class Emp:\n",
    "    company_name=\"Khyaati\"\n",
    "    company_address=\"Kukatpally\"\n",
    "    def __init__(self,name,age):\n",
    "        self.name=name\n",
    "        self.age=age\n",
    "    @classmethod\n",
    "    def get_companydetails(self):\n",
    "        return self.company_name, self.company_address\n",
    "    def get(self):\n",
    "        return self.name,self.age,self.company_address,self.company_name\n",
    "anil=Emp(\"Anilkumar\",23)\n",
    "print anil.get()\n",
    "print anil.get_companydetails()\n",
    "print Emp.get_companydetails()"
   ]
  },
  {
   "cell_type": "code",
   "execution_count": 15,
   "metadata": {},
   "outputs": [
    {
     "name": "stdout",
     "output_type": "stream",
     "text": [
      "('Anil kumar', 23, 'KHYAATHI', 'ameerpet')\n",
      "('KHYAATHI', 'ameerpet')\n",
      "('KHYAATHI', 'ameerpet')\n",
      "10 20\n",
      "100 200\n"
     ]
    }
   ],
   "source": [
    "class Emp:\n",
    "    company_name=\"KHYAATHI\"\n",
    "    company_address = \"ameerpet\"\n",
    "    def __init__(self, name, age):\n",
    "        self.name=name\n",
    "        self.age=age\n",
    "    @classmethod\n",
    "    def get_companydetails(cls):\n",
    "        return cls.company_name, cls.company_address\n",
    "    def get(self):\n",
    "        return self.name, self.age, self.company_name, self.company_address\n",
    "    @staticmethod\n",
    "    def sta(a,b):\n",
    "        print a,b\n",
    "anil = Emp(\"Anil kumar\",23)\n",
    "print anil.get()\n",
    "print anil.get_companydetails()\n",
    "print Emp.get_companydetails()\n",
    "Emp.sta(10,20)\n",
    "anil.sta(100,200)"
   ]
  },
  {
   "cell_type": "code",
   "execution_count": null,
   "metadata": {},
   "outputs": [],
   "source": []
  }
 ],
 "metadata": {
  "kernelspec": {
   "display_name": "Python 2",
   "language": "python",
   "name": "python2"
  },
  "language_info": {
   "codemirror_mode": {
    "name": "ipython",
    "version": 2
   },
   "file_extension": ".py",
   "mimetype": "text/x-python",
   "name": "python",
   "nbconvert_exporter": "python",
   "pygments_lexer": "ipython2",
   "version": "2.7.15"
  }
 },
 "nbformat": 4,
 "nbformat_minor": 2
}
