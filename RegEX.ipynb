{
 "cells": [
  {
   "cell_type": "code",
   "execution_count": 1,
   "metadata": {},
   "outputs": [],
   "source": [
    "import re\n",
    "re?"
   ]
  },
  {
   "cell_type": "code",
   "execution_count": 1,
   "metadata": {},
   "outputs": [
    {
     "name": "stdout",
     "output_type": "stream",
     "text": [
      "id,name,phone,email\n",
      "1,Anil kumar,9676622023,Anil123@gmail.com\n",
      "2,jayaram,9676622024,jay#$@gmail.com\n"
     ]
    }
   ],
   "source": [
    "s=\"id,name,phone,email\\n1,Anil kumar,9676622023,Anil123@gmail.com\\n2,jayaram,9676622024,jay#$@gmail.com\"\n",
    "print s"
   ]
  },
  {
   "cell_type": "code",
   "execution_count": 5,
   "metadata": {},
   "outputs": [
    {
     "name": "stdout",
     "output_type": "stream",
     "text": [
      "id\n",
      "name\n",
      "phone\n",
      "email\n",
      "1\n",
      "Anil kumar\n",
      "9676622023\n",
      "Anil123@gmail.com\n",
      "2\n",
      "jayaram\n",
      "9676622024\n",
      "jay#$@gmail.com\n"
     ]
    }
   ],
   "source": [
    "for i in s.split(','):\n",
    "    print i"
   ]
  },
  {
   "cell_type": "code",
   "execution_count": 6,
   "metadata": {},
   "outputs": [
    {
     "name": "stdout",
     "output_type": "stream",
     "text": [
      "id,name,phone,email\n",
      "1,Anil kumar,9676622023,Anil123@gmail.com\n",
      "2,jayaram,9676622024,jay#$@gmail.com\n"
     ]
    }
   ],
   "source": [
    "for i in s.splitlines():\n",
    "    print i"
   ]
  },
  {
   "cell_type": "code",
   "execution_count": 14,
   "metadata": {},
   "outputs": [
    {
     "name": "stdout",
     "output_type": "stream",
     "text": [
      "id,name,phone,email,Anil kumar\n",
      "1,9676622023,Anil123@gmail.com\n",
      "2,jayaram,9676622024,jay#$@gmail.com\n"
     ]
    }
   ],
   "source": [
    "s=\"id,name,phone,email,Anil kumar\\n1,9676622023,Anil123@gmail.com\\n2,jayaram,9676622024,jay#$@gmail.com\"\n",
    "for i in s.splitlines():\n",
    "    print i"
   ]
  },
  {
   "cell_type": "code",
   "execution_count": 10,
   "metadata": {},
   "outputs": [
    {
     "name": "stdout",
     "output_type": "stream",
     "text": [
      "['id', 'name', 'phone', 'email', 'Anil kumar']\n",
      "['', '9676622023', 'Anil123@gmail.com']\n",
      "['2', 'jayaram', '9676622024', 'jay#$@gmail.com']\n"
     ]
    }
   ],
   "source": [
    "for i in s.splitlines():\n",
    "    print i.split(\",\")"
   ]
  },
  {
   "cell_type": "code",
   "execution_count": 11,
   "metadata": {},
   "outputs": [
    {
     "name": "stdout",
     "output_type": "stream",
     "text": [
      "Anil kumar\n",
      "Anil123@gmail.com\n",
      "jay#$@gmail.com\n"
     ]
    }
   ],
   "source": [
    "for i in s.splitlines():\n",
    "    print i.split(\",\")[-1]"
   ]
  },
  {
   "cell_type": "code",
   "execution_count": 15,
   "metadata": {},
   "outputs": [
    {
     "name": "stdout",
     "output_type": "stream",
     "text": [
      "id\n",
      "1\n",
      "2\n"
     ]
    }
   ],
   "source": [
    "for i in s.splitlines():\n",
    "    print i.split(\",\")[0]"
   ]
  },
  {
   "cell_type": "code",
   "execution_count": 18,
   "metadata": {},
   "outputs": [
    {
     "name": "stdout",
     "output_type": "stream",
     "text": [
      "phone\n",
      "Anil123@gmail.com\n",
      "9676622024\n"
     ]
    }
   ],
   "source": [
    "for i in s.splitlines():\n",
    "    print i.split(\",\")[2]"
   ]
  },
  {
   "cell_type": "markdown",
   "metadata": {},
   "source": [
    "s=\"id,name,phone,email\\n1,Anil kumar,9676622023,Anil123@gmail.com\\n2,jayaram,9676622024,jay#$@gmail.com\"\n",
    "print s.split(',')"
   ]
  },
  {
   "cell_type": "code",
   "execution_count": 26,
   "metadata": {},
   "outputs": [
    {
     "name": "stdout",
     "output_type": "stream",
     "text": [
      "id\n",
      "name\n",
      "phone\n",
      "email\n",
      "\n",
      "1\n",
      "Anil kumar\n",
      "9676622023\n",
      "Anil123@gmail.com\n",
      "\n",
      "2\n",
      "jayaram\n",
      "9676622024\n",
      "jay#$@gmail.com\n"
     ]
    }
   ],
   "source": [
    "s=\"id,name,phone,email,\\n1,Anil kumar,9676622023,Anil123@gmail.com,\\n2,jayaram,9676622024,jay#$@gmail.com\"\n",
    "for i in s.split(','):\n",
    "    print i"
   ]
  },
  {
   "cell_type": "code",
   "execution_count": 27,
   "metadata": {},
   "outputs": [
    {
     "name": "stdout",
     "output_type": "stream",
     "text": [
      "id,name,phone,email,\n",
      "1,Anil kumar,9676622023,Anil123@gmail.com,\n",
      "2,jayaram,9676622024,jay#$@gmail.com\n"
     ]
    }
   ],
   "source": [
    "for i in s.splitlines():\n",
    "    print i"
   ]
  },
  {
   "cell_type": "code",
   "execution_count": 28,
   "metadata": {},
   "outputs": [
    {
     "data": {
      "text/plain": [
       "['9676622023', '9676622024', '9676622025']"
      ]
     },
     "execution_count": 28,
     "metadata": {},
     "output_type": "execute_result"
    }
   ],
   "source": [
    "s=\"1,Anil kumar,9676622023,Anil123@gmail.com\\njayaram,9676622024,jay#$@gmail.com,2\\n\\\n",
    "Vedhanvesh,3,Vedha@yahoo.co.in,9676622025\"\n",
    "import re\n",
    "re.findall(\"[0-9]{10}\",s)"
   ]
  },
  {
   "cell_type": "code",
   "execution_count": 29,
   "metadata": {},
   "outputs": [
    {
     "data": {
      "text/plain": [
       "['967662202', '967662202', '967662202']"
      ]
     },
     "execution_count": 29,
     "metadata": {},
     "output_type": "execute_result"
    }
   ],
   "source": [
    "s=\"1,Anil kumar,9676622023,Anil123@gmail.com\\njayaram,9676622024,jay#$@gmail.com,2\\n\\\n",
    "Vedhanvesh,3,Vedha@yahoo.co.in,9676622025\"\n",
    "import re\n",
    "re.findall(\"[0-9]{9}\",s)"
   ]
  },
  {
   "cell_type": "code",
   "execution_count": 30,
   "metadata": {},
   "outputs": [
    {
     "name": "stdout",
     "output_type": "stream",
     "text": [
      "['n', 'i', 'l', 'k', 'u', 'm', 'a', 'r', 'n', 'i', 'l', 'g', 'm', 'a', 'i', 'l', 'c', 'o', 'm', 'j', 'a', 'y', 'a', 'r', 'a', 'm', 'j', 'a', 'y', 'g', 'm', 'a', 'i', 'l', 'c', 'o', 'm', 'e', 'd', 'h', 'a', 'n', 'v', 'e', 's', 'h', 'e', 'd', 'h', 'a', 'y', 'a', 'h', 'o', 'o', 'c', 'o', 'i', 'n']\n"
     ]
    }
   ],
   "source": [
    "s=\"1,Anil kumar,9676622023,Anil123@gmail.com\\njayaram,9676622024,jay#$@gmail.com,2\\n\\\n",
    "Vedhanvesh,3,Vedha@yahoo.co.in,9676622025\"\n",
    "print re.findall(\"[a-z]\",s)"
   ]
  },
  {
   "cell_type": "code",
   "execution_count": 32,
   "metadata": {},
   "outputs": [
    {
     "name": "stdout",
     "output_type": "stream",
     "text": [
      "['A', 'n', 'i', 'l', 'k', 'u', 'm', 'a', 'r', 'A', 'n', 'i', 'l', 'g', 'm', 'a', 'i', 'l', 'c', 'o', 'm', 'j', 'a', 'y', 'a', 'r', 'a', 'm', 'j', 'a', 'y', 'g', 'm', 'a', 'i', 'l', 'c', 'o', 'm', 'V', 'e', 'd', 'h', 'a', 'n', 'v', 'e', 's', 'h', 'V', 'e', 'd', 'h', 'a', 'y', 'a', 'h', 'o', 'o', 'c', 'o', 'i', 'n']\n"
     ]
    }
   ],
   "source": [
    "s=\"1,Anil kumar,9676622023,Anil123@gmail.com\\njayaram,9676622024,jay#$@gmail.com,2\\n\\\n",
    "Vedhanvesh,3,Vedha@yahoo.co.in,9676622025\"\n",
    "print re.findall(\"[a-z]\",s,re.I)"
   ]
  },
  {
   "cell_type": "code",
   "execution_count": 33,
   "metadata": {},
   "outputs": [
    {
     "name": "stdout",
     "output_type": "stream",
     "text": [
      "[',', 'A', 'n', 'i', 'l', ' ', 'k', 'u', 'm', 'a', 'r', ',', ',', 'A', 'n', 'i', 'l', '@', 'g', 'm', 'a', 'i', 'l', '.', 'c', 'o', 'm', '\\n', 'j', 'a', 'y', 'a', 'r', 'a', 'm', ',', ',', 'j', 'a', 'y', '#', '$', '@', 'g', 'm', 'a', 'i', 'l', '.', 'c', 'o', 'm', ',', '\\n', 'V', 'e', 'd', 'h', 'a', 'n', 'v', 'e', 's', 'h', ',', ',', 'V', 'e', 'd', 'h', 'a', '@', 'y', 'a', 'h', 'o', 'o', '.', 'c', 'o', '.', 'i', 'n', ',']\n"
     ]
    }
   ],
   "source": [
    "s=\"1,Anil kumar,9676622023,Anil123@gmail.com\\njayaram,9676622024,jay#$@gmail.com,2\\n\\\n",
    "Vedhanvesh,3,Vedha@yahoo.co.in,9676622025\"\n",
    "print re.findall(\"[^0-9]\",s)"
   ]
  },
  {
   "cell_type": "code",
   "execution_count": 34,
   "metadata": {},
   "outputs": [
    {
     "name": "stdout",
     "output_type": "stream",
     "text": [
      "['1']\n"
     ]
    }
   ],
   "source": [
    "s=\"1,Anil kumar,9676622023,Anil123@gmail.com\\njayaram,9676622024,jay#$@gmail.com,2\\n\\\n",
    "Vedhanvesh,3,Vedha@yahoo.co.in,9676622025\"\n",
    "print re.findall(\"^[0-9]\",s)"
   ]
  },
  {
   "cell_type": "code",
   "execution_count": 35,
   "metadata": {},
   "outputs": [
    {
     "name": "stdout",
     "output_type": "stream",
     "text": [
      "['5']\n"
     ]
    }
   ],
   "source": [
    "s=\"1,Anil kumar,9676622023,Anil123@gmail.com\\njayaram,9676622024,jay#$@gmail.com,2\\n\\\n",
    "Vedhanvesh,3,Vedha@yahoo.co.in,9676622025\"\n",
    "print re.findall(\"[0-9]$\",s)"
   ]
  },
  {
   "cell_type": "code",
   "execution_count": 36,
   "metadata": {},
   "outputs": [
    {
     "name": "stdout",
     "output_type": "stream",
     "text": [
      "['1', ',', 'A', 'n', 'i', 'l', ' ', 'k', 'u', 'm', 'a', 'r', ',', '9', '6', '7', '6', '6', '2', '2', '0', '2', '3', ',', 'A', 'n', 'i', 'l', '1', '2', '3', '@', 'g', 'm', 'a', 'i', 'l', '.', 'c', 'o', 'm', 'j', 'a', 'y', 'a', 'r', 'a', 'm', ',', '9', '6', '7', '6', '6', '2', '2', '0', '2', '4', ',', 'j', 'a', 'y', '#', '$', '@', 'g', 'm', 'a', 'i', 'l', '.', 'c', 'o', 'm', ',', '2', 'V', 'e', 'd', 'h', 'a', 'n', 'v', 'e', 's', 'h', ',', '3', ',', 'V', 'e', 'd', 'h', 'a', '@', 'y', 'a', 'h', 'o', 'o', '.', 'c', 'o', '.', 'i', 'n', ',', '9', '6', '7', '6', '6', '2', '2', '0', '2', '5']\n"
     ]
    }
   ],
   "source": [
    "s=\"1,Anil kumar,9676622023,Anil123@gmail.com\\njayaram,9676622024,jay#$@gmail.com,2\\n\\\n",
    "Vedhanvesh,3,Vedha@yahoo.co.in,9676622025\"\n",
    "print re.findall(\".\",s)"
   ]
  },
  {
   "cell_type": "code",
   "execution_count": 37,
   "metadata": {},
   "outputs": [
    {
     "name": "stdout",
     "output_type": "stream",
     "text": [
      "['1', ',', 'A', 'n', 'i', 'l', ' ', 'k', 'u', 'm', 'a', 'r', ',', '9', '6', '7', '6', '6', '2', '2', '0', '2', '3', ',', 'A', 'n', 'i', 'l', '1', '2', '3', '@', 'g', 'm', 'a', 'i', 'l', '.', 'c', 'o', 'm', '\\n', 'j', 'a', 'y', 'a', 'r', 'a', 'm', ',', '9', '6', '7', '6', '6', '2', '2', '0', '2', '4', ',', 'j', 'a', 'y', '#', '$', '@', 'g', 'm', 'a', 'i', 'l', '.', 'c', 'o', 'm', ',', '2', '\\n', 'V', 'e', 'd', 'h', 'a', 'n', 'v', 'e', 's', 'h', ',', '3', ',', 'V', 'e', 'd', 'h', 'a', '@', 'y', 'a', 'h', 'o', 'o', '.', 'c', 'o', '.', 'i', 'n', ',', '9', '6', '7', '6', '6', '2', '2', '0', '2', '5']\n"
     ]
    }
   ],
   "source": [
    "s=\"1,Anil kumar,9676622023,Anil123@gmail.com\\njayaram,9676622024,jay#$@gmail.com,2\\n\\\n",
    "Vedhanvesh,3,Vedha@yahoo.co.in,9676622025\"\n",
    "print re.findall(\".\",s,re.DOTALL)"
   ]
  },
  {
   "cell_type": "code",
   "execution_count": 38,
   "metadata": {},
   "outputs": [
    {
     "name": "stdout",
     "output_type": "stream",
     "text": [
      "['1,Anil kumar,9676622023,Anil123@gmail.com', 'jayaram,9676622024,jay#$@gmail.com', 'Vedhanvesh,3,Vedha@yahoo.co.in']\n"
     ]
    }
   ],
   "source": [
    "s=\"1,Anil kumar,9676622023,Anil123@gmail.com\\njayaram,9676622024,jay#$@gmail.com,2\\n\\\n",
    "Vedhanvesh,3,Vedha@yahoo.co.in,9676622025\"\n",
    "'''\n",
    "username: .+\n",
    "@:@\n",
    "domain name: [a-z]+\n",
    ".: \\.\n",
    "[a-z.]+\n",
    "'''\n",
    "print re.findall(\".+@[a-z]+\\.[a-z.]+\",s,re.I)"
   ]
  },
  {
   "cell_type": "code",
   "execution_count": 56,
   "metadata": {},
   "outputs": [
    {
     "name": "stdout",
     "output_type": "stream",
     "text": [
      "['1,Anil kumar,9676622023,Anil123@gmail.com', 'jayaram,9676622024,jay#$@gmail.com', 'Vedhanvesh,3,Vedha@yahoo.co.in']\n"
     ]
    }
   ],
   "source": [
    "s=\"1,Anil kumar,9676622023,Anil123@gmail.com\\njayaram,9676622024,jay#$@gmail.com,2\\n\\\n",
    "Vedhanvesh,3,Vedha@yahoo.co.in,9676622025\"\n",
    "print re.findall(\".+@[a-z]+\\.[a-z.]+\",s,re.I)"
   ]
  },
  {
   "cell_type": "code",
   "execution_count": 58,
   "metadata": {},
   "outputs": [
    {
     "name": "stdout",
     "output_type": "stream",
     "text": [
      "['Anil123@gmail.com', 'jay123@gmail.com', 'Vedha@yahoo.co.in']\n"
     ]
    }
   ],
   "source": [
    "s=\"1,Anil kumar,9676622023,Anil123@gmail.com\\njayaram,9676622024,jay123@gmail.com,2\\n\\\n",
    "Vedhanvesh,3,Vedha@yahoo.co.in,9676622025\"\n",
    "'''\n",
    "username: .+\n",
    "@:@\n",
    "domain name: [a-z]+\n",
    ".: \\.\n",
    "[a-z.]+\n",
    "'''\n",
    "print re.findall(\"[a-z0-9]+@[a-z]+.[a-z.]+\",s,re.I)"
   ]
  },
  {
   "cell_type": "code",
   "execution_count": 59,
   "metadata": {},
   "outputs": [
    {
     "data": {
      "text/plain": [
       "['9676622023', '9676622024', '9676622025']"
      ]
     },
     "execution_count": 59,
     "metadata": {},
     "output_type": "execute_result"
    }
   ],
   "source": [
    "import re\n",
    "re.findall(\"[0-9]{10}\",s)"
   ]
  },
  {
   "cell_type": "code",
   "execution_count": 61,
   "metadata": {},
   "outputs": [
    {
     "data": {
      "text/plain": [
       "['9676622023', '9676622024', '9676622025']"
      ]
     },
     "execution_count": 61,
     "metadata": {},
     "output_type": "execute_result"
    }
   ],
   "source": [
    "import re\n",
    "re.findall(\"[0-9]{10}\",s)"
   ]
  },
  {
   "cell_type": "code",
   "execution_count": 63,
   "metadata": {},
   "outputs": [
    {
     "data": {
      "text/plain": [
       "['Anil123@gmail.com', 'jay123@gmail.com', 'Vedha@yahoo.co']"
      ]
     },
     "execution_count": 63,
     "metadata": {},
     "output_type": "execute_result"
    }
   ],
   "source": [
    "import re\n",
    "re.findall(\"[a-z0-9]+@[a-z0-9]+.[a-z]+\",s,re.I)"
   ]
  },
  {
   "cell_type": "code",
   "execution_count": 64,
   "metadata": {},
   "outputs": [
    {
     "data": {
      "text/plain": [
       "['1', '9676622023', '123', '9676622024', '123', '2', '3', '9676622025']"
      ]
     },
     "execution_count": 64,
     "metadata": {},
     "output_type": "execute_result"
    }
   ],
   "source": [
    "import re\n",
    "re.findall(\"[0-9]+\",s)"
   ]
  },
  {
   "cell_type": "code",
   "execution_count": null,
   "metadata": {},
   "outputs": [],
   "source": [
    "#practice from cell # 43"
   ]
  }
 ],
 "metadata": {
  "kernelspec": {
   "display_name": "Python 2",
   "language": "python",
   "name": "python2"
  },
  "language_info": {
   "codemirror_mode": {
    "name": "ipython",
    "version": 2
   },
   "file_extension": ".py",
   "mimetype": "text/x-python",
   "name": "python",
   "nbconvert_exporter": "python",
   "pygments_lexer": "ipython2",
   "version": "2.7.15"
  }
 },
 "nbformat": 4,
 "nbformat_minor": 2
}
