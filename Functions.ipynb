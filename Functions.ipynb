{
 "cells": [
  {
   "cell_type": "code",
   "execution_count": 1,
   "metadata": {},
   "outputs": [
    {
     "name": "stdout",
     "output_type": "stream",
     "text": [
      "program started\n",
      "program ended\n",
      "this is function\n"
     ]
    }
   ],
   "source": [
    "print 'program started'\n",
    "def func():\n",
    "    print \"this is function\"\n",
    "print 'program ended'\n",
    "func()"
   ]
  },
  {
   "cell_type": "code",
   "execution_count": 3,
   "metadata": {},
   "outputs": [
    {
     "name": "stdout",
     "output_type": "stream",
     "text": [
      "a=10,b=5\n",
      "Summation: 15\n",
      "a=2,b=5\n",
      "Substraction: -3\n",
      "a=3,b=4\n",
      "multiplication: 12\n",
      "a=10,b=3)\n",
      "Division: 3.33333333333\n"
     ]
    }
   ],
   "source": [
    "def add(a,b):\n",
    "    print 'a=%s,b=%s'%(a,b)\n",
    "    print 'Summation:',a+b\n",
    "def sub(a,b):\n",
    "    print 'a=%s,b=%s'%(a,b)\n",
    "    print 'Substraction:',a-b\n",
    "def mul(a,b):\n",
    "    print 'a=%s,b=%s'%(a,b)\n",
    "    print 'multiplication:',(a*b)\n",
    "def div(a,b):\n",
    "    print 'a=%s,b=%s)'%(a,b)\n",
    "    print 'Division:',a/float(b)\n",
    "add(10,5)\n",
    "sub(2,5)\n",
    "mul(3,4)\n",
    "div(10,3)\n"
   ]
  },
  {
   "cell_type": "code",
   "execution_count": null,
   "metadata": {},
   "outputs": [],
   "source": []
  }
 ],
 "metadata": {
  "kernelspec": {
   "display_name": "Python 2",
   "language": "python",
   "name": "python2"
  },
  "language_info": {
   "codemirror_mode": {
    "name": "ipython",
    "version": 2
   },
   "file_extension": ".py",
   "mimetype": "text/x-python",
   "name": "python",
   "nbconvert_exporter": "python",
   "pygments_lexer": "ipython2",
   "version": "2.7.15"
  }
 },
 "nbformat": 4,
 "nbformat_minor": 2
}
