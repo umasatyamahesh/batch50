{
 "cells": [
  {
   "cell_type": "code",
   "execution_count": 1,
   "metadata": {},
   "outputs": [
    {
     "name": "stdout",
     "output_type": "stream",
     "text": [
      "program started\n",
      "program ended\n",
      "this is function\n"
     ]
    }
   ],
   "source": [
    "print 'program started'\n",
    "def func():\n",
    "    print \"this is function\"\n",
    "print 'program ended'\n",
    "func()"
   ]
  },
  {
   "cell_type": "code",
   "execution_count": 3,
   "metadata": {},
   "outputs": [
    {
     "name": "stdout",
     "output_type": "stream",
     "text": [
      "a=10,b=5\n",
      "Summation: 15\n",
      "a=2,b=5\n",
      "Substraction: -3\n",
      "a=3,b=4\n",
      "multiplication: 12\n",
      "a=10,b=3)\n",
      "Division: 3.33333333333\n"
     ]
    }
   ],
   "source": [
    "def add(a,b):\n",
    "    print 'a=%s,b=%s'%(a,b)\n",
    "    print 'Summation:',a+b\n",
    "def sub(a,b):\n",
    "    print 'a=%s,b=%s'%(a,b)\n",
    "    print 'Substraction:',a-b\n",
    "def mul(a,b):\n",
    "    print 'a=%s,b=%s'%(a,b)\n",
    "    print 'multiplication:',(a*b)\n",
    "def div(a,b):\n",
    "    print 'a=%s,b=%s)'%(a,b)\n",
    "    print 'Division:',a/float(b)\n",
    "add(10,5)\n",
    "sub(2,5)\n",
    "mul(3,4)\n",
    "div(10,3)\n"
   ]
  },
  {
   "cell_type": "code",
   "execution_count": 1,
   "metadata": {},
   "outputs": [
    {
     "name": "stdout",
     "output_type": "stream",
     "text": [
      "a=10,b=2,c=1,d=0,e=0\n",
      "Sum: 13\n"
     ]
    }
   ],
   "source": [
    "def fun(a,b=20,c=0,d=0,e=0):\n",
    "    print 'a=%s,b=%s,c=%s,d=%s,e=%s'%(a,b,c,d,e)\n",
    "    print 'Sum:',(a+b+c+d+e)\n",
    "fun(10,2,1)"
   ]
  },
  {
   "cell_type": "code",
   "execution_count": 9,
   "metadata": {},
   "outputs": [
    {
     "name": "stdout",
     "output_type": "stream",
     "text": [
      " a=10,b=20\n",
      "k: (30, 40, 50)\n",
      "sum: 30\n"
     ]
    }
   ],
   "source": [
    "#*args\n",
    "def sum(a,b,*k):\n",
    "    print 'a=%d,b=%d'%(a,b)\n",
    "    print 'k:',k\n",
    "    print 'sum:',(a+b)\n",
    "sum(10,20,30,40,50)"
   ]
  },
  {
   "cell_type": "code",
   "execution_count": 19,
   "metadata": {},
   "outputs": [
    {
     "name": "stdout",
     "output_type": "stream",
     "text": [
      "kwargs: {'a': 10, 'c': 30, 'b': 20}\n",
      "<type 'dict'>\n",
      "60\n",
      "50\n"
     ]
    }
   ],
   "source": [
    "#**kwargs\n",
    "a=10\n",
    "b=20\n",
    "c=20\n",
    "def sum(**kwargs):\n",
    "    print 'kwargs:',kwargs\n",
    "    print type(kwargs)\n",
    "    print kwargs.get('a')+kwargs.get('b')+kwargs.get('c')\n",
    "    print a+b+c\n",
    "sum(a=10,b=20,c=30)"
   ]
  },
  {
   "cell_type": "code",
   "execution_count": 18,
   "metadata": {},
   "outputs": [
    {
     "name": "stdout",
     "output_type": "stream",
     "text": [
      "kwargs: {'a': 10, 'c': 30, 'b': 20}\n",
      "<type 'dict'>\n",
      "60\n"
     ]
    }
   ],
   "source": [
    "#**kwargs\n",
    "def sum(**kwargs):\n",
    "    print 'kwargs:',kwargs\n",
    "    print type(kwargs)\n",
    "    print kwargs.get('a')+kwargs.get('b')+kwargs.get('c')\n",
    "sum(a=10,b=20,c=30)"
   ]
  },
  {
   "cell_type": "code",
   "execution_count": 22,
   "metadata": {},
   "outputs": [
    {
     "name": "stdout",
     "output_type": "stream",
     "text": [
      "Prime # 2\n",
      "Prime # 3\n",
      "Prime # 5\n",
      "Prime # 7\n"
     ]
    }
   ],
   "source": [
    "def prime(a):\n",
    "    for i in range(2,a):\n",
    "        for c in range(2,i):\n",
    "            if (i%c==0):\n",
    "                break\n",
    "        else:\n",
    "            print 'Prime #',i\n",
    "            \n",
    "c=0\n",
    "prime(10)"
   ]
  },
  {
   "cell_type": "code",
   "execution_count": 23,
   "metadata": {},
   "outputs": [
    {
     "name": "stdout",
     "output_type": "stream",
     "text": [
      "P\n",
      "y\n",
      "t\n",
      "h\n",
      "o\n",
      "n\n"
     ]
    }
   ],
   "source": [
    "def readstr(str):\n",
    "    for i in str:\n",
    "        print i\n",
    "readstr('Python')"
   ]
  },
  {
   "cell_type": "code",
   "execution_count": 24,
   "metadata": {},
   "outputs": [
    {
     "name": "stdout",
     "output_type": "stream",
     "text": [
      "{'rate': 1.5, 'time': 3, 'Principal': 1000}\n",
      "45.0\n"
     ]
    }
   ],
   "source": [
    "def SimInt(**kwargs):\n",
    "    print kwargs\n",
    "    print kwargs.get('Principal')*kwargs.get('time')*kwargs.get('rate')/float(100)\n",
    "SimInt(Principal=1000,time=3,rate=1.5)"
   ]
  },
  {
   "cell_type": "code",
   "execution_count": null,
   "metadata": {},
   "outputs": [],
   "source": []
  }
 ],
 "metadata": {
  "kernelspec": {
   "display_name": "Python 2",
   "language": "python",
   "name": "python2"
  },
  "language_info": {
   "codemirror_mode": {
    "name": "ipython",
    "version": 2
   },
   "file_extension": ".py",
   "mimetype": "text/x-python",
   "name": "python",
   "nbconvert_exporter": "python",
   "pygments_lexer": "ipython2",
   "version": "2.7.15"
  }
 },
 "nbformat": 4,
 "nbformat_minor": 2
}
